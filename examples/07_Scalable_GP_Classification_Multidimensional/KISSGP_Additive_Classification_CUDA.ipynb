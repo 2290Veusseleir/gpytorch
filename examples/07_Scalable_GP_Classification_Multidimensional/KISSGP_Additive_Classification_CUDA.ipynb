{
 "cells": [
  {
   "cell_type": "markdown",
   "metadata": {},
   "source": [
    "# Scalable Additive-Structure GP Classification (CUDA) (w/ KISS-GP)\n",
    "\n",
    "## Introduction\n",
    "\n",
    "This example shows how to use a `AdditiveGridInducingVariationalGP` module. This classifcation module is designed for when the function you’re modeling has an additive decomposition over dimension. This is equivalent to using a covariance function that additively decomposes over dimensions:\n",
    "\n",
    "$$k(\\mathbf{x},\\mathbf{x'}) = \\sum_{i=1}^{d}k([\\mathbf{x}]_{i}, [\\mathbf{x'}]_{i})$$\n",
    "\n",
    "where $[\\mathbf{x}]_{i}$ denotes the ith component of the vector $\\mathbf{x}$. Example applications of this include use in Bayesian optimization, and when performing deep kernel learning. \n",
    "\n",
    "The use of inducing points allows for scaling up the training data by making computational complexity linear instead of cubic in the number of data points.\n",
    "\n",
    "\n",
    "In this example, we’re performing classification on a two dimensional toy dataset that is:\n",
    "- Defined in [-1, 1]x[-1, 1]\n",
    "- Valued 1 in [-0.5, 0.5]x[-0.5, 0.5]\n",
    "- Valued -1 otherwise\n",
    "\n",
    "The above function doesn't have an obvious additive decomposition, but it turns out that this function is can be very well approximated by the kernel anyways."
   ]
  },
  {
   "cell_type": "code",
   "execution_count": 1,
   "metadata": {},
   "outputs": [],
   "source": [
    "# High-level imports\n",
    "import math\n",
    "from math import exp\n",
    "import torch\n",
    "import gpytorch\n",
    "from matplotlib import pyplot as plt\n",
    "\n",
    "# Make inline plots\n",
    "%matplotlib inline"
   ]
  },
  {
   "cell_type": "markdown",
   "metadata": {},
   "source": [
    "## Generate toy dataset"
   ]
  },
  {
   "cell_type": "code",
   "execution_count": 2,
   "metadata": {},
   "outputs": [],
   "source": [
    "n = 201\n",
    "train_x = torch.zeros(n ** 2, 2)\n",
    "train_x[:, 0].copy_(torch.linspace(-1, 1, n).repeat(n))\n",
    "train_x[:, 1].copy_(torch.linspace(-1, 1, n).unsqueeze(1).repeat(1, n).view(-1))\n",
    "train_y = (train_x[:, 0].abs().lt(0.5)).float() * (train_x[:, 1].abs().lt(0.5)).float() * 2 - 1\n",
    "\n",
    "train_x = train_x.cuda()\n",
    "train_y = train_y.cuda()"
   ]
  },
  {
   "cell_type": "markdown",
   "metadata": {},
   "source": [
    "## Define the model\n",
    "\n",
    "In contrast to the most basic classification models, this model uses an `AdditiveGridInterpolationVariationalStrategy`. This causes two key changes in the model. First, the model now specifically assumes that the input to `forward`, `x`, is to be additive decomposed. Thus, although the model below defines an `RBFKernel` as the covariance function, because we extend this base class, the additive decomposition discussed above will be imposed. \n",
    "\n",
    "Second, this model automatically assumes we will be using scalable kernel interpolation (SKI) for each dimension. Because of the additive decomposition, we only provide one set of grid bounds to the base class constructor, as the same grid will be used for all dimensions. It is recommended that you scale your training and test data appropriately."
   ]
  },
  {
   "cell_type": "code",
   "execution_count": 3,
   "metadata": {},
   "outputs": [],
   "source": [
    "from gpytorch.models import AbstractVariationalGP\n",
    "from gpytorch.variational import AdditiveGridInterpolationVariationalStrategy, CholeskyVariationalDistribution\n",
    "from gpytorch.kernels import RBFKernel, ScaleKernel\n",
    "from gpytorch.likelihoods import BernoulliLikelihood\n",
    "from gpytorch.means import ConstantMean\n",
    "from gpytorch.priors import SmoothedBoxPrior\n",
    "from gpytorch.distributions import MultivariateNormal\n",
    "\n",
    "class GPClassificationModel(AbstractVariationalGP):\n",
    "    def __init__(self, grid_size=16, grid_bounds=([-1, 1],)):\n",
    "        variational_distribution = CholeskyVariationalDistribution(num_inducing_points=16, batch_size=2)\n",
    "        variational_strategy = AdditiveGridInterpolationVariationalStrategy(self,\n",
    "                                                                            grid_size=grid_size,\n",
    "                                                                            grid_bounds=grid_bounds,\n",
    "                                                                            num_dim=2,\n",
    "                                                                            variational_distribution=variational_distribution)\n",
    "        super(GPClassificationModel, self).__init__(variational_strategy)\n",
    "        self.mean_module = ConstantMean(prior=SmoothedBoxPrior(-1e-5, 1e-5))\n",
    "        self.covar_module = ScaleKernel(\n",
    "            RBFKernel(\n",
    "                ard_num_dims=1, log_lengthscale_prior=SmoothedBoxPrior(exp(-5), exp(6), sigma=0.1, log_transform=True)\n",
    "            ),\n",
    "            log_outputscale_prior=SmoothedBoxPrior(exp(-5), exp(6), sigma=0.1, log_transform=True),\n",
    "        )\n",
    "\n",
    "    def forward(self, x):\n",
    "        mean_x = self.mean_module(x)\n",
    "        covar_x = self.covar_module(x)\n",
    "        latent_pred = MultivariateNormal(mean_x, covar_x)\n",
    "        return latent_pred\n",
    "\n",
    "# Cuda the model and likelihood function\n",
    "model = GPClassificationModel().cuda()\n",
    "likelihood = gpytorch.likelihoods.BernoulliLikelihood().cuda()"
   ]
  },
  {
   "cell_type": "markdown",
   "metadata": {},
   "source": [
    "## Training the model\n",
    "\n",
    "Once the model has been defined, the training loop looks very similar to other variational models we've seen in the past. We will optimize the variational lower bound as our objective function. In this case, although variational inference in GPyTorch supports stochastic gradient descent, we choose to do batch optimization due to the relatively small toy dataset.\n",
    "\n",
    "For an example of using the `AdditiveGridInducingVariationalGP` model with stochastic gradient descent, see the `dkl_mnist` example."
   ]
  },
  {
   "cell_type": "code",
   "execution_count": 4,
   "metadata": {},
   "outputs": [
    {
     "name": "stdout",
     "output_type": "stream",
     "text": [
      "Iter 1/25 - Loss: 1.268\n",
      "Iter 2/25 - Loss: 1.103\n",
      "Iter 3/25 - Loss: 1.261\n",
      "Iter 4/25 - Loss: 0.759\n",
      "Iter 5/25 - Loss: 0.931\n",
      "Iter 6/25 - Loss: 0.761\n",
      "Iter 7/25 - Loss: 0.484\n",
      "Iter 8/25 - Loss: 0.484\n",
      "Iter 9/25 - Loss: 0.446\n",
      "Iter 10/25 - Loss: 0.391\n",
      "Iter 11/25 - Loss: 0.391\n",
      "Iter 12/25 - Loss: 0.360\n",
      "Iter 13/25 - Loss: 0.461\n",
      "Iter 14/25 - Loss: 0.325\n",
      "Iter 15/25 - Loss: 0.318\n",
      "Iter 16/25 - Loss: 0.299\n",
      "Iter 17/25 - Loss: 0.246\n",
      "Iter 18/25 - Loss: 0.216\n",
      "Iter 19/25 - Loss: 0.253\n",
      "Iter 20/25 - Loss: 0.231\n",
      "Iter 21/25 - Loss: 0.212\n",
      "Iter 22/25 - Loss: 0.218\n",
      "Iter 23/25 - Loss: 0.220\n",
      "Iter 24/25 - Loss: 0.203\n",
      "Iter 25/25 - Loss: 0.183\n",
      "CPU times: user 17.4 s, sys: 1.17 s, total: 18.6 s\n",
      "Wall time: 18.6 s\n"
     ]
    }
   ],
   "source": [
    "# Find optimal model hyperparameters\n",
    "model.train()\n",
    "likelihood.train()\n",
    "\n",
    "# Use the adam optimizer\n",
    "optimizer = torch.optim.Adam([\n",
    "    {'params': model.parameters()},\n",
    "    # BernoulliLikelihood has no parameters\n",
    "], lr=0.1)\n",
    "\n",
    "# \"Loss\" for GPs - the marginal log likelihood\n",
    "# n_data refers to the amount of training data\n",
    "mll = gpytorch.mlls.VariationalELBO(likelihood, model, num_data=len(train_y))\n",
    "\n",
    "# Training function\n",
    "def train():\n",
    "    num_iter = 25\n",
    "    for i in range(num_iter):\n",
    "        optimizer.zero_grad()\n",
    "        output = model(train_x)\n",
    "        loss = -mll(output, train_y)\n",
    "        loss.backward()\n",
    "        print('Iter %d/%d - Loss: %.3f' % (i + 1, num_iter, loss.item()))\n",
    "        optimizer.step()\n",
    "\n",
    "# Sometimes we get better performance on the GPU when we don't use Toeplitz math\n",
    "# for SKI. This flag controls that\n",
    "with gpytorch.settings.use_toeplitz(False):\n",
    "    %time train()"
   ]
  },
  {
   "cell_type": "markdown",
   "metadata": {},
   "source": [
    "## Test the model\n",
    "\n",
    "Next we test the model and plot the decision boundary. Despite the function we are optimizing not having an obvious additive decomposition, the model provides accurate results."
   ]
  },
  {
   "cell_type": "code",
   "execution_count": 5,
   "metadata": {},
   "outputs": [
    {
     "data": {
      "text/plain": [
       "(-0.5, 1.5)"
      ]
     },
     "execution_count": 5,
     "metadata": {},
     "output_type": "execute_result"
    },
    {
     "data": {
      "image/png": "[encoded data removed]",
      "text/plain": [
       "<Figure size 288x216 with 1 Axes>"
      ]
     },
     "metadata": {
      "needs_background": "light"
     },
     "output_type": "display_data"
    }
   ],
   "source": [
    "# Switch the model and likelihood into the evaluation mode\n",
    "model.eval()\n",
    "likelihood.eval()\n",
    "\n",
    "# Start the plot, 4x3in\n",
    "f, ax = plt.subplots(1, 1, figsize=(4, 3))\n",
    "\n",
    "n = 100\n",
    "test_x = torch.zeros(n ** 2, 2)\n",
    "test_x[:, 0].copy_(torch.linspace(-1, 1, n).repeat(n))\n",
    "test_x[:, 1].copy_(torch.linspace(-1, 1, n).unsqueeze(1).repeat(1, n).view(-1))\n",
    "# Cuda variable of test data\n",
    "test_x = test_x.cuda()\n",
    "\n",
    "with torch.no_grad(), gpytorch.settings.use_toeplitz(False):\n",
    "    predictions = likelihood(model(test_x))\n",
    "\n",
    "# prob<0.5 --> label -1 // prob>0.5 --> label 1\n",
    "pred_labels = predictions.mean.ge(0.5).float().mul(2).sub(1).cpu()\n",
    "# Colors = yellow for 1, red for -1\n",
    "color = []\n",
    "for i in range(len(pred_labels)):\n",
    "    if pred_labels[i] == 1:\n",
    "        color.append('y')\n",
    "    else:\n",
    "        color.append('r')\n",
    "        \n",
    "# Plot data a scatter plot\n",
    "ax.scatter(test_x[:, 0].cpu(), test_x[:, 1].cpu(), color=color, s=1)\n",
    "ax.set_ylim([-0.5, 1.5])"
   ]
  },
  {
   "cell_type": "code",
   "execution_count": null,
   "metadata": {},
   "outputs": [],
   "source": []
  }
 ],
 "metadata": {
  "anaconda-cloud": {},
  "kernelspec": {
   "display_name": "Python 3",
   "language": "python",
   "name": "python3"
  },
  "language_info": {
   "codemirror_mode": {
    "name": "ipython",
    "version": 3
   },
   "file_extension": ".py",
   "mimetype": "text/x-python",
   "name": "python",
   "nbconvert_exporter": "python",
   "pygments_lexer": "ipython3",
   "version": "3.7.0"
  }
 },
 "nbformat": 4,
 "nbformat_minor": 2
}
