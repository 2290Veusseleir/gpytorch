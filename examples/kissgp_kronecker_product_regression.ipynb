{
 "cells": [
  {
   "cell_type": "code",
   "execution_count": 1,
   "metadata": {
    "collapsed": true
   },
   "outputs": [],
   "source": [
    "import math\n",
    "import torch\n",
    "import gpytorch\n",
    "import numpy\n",
    "from matplotlib import pyplot as plt\n",
    "from torch import nn, optim\n",
    "from torch.autograd import Variable\n",
    "from gpytorch.kernels import RBFKernel, GridInterpolationKernel\n",
    "from gpytorch.means import ConstantMean\n",
    "from gpytorch.likelihoods import GaussianLikelihood\n",
    "from gpytorch.random_variables import GaussianRandomVariable\n",
    "\n",
    "%matplotlib inline"
   ]
  },
  {
   "cell_type": "code",
   "execution_count": 2,
   "metadata": {
    "collapsed": true
   },
   "outputs": [],
   "source": [
    "n = 40\n",
    "train_x = torch.zeros(pow(n, 2), 2)\n",
    "for i in range(n):\n",
    "    for j in range(n):\n",
    "        train_x[i * n + j][0] = float(i) / (n-1)\n",
    "        train_x[i * n + j][1] = float(j) / (n-1)\n",
    "train_x = Variable(train_x)\n",
    "train_y = Variable(torch.sin(((train_x.data[:, 0] + train_x.data[:, 1]) * (2 * math.pi))))"
   ]
  },
  {
   "cell_type": "code",
   "execution_count": 3,
   "metadata": {
    "collapsed": true
   },
   "outputs": [],
   "source": [
    "class KissGPModel(gpytorch.GPModel):\n",
    "    def __init__(self):\n",
    "        super(KissGPModel, self).__init__(GaussianLikelihood(log_noise_bounds=(-5, 5)))\n",
    "        self.mean_module = ConstantMean(constant_bounds=(-1, 1))\n",
    "        covar_module = RBFKernel(log_lengthscale_bounds=(-3, 5))\n",
    "        self.grid_covar_module = GridInterpolationKernel(covar_module)\n",
    "        self.register_parameter('log_outputscale', nn.Parameter(torch.Tensor([0])), bounds=(-1, 1))\n",
    "        self.initialize_interpolation_grid(20, grid_bounds=[(0, 1), (0, 1)])\n",
    "\n",
    "    def forward(self, x):\n",
    "        mean_x = self.mean_module(x)\n",
    "        covar_x = self.grid_covar_module(x)\n",
    "        covar_x = covar_x.mul(self.log_outputscale.exp())\n",
    "        return GaussianRandomVariable(mean_x, covar_x)\n",
    "    \n",
    "model = KissGPModel()"
   ]
  },
  {
   "cell_type": "code",
   "execution_count": 4,
   "metadata": {
    "collapsed": true
   },
   "outputs": [],
   "source": [
    "def plot_model_and_predictions(model):\n",
    "    n = 10\n",
    "    test_x = Variable(torch.zeros(int(pow(n, 2)), 2))\n",
    "    for i in range(n):\n",
    "        for j in range(n):\n",
    "            test_x.data[i * n + j][0] = float(i) / (n-1)\n",
    "            test_x.data[i * n + j][1] = float(j) / (n-1)\n",
    "\n",
    "    observed_pred = model(test_x)\n",
    "    pred_labels = observed_pred.mean().view(n, n).data.numpy()\n",
    "    \n",
    "    test_y_actual = torch.sin(((test_x.data[:, 0] + test_x.data[:, 1]) * (2 * math.pi))).numpy().reshape(n, n)\n",
    "    delta_y = numpy.absolute(pred_labels - test_y_actual)\n",
    "    \n",
    "    def ax_plot(f, ax, y_labels, title):\n",
    "        im = ax.imshow(y_labels)\n",
    "        ax.set_title(title)\n",
    "        f.colorbar(im)\n",
    "    \n",
    "    f, observed_ax = plt.subplots(1, 1, figsize=(4, 3))\n",
    "    ax_plot(f, observed_ax, pred_labels, 'Predicted Values (Likelihood)')\n",
    "    \n",
    "    f, observed_ax2 = plt.subplots(1, 1, figsize=(4, 3))\n",
    "    ax_plot(f, observed_ax2, test_y_actual, 'Actual Values (Likelihood)')\n",
    "\n",
    "    f, observed_ax3 = plt.subplots(1, 1, figsize=(4, 3))\n",
    "    ax_plot(f, observed_ax3, delta_y, 'Absolute Error Surface')\n",
    "    \n",
    "    return f"
   ]
  },
  {
   "cell_type": "code",
   "execution_count": 5,
   "metadata": {
    "collapsed": false
   },
   "outputs": [
    {
     "name": "stderr",
     "output_type": "stream",
     "text": [
      "/Users/gpleiss/Dropbox/workspace/gpytorch/gpytorch/kernels/rbf_kernel.py:42: UserWarning: other is not broadcastable to self, but they have the same number of elements.  Falling back to deprecated pointwise behavior.\n",
      "  grad.mul_(grad_output.transpose(0, 1))\n"
     ]
    },
    {
     "name": "stdout",
     "output_type": "stream",
     "text": [
      "Iter 1/60 - Loss: 1730.058\n",
      "Iter 2/60 - Loss: 1649.853\n",
      "Iter 3/60 - Loss: 1578.048\n",
      "Iter 4/60 - Loss: 1509.847\n",
      "Iter 5/60 - Loss: 1426.100\n",
      "Iter 6/60 - Loss: 1349.149\n",
      "Iter 7/60 - Loss: 1274.195\n",
      "Iter 8/60 - Loss: 1185.641\n",
      "Iter 9/60 - Loss: 1094.067\n",
      "Iter 10/60 - Loss: 991.770\n",
      "Iter 11/60 - Loss: 885.175\n",
      "Iter 12/60 - Loss: 770.109\n",
      "Iter 13/60 - Loss: 664.117\n",
      "Iter 14/60 - Loss: 552.352\n",
      "Iter 15/60 - Loss: 455.386\n",
      "Iter 16/60 - Loss: 349.586\n",
      "Iter 17/60 - Loss: 269.321\n",
      "Iter 18/60 - Loss: 182.674\n",
      "Iter 19/60 - Loss: 88.150\n",
      "Iter 20/60 - Loss: 11.944\n",
      "Iter 21/60 - Loss: -63.975\n",
      "Iter 22/60 - Loss: -154.133\n",
      "Iter 23/60 - Loss: -253.202\n",
      "Iter 24/60 - Loss: -320.878\n",
      "Iter 25/60 - Loss: -391.441\n",
      "Iter 26/60 - Loss: -476.771\n",
      "Iter 27/60 - Loss: -552.672\n",
      "Iter 28/60 - Loss: -635.492\n",
      "Iter 29/60 - Loss: -712.757\n",
      "Iter 30/60 - Loss: -787.313\n",
      "Iter 31/60 - Loss: -867.543\n",
      "Iter 32/60 - Loss: -943.704\n",
      "Iter 33/60 - Loss: -1032.135\n",
      "Iter 34/60 - Loss: -1094.066\n",
      "Iter 35/60 - Loss: -1179.448\n",
      "Iter 36/60 - Loss: -1254.768\n",
      "Iter 37/60 - Loss: -1329.913\n",
      "Iter 38/60 - Loss: -1410.045\n",
      "Iter 39/60 - Loss: -1480.866\n",
      "Iter 40/60 - Loss: -1561.739\n",
      "Iter 41/60 - Loss: -1645.419\n",
      "Iter 42/60 - Loss: -1733.091\n",
      "Iter 43/60 - Loss: -1798.751\n",
      "Iter 44/60 - Loss: -1884.606\n",
      "Iter 45/60 - Loss: -1965.023\n",
      "Iter 46/60 - Loss: -2037.536\n",
      "Iter 47/60 - Loss: -2131.093\n",
      "Iter 48/60 - Loss: -2184.166\n",
      "Iter 49/60 - Loss: -2253.839\n",
      "Iter 50/60 - Loss: -2321.128\n",
      "Iter 51/60 - Loss: -2328.159\n",
      "Iter 52/60 - Loss: -2346.865\n",
      "Iter 53/60 - Loss: -2344.700\n",
      "Iter 54/60 - Loss: -2351.835\n",
      "Iter 55/60 - Loss: -2334.565\n",
      "Iter 56/60 - Loss: -2344.257\n",
      "Iter 57/60 - Loss: -2319.427\n",
      "Iter 58/60 - Loss: -2326.194\n",
      "Iter 59/60 - Loss: -2313.860\n",
      "Iter 60/60 - Loss: -2325.655\n"
     ]
    }
   ],
   "source": [
    "model.condition(train_x, train_y)\n",
    "\n",
    "# Optimize the model\n",
    "model.train()\n",
    "optimizer = optim.Adam(model.parameters(), lr=0.1)\n",
    "optimizer.n_iter = 0\n",
    "for i in range(60):\n",
    "    optimizer.zero_grad()\n",
    "    output = model(train_x)\n",
    "    loss = -model.marginal_log_likelihood(output, train_y)\n",
    "    loss.backward()\n",
    "    optimizer.n_iter += 1\n",
    "    print('Iter %d/60 - Loss: %.3f' % (i + 1, loss.data[0]))\n",
    "    optimizer.step()\n",
    "\n",
    "_ = model.eval()"
   ]
  },
  {
   "cell_type": "code",
   "execution_count": 6,
   "metadata": {
    "collapsed": false
   },
   "outputs": [
    {
     "data": {
      "image/png": "[encoded data removed]",
      "text/plain": [
       "<matplotlib.figure.Figure at 0x1039dce90>"
      ]
     },
     "metadata": {},
     "output_type": "display_data"
    },
    {
     "data": {
      "image/png": "[encoded data removed]",
      "text/plain": [
       "<matplotlib.figure.Figure at 0x14d37d410>"
      ]
     },
     "metadata": {},
     "output_type": "display_data"
    },
    {
     "data": {
      "image/png": "[encoded data removed]",
      "text/plain": [
       "<matplotlib.figure.Figure at 0x14d499090>"
      ]
     },
     "metadata": {},
     "output_type": "display_data"
    }
   ],
   "source": [
    "f = plot_model_and_predictions(model)"
   ]
  },
  {
   "cell_type": "code",
   "execution_count": null,
   "metadata": {
    "collapsed": true
   },
   "outputs": [],
   "source": []
  }
 ],
 "metadata": {
  "kernelspec": {
   "display_name": "Python 2",
   "language": "python",
   "name": "python2"
  },
  "language_info": {
   "codemirror_mode": {
    "name": "ipython",
    "version": 2
   },
   "file_extension": ".py",
   "mimetype": "text/x-python",
   "name": "python",
   "nbconvert_exporter": "python",
   "pygments_lexer": "ipython2",
   "version": "2.7.13"
  }
 },
 "nbformat": 4,
 "nbformat_minor": 2
}
