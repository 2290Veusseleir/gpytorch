{
 "cells": [
  {
   "cell_type": "code",
   "execution_count": 1,
   "metadata": {
    "collapsed": true
   },
   "outputs": [],
   "source": [
    "import math\n",
    "import torch\n",
    "import gpytorch\n",
    "from matplotlib import pyplot as plt\n",
    "\n",
    "%matplotlib inline\n",
    "%load_ext autoreload\n",
    "%autoreload 2"
   ]
  },
  {
   "cell_type": "code",
   "execution_count": 2,
   "metadata": {
    "collapsed": true
   },
   "outputs": [],
   "source": [
    "from torch.autograd import Variable\n",
    "\n",
    "n = 30\n",
    "train_x = torch.zeros(int(pow(n, 2)), 2)\n",
    "train_y = torch.zeros(int(pow(n, 2)))\n",
    "for i in range(n):\n",
    "    for j in range(n):\n",
    "        train_x[i * n + j][0] = float(i) / (n - 1)\n",
    "        train_x[i * n + j][1] = float(j) / (n - 1)\n",
    "        train_y[i * n + j] = pow(-1, int(3 * i / n + int(3 * j / n)))\n",
    "train_x = Variable(train_x)\n",
    "train_y = Variable(train_y)"
   ]
  },
  {
   "cell_type": "code",
   "execution_count": 3,
   "metadata": {
    "collapsed": true
   },
   "outputs": [],
   "source": [
    "from torch import nn, optim\n",
    "from gpytorch.kernels import RBFKernel, GridInterpolationKernel\n",
    "from gpytorch.means import ConstantMean\n",
    "from gpytorch.likelihoods import GaussianLikelihood, BernoulliLikelihood\n",
    "from gpytorch.random_variables import GaussianRandomVariable"
   ]
  },
  {
   "cell_type": "code",
   "execution_count": 4,
   "metadata": {},
   "outputs": [
    {
     "name": "stderr",
     "output_type": "stream",
     "text": [
      "/home/jrg365/anaconda2/lib/python2.7/site-packages/torch/autograd/_functions/basic_ops.py:48: UserWarning: self and other not broadcastable, but have the same number of elements.  Falling back to deprecated pointwise behavior.\n",
      "  return a.mul(b)\n"
     ]
    },
    {
     "data": {
      "text/plain": [
       "GPClassificationModel (\n",
       "  (likelihood): BernoulliLikelihood (\n",
       "  )\n",
       "  (mean_module): ConstantMean (\n",
       "  )\n",
       "  (covar_module): RBFKernel (\n",
       "  )\n",
       "  (grid_covar_module): GridInterpolationKernel (\n",
       "    (base_kernel_module): RBFKernel (\n",
       "    )\n",
       "  )\n",
       ")"
      ]
     },
     "execution_count": 4,
     "metadata": {},
     "output_type": "execute_result"
    }
   ],
   "source": [
    "class GPClassificationModel(gpytorch.GPModel):\n",
    "    def __init__(self):\n",
    "        super(GPClassificationModel,self).__init__(BernoulliLikelihood())\n",
    "        self.mean_module = ConstantMean()\n",
    "        self.covar_module = RBFKernel(log_lengthscale_bounds=(-6, 6))\n",
    "        self.grid_covar_module = GridInterpolationKernel(self.covar_module)\n",
    "        self.register_parameter('log_outputscale', nn.Parameter(torch.Tensor([0])), bounds=(-6,6))\n",
    "        self.initialize_interpolation_grid(10, [(0, 1), (0, 1)])\n",
    "    \n",
    "    def forward(self,x):\n",
    "        mean_x = self.mean_module(x)\n",
    "        covar_x = self.grid_covar_module(x)\n",
    "        covar_x = covar_x.mul(self.log_outputscale.exp())\n",
    "        latent_pred = GaussianRandomVariable(mean_x, covar_x)\n",
    "        return latent_pred\n",
    "\n",
    "model = GPClassificationModel()\n",
    "model.condition(train_x, train_y)"
   ]
  },
  {
   "cell_type": "code",
   "execution_count": 5,
   "metadata": {
    "collapsed": true
   },
   "outputs": [],
   "source": [
    "def plot_model_and_predictions(model, plot_train_data=True):\n",
    "    f, observed_ax = plt.subplots(1, 1, figsize=(4, 3))\n",
    "    n = 100\n",
    "    test_x = Variable(torch.zeros(int(pow(n, 2)), 2))\n",
    "    for i in range(n):\n",
    "        for j in range(n):\n",
    "            test_x.data[i * n + j][0] = float(i) / (n-1)\n",
    "            test_x.data[i * n + j][1] = float(j) / (n-1)\n",
    "    observed_pred = model(test_x)\n",
    "\n",
    "    def ax_plot(ax, rand_var, title):\n",
    "        pred_labels = rand_var.mean().ge(0.5).float().mul(2).sub(1).data.numpy()\n",
    "        color = []\n",
    "        for i in range(len(pred_labels)):\n",
    "            if pred_labels[i] == 1:\n",
    "                color.append('y')\n",
    "            else:\n",
    "                color.append('r')\n",
    "        ax.scatter(test_x.data[:, 0].numpy(), test_x.data[:, 1].numpy(), color=color, s=1)\n",
    "        ax.set_ylim([-0.5, 1.5])\n",
    "        ax.set_title(title)\n",
    "    \n",
    "    ax_plot(observed_ax, observed_pred, 'Predicted Values')\n",
    "    \n",
    "    return f"
   ]
  },
  {
   "cell_type": "code",
   "execution_count": 6,
   "metadata": {},
   "outputs": [
    {
     "name": "stderr",
     "output_type": "stream",
     "text": [
      "/mnt/c/Users/Gardn/gpytorch/gpytorch/kernels/rbf_kernel.py:42: UserWarning: other is not broadcastable to self, but they have the same number of elements.  Falling back to deprecated pointwise behavior.\n",
      "  grad.mul_(grad_output.transpose(0, 1))\n"
     ]
    },
    {
     "name": "stdout",
     "output_type": "stream",
     "text": [
      "Iter 1/200 - Loss: 311599.500   log_lengthscale: 0.000\n",
      "Iter 2/200 - Loss: 55363.918   log_lengthscale: -0.200\n",
      "Iter 3/200 - Loss: 18659.123   log_lengthscale: -0.399\n",
      "Iter 4/200 - Loss: 17940.912   log_lengthscale: -0.559\n",
      "Iter 5/200 - Loss: 16955.541   log_lengthscale: -0.722\n",
      "Iter 6/200 - Loss: 23207.457   log_lengthscale: -0.883\n",
      "Iter 7/200 - Loss: 17786.529   log_lengthscale: -1.049\n",
      "Iter 8/200 - Loss: 11628.727   log_lengthscale: -1.205\n",
      "Iter 9/200 - Loss: 14009.729   log_lengthscale: -1.354\n",
      "Iter 10/200 - Loss: 12302.094   log_lengthscale: -1.495\n",
      "Iter 11/200 - Loss: 8684.758   log_lengthscale: -1.635\n",
      "Iter 12/200 - Loss: 6835.046   log_lengthscale: -1.763\n",
      "Iter 13/200 - Loss: 5477.286   log_lengthscale: -1.881\n",
      "Iter 14/200 - Loss: 4269.910   log_lengthscale: -1.990\n",
      "Iter 15/200 - Loss: 5671.488   log_lengthscale: -2.093\n",
      "Iter 16/200 - Loss: 4746.941   log_lengthscale: -2.188\n",
      "Iter 17/200 - Loss: 4862.853   log_lengthscale: -2.277\n",
      "Iter 18/200 - Loss: 4775.110   log_lengthscale: -2.361\n",
      "Iter 19/200 - Loss: 5179.536   log_lengthscale: -2.440\n",
      "Iter 20/200 - Loss: 5397.867   log_lengthscale: -2.516\n",
      "Iter 21/200 - Loss: 5322.788   log_lengthscale: -2.589\n",
      "Iter 22/200 - Loss: 5599.034   log_lengthscale: -2.659\n",
      "Iter 23/200 - Loss: 4578.752   log_lengthscale: -2.727\n",
      "Iter 24/200 - Loss: 5106.396   log_lengthscale: -2.792\n",
      "Iter 25/200 - Loss: 4426.715   log_lengthscale: -2.853\n",
      "Iter 26/200 - Loss: 3719.225   log_lengthscale: -2.910\n",
      "Iter 27/200 - Loss: 3790.053   log_lengthscale: -2.964\n",
      "Iter 28/200 - Loss: 4138.632   log_lengthscale: -3.014\n",
      "Iter 29/200 - Loss: 3711.606   log_lengthscale: -3.061\n",
      "Iter 30/200 - Loss: 3403.022   log_lengthscale: -3.106\n",
      "Iter 31/200 - Loss: 3396.512   log_lengthscale: -3.147\n",
      "Iter 32/200 - Loss: 3468.299   log_lengthscale: -3.186\n",
      "Iter 33/200 - Loss: 3354.641   log_lengthscale: -3.222\n",
      "Iter 34/200 - Loss: 2673.154   log_lengthscale: -3.257\n",
      "Iter 35/200 - Loss: 2981.083   log_lengthscale: -3.289\n",
      "Iter 36/200 - Loss: 3449.130   log_lengthscale: -3.320\n",
      "Iter 37/200 - Loss: 2391.120   log_lengthscale: -3.350\n",
      "Iter 38/200 - Loss: 2917.436   log_lengthscale: -3.378\n",
      "Iter 39/200 - Loss: 2215.167   log_lengthscale: -3.404\n",
      "Iter 40/200 - Loss: 2455.285   log_lengthscale: -3.428\n",
      "Iter 41/200 - Loss: 2437.509   log_lengthscale: -3.451\n",
      "Iter 42/200 - Loss: 2470.378   log_lengthscale: -3.473\n",
      "Iter 43/200 - Loss: 1906.723   log_lengthscale: -3.493\n",
      "Iter 44/200 - Loss: 1962.518   log_lengthscale: -3.511\n",
      "Iter 45/200 - Loss: 1983.178   log_lengthscale: -3.529\n",
      "Iter 46/200 - Loss: 1796.170   log_lengthscale: -3.545\n",
      "Iter 47/200 - Loss: 1925.152   log_lengthscale: -3.559\n",
      "Iter 48/200 - Loss: 1886.315   log_lengthscale: -3.573\n",
      "Iter 49/200 - Loss: 1762.963   log_lengthscale: -3.585\n",
      "Iter 50/200 - Loss: 1758.890   log_lengthscale: -3.597\n",
      "Iter 51/200 - Loss: 1711.132   log_lengthscale: -3.608\n",
      "Iter 52/200 - Loss: 1407.507   log_lengthscale: -3.619\n",
      "Iter 53/200 - Loss: 1754.256   log_lengthscale: -3.628\n",
      "Iter 54/200 - Loss: 1398.169   log_lengthscale: -3.637\n",
      "Iter 55/200 - Loss: 1630.164   log_lengthscale: -3.646\n",
      "Iter 56/200 - Loss: 1468.006   log_lengthscale: -3.653\n",
      "Iter 57/200 - Loss: 1623.677   log_lengthscale: -3.661\n",
      "Iter 58/200 - Loss: 1297.603   log_lengthscale: -3.668\n",
      "Iter 59/200 - Loss: 1299.159   log_lengthscale: -3.674\n",
      "Iter 60/200 - Loss: 1317.528   log_lengthscale: -3.680\n",
      "Iter 61/200 - Loss: 1442.309   log_lengthscale: -3.686\n",
      "Iter 62/200 - Loss: 1162.337   log_lengthscale: -3.690\n",
      "Iter 63/200 - Loss: 1093.616   log_lengthscale: -3.695\n",
      "Iter 64/200 - Loss: 1098.235   log_lengthscale: -3.699\n",
      "Iter 65/200 - Loss: 1290.269   log_lengthscale: -3.704\n",
      "Iter 66/200 - Loss: 911.574   log_lengthscale: -3.708\n",
      "Iter 67/200 - Loss: 1497.256   log_lengthscale: -3.711\n",
      "Iter 68/200 - Loss: 898.602   log_lengthscale: -3.715\n",
      "Iter 69/200 - Loss: 1011.433   log_lengthscale: -3.718\n",
      "Iter 70/200 - Loss: 726.813   log_lengthscale: -3.721\n",
      "Iter 71/200 - Loss: 902.204   log_lengthscale: -3.724\n",
      "Iter 72/200 - Loss: 900.745   log_lengthscale: -3.727\n",
      "Iter 73/200 - Loss: 804.240   log_lengthscale: -3.729\n",
      "Iter 74/200 - Loss: 852.187   log_lengthscale: -3.731\n",
      "Iter 75/200 - Loss: 1014.081   log_lengthscale: -3.734\n",
      "Iter 76/200 - Loss: 826.709   log_lengthscale: -3.736\n",
      "Iter 77/200 - Loss: 834.127   log_lengthscale: -3.738\n",
      "Iter 78/200 - Loss: 911.324   log_lengthscale: -3.740\n",
      "Iter 79/200 - Loss: 843.013   log_lengthscale: -3.742\n",
      "Iter 80/200 - Loss: 918.960   log_lengthscale: -3.743\n",
      "Iter 81/200 - Loss: 745.043   log_lengthscale: -3.745\n",
      "Iter 82/200 - Loss: 719.540   log_lengthscale: -3.747\n",
      "Iter 83/200 - Loss: 756.516   log_lengthscale: -3.748\n",
      "Iter 84/200 - Loss: 773.940   log_lengthscale: -3.750\n",
      "Iter 85/200 - Loss: 726.670   log_lengthscale: -3.751\n",
      "Iter 86/200 - Loss: 852.749   log_lengthscale: -3.753\n",
      "Iter 87/200 - Loss: 742.298   log_lengthscale: -3.754\n",
      "Iter 88/200 - Loss: 660.925   log_lengthscale: -3.755\n",
      "Iter 89/200 - Loss: 613.977   log_lengthscale: -3.757\n",
      "Iter 90/200 - Loss: 580.209   log_lengthscale: -3.758\n",
      "Iter 91/200 - Loss: 644.773   log_lengthscale: -3.759\n",
      "Iter 92/200 - Loss: 564.971   log_lengthscale: -3.761\n",
      "Iter 93/200 - Loss: 618.651   log_lengthscale: -3.762\n",
      "Iter 94/200 - Loss: 634.944   log_lengthscale: -3.763\n",
      "Iter 95/200 - Loss: 639.098   log_lengthscale: -3.764\n",
      "Iter 96/200 - Loss: 572.049   log_lengthscale: -3.766\n",
      "Iter 97/200 - Loss: 597.691   log_lengthscale: -3.767\n",
      "Iter 98/200 - Loss: 547.667   log_lengthscale: -3.768\n",
      "Iter 99/200 - Loss: 530.136   log_lengthscale: -3.769\n",
      "Iter 100/200 - Loss: 586.307   log_lengthscale: -3.770\n",
      "Iter 101/200 - Loss: 575.236   log_lengthscale: -3.771\n",
      "Iter 102/200 - Loss: 550.813   log_lengthscale: -3.772\n",
      "Iter 103/200 - Loss: 583.395   log_lengthscale: -3.773\n",
      "Iter 104/200 - Loss: 527.013   log_lengthscale: -3.774\n",
      "Iter 105/200 - Loss: 523.758   log_lengthscale: -3.775\n",
      "Iter 106/200 - Loss: 543.309   log_lengthscale: -3.776\n",
      "Iter 107/200 - Loss: 570.278   log_lengthscale: -3.777\n",
      "Iter 108/200 - Loss: 634.155   log_lengthscale: -3.778\n",
      "Iter 109/200 - Loss: 499.103   log_lengthscale: -3.779\n",
      "Iter 110/200 - Loss: 517.549   log_lengthscale: -3.780\n",
      "Iter 111/200 - Loss: 490.865   log_lengthscale: -3.781\n",
      "Iter 112/200 - Loss: 480.738   log_lengthscale: -3.781\n",
      "Iter 113/200 - Loss: 488.838   log_lengthscale: -3.782\n",
      "Iter 114/200 - Loss: 434.807   log_lengthscale: -3.783\n",
      "Iter 115/200 - Loss: 490.007   log_lengthscale: -3.784\n",
      "Iter 116/200 - Loss: 435.871   log_lengthscale: -3.784\n",
      "Iter 117/200 - Loss: 505.216   log_lengthscale: -3.785\n",
      "Iter 118/200 - Loss: 424.128   log_lengthscale: -3.786\n",
      "Iter 119/200 - Loss: 455.913   log_lengthscale: -3.786\n",
      "Iter 120/200 - Loss: 550.521   log_lengthscale: -3.787\n",
      "Iter 121/200 - Loss: 446.724   log_lengthscale: -3.788\n",
      "Iter 122/200 - Loss: 427.951   log_lengthscale: -3.788\n",
      "Iter 123/200 - Loss: 442.073   log_lengthscale: -3.789\n",
      "Iter 124/200 - Loss: 444.000   log_lengthscale: -3.789\n",
      "Iter 125/200 - Loss: 401.174   log_lengthscale: -3.790\n",
      "Iter 126/200 - Loss: 470.178   log_lengthscale: -3.790\n",
      "Iter 127/200 - Loss: 406.593   log_lengthscale: -3.790\n",
      "Iter 128/200 - Loss: 436.707   log_lengthscale: -3.791\n",
      "Iter 129/200 - Loss: 388.250   log_lengthscale: -3.791\n",
      "Iter 130/200 - Loss: 389.833   log_lengthscale: -3.792\n",
      "Iter 131/200 - Loss: 429.650   log_lengthscale: -3.792\n",
      "Iter 132/200 - Loss: 390.812   log_lengthscale: -3.793\n",
      "Iter 133/200 - Loss: 428.810   log_lengthscale: -3.793\n",
      "Iter 134/200 - Loss: 402.626   log_lengthscale: -3.793\n",
      "Iter 135/200 - Loss: 393.094   log_lengthscale: -3.794\n",
      "Iter 136/200 - Loss: 396.063   log_lengthscale: -3.794\n",
      "Iter 137/200 - Loss: 447.181   log_lengthscale: -3.794\n",
      "Iter 138/200 - Loss: 388.000   log_lengthscale: -3.795\n",
      "Iter 139/200 - Loss: 413.353   log_lengthscale: -3.795\n",
      "Iter 140/200 - Loss: 417.464   log_lengthscale: -3.795\n",
      "Iter 141/200 - Loss: 396.604   log_lengthscale: -3.796\n",
      "Iter 142/200 - Loss: 414.680   log_lengthscale: -3.796\n",
      "Iter 143/200 - Loss: 356.840   log_lengthscale: -3.796\n",
      "Iter 144/200 - Loss: 338.545   log_lengthscale: -3.797\n",
      "Iter 145/200 - Loss: 374.568   log_lengthscale: -3.797\n",
      "Iter 146/200 - Loss: 371.778   log_lengthscale: -3.797\n",
      "Iter 147/200 - Loss: 356.739   log_lengthscale: -3.798\n",
      "Iter 148/200 - Loss: 363.437   log_lengthscale: -3.798\n",
      "Iter 149/200 - Loss: 391.951   log_lengthscale: -3.798\n",
      "Iter 150/200 - Loss: 403.990   log_lengthscale: -3.799\n"
     ]
    },
    {
     "name": "stdout",
     "output_type": "stream",
     "text": [
      "Iter 151/200 - Loss: 409.530   log_lengthscale: -3.799\n",
      "Iter 152/200 - Loss: 364.249   log_lengthscale: -3.799\n",
      "Iter 153/200 - Loss: 341.714   log_lengthscale: -3.799\n",
      "Iter 154/200 - Loss: 372.854   log_lengthscale: -3.800\n",
      "Iter 155/200 - Loss: 352.827   log_lengthscale: -3.800\n",
      "Iter 156/200 - Loss: 351.261   log_lengthscale: -3.800\n",
      "Iter 157/200 - Loss: 331.005   log_lengthscale: -3.800\n",
      "Iter 158/200 - Loss: 349.649   log_lengthscale: -3.800\n",
      "Iter 159/200 - Loss: 371.038   log_lengthscale: -3.801\n",
      "Iter 160/200 - Loss: 344.388   log_lengthscale: -3.801\n",
      "Iter 161/200 - Loss: 337.044   log_lengthscale: -3.801\n",
      "Iter 162/200 - Loss: 339.296   log_lengthscale: -3.801\n",
      "Iter 163/200 - Loss: 342.523   log_lengthscale: -3.802\n",
      "Iter 164/200 - Loss: 382.012   log_lengthscale: -3.802\n",
      "Iter 165/200 - Loss: 361.941   log_lengthscale: -3.802\n",
      "Iter 166/200 - Loss: 364.341   log_lengthscale: -3.802\n",
      "Iter 167/200 - Loss: 360.845   log_lengthscale: -3.803\n",
      "Iter 168/200 - Loss: 350.015   log_lengthscale: -3.803\n",
      "Iter 169/200 - Loss: 369.363   log_lengthscale: -3.803\n",
      "Iter 170/200 - Loss: 347.556   log_lengthscale: -3.803\n",
      "Iter 171/200 - Loss: 356.795   log_lengthscale: -3.803\n",
      "Iter 172/200 - Loss: 321.832   log_lengthscale: -3.804\n",
      "Iter 173/200 - Loss: 329.293   log_lengthscale: -3.804\n",
      "Iter 174/200 - Loss: 365.070   log_lengthscale: -3.804\n",
      "Iter 175/200 - Loss: 351.049   log_lengthscale: -3.804\n",
      "Iter 176/200 - Loss: 313.802   log_lengthscale: -3.804\n",
      "Iter 177/200 - Loss: 303.906   log_lengthscale: -3.804\n",
      "Iter 178/200 - Loss: 366.600   log_lengthscale: -3.805\n",
      "Iter 179/200 - Loss: 311.813   log_lengthscale: -3.805\n",
      "Iter 180/200 - Loss: 319.498   log_lengthscale: -3.805\n",
      "Iter 181/200 - Loss: 365.802   log_lengthscale: -3.805\n",
      "Iter 182/200 - Loss: 349.957   log_lengthscale: -3.805\n",
      "Iter 183/200 - Loss: 358.037   log_lengthscale: -3.806\n",
      "Iter 184/200 - Loss: 338.841   log_lengthscale: -3.806\n",
      "Iter 185/200 - Loss: 354.211   log_lengthscale: -3.806\n",
      "Iter 186/200 - Loss: 340.667   log_lengthscale: -3.806\n",
      "Iter 187/200 - Loss: 319.772   log_lengthscale: -3.806\n",
      "Iter 188/200 - Loss: 322.785   log_lengthscale: -3.806\n",
      "Iter 189/200 - Loss: 318.112   log_lengthscale: -3.807\n",
      "Iter 190/200 - Loss: 296.322   log_lengthscale: -3.807\n",
      "Iter 191/200 - Loss: 320.755   log_lengthscale: -3.807\n",
      "Iter 192/200 - Loss: 335.663   log_lengthscale: -3.807\n",
      "Iter 193/200 - Loss: 322.085   log_lengthscale: -3.807\n",
      "Iter 194/200 - Loss: 310.902   log_lengthscale: -3.808\n",
      "Iter 195/200 - Loss: 325.793   log_lengthscale: -3.808\n",
      "Iter 196/200 - Loss: 352.821   log_lengthscale: -3.808\n",
      "Iter 197/200 - Loss: 309.416   log_lengthscale: -3.808\n",
      "Iter 198/200 - Loss: 321.638   log_lengthscale: -3.808\n",
      "Iter 199/200 - Loss: 284.001   log_lengthscale: -3.808\n",
      "Iter 200/200 - Loss: 306.260   log_lengthscale: -3.809\n"
     ]
    },
    {
     "data": {
      "text/plain": [
       "GPClassificationModel (\n",
       "  (likelihood): BernoulliLikelihood (\n",
       "  )\n",
       "  (mean_module): ConstantMean (\n",
       "  )\n",
       "  (covar_module): RBFKernel (\n",
       "  )\n",
       "  (grid_covar_module): GridInterpolationKernel (\n",
       "    (base_kernel_module): RBFKernel (\n",
       "    )\n",
       "  )\n",
       ")"
      ]
     },
     "execution_count": 6,
     "metadata": {},
     "output_type": "execute_result"
    }
   ],
   "source": [
    "# Find optimal model hyperparameters\n",
    "model.train()\n",
    "optimizer = optim.Adam(model.parameters(), lr=0.2)\n",
    "optimizer.n_iter = 0\n",
    "for i in range(200):\n",
    "    optimizer.zero_grad()\n",
    "    output = model.forward(train_x)\n",
    "    loss = -model.marginal_log_likelihood(output, train_y)\n",
    "    loss.backward()\n",
    "    optimizer.n_iter += 1\n",
    "    print('Iter %d/200 - Loss: %.3f   log_lengthscale: %.3f' % (\n",
    "        i + 1, loss.data[0],\n",
    "        model.covar_module.log_lengthscale.data.squeeze()[0],\n",
    "    ))\n",
    "    optimizer.step()\n",
    "    \n",
    "# Set back to eval mode\n",
    "model.eval()"
   ]
  },
  {
   "cell_type": "code",
   "execution_count": 8,
   "metadata": {},
   "outputs": [
    {
     "data": {
      "image/png": "[encoded data removed]",
      "text/plain": [
       "<matplotlib.figure.Figure at 0x7f956c24e490>"
      ]
     },
     "metadata": {},
     "output_type": "display_data"
    }
   ],
   "source": [
    "f = plot_model_and_predictions(model)"
   ]
  },
  {
   "cell_type": "code",
   "execution_count": null,
   "metadata": {
    "collapsed": true
   },
   "outputs": [],
   "source": []
  }
 ],
 "metadata": {
  "anaconda-cloud": {},
  "kernelspec": {
   "display_name": "Python 2",
   "language": "python",
   "name": "python2"
  },
  "language_info": {
   "codemirror_mode": {
    "name": "ipython",
    "version": 2
   },
   "file_extension": ".py",
   "mimetype": "text/x-python",
   "name": "python",
   "nbconvert_exporter": "python",
   "pygments_lexer": "ipython2",
   "version": "2.7.13"
  }
 },
 "nbformat": 4,
 "nbformat_minor": 2
}
