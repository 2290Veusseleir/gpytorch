{
 "cells": [
  {
   "cell_type": "code",
   "execution_count": 1,
   "metadata": {},
   "outputs": [],
   "source": [
    "import math\n",
    "import torch\n",
    "import gpytorch\n",
    "import pyro\n",
    "from matplotlib import pyplot as plt\n",
    "\n",
    "%matplotlib inline"
   ]
  },
  {
   "cell_type": "code",
   "execution_count": 2,
   "metadata": {},
   "outputs": [],
   "source": [
    "train_x = torch.linspace(0, 1, 100)\n",
    "train_y = torch.sign(torch.cos(train_x * (4 * math.pi)))\n",
    "#train_y[train_y == -1] = 0"
   ]
  },
  {
   "cell_type": "code",
   "execution_count": 3,
   "metadata": {},
   "outputs": [],
   "source": [
    "from gpytorch.variational import CholeskyVariationalDistribution, VariationalStrategy\n",
    "from gpytorch.models import PyroVariationalGP\n",
    "\n",
    "class PyroGPClassificationModel(PyroVariationalGP):\n",
    "    def __init__(self, likelihood, inducing_points):\n",
    "        variational_distribution = CholeskyVariationalDistribution(inducing_points.size(0))\n",
    "        variational_strategy = VariationalStrategy(self, inducing_points, variational_distribution)\n",
    "        super(PyroGPClassificationModel, self).__init__(variational_strategy, likelihood, name_prefix=\"basic_gp_test\")\n",
    "        self.mean_module = gpytorch.means.ConstantMean()\n",
    "        self.covar_module = gpytorch.kernels.ScaleKernel(gpytorch.kernels.RBFKernel())\n",
    "\n",
    "    def forward(self, x):\n",
    "        mean_x = self.mean_module(x)\n",
    "        covar_x = self.covar_module(x).add_jitter(1e-2)\n",
    "        latent_pred = gpytorch.distributions.MultivariateNormal(mean_x, covar_x)\n",
    "        return latent_pred\n",
    "\n",
    "# Initialize model and likelihood\n",
    "likelihood = gpytorch.likelihoods.BernoulliLikelihood()\n",
    "model = PyroGPClassificationModel(likelihood, train_x)"
   ]
  },
  {
   "cell_type": "code",
   "execution_count": 4,
   "metadata": {},
   "outputs": [],
   "source": [
    "from pyro import optim\n",
    "from pyro import infer\n",
    "\n",
    "optimizer = optim.Adam({\"lr\": 0.1})\n",
    "\n",
    "elbo = infer.Trace_ELBO(num_particles=200, vectorize_particles=True)\n",
    "svi = infer.SVI(model.model, model.guide, optimizer, elbo)"
   ]
  },
  {
   "cell_type": "code",
   "execution_count": 12,
   "metadata": {},
   "outputs": [
    {
     "name": "stdout",
     "output_type": "stream",
     "text": [
      "Iteration 0, Loss = -435.6126318359375\n",
      "Iteration 1, Loss = -460.4348583984375\n",
      "Iteration 2, Loss = -470.08318359375\n",
      "Iteration 3, Loss = -474.8051611328125\n",
      "Iteration 4, Loss = -487.5352783203125\n",
      "Iteration 5, Loss = -503.1960693359375\n",
      "Iteration 6, Loss = -498.6556787109375\n",
      "Iteration 7, Loss = -516.727001953125\n",
      "Iteration 8, Loss = -526.4109716796875\n",
      "Iteration 9, Loss = -541.4094091796875\n",
      "Iteration 10, Loss = -534.1502392578125\n",
      "Iteration 11, Loss = -558.5402392578125\n",
      "Iteration 12, Loss = -554.9213427734375\n",
      "Iteration 13, Loss = -557.9631298828125\n",
      "Iteration 14, Loss = -565.712548828125\n",
      "Iteration 15, Loss = -578.84255859375\n",
      "Iteration 16, Loss = -567.311953125\n",
      "Iteration 17, Loss = -605.2130078125\n",
      "Iteration 18, Loss = -595.8530322265625\n",
      "Iteration 19, Loss = -602.2506591796875\n",
      "Iteration 20, Loss = -617.2341162109375\n",
      "Iteration 21, Loss = -608.32912109375\n",
      "Iteration 22, Loss = -625.375771484375\n",
      "Iteration 23, Loss = -640.04107421875\n",
      "Iteration 24, Loss = -625.225771484375\n",
      "Iteration 25, Loss = -638.66470703125\n",
      "Iteration 26, Loss = -651.9098583984374\n",
      "Iteration 27, Loss = -650.094140625\n",
      "Iteration 28, Loss = -661.6891796875\n",
      "Iteration 29, Loss = -652.3317822265625\n",
      "Iteration 30, Loss = -653.499501953125\n",
      "Iteration 31, Loss = -654.40220703125\n",
      "Iteration 32, Loss = -663.8157470703125\n",
      "Iteration 33, Loss = -664.4415625\n",
      "Iteration 34, Loss = -671.869541015625\n",
      "Iteration 35, Loss = -680.3370654296875\n",
      "Iteration 36, Loss = -687.21361328125\n",
      "Iteration 37, Loss = -691.6178076171875\n",
      "Iteration 38, Loss = -683.684970703125\n",
      "Iteration 39, Loss = -685.291318359375\n",
      "Iteration 40, Loss = -693.5086474609375\n",
      "Iteration 41, Loss = -694.130595703125\n",
      "Iteration 42, Loss = -687.531279296875\n",
      "Iteration 43, Loss = -699.9394921875\n",
      "Iteration 44, Loss = -690.3088330078125\n",
      "Iteration 45, Loss = -682.7106982421875\n",
      "Iteration 46, Loss = -694.695712890625\n",
      "Iteration 47, Loss = -709.2980908203125\n",
      "Iteration 48, Loss = -686.3404345703125\n",
      "Iteration 49, Loss = -681.5968359375\n",
      "Iteration 50, Loss = -683.1509814453125\n",
      "Iteration 51, Loss = -692.38857421875\n",
      "Iteration 52, Loss = -696.12703125\n",
      "Iteration 53, Loss = -707.781337890625\n",
      "Iteration 54, Loss = -694.89404296875\n",
      "Iteration 55, Loss = -681.936279296875\n",
      "Iteration 56, Loss = -683.8315185546875\n",
      "Iteration 57, Loss = -691.0890771484375\n",
      "Iteration 58, Loss = -698.8783642578124\n",
      "Iteration 59, Loss = -690.7273193359375\n",
      "Iteration 60, Loss = -700.5856640625\n",
      "Iteration 61, Loss = -688.9987451171875\n",
      "Iteration 62, Loss = -695.7872265625\n",
      "Iteration 63, Loss = -708.6285400390625\n",
      "Iteration 64, Loss = -708.5048974609375\n",
      "Iteration 65, Loss = -712.63189453125\n",
      "Iteration 66, Loss = -719.2545556640625\n",
      "Iteration 67, Loss = -704.0013720703125\n",
      "Iteration 68, Loss = -712.61986328125\n",
      "Iteration 69, Loss = -705.249755859375\n",
      "Iteration 70, Loss = -705.9375927734375\n",
      "Iteration 71, Loss = -700.9673193359375\n",
      "Iteration 72, Loss = -719.1745166015625\n",
      "Iteration 73, Loss = -699.0757861328125\n",
      "Iteration 74, Loss = -712.97845703125\n",
      "Iteration 75, Loss = -702.780556640625\n",
      "Iteration 76, Loss = -708.5558349609375\n",
      "Iteration 77, Loss = -701.903505859375\n",
      "Iteration 78, Loss = -701.877431640625\n",
      "Iteration 79, Loss = -695.238720703125\n",
      "Iteration 80, Loss = -685.503330078125\n",
      "Iteration 81, Loss = -702.370009765625\n",
      "Iteration 82, Loss = -711.789697265625\n",
      "Iteration 83, Loss = -706.5208984375\n",
      "Iteration 84, Loss = -712.412587890625\n",
      "Iteration 85, Loss = -710.56685546875\n",
      "Iteration 86, Loss = -713.126796875\n",
      "Iteration 87, Loss = -704.75724609375\n",
      "Iteration 88, Loss = -722.433408203125\n",
      "Iteration 89, Loss = -733.96279296875\n",
      "Iteration 90, Loss = -732.6619140625\n",
      "Iteration 91, Loss = -725.8741015625\n",
      "Iteration 92, Loss = -725.546953125\n",
      "Iteration 93, Loss = -723.870107421875\n",
      "Iteration 94, Loss = -722.75939453125\n",
      "Iteration 95, Loss = -721.657900390625\n",
      "Iteration 96, Loss = -716.69060546875\n",
      "Iteration 97, Loss = -714.91234375\n",
      "Iteration 98, Loss = -698.82611328125\n",
      "Iteration 99, Loss = -696.871630859375\n"
     ]
    }
   ],
   "source": [
    "num_epochs = 200\n",
    "\n",
    "for i in range(num_epochs):\n",
    "        loss = svi.step(train_x, train_y)\n",
    "        print('Iteration {}, Loss = {}'.format(i, loss))"
   ]
  },
  {
   "cell_type": "code",
   "execution_count": 13,
   "metadata": {},
   "outputs": [
    {
     "name": "stderr",
     "output_type": "stream",
     "text": [
      "/mnt/c/Users/Gardn/linux/gpytorch/gpytorch/utils/sparse.py:101: UserWarning: To copy construct from a tensor, it is recommended to use sourceTensor.clone().detach() or sourceTensor.clone().detach().requires_grad_(True), rather than torch.tensor(sourceTensor).\n",
      "  device=sparse._values().device,\n"
     ]
    }
   ],
   "source": [
    "model.eval()\n",
    "test_x = torch.linspace(0, 1, 30)\n",
    "pred_dist = model(test_x)"
   ]
  },
  {
   "cell_type": "code",
   "execution_count": 14,
   "metadata": {},
   "outputs": [],
   "source": [
    "pred_y = likelihood(pred_dist)"
   ]
  },
  {
   "cell_type": "code",
   "execution_count": 15,
   "metadata": {},
   "outputs": [
    {
     "data": {
      "text/plain": [
       "<matplotlib.legend.Legend at 0x7fee31136240>"
      ]
     },
     "execution_count": 15,
     "metadata": {},
     "output_type": "execute_result"
    },
    {
     "data": {
      "image/png": "[encoded data removed]",
      "text/plain": [
       "<Figure size 288x216 with 1 Axes>"
      ]
     },
     "metadata": {},
     "output_type": "display_data"
    }
   ],
   "source": [
    "# Initialize fig and axes for plot\n",
    "f, ax = plt.subplots(1, 1, figsize=(4, 3))\n",
    "ax.plot(train_x.numpy(), train_y.numpy(), 'k*')\n",
    "# Get the predicted labels (probabilites of belonging to the positive class)\n",
    "# Transform these probabilities to be 0/1 labels\n",
    "pred_labels = pred_y.mean.ge(0.5).float().mul(2).sub(1)\n",
    "ax.plot(test_x.numpy(), pred_labels.numpy(), 'b')\n",
    "ax.set_ylim([-3, 3])\n",
    "ax.legend(['Observed Data', 'Mean', 'Confidence'])"
   ]
  },
  {
   "cell_type": "code",
   "execution_count": null,
   "metadata": {},
   "outputs": [],
   "source": []
  }
 ],
 "metadata": {
  "anaconda-cloud": {},
  "kernelspec": {
   "display_name": "Python 3",
   "language": "python",
   "name": "python3"
  },
  "language_info": {
   "codemirror_mode": {
    "name": "ipython",
    "version": 3
   },
   "file_extension": ".py",
   "mimetype": "text/x-python",
   "name": "python",
   "nbconvert_exporter": "python",
   "pygments_lexer": "ipython3",
   "version": "3.6.5"
  }
 },
 "nbformat": 4,
 "nbformat_minor": 1
}
