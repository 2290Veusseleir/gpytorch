{
 "cells": [
  {
   "cell_type": "markdown",
   "metadata": {},
   "source": [
    "# Variational GP Regression with Pyro"
   ]
  },
  {
   "cell_type": "code",
   "execution_count": 1,
   "metadata": {},
   "outputs": [
    {
     "name": "stderr",
     "output_type": "stream",
     "text": [
      "/home/gpleiss/anaconda3/envs/gpytorch/lib/python3.7/site-packages/matplotlib/__init__.py:999: UserWarning: Duplicate key in file \"/home/gpleiss/.dotfiles/matplotlib/matplotlibrc\", line #57\n",
      "  (fname, cnt))\n"
     ]
    }
   ],
   "source": [
    "import math\n",
    "import torch\n",
    "import pyro\n",
    "import gpytorch\n",
    "from matplotlib import pyplot as plt\n",
    "\n",
    "%matplotlib inline\n",
    "%load_ext autoreload\n",
    "%autoreload 2"
   ]
  },
  {
   "cell_type": "code",
   "execution_count": 2,
   "metadata": {},
   "outputs": [
    {
     "data": {
      "text/plain": [
       "<matplotlib.legend.Legend at 0x7f8f7fc250f0>"
      ]
     },
     "execution_count": 2,
     "metadata": {},
     "output_type": "execute_result"
    },
    {
     "data": {
      "image/png": "[encoded data removed]",
      "text/plain": [
       "<Figure size 216x144 with 1 Axes>"
      ]
     },
     "metadata": {
      "needs_background": "light"
     },
     "output_type": "display_data"
    }
   ],
   "source": [
    "train_x = torch.linspace(0., 1., 21)\n",
    "train_y = torch.pow(train_x, 2).mul_(3.7)\n",
    "train_y = train_y.div_(train_y.max())\n",
    "train_y += torch.randn_like(train_y).mul_(0.02)\n",
    "\n",
    "fig, ax = plt.subplots(1, 1, figsize=(3, 2))\n",
    "ax.plot(train_x.numpy(), train_y.numpy(), 'bo')\n",
    "ax.set_xlabel('x')\n",
    "ax.set_ylabel('y')\n",
    "ax.legend(['Training data'])"
   ]
  },
  {
   "cell_type": "code",
   "execution_count": 3,
   "metadata": {},
   "outputs": [],
   "source": [
    "class PVGPRegressionModel(gpytorch.models.PyroVariationalGP):\n",
    "    def __init__(self, train_x, train_y, likelihood, name_prefix=\"mixture_gp\"):\n",
    "        # Define all the variational stuff\n",
    "        variational_distribution = gpytorch.variational.CholeskyVariationalDistribution(\n",
    "            num_inducing_points=train_y.numel(),\n",
    "        )\n",
    "        variational_strategy = gpytorch.variational.VariationalStrategy(\n",
    "            self, train_x, variational_distribution\n",
    "        )\n",
    "        \n",
    "        # Standard initializtation\n",
    "        super(PVGPRegressionModel, self).__init__(variational_strategy, likelihood, num_data=train_y.numel())\n",
    "        self.likelihood = likelihood\n",
    "        \n",
    "        # Mean, covar\n",
    "        self.mean_module = gpytorch.means.ConstantMean()\n",
    "        self.covar_module = gpytorch.kernels.ScaleKernel(\n",
    "            gpytorch.kernels.MaternKernel(nu=1.5)\n",
    "        )\n",
    "\n",
    "    def forward(self, x):\n",
    "        mean = self.mean_module(x)  # Returns an n_data vec\n",
    "        covar = self.covar_module(x)\n",
    "        return gpytorch.distributions.MultivariateNormal(mean, covar)"
   ]
  },
  {
   "cell_type": "code",
   "execution_count": 4,
   "metadata": {},
   "outputs": [],
   "source": [
    "model = PVGPRegressionModel(train_x, train_y, gpytorch.likelihoods.GaussianLikelihood())"
   ]
  },
  {
   "cell_type": "code",
   "execution_count": 5,
   "metadata": {},
   "outputs": [
    {
     "name": "stdout",
     "output_type": "stream",
     "text": [
      "Iter 50/400 - Loss: 26.642   log_lengthscale: -0.094   log_noise: -0.487\n",
      "Iter 100/400 - Loss: 24.870   log_lengthscale: -0.075   log_noise: -0.939\n",
      "Iter 150/400 - Loss: 20.312   log_lengthscale: -0.050   log_noise: -1.374\n",
      "Iter 200/400 - Loss: 15.215   log_lengthscale: -0.031   log_noise: -1.823\n",
      "Iter 250/400 - Loss: 7.134   log_lengthscale: 0.063   log_noise: -2.334\n",
      "Iter 300/400 - Loss: -2.270   log_lengthscale: 0.163   log_noise: -2.990\n",
      "Iter 350/400 - Loss: -11.049   log_lengthscale: 0.084   log_noise: -3.791\n",
      "Iter 400/400 - Loss: -17.507   log_lengthscale: 0.072   log_noise: -4.556\n",
      "CPU times: user 38.4 s, sys: 42.7 s, total: 1min 21s\n",
      "Wall time: 11.7 s\n"
     ]
    }
   ],
   "source": [
    "from pyro import optim\n",
    "optimizer = optim.Adam({\"lr\": 0.01})\n",
    "\n",
    "def train(num_iter=400):\n",
    "    elbo = pyro.infer.Trace_ELBO(num_particles=256, vectorize_particles=True)\n",
    "    svi = pyro.infer.SVI(model.model, model.guide, optimizer, elbo)\n",
    "    model.train()\n",
    "\n",
    "    for i in range(num_iter):\n",
    "        model.zero_grad()\n",
    "        loss = svi.step(train_x, train_y)\n",
    "        if not (i + 1) % 50:\n",
    "            print('Iter %d/%d - Loss: %.3f   log_lengthscale: %.3f   log_noise: %.3f' % (\n",
    "                i + 1, num_iter, loss,\n",
    "                model.covar_module.base_kernel.log_lengthscale.item(),\n",
    "                model.likelihood.log_noise.item()\n",
    "            ))\n",
    "        \n",
    "%time train()"
   ]
  },
  {
   "cell_type": "code",
   "execution_count": 6,
   "metadata": {},
   "outputs": [
    {
     "data": {
      "text/plain": [
       "<matplotlib.legend.Legend at 0x7f8f7c1dcc50>"
      ]
     },
     "execution_count": 6,
     "metadata": {},
     "output_type": "execute_result"
    },
    {
     "data": {
      "image/png": "[encoded data removed]",
      "text/plain": [
       "<Figure size 288x216 with 1 Axes>"
      ]
     },
     "metadata": {
      "needs_background": "light"
     },
     "output_type": "display_data"
    }
   ],
   "source": [
    "fig, ax = plt.subplots(1, 1, figsize=(4, 3))\n",
    "train_data, = ax.plot(train_x.cpu().numpy(), train_y.cpu().numpy(), 'bo')\n",
    "\n",
    "model.eval()\n",
    "with torch.no_grad():\n",
    "    output = model.likelihood(model(train_x))\n",
    "    \n",
    "mean = output.mean\n",
    "lower, upper = output.confidence_region()\n",
    "line, = ax.plot(train_x.cpu().numpy(), mean.detach().cpu().numpy())\n",
    "ax.fill_between(train_x.cpu().numpy(), lower.detach().cpu().numpy(),\n",
    "                upper.detach().cpu().numpy(), color=line.get_color(), alpha=0.5)\n",
    "ax.set_xlabel('x')\n",
    "ax.set_ylabel('y')\n",
    "ax.legend([train_data, line], ['Train data', 'Prediction'])"
   ]
  },
  {
   "cell_type": "code",
   "execution_count": null,
   "metadata": {},
   "outputs": [],
   "source": []
  }
 ],
 "metadata": {
  "kernelspec": {
   "display_name": "Python 3",
   "language": "python",
   "name": "python3"
  },
  "language_info": {
   "codemirror_mode": {
    "name": "ipython",
    "version": 3
   },
   "file_extension": ".py",
   "mimetype": "text/x-python",
   "name": "python",
   "nbconvert_exporter": "python",
   "pygments_lexer": "ipython3",
   "version": "3.7.0"
  }
 },
 "nbformat": 4,
 "nbformat_minor": 2
}
