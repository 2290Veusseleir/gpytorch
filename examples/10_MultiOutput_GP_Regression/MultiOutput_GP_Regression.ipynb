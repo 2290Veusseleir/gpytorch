{
 "cells": [
  {
   "cell_type": "markdown",
   "metadata": {},
   "source": [
    "# Multi-Output GP Regression\n",
    "\n",
    "## Introduction\n",
    "\n",
    "This notebook demonstrates how to wrap independent GP models into a convenient Multi-Output GP model. \n",
    "\n",
    "Unlike in the Multitask case, this do not model correlations between outcomes, but treats outcomes independently. This is equivalent to setting up a separate GP for each outcome, but can be much more convenient to handle, in particular it does not require manually looping over models when fitting or predicting."
   ]
  },
  {
   "cell_type": "code",
   "execution_count": 1,
   "metadata": {},
   "outputs": [],
   "source": [
    "import math\n",
    "import torch\n",
    "import gpytorch\n",
    "from matplotlib import pyplot as plt\n",
    "\n",
    "%matplotlib inline\n",
    "%load_ext autoreload\n",
    "%autoreload 2"
   ]
  },
  {
   "cell_type": "markdown",
   "metadata": {},
   "source": [
    "### Set up training data\n",
    "\n",
    "In the next cell, we set up the training data for this example. We'll be using a different number of training examples for the different GPs."
   ]
  },
  {
   "cell_type": "code",
   "execution_count": 26,
   "metadata": {},
   "outputs": [],
   "source": [
    "train_x1 = torch.linspace(0, 0.95, 50) + 0.05 * torch.rand(50)\n",
    "train_x2 = torch.linspace(0, 0.95, 25) + 0.05 * torch.rand(25)\n",
    "\n",
    "train_y1 = torch.sin(train_x1 * (2 * math.pi)) + 0.2 * torch.randn_like(train_x1)\n",
    "train_y2 = torch.cos(train_x2 * (2 * math.pi)) + 0.2 * torch.randn_like(train_x2)"
   ]
  },
  {
   "cell_type": "markdown",
   "metadata": {},
   "source": [
    "## Set up the sub-models\n",
    "\n",
    "Each individual model uses the `ExactGP` model from the [simple regression example](../01_Simple_GP_Regression/Simple_GP_Regression.ipynb)."
   ]
  },
  {
   "cell_type": "code",
   "execution_count": 27,
   "metadata": {},
   "outputs": [],
   "source": [
    "class ExactGPModel(gpytorch.models.ExactGP):\n",
    "    def __init__(self, train_x, train_y, likelihood):\n",
    "        super().__init__(train_x, train_y, likelihood)\n",
    "        self.mean_module = gpytorch.means.ConstantMean()\n",
    "        self.covar_module = gpytorch.kernels.ScaleKernel(gpytorch.kernels.RBFKernel())\n",
    "    \n",
    "    def forward(self, x):\n",
    "        mean_x = self.mean_module(x)\n",
    "        covar_x = self.covar_module(x)\n",
    "        return gpytorch.distributions.MultivariateNormal(mean_x, covar_x)\n",
    "    \n",
    "\n",
    "likelihood1 = gpytorch.likelihoods.GaussianLikelihood()\n",
    "model1 = ExactGPModel(train_x1, train_y1, likelihood1)\n",
    "\n",
    "likelihood2 = gpytorch.likelihoods.GaussianLikelihood()\n",
    "model2 = ExactGPModel(train_x2, train_y2, likelihood2)"
   ]
  },
  {
   "cell_type": "markdown",
   "metadata": {},
   "source": [
    "We now collect the submodels in an `IndependentMultiOutputGP`, and the respective likelihoods in a `MultiOutputLikelihood`. These are container modules that make it easy to work with multiple outputs. In particular, they will take in and return lists of inputs / outputs and delegate the data to / from the appropriate sub-model (it is important that the order of the inputs / outputs corresponds to the order of models with which the containers were instantiated)."
   ]
  },
  {
   "cell_type": "code",
   "execution_count": 28,
   "metadata": {},
   "outputs": [],
   "source": [
    "model = gpytorch.models.IndependentMultiOutputGP(model1, model2)\n",
    "likelihood = gpytorch.likelihoods.MultiOutputLikelihood(model1.likelihood, model2.likelihood)"
   ]
  },
  {
   "cell_type": "markdown",
   "metadata": {},
   "source": [
    "### Set up overall Marginal Log Likelihood\n",
    "\n",
    "Assuming independence, the MLL for the container model is simply the sum of the MLLs for the individual models. `SumMarginalLogLikelihood` is a convenient container for this (by default it uses an `ExactMarginalLogLikelihood` for each submodel)"
   ]
  },
  {
   "cell_type": "code",
   "execution_count": 29,
   "metadata": {
    "collapsed": true
   },
   "outputs": [],
   "source": [
    "from gpytorch.mlls import SumMarginalLogLikelihood\n",
    "\n",
    "mll = SumMarginalLogLikelihood(likelihood, model)"
   ]
  },
  {
   "cell_type": "markdown",
   "metadata": {},
   "source": [
    "## Train the model hyperparameters\n",
    "\n",
    "With the containers in place, the models can be trained in a single loop on the container (note that this means that optimization is performed jointly, which can be an issue if the individual submodels require training via very different step sizes)."
   ]
  },
  {
   "cell_type": "code",
   "execution_count": 30,
   "metadata": {
    "scrolled": false
   },
   "outputs": [
    {
     "name": "stdout",
     "output_type": "stream",
     "text": [
      "Iter 1/50 - Loss: 1.082\n",
      "Iter 2/50 - Loss: 1.048\n",
      "Iter 3/50 - Loss: 1.011\n",
      "Iter 4/50 - Loss: 0.968\n",
      "Iter 5/50 - Loss: 0.921\n",
      "Iter 6/50 - Loss: 0.870\n",
      "Iter 7/50 - Loss: 0.818\n",
      "Iter 8/50 - Loss: 0.767\n",
      "Iter 9/50 - Loss: 0.718\n",
      "Iter 10/50 - Loss: 0.673\n",
      "Iter 11/50 - Loss: 0.633\n",
      "Iter 12/50 - Loss: 0.597\n",
      "Iter 13/50 - Loss: 0.567\n",
      "Iter 14/50 - Loss: 0.536\n",
      "Iter 15/50 - Loss: 0.506\n",
      "Iter 16/50 - Loss: 0.477\n",
      "Iter 17/50 - Loss: 0.446\n",
      "Iter 18/50 - Loss: 0.413\n",
      "Iter 19/50 - Loss: 0.396\n",
      "Iter 20/50 - Loss: 0.355\n",
      "Iter 21/50 - Loss: 0.315\n",
      "Iter 22/50 - Loss: 0.286\n",
      "Iter 23/50 - Loss: 0.250\n",
      "Iter 24/50 - Loss: 0.217\n",
      "Iter 25/50 - Loss: 0.194\n",
      "Iter 26/50 - Loss: 0.165\n",
      "Iter 27/50 - Loss: 0.143\n",
      "Iter 28/50 - Loss: 0.124\n",
      "Iter 29/50 - Loss: 0.114\n",
      "Iter 30/50 - Loss: 0.100\n",
      "Iter 31/50 - Loss: 0.094\n",
      "Iter 32/50 - Loss: 0.082\n",
      "Iter 33/50 - Loss: 0.075\n",
      "Iter 34/50 - Loss: 0.067\n",
      "Iter 35/50 - Loss: 0.066\n",
      "Iter 36/50 - Loss: 0.065\n",
      "Iter 37/50 - Loss: 0.063\n",
      "Iter 38/50 - Loss: 0.067\n",
      "Iter 39/50 - Loss: 0.065\n",
      "Iter 40/50 - Loss: 0.064\n",
      "Iter 41/50 - Loss: 0.068\n",
      "Iter 42/50 - Loss: 0.067\n",
      "Iter 43/50 - Loss: 0.078\n",
      "Iter 44/50 - Loss: 0.069\n",
      "Iter 45/50 - Loss: 0.069\n",
      "Iter 46/50 - Loss: 0.072\n",
      "Iter 47/50 - Loss: 0.076\n",
      "Iter 48/50 - Loss: 0.074\n",
      "Iter 49/50 - Loss: 0.064\n",
      "Iter 50/50 - Loss: 0.073\n"
     ]
    }
   ],
   "source": [
    "# Find optimal model hyperparameters\n",
    "model.train()\n",
    "likelihood.train()\n",
    "\n",
    "# Use the Adam optimizer\n",
    "optimizer = torch.optim.Adam([\n",
    "    {'params': model.parameters()},  # Includes all submodel and all likelihood parameters\n",
    "], lr=0.1)\n",
    "\n",
    "n_iter = 50\n",
    "for i in range(n_iter):\n",
    "    optimizer.zero_grad()\n",
    "    output = model(*model.train_inputs)\n",
    "    loss = -mll(output, model.train_targets)\n",
    "    loss.backward()\n",
    "    print('Iter %d/%d - Loss: %.3f' % (i + 1, n_iter, loss.item()))\n",
    "    optimizer.step()"
   ]
  },
  {
   "cell_type": "markdown",
   "metadata": {},
   "source": [
    "## Make predictions with the model"
   ]
  },
  {
   "cell_type": "code",
   "execution_count": 32,
   "metadata": {},
   "outputs": [
    {
     "data": {
      "image/png": "iVBORw0KGgoAAAANSUhEUgAAAd4AAADSCAYAAADkK6EMAAAABHNCSVQICAgIfAhkiAAAAAlwSFlz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\nCB39P5D/zDDiOhehAAAAAElFTkSuQmCC\n",
      "text/plain": [
       "<Figure size 576x216 with 2 Axes>"
      ]
     },
     "metadata": {
      "bento_obj_id": "140635018033248"
     },
     "output_type": "display_data"
    }
   ],
   "source": [
    "# Set into eval mode\n",
    "model.eval()\n",
    "likelihood.eval()\n",
    "\n",
    "# Initialize plots\n",
    "f, axs = plt.subplots(1, 2, figsize=(8, 3))\n",
    "\n",
    "# Make predictions (use the same test points)\n",
    "with torch.no_grad(), gpytorch.settings.fast_pred_var():\n",
    "    test_x = torch.linspace(0, 1, 51)\n",
    "    # This contains predictions for both outcomes as a list\n",
    "    predictions = likelihood(*model(test_x, test_x))\n",
    "    \n",
    "for submodel, prediction, ax in zip(model.models, predictions, axs):\n",
    "    mean = prediction.mean\n",
    "    lower, upper = prediction.confidence_region()\n",
    "    \n",
    "    tr_x = submodel.train_inputs[0].detach().numpy()\n",
    "    tr_y = submodel.train_targets.detach().numpy()\n",
    "    \n",
    "    # Plot training data as black stars\n",
    "    ax.plot(tr_x, tr_y, 'k*')\n",
    "    # Predictive mean as blue line\n",
    "    ax.plot(test_x.numpy(), mean.numpy(), 'b')\n",
    "    # Shade in confidence \n",
    "    ax.fill_between(test_x.numpy(), lower.detach().numpy(), upper.detach().numpy(), alpha=0.5)\n",
    "    ax.set_ylim([-3, 3])\n",
    "    ax.legend(['Observed Data', 'Mean', 'Confidence'])\n",
    "    ax.set_title('Observed Values (Likelihood)')\n",
    "\n",
    "None"
   ]
  }
 ],
 "metadata": {
  "anaconda-cloud": {},
  "kernelspec": {
   "language": "python",
  },
  "language_info": {
   "codemirror_mode": {
    "name": "ipython",
    "version": 3
   },
   "file_extension": ".py",
   "mimetype": "text/x-python",
   "name": "python",
   "nbconvert_exporter": "python",
   "pygments_lexer": "ipython3",
   "version": "3.6.3rc1+"
  }
 },
 "nbformat": 4,
 "nbformat_minor": 1
}
