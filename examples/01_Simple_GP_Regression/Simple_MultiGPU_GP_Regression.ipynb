{
 "cells": [
  {
   "cell_type": "markdown",
   "metadata": {},
   "source": [
    "# Exact GP Regression with Multiple GPUs and Kernel Partitioning"
   ]
  },
  {
   "cell_type": "code",
   "execution_count": 1,
   "metadata": {
    "scrolled": true
   },
   "outputs": [],
   "source": [
    "import math\n",
    "import torch\n",
    "import gpytorch\n",
    "from matplotlib import pyplot as plt\n",
    "\n",
    "%matplotlib inline\n",
    "%load_ext autoreload\n",
    "%autoreload 2"
   ]
  },
  {
   "cell_type": "markdown",
   "metadata": {},
   "source": [
    "## Protein dataset\n",
    "We will be using the Protein UCI dataset which contains a total of 40000+ data points."
   ]
  },
  {
   "cell_type": "code",
   "execution_count": 2,
   "metadata": {},
   "outputs": [],
   "source": [
    "import os\n",
    "import urllib.request\n",
    "from scipy.io import loadmat\n",
    "dataset = 'protein'\n",
    "if not os.path.isfile(f'{dataset}.mat'):\n",
    "    print(f'Downloading \\'{dataset}\\' UCI dataset...')\n",
    "    urllib.request.urlretrieve('https://drive.google.com/uc?export=download&id=1nRb8e7qooozXkNghC5eQS0JeywSXGX2S',\n",
    "                               f'{dataset}.mat')\n",
    "    \n",
    "data = torch.Tensor(loadmat(f'{dataset}.mat')['data'])"
   ]
  },
  {
   "cell_type": "code",
   "execution_count": 3,
   "metadata": {},
   "outputs": [],
   "source": [
    "import numpy as np\n",
    "\n",
    "N = data.shape[0]\n",
    "# make train/val/test\n",
    "n_train = int(0.8 * N)\n",
    "train_x, train_y = data[:n_train, :-1], data[:n_train, -1]\n",
    "test_x, test_y = data[n_train:, :-1], data[n_train:, -1]\n",
    "\n",
    "# normalize features\n",
    "mean = train_x.mean(dim=-2, keepdim=True)\n",
    "std = train_x.std(dim=-2, keepdim=True) + 1e-6 # prevent dividing by 0\n",
    "train_x = (train_x - mean) / std\n",
    "test_x = (test_x - mean) / std\n",
    "\n",
    "# normalize labels\n",
    "mean, std = train_y.mean(),train_y.std()\n",
    "train_y = (train_y - mean) / std\n",
    "test_y = (test_y - mean) / std\n",
    "\n",
    "# make continguous\n",
    "train_x, train_y = train_x.contiguous(), train_y.contiguous()\n",
    "test_x, test_y = test_x.contiguous(), test_y.contiguous()"
   ]
  },
  {
   "cell_type": "markdown",
   "metadata": {},
   "source": [
    "The following function will find the approximately largest kernel partition size that will allow an exact GP to be trained on the dataset using the specified number of GPUs."
   ]
  },
  {
   "cell_type": "code",
   "execution_count": 4,
   "metadata": {},
   "outputs": [],
   "source": [
    "import gc\n",
    "\n",
    "def find_best_gpu_setting(train_x,\n",
    "                          train_y,\n",
    "                          n_devices,\n",
    "                          output_device,\n",
    "                          preconditioner_size\n",
    "):\n",
    "    N = train_x.size(0)\n",
    "    \n",
    "    # Find the optimum partition/checkpoint size by decreasing in powers of 2\n",
    "    # Start with no partitioning (size = 0)\n",
    "    settings = [0] + [int(n) for n in np.ceil(N / 2**np.arange(1, np.floor(np.log2(N))))]\n",
    "\n",
    "    for checkpoint_size in settings:\n",
    "        print(f'Number of devices: {n_devices} -- Kernel partition size: {checkpoint_size}')\n",
    "        try:\n",
    "            # Try a full forward and backward pass with this setting to check memory usage\n",
    "            _, _ = train(train_x, train_y,\n",
    "                         n_devices=n_devices, output_device=output_device,\n",
    "                         checkpoint_size=checkpoint_size,\n",
    "                         preconditioner_size=preconditioner_size, n_training_iter=1)\n",
    "            \n",
    "            # when successful, break out of for-loop and jump to finally block\n",
    "            break\n",
    "        except RuntimeError as e:\n",
    "            print(f'RuntimeError: {e}')\n",
    "        except AttributeError as e:\n",
    "            print(f'AttributeError: {e}')\n",
    "        finally:\n",
    "            # handle CUDA OOM error\n",
    "            gc.collect()\n",
    "            torch.cuda.empty_cache()\n",
    "    return checkpoint_size"
   ]
  },
  {
   "cell_type": "code",
   "execution_count": 5,
   "metadata": {},
   "outputs": [],
   "source": [
    "# We will use the simplest form of GP model with an exact kernel\n",
    "class ExactGPModel(gpytorch.models.ExactGP):\n",
    "    def __init__(self, train_x, train_y, likelihood):\n",
    "        super(ExactGPModel, self).__init__(train_x, train_y, likelihood)\n",
    "        self.mean_module = gpytorch.means.ConstantMean()\n",
    "        base_covar_module = gpytorch.kernels.ScaleKernel(gpytorch.kernels.RBFKernel())\n",
    "        \n",
    "        self.covar_module = gpytorch.kernels.MultiDeviceKernel(\n",
    "            base_covar_module, device_ids=range(torch.cuda.device_count()),\n",
    "            output_device=output_device\n",
    "        )\n",
    "    \n",
    "    def forward(self, x):\n",
    "        mean_x = self.mean_module(x)\n",
    "        covar_x = self.covar_module(x)\n",
    "        return gpytorch.distributions.MultivariateNormal(mean_x, covar_x)"
   ]
  },
  {
   "cell_type": "code",
   "execution_count": 6,
   "metadata": {},
   "outputs": [],
   "source": [
    "def train(train_x,\n",
    "          train_y,\n",
    "          n_devices,\n",
    "          output_device,\n",
    "          checkpoint_size,\n",
    "          preconditioner_size,\n",
    "          n_training_iter,\n",
    "):\n",
    "    likelihood = gpytorch.likelihoods.GaussianLikelihood().to(output_device)\n",
    "    model = ExactGPModel(train_x, train_y, likelihood).to(output_device)\n",
    "    model.train()\n",
    "    likelihood.train()\n",
    "\n",
    "    optimizer = torch.optim.Adam([{'params': model.parameters()}], lr=0.1)\n",
    "    \n",
    "    # \"Loss\" for GPs - the marginal log likelihood\n",
    "    mll = gpytorch.mlls.ExactMarginalLogLikelihood(likelihood, model)\n",
    "\n",
    "    for i in range(n_training_iter):\n",
    "        optimizer.zero_grad()\n",
    " \n",
    "        with gpytorch.beta_features.checkpoint_kernel(checkpoint_size), \\\n",
    "             gpytorch.settings.max_preconditioner_size(preconditioner_size):\n",
    "\n",
    "            output = model(train_x)\n",
    "            loss = -mll(output, train_y)\n",
    "            loss.backward()\n",
    "\n",
    "        print('Iter %d/%d - Loss: %.3f   lengthscale: %.3f   noise: %.3f' % (\n",
    "            i + 1, n_training_iter, loss.item(),\n",
    "            model.covar_module.module.base_kernel.lengthscale.item(),\n",
    "            model.likelihood.noise.item()\n",
    "        ))\n",
    "        optimizer.step()\n",
    "    \n",
    "    print(f\"Finished training on {train_x.size(0)} data points using {n_devices} GPUs.\")\n",
    "    return model, likelihood"
   ]
  },
  {
   "cell_type": "code",
   "execution_count": 7,
   "metadata": {},
   "outputs": [],
   "source": [
    "output_device = torch.device('cuda:0')\n",
    "\n",
    "train_x, train_y = train_x.to(output_device), train_y.to(output_device)\n",
    "test_x, test_y = test_x.to(output_device), test_y.to(output_device)"
   ]
  },
  {
   "cell_type": "code",
   "execution_count": 8,
   "metadata": {},
   "outputs": [
    {
     "name": "stdout",
     "output_type": "stream",
     "text": [
      "Number of devices: 1 -- Kernel partition size: 0\n",
      "RuntimeError: CUDA out of memory. Tried to allocate 4.99 GiB (GPU 0; 10.91 GiB total capacity; 4.99 GiB already allocated; 4.76 GiB free; 233.00 KiB cached)\n",
      "Number of devices: 1 -- Kernel partition size: 18292\n",
      "RuntimeError: CUDA out of memory. Tried to allocate 2.49 GiB (GPU 0; 10.91 GiB total capacity; 7.49 GiB already allocated; 2.22 GiB free; 410.50 KiB cached)\n",
      "Number of devices: 1 -- Kernel partition size: 9146\n",
      "Iter 1/1 - Loss: 1.070   lengthscale: 0.693   noise: 0.693\n",
      "Finished training on 36584 data points using 1 GPUs.\n"
     ]
    }
   ],
   "source": [
    "n_devices = torch.cuda.device_count()\n",
    "# Set a large enough preconditioner size to reduce the number of CG iterations run\n",
    "preconditioner_size = 100\n",
    "checkpoint_size = find_best_gpu_setting(train_x, train_y,\n",
    "                                        n_devices=n_devices, \n",
    "                                        output_device=output_device,\n",
    "                                        preconditioner_size=preconditioner_size)"
   ]
  },
  {
   "cell_type": "markdown",
   "metadata": {},
   "source": [
    "# Now we train"
   ]
  },
  {
   "cell_type": "code",
   "execution_count": 9,
   "metadata": {},
   "outputs": [
    {
     "name": "stdout",
     "output_type": "stream",
     "text": [
      "Iter 1/50 - Loss: 1.069   lengthscale: 0.693   noise: 0.693\n",
      "Iter 2/50 - Loss: 1.052   lengthscale: 0.644   noise: 0.644\n",
      "Iter 3/50 - Loss: 1.033   lengthscale: 0.599   noise: 0.598\n",
      "Iter 4/50 - Loss: 1.017   lengthscale: 0.555   noise: 0.554\n",
      "Iter 5/50 - Loss: 1.000   lengthscale: 0.516   noise: 0.513\n",
      "Iter 6/50 - Loss: 0.986   lengthscale: 0.482   noise: 0.474\n",
      "Iter 7/50 - Loss: 0.973   lengthscale: 0.453   noise: 0.438\n",
      "Iter 8/50 - Loss: 0.957   lengthscale: 0.431   noise: 0.404\n",
      "Iter 9/50 - Loss: 0.946   lengthscale: 0.415   noise: 0.373\n",
      "Iter 10/50 - Loss: 0.934   lengthscale: 0.404   noise: 0.344\n",
      "Iter 11/50 - Loss: 0.924   lengthscale: 0.394   noise: 0.317\n",
      "Iter 12/50 - Loss: 0.916   lengthscale: 0.384   noise: 0.292\n",
      "Iter 13/50 - Loss: 0.911   lengthscale: 0.371   noise: 0.270\n",
      "Iter 14/50 - Loss: 0.906   lengthscale: 0.354   noise: 0.250\n",
      "Iter 15/50 - Loss: 0.903   lengthscale: 0.337   noise: 0.233\n",
      "Iter 16/50 - Loss: 0.897   lengthscale: 0.319   noise: 0.217\n",
      "Iter 17/50 - Loss: 0.895   lengthscale: 0.303   noise: 0.203\n",
      "Iter 18/50 - Loss: 0.893   lengthscale: 0.290   noise: 0.190\n",
      "Iter 19/50 - Loss: 0.892   lengthscale: 0.283   noise: 0.179\n",
      "Iter 20/50 - Loss: 0.892   lengthscale: 0.280   noise: 0.168\n",
      "Iter 21/50 - Loss: 0.893   lengthscale: 0.280   noise: 0.159\n",
      "Iter 22/50 - Loss: 0.894   lengthscale: 0.280   noise: 0.152\n",
      "Iter 23/50 - Loss: 0.894   lengthscale: 0.277   noise: 0.145\n",
      "Iter 24/50 - Loss: 0.897   lengthscale: 0.272   noise: 0.139\n",
      "Iter 25/50 - Loss: 0.895   lengthscale: 0.266   noise: 0.134\n",
      "Iter 26/50 - Loss: 0.896   lengthscale: 0.260   noise: 0.130\n",
      "Iter 27/50 - Loss: 0.897   lengthscale: 0.255   noise: 0.126\n",
      "Iter 28/50 - Loss: 0.896   lengthscale: 0.251   noise: 0.122\n",
      "Iter 29/50 - Loss: 0.896   lengthscale: 0.249   noise: 0.120\n",
      "Iter 30/50 - Loss: 0.897   lengthscale: 0.247   noise: 0.117\n",
      "Iter 31/50 - Loss: 0.896   lengthscale: 0.246   noise: 0.115\n",
      "Iter 32/50 - Loss: 0.896   lengthscale: 0.244   noise: 0.113\n",
      "Iter 33/50 - Loss: 0.898   lengthscale: 0.242   noise: 0.112\n",
      "Iter 34/50 - Loss: 0.896   lengthscale: 0.238   noise: 0.111\n",
      "Iter 35/50 - Loss: 0.897   lengthscale: 0.236   noise: 0.110\n",
      "Iter 36/50 - Loss: 0.898   lengthscale: 0.235   noise: 0.109\n",
      "Iter 37/50 - Loss: 0.896   lengthscale: 0.236   noise: 0.109\n",
      "Iter 38/50 - Loss: 0.897   lengthscale: 0.238   noise: 0.108\n",
      "Iter 39/50 - Loss: 0.899   lengthscale: 0.241   noise: 0.108\n",
      "Iter 40/50 - Loss: 0.898   lengthscale: 0.242   noise: 0.108\n",
      "Iter 41/50 - Loss: 0.899   lengthscale: 0.240   noise: 0.108\n",
      "Iter 42/50 - Loss: 0.898   lengthscale: 0.238   noise: 0.108\n",
      "Iter 43/50 - Loss: 0.899   lengthscale: 0.237   noise: 0.109\n",
      "Iter 44/50 - Loss: 0.897   lengthscale: 0.238   noise: 0.109\n",
      "Iter 45/50 - Loss: 0.898   lengthscale: 0.241   noise: 0.110\n",
      "Iter 46/50 - Loss: 0.899   lengthscale: 0.243   noise: 0.110\n",
      "Iter 47/50 - Loss: 0.896   lengthscale: 0.242   noise: 0.111\n",
      "Iter 48/50 - Loss: 0.897   lengthscale: 0.241   noise: 0.112\n",
      "Iter 49/50 - Loss: 0.895   lengthscale: 0.239   noise: 0.113\n",
      "Iter 50/50 - Loss: 0.896   lengthscale: 0.240   noise: 0.114\n",
      "Finished training on 36584 data points using 1 GPUs.\n"
     ]
    }
   ],
   "source": [
    "model, likelihood = train(train_x, train_y,\n",
    "                          n_devices=n_devices, output_device=output_device,\n",
    "                          checkpoint_size=checkpoint_size,\n",
    "                          preconditioner_size=preconditioner_size,\n",
    "                          n_training_iter=50)"
   ]
  },
  {
   "cell_type": "markdown",
   "metadata": {},
   "source": [
    "# Finally we test the root-mean-square error"
   ]
  },
  {
   "cell_type": "code",
   "execution_count": 14,
   "metadata": {},
   "outputs": [],
   "source": [
    "# Get into evaluation (predictive posterior) mode\n",
    "model.eval()\n",
    "likelihood.eval()\n",
    "\n",
    "with torch.no_grad(), \\\n",
    "     gpytorch.settings.fast_pred_var(), \\\n",
    "     gpytorch.beta_features.checkpoint_kernel(checkpoint_size), \\\n",
    "     gpytorch.settings.max_preconditioner_size(preconditioner_size):\n",
    "    \n",
    "    latent_pred = model(test_x)\n",
    "    observed_pred = likelihood(latent_pred)\n",
    "    test_rmse = torch.sqrt(torch.mean(torch.pow(observed_pred.mean - test_y, 2)))"
   ]
  },
  {
   "cell_type": "code",
   "execution_count": 15,
   "metadata": {},
   "outputs": [
    {
     "name": "stdout",
     "output_type": "stream",
     "text": [
      "Test RMSE: 0.5553563237190247\n"
     ]
    }
   ],
   "source": [
    "print(f\"Test RMSE: {test_rmse.item()}\")"
   ]
  }
 ],
 "metadata": {
  "anaconda-cloud": {},
  "kernelspec": {
   "display_name": "Python 3",
   "language": "python",
   "name": "python3"
  },
  "language_info": {
   "codemirror_mode": {
    "name": "ipython",
    "version": 3
   },
   "file_extension": ".py",
   "mimetype": "text/x-python",
   "name": "python",
   "nbconvert_exporter": "python",
   "pygments_lexer": "ipython3",
   "version": "3.6.6"
  }
 },
 "nbformat": 4,
 "nbformat_minor": 2
}
