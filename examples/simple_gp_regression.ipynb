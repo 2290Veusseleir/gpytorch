{
 "cells": [
  {
   "cell_type": "code",
   "execution_count": 1,
   "metadata": {
    "collapsed": true
   },
   "outputs": [],
   "source": [
    "import math\n",
    "import torch\n",
    "import gpytorch\n",
    "from matplotlib import pyplot as plt\n",
    "\n",
    "%matplotlib inline\n",
    "%load_ext autoreload\n",
    "%autoreload 2"
   ]
  },
  {
   "cell_type": "code",
   "execution_count": 2,
   "metadata": {
    "collapsed": true
   },
   "outputs": [],
   "source": [
    "from torch.autograd import Variable\n",
    "# Training data is 11 points in [0,1] inclusive regularly spaced\n",
    "train_x = Variable(torch.linspace(0, 1, 11))\n",
    "# True function is sin(2*pi*x) with Gaussian noise N(0,0.04)\n",
    "train_y = Variable(torch.sin(train_x.data * (2 * math.pi)) + torch.randn(train_x.size()) * 0.2)"
   ]
  },
  {
   "cell_type": "code",
   "execution_count": 3,
   "metadata": {
    "collapsed": true
   },
   "outputs": [],
   "source": [
    "from torch import optim\n",
    "from gpytorch.kernels import RBFKernel\n",
    "from gpytorch.means import ConstantMean\n",
    "from gpytorch.likelihoods import GaussianLikelihood\n",
    "from gpytorch.random_variables import GaussianRandomVariable"
   ]
  },
  {
   "cell_type": "code",
   "execution_count": 4,
   "metadata": {
    "collapsed": true
   },
   "outputs": [],
   "source": [
    "# We will use the simplest form of GP model, exact inference\n",
    "class ExactGPModel(gpytorch.models.ExactGP):\n",
    "    def __init__(self, train_x, train_y, likelihood):\n",
    "        super(ExactGPModel, self).__init__(train_x, train_y, likelihood)\n",
    "        # Our mean function is constant in the interval [-1,1]\n",
    "        self.mean_module = ConstantMean(constant_bounds=(-1, 1))\n",
    "        # We use the RBF kernel as a universal approximator\n",
    "        self.covar_module = RBFKernel(log_lengthscale_bounds=(-5, 5))\n",
    "    \n",
    "    def forward(self, x):\n",
    "        mean_x = self.mean_module(x)\n",
    "        covar_x = self.covar_module(x)\n",
    "        # Return moddl output as GaussianRandomVariable\n",
    "        return GaussianRandomVariable(mean_x, covar_x)\n",
    "\n",
    "# initialize likelihood and model\n",
    "likelihood = GaussianLikelihood(log_noise_bounds=(-5, 5))\n",
    "model = ExactGPModel(train_x.data, train_y.data, likelihood)"
   ]
  },
  {
   "cell_type": "code",
   "execution_count": 5,
   "metadata": {
    "scrolled": false
   },
   "outputs": [
    {
     "name": "stdout",
     "output_type": "stream",
     "text": [
      "Iter 1/20 - Loss: 1.143   log_lengthscale: 0.000   log_noise: 0.000\n",
      "Iter 2/20 - Loss: 1.148   log_lengthscale: 0.100   log_noise: -0.200\n",
      "Iter 3/20 - Loss: 1.004   log_lengthscale: 0.063   log_noise: -0.400\n",
      "Iter 4/20 - Loss: 1.157   log_lengthscale: 0.094   log_noise: -0.599\n",
      "Iter 5/20 - Loss: 0.965   log_lengthscale: 0.051   log_noise: -0.795\n",
      "Iter 6/20 - Loss: 1.031   log_lengthscale: -0.014   log_noise: -0.985\n",
      "Iter 7/20 - Loss: 1.056   log_lengthscale: -0.085   log_noise: -1.162\n",
      "Iter 8/20 - Loss: 0.895   log_lengthscale: -0.164   log_noise: -1.328\n",
      "Iter 9/20 - Loss: 0.859   log_lengthscale: -0.241   log_noise: -1.471\n",
      "Iter 10/20 - Loss: 0.900   log_lengthscale: -0.324   log_noise: -1.592\n",
      "Iter 11/20 - Loss: 0.837   log_lengthscale: -0.412   log_noise: -1.690\n",
      "Iter 12/20 - Loss: 0.790   log_lengthscale: -0.504   log_noise: -1.754\n",
      "Iter 13/20 - Loss: 0.926   log_lengthscale: -0.598   log_noise: -1.791\n",
      "Iter 14/20 - Loss: 0.935   log_lengthscale: -0.695   log_noise: -1.805\n",
      "Iter 15/20 - Loss: 0.803   log_lengthscale: -0.795   log_noise: -1.810\n",
      "Iter 16/20 - Loss: 0.796   log_lengthscale: -0.897   log_noise: -1.814\n",
      "Iter 17/20 - Loss: 0.753   log_lengthscale: -1.002   log_noise: -1.832\n",
      "Iter 18/20 - Loss: 0.955   log_lengthscale: -1.109   log_noise: -1.869\n",
      "Iter 19/20 - Loss: 0.758   log_lengthscale: -1.218   log_noise: -1.929\n",
      "Iter 20/20 - Loss: 0.670   log_lengthscale: -1.329   log_noise: -2.015\n",
      "Iter 21/20 - Loss: 0.571   log_lengthscale: -1.442   log_noise: -2.132\n",
      "Iter 22/20 - Loss: 0.547   log_lengthscale: -1.554   log_noise: -2.276\n",
      "Iter 23/20 - Loss: 0.544   log_lengthscale: -1.667   log_noise: -2.443\n",
      "Iter 24/20 - Loss: 0.288   log_lengthscale: -1.778   log_noise: -2.630\n",
      "Iter 25/20 - Loss: 0.194   log_lengthscale: -1.886   log_noise: -2.830\n",
      "Iter 26/20 - Loss: 0.429   log_lengthscale: -1.991   log_noise: -3.044\n",
      "Iter 27/20 - Loss: 0.293   log_lengthscale: -2.087   log_noise: -3.257\n",
      "Iter 28/20 - Loss: 0.141   log_lengthscale: -2.169   log_noise: -3.467\n",
      "Iter 29/20 - Loss: 0.178   log_lengthscale: -2.236   log_noise: -3.667\n",
      "Iter 30/20 - Loss: 0.362   log_lengthscale: -2.290   log_noise: -3.853\n",
      "Iter 31/20 - Loss: 0.469   log_lengthscale: -2.329   log_noise: -4.015\n",
      "Iter 32/20 - Loss: 0.428   log_lengthscale: -2.358   log_noise: -4.150\n",
      "Iter 33/20 - Loss: 0.285   log_lengthscale: -2.369   log_noise: -4.254\n",
      "Iter 34/20 - Loss: 0.164   log_lengthscale: -2.367   log_noise: -4.326\n",
      "Iter 35/20 - Loss: 0.233   log_lengthscale: -2.355   log_noise: -4.366\n",
      "Iter 36/20 - Loss: 0.300   log_lengthscale: -2.335   log_noise: -4.379\n",
      "Iter 37/20 - Loss: 0.225   log_lengthscale: -2.309   log_noise: -4.366\n",
      "Iter 38/20 - Loss: 0.309   log_lengthscale: -2.275   log_noise: -4.333\n",
      "Iter 39/20 - Loss: 0.396   log_lengthscale: -2.232   log_noise: -4.283\n",
      "Iter 40/20 - Loss: 0.410   log_lengthscale: -2.186   log_noise: -4.225\n",
      "Iter 41/20 - Loss: 0.371   log_lengthscale: -2.138   log_noise: -4.163\n",
      "Iter 42/20 - Loss: 0.093   log_lengthscale: -2.089   log_noise: -4.103\n",
      "Iter 43/20 - Loss: 0.326   log_lengthscale: -2.039   log_noise: -4.046\n",
      "Iter 44/20 - Loss: 0.210   log_lengthscale: -1.983   log_noise: -3.993\n",
      "Iter 45/20 - Loss: 0.265   log_lengthscale: -1.933   log_noise: -3.956\n",
      "Iter 46/20 - Loss: 0.316   log_lengthscale: -1.888   log_noise: -3.933\n",
      "Iter 47/20 - Loss: 0.450   log_lengthscale: -1.848   log_noise: -3.916\n",
      "Iter 48/20 - Loss: 0.310   log_lengthscale: -1.816   log_noise: -3.917\n",
      "Iter 49/20 - Loss: 0.372   log_lengthscale: -1.796   log_noise: -3.929\n",
      "Iter 50/20 - Loss: 0.177   log_lengthscale: -1.789   log_noise: -3.949\n"
     ]
    }
   ],
   "source": [
    "# Find optimal model hyperparameters\n",
    "model.train()\n",
    "likelihood.train()\n",
    "\n",
    "# Use adam optimizer on model and likelihood parameters\n",
    "optimizer = optim.Adam(list(model.parameters()) + list(likelihood.parameters()), lr=0.1)\n",
    "optimizer.n_iter = 0\n",
    "\n",
    "training_iter = 50\n",
    "for i in range(training_iter):\n",
    "    # Zero gradients from previous iteration\n",
    "    optimizer.zero_grad()\n",
    "    # Output from model\n",
    "    output = model(train_x)\n",
    "    # Calc loss and backprop gradients\n",
    "    loss = -model.marginal_log_likelihood(likelihood, output, train_y)\n",
    "    loss.backward()\n",
    "    optimizer.n_iter += 1\n",
    "    print('Iter %d/%d - Loss: %.3f   log_lengthscale: %.3f   log_noise: %.3f' % (\n",
    "        i + 1, training_iter, loss.data[0],\n",
    "        model.covar_module.log_lengthscale.data[0, 0],\n",
    "        model.likelihood.log_noise.data[0]\n",
    "    ))\n",
    "    optimizer.step()"
   ]
  },
  {
   "cell_type": "code",
   "execution_count": 6,
   "metadata": {
    "scrolled": false
   },
   "outputs": [
    {
     "data": {
      "image/png": "[encoded data removed]",
      "text/plain": [
       "<matplotlib.figure.Figure at 0x7f73eeb15b50>"
      ]
     },
     "metadata": {},
     "output_type": "display_data"
    }
   ],
   "source": [
    "# Put model and likelihood into eval mode\n",
    "model.eval()\n",
    "likelihood.eval()\n",
    "\n",
    "# Initialize plot\n",
    "f, observed_ax = plt.subplots(1, 1, figsize=(4, 3))\n",
    "# Test points are regularly spaced along [0,1] every 0.02\n",
    "test_x = Variable(torch.linspace(0, 1, 51))\n",
    "# Make predictions by feeding model through likelihood\n",
    "with gpytorch.fast_pred_var():\n",
    "    observed_pred = likelihood(model(test_x))\n",
    "\n",
    "# Define plotting function\n",
    "def ax_plot(ax, rand_var, title):\n",
    "    # Get upper and lower confidence bounds\n",
    "    lower, upper = rand_var.confidence_region()\n",
    "    # Plot training data as black stars\n",
    "    ax.plot(train_x.data.numpy(), train_y.data.numpy(), 'k*')\n",
    "    # Plot predictive means as blue line\n",
    "    ax.plot(test_x.data.numpy(), rand_var.mean().data.numpy(), 'b')\n",
    "    # Shade between the lower and upper confidence bounds\n",
    "    ax.fill_between(test_x.data.numpy(), lower.data.numpy(), upper.data.numpy(), alpha=0.5)\n",
    "    ax.set_ylim([-3, 3])\n",
    "    ax.legend(['Observed Data', 'Mean', 'Confidence'])\n",
    "    ax.set_title(title)\n",
    "# Plot the predictions\n",
    "ax_plot(observed_ax, observed_pred, 'Observed Values (Likelihood)')"
   ]
  },
  {
   "cell_type": "code",
   "execution_count": null,
   "metadata": {
    "collapsed": true
   },
   "outputs": [],
   "source": []
  }
 ],
 "metadata": {
  "anaconda-cloud": {},
  "kernelspec": {
   "display_name": "Python 2",
   "language": "python",
   "name": "python2"
  },
  "language_info": {
   "codemirror_mode": {
    "name": "ipython",
    "version": 2
   },
   "file_extension": ".py",
   "mimetype": "text/x-python",
   "name": "python",
   "nbconvert_exporter": "python",
   "pygments_lexer": "ipython2",
   "version": "2.7.14"
  }
 },
 "nbformat": 4,
 "nbformat_minor": 1
}
