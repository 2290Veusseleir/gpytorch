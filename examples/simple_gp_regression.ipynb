{
 "cells": [
  {
   "cell_type": "markdown",
   "metadata": {},
   "source": [
    "This example is the simplest form of using an RBF kernel in an `ExactGP` module\n",
    "- When you want to use exact inference (e.g. for regression)\n",
    "- When no fancy mechanisms are required\n",
    "\n",
    "In this example, we’re modeling y = sin(2*pi*x)"
   ]
  },
  {
   "cell_type": "code",
   "execution_count": 7,
   "metadata": {},
   "outputs": [
    {
     "name": "stdout",
     "output_type": "stream",
     "text": [
      "The autoreload extension is already loaded. To reload it, use:\n",
      "  %reload_ext autoreload\n"
     ]
    }
   ],
   "source": [
    "import math\n",
    "import torch\n",
    "import gpytorch\n",
    "from matplotlib import pyplot as plt\n",
    "\n",
    "%matplotlib inline\n",
    "%load_ext autoreload\n",
    "%autoreload 2"
   ]
  },
  {
   "cell_type": "code",
   "execution_count": 8,
   "metadata": {
    "collapsed": true
   },
   "outputs": [],
   "source": [
    "from torch.autograd import Variable\n",
    "# Training data is 11 points in [0,1] inclusive regularly spaced\n",
    "train_x = Variable(torch.linspace(0, 1, 11))\n",
    "# True function is sin(2*pi*x) with Gaussian noise N(0,0.04)\n",
    "train_y = Variable(torch.sin(train_x.data * (2 * math.pi)) + torch.randn(train_x.size()) * 0.2)"
   ]
  },
  {
   "cell_type": "code",
   "execution_count": 9,
   "metadata": {
    "collapsed": true
   },
   "outputs": [],
   "source": [
    "from torch import optim\n",
    "from gpytorch.kernels import RBFKernel\n",
    "from gpytorch.means import ConstantMean\n",
    "from gpytorch.likelihoods import GaussianLikelihood\n",
    "from gpytorch.random_variables import GaussianRandomVariable"
   ]
  },
  {
   "cell_type": "code",
   "execution_count": 10,
   "metadata": {
    "collapsed": true
   },
   "outputs": [],
   "source": [
    "# We will use the simplest form of GP model, exact inference\n",
    "class ExactGPModel(gpytorch.models.ExactGP):\n",
    "    def __init__(self, train_x, train_y, likelihood):\n",
    "        super(ExactGPModel, self).__init__(train_x, train_y, likelihood)\n",
    "        # Our mean function is constant in the interval [-1,1]\n",
    "        self.mean_module = ConstantMean(constant_bounds=(-1, 1))\n",
    "        # We use the RBF kernel as a universal approximator\n",
    "        self.covar_module = RBFKernel(log_lengthscale_bounds=(-5, 5))\n",
    "    \n",
    "    def forward(self, x):\n",
    "        mean_x = self.mean_module(x)\n",
    "        covar_x = self.covar_module(x)\n",
    "        # Return moddl output as GaussianRandomVariable\n",
    "        return GaussianRandomVariable(mean_x, covar_x)\n",
    "\n",
    "# initialize likelihood and model\n",
    "likelihood = GaussianLikelihood(log_noise_bounds=(-5, 5))\n",
    "model = ExactGPModel(train_x.data, train_y.data, likelihood)"
   ]
  },
  {
   "cell_type": "code",
   "execution_count": 11,
   "metadata": {
    "scrolled": false
   },
   "outputs": [
    {
     "name": "stdout",
     "output_type": "stream",
     "text": [
      "Iter 1/50 - Loss: 1.267   log_lengthscale: 0.000   log_noise: 0.000\n",
      "Iter 2/50 - Loss: 1.196   log_lengthscale: -0.100   log_noise: -0.200\n",
      "Iter 3/50 - Loss: 1.190   log_lengthscale: -0.178   log_noise: -0.396\n",
      "Iter 4/50 - Loss: 1.209   log_lengthscale: -0.264   log_noise: -0.589\n",
      "Iter 5/50 - Loss: 1.190   log_lengthscale: -0.344   log_noise: -0.773\n",
      "Iter 6/50 - Loss: 1.089   log_lengthscale: -0.431   log_noise: -0.943\n",
      "Iter 7/50 - Loss: 1.111   log_lengthscale: -0.518   log_noise: -1.093\n",
      "Iter 8/50 - Loss: 1.129   log_lengthscale: -0.608   log_noise: -1.210\n",
      "Iter 9/50 - Loss: 1.081   log_lengthscale: -0.701   log_noise: -1.284\n",
      "Iter 10/50 - Loss: 1.177   log_lengthscale: -0.792   log_noise: -1.323\n",
      "Iter 11/50 - Loss: 1.133   log_lengthscale: -0.886   log_noise: -1.338\n",
      "Iter 12/50 - Loss: 1.052   log_lengthscale: -0.981   log_noise: -1.343\n",
      "Iter 13/50 - Loss: 0.992   log_lengthscale: -1.080   log_noise: -1.349\n",
      "Iter 14/50 - Loss: 0.973   log_lengthscale: -1.181   log_noise: -1.364\n",
      "Iter 15/50 - Loss: 1.053   log_lengthscale: -1.285   log_noise: -1.401\n",
      "Iter 16/50 - Loss: 0.892   log_lengthscale: -1.390   log_noise: -1.458\n",
      "Iter 17/50 - Loss: 0.861   log_lengthscale: -1.497   log_noise: -1.538\n",
      "Iter 18/50 - Loss: 0.987   log_lengthscale: -1.605   log_noise: -1.643\n",
      "Iter 19/50 - Loss: 0.815   log_lengthscale: -1.713   log_noise: -1.771\n",
      "Iter 20/50 - Loss: 0.940   log_lengthscale: -1.823   log_noise: -1.924\n",
      "Iter 21/50 - Loss: 0.853   log_lengthscale: -1.931   log_noise: -2.092\n",
      "Iter 22/50 - Loss: 0.636   log_lengthscale: -2.034   log_noise: -2.264\n",
      "Iter 23/50 - Loss: 0.737   log_lengthscale: -2.131   log_noise: -2.436\n",
      "Iter 24/50 - Loss: 0.722   log_lengthscale: -2.220   log_noise: -2.601\n",
      "Iter 25/50 - Loss: 0.953   log_lengthscale: -2.299   log_noise: -2.748\n",
      "Iter 26/50 - Loss: 0.672   log_lengthscale: -2.364   log_noise: -2.864\n",
      "Iter 27/50 - Loss: 0.986   log_lengthscale: -2.415   log_noise: -2.947\n",
      "Iter 28/50 - Loss: 0.702   log_lengthscale: -2.452   log_noise: -2.986\n",
      "Iter 29/50 - Loss: 0.713   log_lengthscale: -2.478   log_noise: -2.983\n",
      "Iter 30/50 - Loss: 0.811   log_lengthscale: -2.497   log_noise: -2.952\n",
      "Iter 31/50 - Loss: 0.864   log_lengthscale: -2.507   log_noise: -2.895\n",
      "Iter 32/50 - Loss: 0.814   log_lengthscale: -2.507   log_noise: -2.823\n",
      "Iter 33/50 - Loss: 0.911   log_lengthscale: -2.502   log_noise: -2.751\n",
      "Iter 34/50 - Loss: 0.681   log_lengthscale: -2.485   log_noise: -2.678\n",
      "Iter 35/50 - Loss: 0.642   log_lengthscale: -2.462   log_noise: -2.608\n",
      "Iter 36/50 - Loss: 0.933   log_lengthscale: -2.435   log_noise: -2.551\n",
      "Iter 37/50 - Loss: 0.867   log_lengthscale: -2.403   log_noise: -2.510\n",
      "Iter 38/50 - Loss: 0.807   log_lengthscale: -2.369   log_noise: -2.488\n",
      "Iter 39/50 - Loss: 0.844   log_lengthscale: -2.335   log_noise: -2.478\n",
      "Iter 40/50 - Loss: 0.800   log_lengthscale: -2.299   log_noise: -2.477\n",
      "Iter 41/50 - Loss: 0.849   log_lengthscale: -2.263   log_noise: -2.493\n",
      "Iter 42/50 - Loss: 0.944   log_lengthscale: -2.227   log_noise: -2.519\n",
      "Iter 43/50 - Loss: 0.715   log_lengthscale: -2.191   log_noise: -2.553\n",
      "Iter 44/50 - Loss: 0.653   log_lengthscale: -2.158   log_noise: -2.600\n",
      "Iter 45/50 - Loss: 0.709   log_lengthscale: -2.127   log_noise: -2.652\n",
      "Iter 46/50 - Loss: 0.674   log_lengthscale: -2.102   log_noise: -2.703\n",
      "Iter 47/50 - Loss: 0.687   log_lengthscale: -2.079   log_noise: -2.747\n",
      "Iter 48/50 - Loss: 0.607   log_lengthscale: -2.061   log_noise: -2.786\n",
      "Iter 49/50 - Loss: 0.838   log_lengthscale: -2.054   log_noise: -2.808\n",
      "Iter 50/50 - Loss: 0.489   log_lengthscale: -2.052   log_noise: -2.817\n"
     ]
    }
   ],
   "source": [
    "# Find optimal model hyperparameters\n",
    "model.train()\n",
    "likelihood.train()\n",
    "\n",
    "# Use adam optimizer on model and likelihood parameters\n",
    "optimizer = optim.Adam(list(model.parameters()) + list(likelihood.parameters()), lr=0.1)\n",
    "optimizer.n_iter = 0\n",
    "\n",
    "training_iter = 50\n",
    "for i in range(training_iter):\n",
    "    # Zero gradients from previous iteration\n",
    "    optimizer.zero_grad()\n",
    "    # Output from model\n",
    "    output = model(train_x)\n",
    "    # Calc loss and backprop gradients\n",
    "    loss = -model.marginal_log_likelihood(likelihood, output, train_y)\n",
    "    loss.backward()\n",
    "    optimizer.n_iter += 1\n",
    "    print('Iter %d/%d - Loss: %.3f   log_lengthscale: %.3f   log_noise: %.3f' % (\n",
    "        i + 1, training_iter, loss.data[0],\n",
    "        model.covar_module.log_lengthscale.data[0, 0],\n",
    "        model.likelihood.log_noise.data[0]\n",
    "    ))\n",
    "    optimizer.step()"
   ]
  },
  {
   "cell_type": "code",
   "execution_count": 12,
   "metadata": {
    "scrolled": false
   },
   "outputs": [
    {
     "data": {
      "image/png": "[encoded data removed]",
      "text/plain": [
       "<matplotlib.figure.Figure at 0x7fe0edda1b00>"
      ]
     },
     "metadata": {},
     "output_type": "display_data"
    }
   ],
   "source": [
    "# Put model and likelihood into eval mode\n",
    "model.eval()\n",
    "likelihood.eval()\n",
    "\n",
    "# Initialize plot\n",
    "f, observed_ax = plt.subplots(1, 1, figsize=(4, 3))\n",
    "# Test points are regularly spaced along [0,1] every 0.02\n",
    "test_x = Variable(torch.linspace(0, 1, 51))\n",
    "# Make predictions by feeding model through likelihood\n",
    "with gpytorch.fast_pred_var():\n",
    "    observed_pred = likelihood(model(test_x))\n",
    "\n",
    "# Define plotting function\n",
    "def ax_plot(ax, rand_var, title):\n",
    "    # Get upper and lower confidence bounds\n",
    "    lower, upper = rand_var.confidence_region()\n",
    "    # Plot training data as black stars\n",
    "    ax.plot(train_x.data.numpy(), train_y.data.numpy(), 'k*')\n",
    "    # Plot predictive means as blue line\n",
    "    ax.plot(test_x.data.numpy(), rand_var.mean().data.numpy(), 'b')\n",
    "    # Shade between the lower and upper confidence bounds\n",
    "    ax.fill_between(test_x.data.numpy(), lower.data.numpy(), upper.data.numpy(), alpha=0.5)\n",
    "    ax.set_ylim([-3, 3])\n",
    "    ax.legend(['Observed Data', 'Mean', 'Confidence'])\n",
    "    ax.set_title(title)\n",
    "# Plot the predictions\n",
    "ax_plot(observed_ax, observed_pred, 'Observed Values (Likelihood)')"
   ]
  },
  {
   "cell_type": "code",
   "execution_count": null,
   "metadata": {
    "collapsed": true
   },
   "outputs": [],
   "source": []
  }
 ],
 "metadata": {
  "anaconda-cloud": {},
  "kernelspec": {
   "display_name": "Python 2",
   "language": "python",
   "name": "python2"
  },
  "language_info": {
   "codemirror_mode": {
    "name": "ipython",
    "version": 2
   },
   "file_extension": ".py",
   "mimetype": "text/x-python",
   "name": "python",
   "nbconvert_exporter": "python",
   "pygments_lexer": "ipython2",
   "version": "2.7.14"
  }
 },
 "nbformat": 4,
 "nbformat_minor": 1
}
