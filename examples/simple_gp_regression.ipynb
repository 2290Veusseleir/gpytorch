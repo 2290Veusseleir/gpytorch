{
 "cells": [
  {
   "cell_type": "code",
   "execution_count": 1,
   "metadata": {},
   "outputs": [],
   "source": [
    "import math\n",
    "import torch\n",
    "import gpytorch\n",
    "from matplotlib import pyplot as plt\n",
    "\n",
    "%matplotlib inline\n",
    "%load_ext autoreload\n",
    "%autoreload 2"
   ]
  },
  {
   "cell_type": "code",
   "execution_count": 2,
   "metadata": {},
   "outputs": [],
   "source": [
    "from torch.autograd import Variable\n",
    "train_x = Variable(torch.linspace(0, 1, 11))\n",
    "train_y = Variable(torch.sin(train_x.data * (2 * math.pi)) + torch.randn(train_x.size()) * 0.2)"
   ]
  },
  {
   "cell_type": "code",
   "execution_count": 3,
   "metadata": {},
   "outputs": [],
   "source": [
    "from torch import optim\n",
    "from gpytorch.kernels import RBFKernel\n",
    "from gpytorch.means import ConstantMean\n",
    "from gpytorch.likelihoods import GaussianLikelihood\n",
    "from gpytorch.random_variables import GaussianRandomVariable"
   ]
  },
  {
   "cell_type": "code",
   "execution_count": 4,
   "metadata": {},
   "outputs": [
    {
     "data": {
      "text/plain": [
       "ExactGPModel (\n",
       "  (likelihood): GaussianLikelihood (\n",
       "  )\n",
       "  (mean_module): ConstantMean (\n",
       "  )\n",
       "  (covar_module): RBFKernel (\n",
       "  )\n",
       ")"
      ]
     },
     "execution_count": 4,
     "metadata": {},
     "output_type": "execute_result"
    }
   ],
   "source": [
    "class ExactGPModel(gpytorch.GPModel):\n",
    "    def __init__(self):\n",
    "        super(ExactGPModel,self).__init__(GaussianLikelihood(log_noise_bounds=(-5, 5)))\n",
    "        self.mean_module = ConstantMean(constant_bounds=(-1, 1))\n",
    "        self.covar_module = RBFKernel(log_lengthscale_bounds=(-5, 5))\n",
    "    \n",
    "    def forward(self,x):\n",
    "        mean_x = self.mean_module(x)\n",
    "        covar_x = self.covar_module(x)\n",
    "        return GaussianRandomVariable(mean_x, covar_x)\n",
    "\n",
    "model = ExactGPModel()\n",
    "model.condition(train_x, train_y)"
   ]
  },
  {
   "cell_type": "code",
   "execution_count": 5,
   "metadata": {},
   "outputs": [],
   "source": [
    "def plot_model_and_predictions(model, plot_train_data=True):\n",
    "    f, observed_ax = plt.subplots(1, 1, figsize=(4, 3))\n",
    "    test_x = Variable(torch.linspace(0, 1, 51))\n",
    "    observed_pred = model(test_x)\n",
    "\n",
    "    def ax_plot(ax, rand_var, title):\n",
    "        lower, upper = rand_var.confidence_region()\n",
    "        if plot_train_data:\n",
    "            ax.plot(train_x.data.numpy(), train_y.data.numpy(), 'k*')\n",
    "        ax.plot(test_x.data.numpy(), rand_var.mean().data.numpy(), 'b')\n",
    "        ax.fill_between(test_x.data.numpy(), lower.data.numpy(), upper.data.numpy(), alpha=0.5)\n",
    "        ax.set_ylim([-3, 3])\n",
    "        ax.legend(['Observed Data', 'Mean', 'Confidence'])\n",
    "        ax.set_title(title)\n",
    "    \n",
    "    ax_plot(observed_ax, observed_pred, 'Observed Values (Likelihood)')\n",
    "    \n",
    "    return f"
   ]
  },
  {
   "cell_type": "code",
   "execution_count": 6,
   "metadata": {},
   "outputs": [
    {
     "data": {
      "image/png": "[encoded data removed]",
      "text/plain": [
       "<matplotlib.figure.Figure at 0x7f9e0c241410>"
      ]
     },
     "metadata": {},
     "output_type": "display_data"
    }
   ],
   "source": [
    "fig = plot_model_and_predictions(model, plot_train_data=False)"
   ]
  },
  {
   "cell_type": "code",
   "execution_count": 7,
   "metadata": {
    "scrolled": false
   },
   "outputs": [
    {
     "name": "stdout",
     "output_type": "stream",
     "text": [
      "Iter 1/20 - Loss: 14.069   log_lengthscale: 0.000   log_noise: 0.000\n",
      "Iter 2/20 - Loss: 13.179   log_lengthscale: -0.100   log_noise: -0.100\n",
      "Iter 3/20 - Loss: 13.079   log_lengthscale: -0.197   log_noise: -0.200\n",
      "Iter 4/20 - Loss: 12.191   log_lengthscale: -0.295   log_noise: -0.300\n",
      "Iter 5/20 - Loss: 12.576   log_lengthscale: -0.394   log_noise: -0.400\n",
      "Iter 6/20 - Loss: 11.905   log_lengthscale: -0.493   log_noise: -0.498\n",
      "Iter 7/20 - Loss: 11.900   log_lengthscale: -0.594   log_noise: -0.596\n",
      "Iter 8/20 - Loss: 10.869   log_lengthscale: -0.694   log_noise: -0.691\n",
      "Iter 9/20 - Loss: 11.203   log_lengthscale: -0.788   log_noise: -0.784\n",
      "Iter 10/20 - Loss: 12.037   log_lengthscale: -0.884   log_noise: -0.875\n",
      "Iter 11/20 - Loss: 12.306   log_lengthscale: -0.982   log_noise: -0.967\n",
      "Iter 12/20 - Loss: 11.049   log_lengthscale: -1.079   log_noise: -1.058\n",
      "Iter 13/20 - Loss: 11.161   log_lengthscale: -1.180   log_noise: -1.147\n",
      "Iter 14/20 - Loss: 10.239   log_lengthscale: -1.282   log_noise: -1.236\n",
      "Iter 15/20 - Loss: 9.870   log_lengthscale: -1.386   log_noise: -1.324\n",
      "Iter 16/20 - Loss: 8.985   log_lengthscale: -1.492   log_noise: -1.414\n",
      "Iter 17/20 - Loss: 9.171   log_lengthscale: -1.600   log_noise: -1.504\n",
      "Iter 18/20 - Loss: 8.134   log_lengthscale: -1.710   log_noise: -1.597\n",
      "Iter 19/20 - Loss: 7.793   log_lengthscale: -1.820   log_noise: -1.692\n",
      "Iter 20/20 - Loss: 8.104   log_lengthscale: -1.929   log_noise: -1.790\n",
      "Iter 21/20 - Loss: 7.887   log_lengthscale: -2.035   log_noise: -1.888\n",
      "Iter 22/20 - Loss: 6.530   log_lengthscale: -2.134   log_noise: -1.987\n",
      "Iter 23/20 - Loss: 8.176   log_lengthscale: -2.220   log_noise: -2.087\n",
      "Iter 24/20 - Loss: 5.799   log_lengthscale: -2.301   log_noise: -2.189\n",
      "Iter 25/20 - Loss: 5.801   log_lengthscale: -2.374   log_noise: -2.290\n",
      "Iter 26/20 - Loss: 9.517   log_lengthscale: -2.435   log_noise: -2.391\n",
      "Iter 27/20 - Loss: 7.963   log_lengthscale: -2.490   log_noise: -2.492\n",
      "Iter 28/20 - Loss: 7.937   log_lengthscale: -2.533   log_noise: -2.594\n",
      "Iter 29/20 - Loss: 7.550   log_lengthscale: -2.564   log_noise: -2.693\n",
      "Iter 30/20 - Loss: 6.306   log_lengthscale: -2.588   log_noise: -2.794\n",
      "Iter 31/20 - Loss: 6.719   log_lengthscale: -2.593   log_noise: -2.893\n",
      "Iter 32/20 - Loss: 5.608   log_lengthscale: -2.596   log_noise: -2.993\n",
      "Iter 33/20 - Loss: 5.290   log_lengthscale: -2.590   log_noise: -3.092\n",
      "Iter 34/20 - Loss: 6.666   log_lengthscale: -2.579   log_noise: -3.189\n",
      "Iter 35/20 - Loss: 5.122   log_lengthscale: -2.564   log_noise: -3.286\n",
      "Iter 36/20 - Loss: 6.699   log_lengthscale: -2.546   log_noise: -3.381\n",
      "Iter 37/20 - Loss: 5.699   log_lengthscale: -2.531   log_noise: -3.474\n",
      "Iter 38/20 - Loss: 5.051   log_lengthscale: -2.519   log_noise: -3.565\n",
      "Iter 39/20 - Loss: 3.072   log_lengthscale: -2.507   log_noise: -3.652\n",
      "Iter 40/20 - Loss: 6.698   log_lengthscale: -2.500   log_noise: -3.737\n",
      "Iter 41/20 - Loss: 3.398   log_lengthscale: -2.490   log_noise: -3.819\n",
      "Iter 42/20 - Loss: 4.288   log_lengthscale: -2.486   log_noise: -3.898\n",
      "Iter 43/20 - Loss: 3.738   log_lengthscale: -2.496   log_noise: -3.973\n",
      "Iter 44/20 - Loss: 3.723   log_lengthscale: -2.515   log_noise: -4.047\n",
      "Iter 45/20 - Loss: 3.666   log_lengthscale: -2.546   log_noise: -4.118\n",
      "Iter 46/20 - Loss: 5.505   log_lengthscale: -2.586   log_noise: -4.185\n",
      "Iter 47/20 - Loss: 2.976   log_lengthscale: -2.633   log_noise: -4.252\n",
      "Iter 48/20 - Loss: 3.750   log_lengthscale: -2.684   log_noise: -4.317\n",
      "Iter 49/20 - Loss: 5.950   log_lengthscale: -2.737   log_noise: -4.383\n",
      "Iter 50/20 - Loss: 4.401   log_lengthscale: -2.784   log_noise: -4.450\n"
     ]
    }
   ],
   "source": [
    "# Find optimal model hyperparameters\n",
    "model.train()\n",
    "optimizer = optim.Adam(model.parameters(), lr=0.1)\n",
    "optimizer.n_iter = 0\n",
    "for i in range(50):\n",
    "    optimizer.zero_grad()\n",
    "    output = model(train_x)\n",
    "    loss = -model.marginal_log_likelihood(output, train_y)\n",
    "    loss.backward()\n",
    "    optimizer.n_iter += 1\n",
    "    print('Iter %d/20 - Loss: %.3f   log_lengthscale: %.3f   log_noise: %.3f' % (\n",
    "        i + 1, loss.data[0],\n",
    "        model.covar_module.log_lengthscale.data[0, 0],\n",
    "        model.likelihood.log_noise.data[0]\n",
    "    ))\n",
    "    optimizer.step()\n",
    "    \n",
    "# Set back to eval mode\n",
    "model.eval()\n",
    "None"
   ]
  },
  {
   "cell_type": "code",
   "execution_count": 8,
   "metadata": {
    "scrolled": false
   },
   "outputs": [
    {
     "data": {
      "image/png": "[encoded data removed]",
      "text/plain": [
       "<matplotlib.figure.Figure at 0x7f9e08d97f50>"
      ]
     },
     "metadata": {},
     "output_type": "display_data"
    }
   ],
   "source": [
    "fig = plot_model_and_predictions(model)"
   ]
  }
 ],
 "metadata": {
  "anaconda-cloud": {},
  "kernelspec": {
   "display_name": "Python 2",
   "language": "python",
   "name": "python2"
  },
  "language_info": {
   "codemirror_mode": {
    "name": "ipython",
    "version": 2
   },
   "file_extension": ".py",
   "mimetype": "text/x-python",
   "name": "python",
   "nbconvert_exporter": "python",
   "pygments_lexer": "ipython2",
   "version": "2.7.13"
  }
 },
 "nbformat": 4,
 "nbformat_minor": 1
}
