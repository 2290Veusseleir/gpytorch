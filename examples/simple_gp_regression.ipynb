{
 "cells": [
  {
   "cell_type": "code",
   "execution_count": 1,
   "metadata": {
    "collapsed": false
   },
   "outputs": [],
   "source": [
    "import math\n",
    "import torch\n",
    "import gpytorch\n",
    "from matplotlib import pyplot as plt\n",
    "\n",
    "%matplotlib inline\n",
    "%load_ext autoreload\n",
    "%autoreload 2"
   ]
  },
  {
   "cell_type": "code",
   "execution_count": 2,
   "metadata": {
    "collapsed": false
   },
   "outputs": [],
   "source": [
    "from torch.autograd import Variable\n",
    "train_x = Variable(torch.linspace(0, 1, 11))\n",
    "train_y = Variable(torch.sin(train_x.data * (2 * math.pi)) + torch.randn(train_x.size()) * 0.2)"
   ]
  },
  {
   "cell_type": "code",
   "execution_count": 3,
   "metadata": {
    "collapsed": false
   },
   "outputs": [],
   "source": [
    "from torch import optim\n",
    "from gpytorch.kernels import RBFKernel\n",
    "from gpytorch.means import ConstantMean\n",
    "from gpytorch.likelihoods import GaussianLikelihood\n",
    "from gpytorch.random_variables import GaussianRandomVariable"
   ]
  },
  {
   "cell_type": "code",
   "execution_count": 4,
   "metadata": {
    "collapsed": false
   },
   "outputs": [],
   "source": [
    "class ExactGPModel(gpytorch.GPModel):\n",
    "    def __init__(self):\n",
    "        super(ExactGPModel,self).__init__(GaussianLikelihood(log_noise_bounds=(-5, 5)))\n",
    "        self.mean_module = ConstantMean(constant_bounds=(-1, 1))\n",
    "        self.covar_module = RBFKernel(log_lengthscale_bounds=(-5, 5))\n",
    "    \n",
    "    def forward(self,x):\n",
    "        mean_x = self.mean_module(x)\n",
    "        covar_x = self.covar_module(x)\n",
    "        return GaussianRandomVariable(mean_x, covar_x)\n",
    "\n",
    "model = ExactGPModel()"
   ]
  },
  {
   "cell_type": "code",
   "execution_count": 5,
   "metadata": {
    "collapsed": false
   },
   "outputs": [],
   "source": [
    "def plot_model_and_predictions(model, plot_train_data=True):\n",
    "    f, observed_ax = plt.subplots(1, 1, figsize=(4, 3))\n",
    "    test_x = Variable(torch.linspace(0, 1, 51))\n",
    "    observed_pred = model(test_x)\n",
    "\n",
    "    def ax_plot(ax, rand_var, title):\n",
    "        lower, upper = rand_var.confidence_region()\n",
    "        if plot_train_data:\n",
    "            ax.plot(train_x.data.numpy(), train_y.data.numpy(), 'k*')\n",
    "        ax.plot(test_x.data.numpy(), rand_var.mean().data.numpy(), 'b')\n",
    "        ax.fill_between(test_x.data.numpy(), lower.data.numpy(), upper.data.numpy(), alpha=0.5)\n",
    "        ax.set_ylim([-3, 3])\n",
    "        ax.legend(['Observed Data', 'Mean', 'Confidence'])\n",
    "        ax.set_title(title)\n",
    "    \n",
    "    ax_plot(observed_ax, observed_pred, 'Observed Values (Likelihood)')\n",
    "    \n",
    "    return f"
   ]
  },
  {
   "cell_type": "code",
   "execution_count": 6,
   "metadata": {
    "collapsed": false
   },
   "outputs": [
    {
     "data": {
      "image/png": "[encoded data removed]",
      "text/plain": [
       "<matplotlib.figure.Figure at 0x113405790>"
      ]
     },
     "metadata": {},
     "output_type": "display_data"
    }
   ],
   "source": [
    "fig = plot_model_and_predictions(model, plot_train_data=False)"
   ]
  },
  {
   "cell_type": "code",
   "execution_count": 7,
   "metadata": {
    "collapsed": false,
    "scrolled": false
   },
   "outputs": [
    {
     "name": "stdout",
     "output_type": "stream",
     "text": [
      "Iter 1/20 - Loss: 14.253   log_lengthscale: 0.000   log_noise: 0.000\n",
      "Iter 2/20 - Loss: 12.741   log_lengthscale: -0.100   log_noise: -0.100\n",
      "Iter 3/20 - Loss: 13.261   log_lengthscale: -0.200   log_noise: -0.200\n",
      "Iter 4/20 - Loss: 13.116   log_lengthscale: -0.289   log_noise: -0.299\n",
      "Iter 5/20 - Loss: 12.384   log_lengthscale: -0.383   log_noise: -0.398\n",
      "Iter 6/20 - Loss: 12.054   log_lengthscale: -0.476   log_noise: -0.496\n",
      "Iter 7/20 - Loss: 12.220   log_lengthscale: -0.568   log_noise: -0.593\n",
      "Iter 8/20 - Loss: 12.766   log_lengthscale: -0.662   log_noise: -0.690\n",
      "Iter 9/20 - Loss: 10.836   log_lengthscale: -0.757   log_noise: -0.785\n",
      "Iter 10/20 - Loss: 10.605   log_lengthscale: -0.855   log_noise: -0.880\n",
      "Iter 11/20 - Loss: 10.459   log_lengthscale: -0.952   log_noise: -0.973\n",
      "Iter 12/20 - Loss: 11.368   log_lengthscale: -1.050   log_noise: -1.063\n",
      "Iter 13/20 - Loss: 10.254   log_lengthscale: -1.151   log_noise: -1.153\n",
      "Iter 14/20 - Loss: 9.200   log_lengthscale: -1.251   log_noise: -1.245\n",
      "Iter 15/20 - Loss: 10.408   log_lengthscale: -1.352   log_noise: -1.337\n",
      "Iter 16/20 - Loss: 9.307   log_lengthscale: -1.456   log_noise: -1.428\n",
      "Iter 17/20 - Loss: 8.313   log_lengthscale: -1.560   log_noise: -1.521\n",
      "Iter 18/20 - Loss: 9.082   log_lengthscale: -1.666   log_noise: -1.615\n",
      "Iter 19/20 - Loss: 9.161   log_lengthscale: -1.773   log_noise: -1.708\n",
      "Iter 20/20 - Loss: 9.226   log_lengthscale: -1.877   log_noise: -1.803\n",
      "Iter 21/20 - Loss: 9.009   log_lengthscale: -1.978   log_noise: -1.899\n",
      "Iter 22/20 - Loss: 6.731   log_lengthscale: -2.071   log_noise: -1.995\n",
      "Iter 23/20 - Loss: 6.735   log_lengthscale: -2.136   log_noise: -2.091\n",
      "Iter 24/20 - Loss: 6.918   log_lengthscale: -2.193   log_noise: -2.187\n",
      "Iter 25/20 - Loss: 7.551   log_lengthscale: -2.241   log_noise: -2.282\n",
      "Iter 26/20 - Loss: 7.956   log_lengthscale: -2.279   log_noise: -2.373\n",
      "Iter 27/20 - Loss: 10.192   log_lengthscale: -2.302   log_noise: -2.464\n",
      "Iter 28/20 - Loss: 7.385   log_lengthscale: -2.306   log_noise: -2.552\n",
      "Iter 29/20 - Loss: 8.372   log_lengthscale: -2.302   log_noise: -2.638\n",
      "Iter 30/20 - Loss: 7.847   log_lengthscale: -2.290   log_noise: -2.721\n",
      "Iter 31/20 - Loss: 7.022   log_lengthscale: -2.271   log_noise: -2.801\n",
      "Iter 32/20 - Loss: 5.783   log_lengthscale: -2.255   log_noise: -2.880\n",
      "Iter 33/20 - Loss: 5.484   log_lengthscale: -2.223   log_noise: -2.954\n",
      "Iter 34/20 - Loss: 5.154   log_lengthscale: -2.185   log_noise: -3.025\n",
      "Iter 35/20 - Loss: 6.604   log_lengthscale: -2.145   log_noise: -3.092\n",
      "Iter 36/20 - Loss: 5.607   log_lengthscale: -2.099   log_noise: -3.157\n",
      "Iter 37/20 - Loss: 8.646   log_lengthscale: -2.054   log_noise: -3.219\n",
      "Iter 38/20 - Loss: 5.513   log_lengthscale: -2.016   log_noise: -3.275\n",
      "Iter 39/20 - Loss: 6.191   log_lengthscale: -1.989   log_noise: -3.326\n",
      "Iter 40/20 - Loss: 5.978   log_lengthscale: -1.970   log_noise: -3.374\n",
      "Iter 41/20 - Loss: 4.335   log_lengthscale: -1.941   log_noise: -3.413\n",
      "Iter 42/20 - Loss: 6.028   log_lengthscale: -1.926   log_noise: -3.448\n",
      "Iter 43/20 - Loss: 6.874   log_lengthscale: -1.919   log_noise: -3.474\n",
      "Iter 44/20 - Loss: 5.243   log_lengthscale: -1.896   log_noise: -3.493\n",
      "Iter 45/20 - Loss: 6.782   log_lengthscale: -1.875   log_noise: -3.503\n",
      "Iter 46/20 - Loss: 4.995   log_lengthscale: -1.861   log_noise: -3.506\n",
      "Iter 47/20 - Loss: 6.010   log_lengthscale: -1.850   log_noise: -3.502\n",
      "Iter 48/20 - Loss: 6.569   log_lengthscale: -1.852   log_noise: -3.494\n",
      "Iter 49/20 - Loss: 5.733   log_lengthscale: -1.869   log_noise: -3.484\n",
      "Iter 50/20 - Loss: 7.648   log_lengthscale: -1.885   log_noise: -3.472\n"
     ]
    }
   ],
   "source": [
    "model.condition(train_x, train_y)\n",
    "\n",
    "# Find optimal model hyperparameters\n",
    "model.train()\n",
    "optimizer = optim.Adam(model.parameters(), lr=0.1)\n",
    "optimizer.n_iter = 0\n",
    "for i in range(50):\n",
    "    optimizer.zero_grad()\n",
    "    output = model(train_x)\n",
    "    loss = -model.marginal_log_likelihood(output, train_y)\n",
    "    loss.backward()\n",
    "    optimizer.n_iter += 1\n",
    "    print('Iter %d/20 - Loss: %.3f   log_lengthscale: %.3f   log_noise: %.3f' % (\n",
    "        i + 1, loss.data[0],\n",
    "        model.covar_module.log_lengthscale.data[0, 0],\n",
    "        model.likelihood.log_noise.data[0]\n",
    "    ))\n",
    "    optimizer.step()\n",
    "    \n",
    "# Set back to eval mode\n",
    "model.eval()\n",
    "None"
   ]
  },
  {
   "cell_type": "code",
   "execution_count": 8,
   "metadata": {
    "collapsed": false,
    "scrolled": false
   },
   "outputs": [
    {
     "data": {
      "image/png": "[encoded data removed]",
      "text/plain": [
       "<matplotlib.figure.Figure at 0x1134640d0>"
      ]
     },
     "metadata": {},
     "output_type": "display_data"
    }
   ],
   "source": [
    "fig = plot_model_and_predictions(model)"
   ]
  }
 ],
 "metadata": {
  "anaconda-cloud": {},
  "kernelspec": {
   "display_name": "Python [default]",
   "language": "python",
   "name": "python2"
  },
  "language_info": {
   "codemirror_mode": {
    "name": "ipython",
    "version": 2
   },
   "file_extension": ".py",
   "mimetype": "text/x-python",
   "name": "python",
   "nbconvert_exporter": "python",
   "pygments_lexer": "ipython2",
   "version": "2.7.12"
  }
 },
 "nbformat": 4,
 "nbformat_minor": 1
}
