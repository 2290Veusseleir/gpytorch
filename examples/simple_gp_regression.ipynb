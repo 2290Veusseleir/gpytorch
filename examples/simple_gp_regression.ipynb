{
 "cells": [
  {
   "cell_type": "code",
   "execution_count": 1,
   "metadata": {
    "collapsed": false
   },
   "outputs": [],
   "source": [
    "import math\n",
    "import torch\n",
    "import gpytorch\n",
    "from matplotlib import pyplot as plt\n",
    "\n",
    "%matplotlib inline\n",
    "%load_ext autoreload\n",
    "%autoreload 2"
   ]
  },
  {
   "cell_type": "code",
   "execution_count": 2,
   "metadata": {
    "collapsed": false
   },
   "outputs": [],
   "source": [
    "from torch.autograd import Variable\n",
    "train_x = Variable(torch.linspace(0, 1, 11))\n",
    "train_y = Variable(torch.sin(train_x.data * (2 * math.pi)) + torch.randn(train_x.size()) * 0.2)"
   ]
  },
  {
   "cell_type": "code",
   "execution_count": 3,
   "metadata": {
    "collapsed": false
   },
   "outputs": [],
   "source": [
    "from torch import optim\n",
    "from gpytorch.kernels import RBFKernel\n",
    "from gpytorch.means import ConstantMean\n",
    "from gpytorch.likelihoods import GaussianLikelihood\n",
    "from gpytorch.random_variables import GaussianRandomVariable"
   ]
  },
  {
   "cell_type": "code",
   "execution_count": 4,
   "metadata": {
    "collapsed": false
   },
   "outputs": [],
   "source": [
    "class ExactGPModel(gpytorch.GPModel):\n",
    "    def __init__(self):\n",
    "        super(ExactGPModel,self).__init__(GaussianLikelihood(log_noise_bounds=(-5, 5)))\n",
    "        self.mean_module = ConstantMean(constant_bounds=(-1, 1))\n",
    "        self.covar_module = RBFKernel(log_lengthscale_bounds=(-5, 5))\n",
    "    \n",
    "    def forward(self,x):\n",
    "        mean_x = self.mean_module(x)\n",
    "        covar_x = self.covar_module(x)\n",
    "        return GaussianRandomVariable(mean_x, covar_x)\n",
    "\n",
    "prior_model = ExactGPModel()"
   ]
  },
  {
   "cell_type": "code",
   "execution_count": 5,
   "metadata": {
    "collapsed": false
   },
   "outputs": [],
   "source": [
    "def plot_model_and_predictions(model, plot_train_data=True):\n",
    "    f, observed_ax = plt.subplots(1, 1, figsize=(4, 3))\n",
    "    test_x = Variable(torch.linspace(0, 1, 51))\n",
    "    observed_pred = model(test_x)\n",
    "\n",
    "    def ax_plot(ax, rand_var, title):\n",
    "        lower, upper = rand_var.confidence_region()\n",
    "        if plot_train_data:\n",
    "            ax.plot(train_x.data.numpy(), train_y.data.numpy(), 'k*')\n",
    "        ax.plot(test_x.data.numpy(), rand_var.mean().data.numpy(), 'b')\n",
    "        ax.fill_between(test_x.data.numpy(), lower.data.numpy(), upper.data.numpy(), alpha=0.5)\n",
    "        ax.set_ylim([-3, 3])\n",
    "        ax.legend(['Observed Data', 'Mean', 'Confidence'])\n",
    "        ax.set_title(title)\n",
    "    \n",
    "    ax_plot(observed_ax, observed_pred, 'Observed Values (Likelihood)')\n",
    "    \n",
    "    return f"
   ]
  },
  {
   "cell_type": "code",
   "execution_count": 6,
   "metadata": {
    "collapsed": false
   },
   "outputs": [
    {
     "data": {
      "image/png": "[encoded data removed]",
      "text/plain": [
       "<matplotlib.figure.Figure at 0x1133f9d10>"
      ]
     },
     "metadata": {},
     "output_type": "display_data"
    }
   ],
   "source": [
    "fig = plot_model_and_predictions(prior_model, plot_train_data=False)"
   ]
  },
  {
   "cell_type": "code",
   "execution_count": 7,
   "metadata": {
    "collapsed": false,
    "scrolled": false
   },
   "outputs": [
    {
     "name": "stdout",
     "output_type": "stream",
     "text": [
      "Iter 1/20 - Loss: 13.829   log_lengthscale: 0.000   log_noise: 0.000\n",
      "Iter 2/20 - Loss: 13.536   log_lengthscale: -0.100   log_noise: -0.100\n",
      "Iter 3/20 - Loss: 13.306   log_lengthscale: -0.197   log_noise: -0.200\n",
      "Iter 4/20 - Loss: 14.604   log_lengthscale: -0.292   log_noise: -0.299\n",
      "Iter 5/20 - Loss: 13.322   log_lengthscale: -0.385   log_noise: -0.397\n",
      "Iter 6/20 - Loss: 13.500   log_lengthscale: -0.478   log_noise: -0.494\n",
      "Iter 7/20 - Loss: 12.343   log_lengthscale: -0.570   log_noise: -0.590\n",
      "Iter 8/20 - Loss: 12.945   log_lengthscale: -0.662   log_noise: -0.683\n",
      "Iter 9/20 - Loss: 12.007   log_lengthscale: -0.755   log_noise: -0.774\n",
      "Iter 10/20 - Loss: 11.637   log_lengthscale: -0.847   log_noise: -0.863\n",
      "Iter 11/20 - Loss: 11.984   log_lengthscale: -0.941   log_noise: -0.948\n",
      "Iter 12/20 - Loss: 10.773   log_lengthscale: -1.036   log_noise: -1.031\n",
      "Iter 13/20 - Loss: 10.929   log_lengthscale: -1.133   log_noise: -1.112\n",
      "Iter 14/20 - Loss: 13.348   log_lengthscale: -1.232   log_noise: -1.192\n",
      "Iter 15/20 - Loss: 11.825   log_lengthscale: -1.333   log_noise: -1.271\n",
      "Iter 16/20 - Loss: 9.722   log_lengthscale: -1.436   log_noise: -1.351\n",
      "Iter 17/20 - Loss: 10.097   log_lengthscale: -1.542   log_noise: -1.432\n",
      "Iter 18/20 - Loss: 9.337   log_lengthscale: -1.650   log_noise: -1.516\n",
      "Iter 19/20 - Loss: 9.667   log_lengthscale: -1.758   log_noise: -1.602\n",
      "Iter 20/20 - Loss: 9.276   log_lengthscale: -1.867   log_noise: -1.689\n",
      "Iter 21/20 - Loss: 9.641   log_lengthscale: -1.973   log_noise: -1.779\n",
      "Iter 22/20 - Loss: 7.841   log_lengthscale: -2.074   log_noise: -1.869\n",
      "Iter 23/20 - Loss: 9.033   log_lengthscale: -2.169   log_noise: -1.960\n",
      "Iter 24/20 - Loss: 9.812   log_lengthscale: -2.256   log_noise: -2.051\n",
      "Iter 25/20 - Loss: 10.257   log_lengthscale: -2.333   log_noise: -2.141\n",
      "Iter 26/20 - Loss: 8.154   log_lengthscale: -2.399   log_noise: -2.229\n",
      "Iter 27/20 - Loss: 8.942   log_lengthscale: -2.454   log_noise: -2.315\n",
      "Iter 28/20 - Loss: 8.324   log_lengthscale: -2.497   log_noise: -2.398\n",
      "Iter 29/20 - Loss: 10.705   log_lengthscale: -2.529   log_noise: -2.477\n",
      "Iter 30/20 - Loss: 9.189   log_lengthscale: -2.550   log_noise: -2.552\n",
      "Iter 31/20 - Loss: 9.773   log_lengthscale: -2.561   log_noise: -2.621\n",
      "Iter 32/20 - Loss: 8.260   log_lengthscale: -2.561   log_noise: -2.685\n",
      "Iter 33/20 - Loss: 10.385   log_lengthscale: -2.553   log_noise: -2.742\n",
      "Iter 34/20 - Loss: 9.949   log_lengthscale: -2.537   log_noise: -2.792\n",
      "Iter 35/20 - Loss: 10.382   log_lengthscale: -2.514   log_noise: -2.835\n",
      "Iter 36/20 - Loss: 8.699   log_lengthscale: -2.485   log_noise: -2.871\n",
      "Iter 37/20 - Loss: 9.634   log_lengthscale: -2.452   log_noise: -2.898\n",
      "Iter 38/20 - Loss: 7.076   log_lengthscale: -2.416   log_noise: -2.918\n",
      "Iter 39/20 - Loss: 8.634   log_lengthscale: -2.378   log_noise: -2.930\n",
      "Iter 40/20 - Loss: 7.983   log_lengthscale: -2.340   log_noise: -2.935\n",
      "Iter 41/20 - Loss: 9.327   log_lengthscale: -2.302   log_noise: -2.933\n",
      "Iter 42/20 - Loss: 5.449   log_lengthscale: -2.265   log_noise: -2.925\n",
      "Iter 43/20 - Loss: 7.327   log_lengthscale: -2.231   log_noise: -2.911\n",
      "Iter 44/20 - Loss: 6.842   log_lengthscale: -2.201   log_noise: -2.892\n",
      "Iter 45/20 - Loss: 7.764   log_lengthscale: -2.175   log_noise: -2.869\n",
      "Iter 46/20 - Loss: 8.150   log_lengthscale: -2.153   log_noise: -2.842\n",
      "Iter 47/20 - Loss: 7.301   log_lengthscale: -2.136   log_noise: -2.813\n",
      "Iter 48/20 - Loss: 9.885   log_lengthscale: -2.123   log_noise: -2.783\n",
      "Iter 49/20 - Loss: 7.800   log_lengthscale: -2.115   log_noise: -2.751\n",
      "Iter 50/20 - Loss: 9.509   log_lengthscale: -2.112   log_noise: -2.719\n"
     ]
    }
   ],
   "source": [
    "from gpytorch.inference import Inference\n",
    "infer = Inference(prior_model)\n",
    "posterior_model = infer.run(train_x, train_y)\n",
    "\n",
    "# Find optimal model hyperparameters\n",
    "posterior_model.train()\n",
    "optimizer = optim.Adam(posterior_model.parameters(), lr=0.1)\n",
    "optimizer.n_iter = 0\n",
    "for i in range(50):\n",
    "    optimizer.zero_grad()\n",
    "    output = posterior_model(train_x)\n",
    "    loss = -posterior_model.marginal_log_likelihood(output, train_y)\n",
    "    loss.backward()\n",
    "    optimizer.n_iter += 1\n",
    "    print('Iter %d/20 - Loss: %.3f   log_lengthscale: %.3f   log_noise: %.3f' % (\n",
    "        i + 1, loss.data[0],\n",
    "        posterior_model.prior_model.covar_module.log_lengthscale.data[0, 0],\n",
    "        posterior_model.prior_model.likelihood.log_noise.data[0]\n",
    "    ))\n",
    "    optimizer.step()\n",
    "    \n",
    "# Set back to eval mode\n",
    "posterior_model.eval()\n",
    "None"
   ]
  },
  {
   "cell_type": "code",
   "execution_count": 8,
   "metadata": {
    "collapsed": false,
    "scrolled": false
   },
   "outputs": [
    {
     "data": {
      "image/png": "[encoded data removed]",
      "text/plain": [
       "<matplotlib.figure.Figure at 0x113448790>"
      ]
     },
     "metadata": {},
     "output_type": "display_data"
    }
   ],
   "source": [
    "fig = plot_model_and_predictions(posterior_model)"
   ]
  }
 ],
 "metadata": {
  "anaconda-cloud": {},
  "kernelspec": {
   "display_name": "Python [default]",
   "language": "python",
   "name": "python2"
  },
  "language_info": {
   "codemirror_mode": {
    "name": "ipython",
    "version": 2
   },
   "file_extension": ".py",
   "mimetype": "text/x-python",
   "name": "python",
   "nbconvert_exporter": "python",
   "pygments_lexer": "ipython2",
   "version": "2.7.12"
  }
 },
 "nbformat": 4,
 "nbformat_minor": 1
}
