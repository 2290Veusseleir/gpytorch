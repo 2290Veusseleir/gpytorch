{
 "cells": [
  {
   "cell_type": "markdown",
   "metadata": {},
   "source": [
    "# Simple GP Regression with an RBF Kernel\n",
    "\n",
    "## Introduction\n",
    "\n",
    "In this notebook, we demonstrate many of the design features of GPyTorch using the simplest example, training an RBF kernel Gaussian process on a simple function. We'll be modeling the function $$y = \\sin(2\\pi x) + \\epsilon$$ $$\\epsilon \\sim \\mathcal{N}(0, 0.2)$$ with 11 training examples, and testing on 51 test examples.\n",
    "\n",
    "**Note:** this notebook is not necessarily intended to teach the mathematical background of Gaussian processes, but rather how to train a simple one and make predictions in GPyTorch. For a mathematical treatment, Chapter 2 of Gaussian Processes for Machine Learning provides a very thorough introduction to GP regression (this entire text is highly recommended): http://www.gaussianprocess.org/gpml/chapters/RW2.pdf"
   ]
  },
  {
   "cell_type": "code",
   "execution_count": null,
   "metadata": {
    "collapsed": true
   },
   "outputs": [],
   "source": [
    "import math\n",
    "import torch\n",
    "import gpytorch\n",
    "from matplotlib import pyplot as plt\n",
    "\n",
    "%matplotlib inline\n",
    "%load_ext autoreload\n",
    "%autoreload 2"
   ]
  },
  {
   "cell_type": "code",
   "execution_count": null,
   "metadata": {
    "collapsed": true
   },
   "outputs": [],
   "source": [
    "from torch import optim\n",
    "from gpytorch.kernels import RBFKernel\n",
    "from gpytorch.means import ConstantMean\n",
    "from gpytorch.priors import SmoothedBoxPrior\n",
    "from gpytorch.likelihoods import GaussianLikelihood\n",
    "from gpytorch.random_variables import GaussianRandomVariable"
   ]
  },
  {
   "cell_type": "markdown",
   "metadata": {},
   "source": [
    "## Set up training data\n",
    "\n",
    "In the next cell, we set up the training data for this example. We'll be using 11 regularly spaced points on [0,1] which we evaluate the function on and add Gaussian noise to get the training labels."
   ]
  },
  {
   "cell_type": "code",
   "execution_count": 3,
   "metadata": {},
   "outputs": [],
   "source": [
    "# Training data is 11 points in [0,1] inclusive regularly spaced\n",
    "train_x = torch.linspace(0, 1, 100)\n",
    "# True function is sin(2*pi*x) with Gaussian noise\n",
    "train_y = torch.sin(train_x.data * (2 * math.pi)) + torch.randn(train_x.size()) * 0.2"
   ]
  },
  {
   "cell_type": "markdown",
   "metadata": {},
   "source": [
    "## Setting up the model\n",
    "\n",
    "The next cell demonstrates the most critical features of a user-defined Gaussian process model in GPyTorch. Building a GP model in GPyTorch is different in a number of ways.\n",
    "\n",
    "First in contrast to many existing GP packages, we do not provide full GP models for the user. Rather, we provide *the tools necessary to quickly construct one*. This is because we believe, analogous to building a neural network in standard PyTorch, it is important to have the flexibility to include whatever components are necessary. As can be seen in more complicated examples, like the `dkl_mnist.ipynb` example which combines deep learning and Gaussian processes, this allows the user great flexibility in designing custom models.\n",
    "\n",
    "The components of a user built (Exact, i.e. non-variational) GP model in GPyTorch are, broadly speaking:\n",
    "\n",
    "1. An `__init__` method that takes the training data and a likelihood, and constructs whatever objects are necessary for the model's `forward` method. This will most commonly include things like a mean module and a kernel module, but may also include things like extra parameters, such as a log outputscale that we will see in later examples.\n",
    "\n",
    "2. A `forward` method that takes in some $n \\times d$ data `x` and returns a GaussianRandomVariable with the *prior* mean and covariance evaluated at `x`. In other words, we return the vector $\\mu(x)$ and the $n \\times n$ matrix $K_{xx}$ representing the prior mean and covariance matrix of the GP. \n",
    "\n",
    "This specification leaves a large amount of flexibility when defining a model. For example, to compose two kernels via addition, you can either add the kernel modules directly:\n",
    "\n",
    "```python\n",
    "self.covar_module = RBFKernel() + WhiteNoiseKernel()\n",
    "```\n",
    "\n",
    "Or you can add the outputs of the kernel in the forward method:\n",
    "\n",
    "```python\n",
    "covar_x = self.rbf_kernel_module(x) + self.white_noise_module(x)\n",
    "```"
   ]
  },
  {
   "cell_type": "code",
   "execution_count": 4,
   "metadata": {
    "collapsed": true
   },
   "outputs": [],
   "source": [
    "# We will use the simplest form of GP model, exact inference\n",
    "class ExactGPModel(gpytorch.models.ExactGP):\n",
    "    def __init__(self, train_x, train_y, likelihood):\n",
    "        super(ExactGPModel, self).__init__(train_x, train_y, likelihood)\n",
    "        self.mean_module = ConstantMean()\n",
    "        self.covar_module = RBFKernel()\n",
    "    \n",
    "    def forward(self, x):\n",
    "        mean_x = self.mean_module(x)\n",
    "        covar_x = self.covar_module(x)\n",
    "        return GaussianRandomVariable(mean_x, covar_x)\n",
    "\n",
    "# initialize likelihood and model\n",
    "likelihood = GaussianLikelihood()\n",
    "model = ExactGPModel(train_x.data, train_y.data, likelihood)"
   ]
  },
  {
   "cell_type": "markdown",
   "metadata": {},
   "source": [
    "## Training the model\n",
    "\n",
    "In the next cell, we handle using Type-II MLE to train the hyperparameters of the Gaussian process.\n",
    "\n",
    "The most obvious difference here compared to many other GP implementations is that, as in standard PyTorch, the core training loop is written by the user. In GPyTorch, we make use of the standard PyTorch optimizers as from `torch.optim`, and all trainable parameters of the model should be of type `torch.nn.Parameter`. Because GP models directly extend `torch.nn.Module`, calls to methods like `model.parameters()` or `model.named_parameters()` function as you might expect coming from PyTorch.\n",
    "\n",
    "In most cases, the boilerplate code below will work well. It has the same basic components as the standard PyTorch training loop:\n",
    "\n",
    "1. Zero all parameter gradients\n",
    "2. Call the model and compute the loss\n",
    "3. Call backward on the loss to fill in gradients\n",
    "4. Take a step on the optimizer\n",
    "\n",
    "However, defining custom training loops allows for greater flexibility. For example, it is easy to save the parameters at each step of training, or use different learning rates for different parameters (which may be useful in deep kernel learning for example)."
   ]
  },
  {
   "cell_type": "code",
   "execution_count": 5,
   "metadata": {
    "scrolled": false
   },
   "outputs": [
    {
     "name": "stdout",
     "output_type": "stream",
     "text": [
      "Iter 1/50 - Loss: 1.076   log_lengthscale: 0.000   log_noise: 0.000\n",
      "Iter 2/50 - Loss: 1.035   log_lengthscale: -0.100   log_noise: -0.100\n",
      "Iter 3/50 - Loss: 0.994   log_lengthscale: -0.200   log_noise: -0.200\n",
      "Iter 4/50 - Loss: 0.953   log_lengthscale: -0.299   log_noise: -0.300\n",
      "Iter 5/50 - Loss: 0.912   log_lengthscale: -0.399   log_noise: -0.400\n",
      "Iter 6/50 - Loss: 0.867   log_lengthscale: -0.498   log_noise: -0.499\n",
      "Iter 7/50 - Loss: 0.819   log_lengthscale: -0.597   log_noise: -0.599\n",
      "Iter 8/50 - Loss: 0.765   log_lengthscale: -0.696   log_noise: -0.698\n",
      "Iter 9/50 - Loss: 0.707   log_lengthscale: -0.793   log_noise: -0.798\n",
      "Iter 10/50 - Loss: 0.649   log_lengthscale: -0.892   log_noise: -0.899\n",
      "Iter 11/50 - Loss: 0.592   log_lengthscale: -0.992   log_noise: -1.000\n",
      "Iter 12/50 - Loss: 0.541   log_lengthscale: -1.092   log_noise: -1.101\n",
      "Iter 13/50 - Loss: 0.496   log_lengthscale: -1.188   log_noise: -1.202\n",
      "Iter 14/50 - Loss: 0.455   log_lengthscale: -1.277   log_noise: -1.304\n",
      "Iter 15/50 - Loss: 0.417   log_lengthscale: -1.357   log_noise: -1.406\n",
      "Iter 16/50 - Loss: 0.383   log_lengthscale: -1.424   log_noise: -1.508\n",
      "Iter 17/50 - Loss: 0.345   log_lengthscale: -1.481   log_noise: -1.610\n",
      "Iter 18/50 - Loss: 0.313   log_lengthscale: -1.528   log_noise: -1.711\n",
      "Iter 19/50 - Loss: 0.282   log_lengthscale: -1.564   log_noise: -1.812\n",
      "Iter 20/50 - Loss: 0.253   log_lengthscale: -1.588   log_noise: -1.913\n",
      "Iter 21/50 - Loss: 0.218   log_lengthscale: -1.596   log_noise: -2.013\n",
      "Iter 22/50 - Loss: 0.188   log_lengthscale: -1.596   log_noise: -2.113\n",
      "Iter 23/50 - Loss: 0.154   log_lengthscale: -1.587   log_noise: -2.212\n",
      "Iter 24/50 - Loss: 0.127   log_lengthscale: -1.567   log_noise: -2.309\n",
      "Iter 25/50 - Loss: 0.108   log_lengthscale: -1.542   log_noise: -2.406\n",
      "Iter 26/50 - Loss: 0.071   log_lengthscale: -1.509   log_noise: -2.502\n",
      "Iter 27/50 - Loss: 0.048   log_lengthscale: -1.472   log_noise: -2.596\n",
      "Iter 28/50 - Loss: 0.026   log_lengthscale: -1.428   log_noise: -2.688\n",
      "Iter 29/50 - Loss: 0.010   log_lengthscale: -1.381   log_noise: -2.778\n",
      "Iter 30/50 - Loss: -0.010   log_lengthscale: -1.330   log_noise: -2.866\n",
      "Iter 31/50 - Loss: -0.021   log_lengthscale: -1.280   log_noise: -2.952\n",
      "Iter 32/50 - Loss: -0.025   log_lengthscale: -1.235   log_noise: -3.034\n",
      "Iter 33/50 - Loss: -0.030   log_lengthscale: -1.194   log_noise: -3.114\n",
      "Iter 34/50 - Loss: -0.030   log_lengthscale: -1.155   log_noise: -3.189\n",
      "Iter 35/50 - Loss: -0.025   log_lengthscale: -1.122   log_noise: -3.260\n",
      "Iter 36/50 - Loss: -0.021   log_lengthscale: -1.109   log_noise: -3.326\n",
      "Iter 37/50 - Loss: -0.015   log_lengthscale: -1.105   log_noise: -3.387\n",
      "Iter 38/50 - Loss: -0.002   log_lengthscale: -1.112   log_noise: -3.443\n",
      "Iter 39/50 - Loss: 0.005   log_lengthscale: -1.126   log_noise: -3.493\n",
      "Iter 40/50 - Loss: 0.017   log_lengthscale: -1.150   log_noise: -3.536\n",
      "Iter 41/50 - Loss: 0.032   log_lengthscale: -1.175   log_noise: -3.574\n",
      "Iter 42/50 - Loss: 0.049   log_lengthscale: -1.202   log_noise: -3.604\n",
      "Iter 43/50 - Loss: 0.061   log_lengthscale: -1.229   log_noise: -3.629\n",
      "Iter 44/50 - Loss: 0.071   log_lengthscale: -1.246   log_noise: -3.647\n",
      "Iter 45/50 - Loss: 0.093   log_lengthscale: -1.274   log_noise: -3.659\n",
      "Iter 46/50 - Loss: 0.113   log_lengthscale: -1.294   log_noise: -3.665\n",
      "Iter 47/50 - Loss: 0.112   log_lengthscale: -1.299   log_noise: -3.665\n",
      "Iter 48/50 - Loss: 0.122   log_lengthscale: -1.296   log_noise: -3.661\n",
      "Iter 49/50 - Loss: 0.144   log_lengthscale: -1.285   log_noise: -3.653\n",
      "Iter 50/50 - Loss: 0.146   log_lengthscale: -1.260   log_noise: -3.640\n"
     ]
    }
   ],
   "source": [
    "# Find optimal model hyperparameters\n",
    "model.train()\n",
    "likelihood.train()\n",
    "\n",
    "# Use the adam optimizer\n",
    "optimizer = torch.optim.Adam([\n",
    "    {'params': model.parameters()},  # Includes GaussianLikelihood parameters\n",
    "], lr=0.1)\n",
    "\n",
    "# \"Loss\" for GPs - the marginal log likelihood\n",
    "mll = gpytorch.mlls.ExactMarginalLogLikelihood(likelihood, model)\n",
    "\n",
    "training_iter = 50\n",
    "for i in range(training_iter):\n",
    "    # Zero gradients from previous iteration\n",
    "    optimizer.zero_grad()\n",
    "    # Output from model\n",
    "    output = model(train_x)\n",
    "    # Calc loss and backprop gradients\n",
    "    loss = -mll(output, train_y)\n",
    "    loss.backward()\n",
    "    print('Iter %d/%d - Loss: %.3f   log_lengthscale: %.3f   log_noise: %.3f' % (\n",
    "        i + 1, training_iter, loss.data[0],\n",
    "        model.covar_module.log_lengthscale.data[0, 0],\n",
    "        model.likelihood.log_noise.data[0]\n",
    "    ))\n",
    "    optimizer.step()"
   ]
  },
  {
   "cell_type": "markdown",
   "metadata": {},
   "source": [
    "## Make predictions with the model\n",
    "\n",
    "In the next cell, we make predictions with the model. To do this, we simply put the model and likelihood in eval mode, and call both modules on the test data.\n",
    "\n",
    "Just as a user defined GP model returns a GaussianRandomVariable containing the prior mean and covariance from forward, a trained GP model in eval mode returns a GaussianRandomVariable containing the posterior mean and covariance. Thus, getting the predictive mean and variance, and then sampling functions from the GP at the given test points could be accomplished with calls like:\n",
    "\n",
    "```python\n",
    "f_preds = model(test_x)\n",
    "y_preds = likelihood(model(test_x))\n",
    "f_mean = f_preds.mean()\n",
    "f_var = f_preds.var()\n",
    "f_covar = f_preds.covar()\n",
    "f_samples = f_preds.sample(1000)\n",
    "```\n",
    "\n",
    "The `gpytorch.fast_pred_var` context is not needed, but here we are giving a preview of using one of our cool features, getting faster predictive distributions using LOVE (https://arxiv.org/abs/1803.06058)."
   ]
  },
  {
   "cell_type": "code",
   "execution_count": 6,
   "metadata": {
    "collapsed": true
   },
   "outputs": [],
   "source": [
    "# Put model and likelihood into eval mode\n",
    "model.eval()\n",
    "likelihood.eval()\n",
    "\n",
    "# Test points are regularly spaced along [0,1]\n",
    "test_x = torch.linspace(0, 1, 51)\n",
    "# Make predictions by feeding model through likelihood\n",
    "with gpytorch.fast_pred_var():\n",
    "    observed_pred = likelihood(model(test_x))"
   ]
  },
  {
   "cell_type": "markdown",
   "metadata": {},
   "source": [
    "## Plot the model fit\n",
    "\n",
    "In the next cell, we plot the mean and confidence region of the Gaussian process model. The `confidence_region` method is a helper method that returns 2 standard deviations above and below the mean."
   ]
  },
  {
   "cell_type": "code",
   "execution_count": 7,
   "metadata": {
    "scrolled": false
   },
   "outputs": [
    {
     "data": {
      "image/png": "[encoded data removed]",
      "text/plain": [
       "<matplotlib.figure.Figure at 0x7fb0322c7a20>"
      ]
     },
     "metadata": {},
     "output_type": "display_data"
    }
   ],
   "source": [
    "# Initialize plot\n",
    "f, observed_ax = plt.subplots(1, 1, figsize=(4, 3))\n",
    "\n",
    "# Define plotting function\n",
    "def ax_plot(ax, rand_var, title):\n",
    "    # Get upper and lower confidence bounds\n",
    "    lower, upper = rand_var.confidence_region()\n",
    "    # Plot training data as black stars\n",
    "    ax.plot(train_x.data.numpy(), train_y.data.numpy(), 'k*')\n",
    "    # Plot predictive means as blue line\n",
    "    ax.plot(test_x.data.numpy(), rand_var.mean().data.numpy(), 'b')\n",
    "    # Shade between the lower and upper confidence bounds\n",
    "    ax.fill_between(test_x.data.numpy(), lower.data.numpy(), upper.data.numpy(), alpha=0.5)\n",
    "    ax.set_ylim([-3, 3])\n",
    "    ax.legend(['Observed Data', 'Mean', 'Confidence'])\n",
    "    ax.set_title(title)\n",
    "# Plot the predictions\n",
    "ax_plot(observed_ax, observed_pred, 'Observed Values (Likelihood)')"
   ]
  },
  {
   "cell_type": "code",
   "execution_count": null,
   "metadata": {
    "collapsed": true
   },
   "outputs": [],
   "source": []
  }
 ],
 "metadata": {
  "anaconda-cloud": {},
  "kernelspec": {
   "display_name": "Python 3",
   "language": "python",
   "name": "python3"
  },
  "language_info": {
   "codemirror_mode": {
    "name": "ipython",
    "version": 3
   },
   "file_extension": ".py",
   "mimetype": "text/x-python",
   "name": "python",
   "nbconvert_exporter": "python",
   "pygments_lexer": "ipython3",
   "version": "3.6.1"
  }
 },
 "nbformat": 4,
 "nbformat_minor": 1
}
