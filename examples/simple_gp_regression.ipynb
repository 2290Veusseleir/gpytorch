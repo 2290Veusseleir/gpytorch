{
 "cells": [
  {
   "cell_type": "code",
   "execution_count": 1,
   "metadata": {
    "collapsed": false
   },
   "outputs": [],
   "source": [
    "import math\n",
    "import torch\n",
    "import gpytorch\n",
    "from matplotlib import pyplot as plt\n",
    "\n",
    "%matplotlib inline\n",
    "%load_ext autoreload\n",
    "%autoreload 2"
   ]
  },
  {
   "cell_type": "code",
   "execution_count": 2,
   "metadata": {
    "collapsed": false
   },
   "outputs": [],
   "source": [
    "from torch.autograd import Variable\n",
    "train_x = Variable(torch.linspace(0, 1, 11))\n",
    "train_y = Variable(torch.sin(train_x.data * (2 * math.pi)) + torch.randn(train_x.size()) * 0.2)"
   ]
  },
  {
   "cell_type": "code",
   "execution_count": 3,
   "metadata": {
    "collapsed": false
   },
   "outputs": [],
   "source": [
    "from torch import nn, optim\n",
    "from gpytorch.kernels import RBFKernel\n",
    "from gpytorch.means import ConstantMean\n",
    "from gpytorch.likelihoods import GaussianLikelihood\n",
    "from gpytorch.random_variables import GaussianRandomVariable"
   ]
  },
  {
   "cell_type": "code",
   "execution_count": 4,
   "metadata": {
    "collapsed": false
   },
   "outputs": [],
   "source": [
    "class ExactGPModel(gpytorch.GPModel):\n",
    "    def __init__(self):\n",
    "        super(ExactGPModel,self).__init__(GaussianLikelihood())\n",
    "        self.mean_module = ConstantMean()\n",
    "        self.covar_module = RBFKernel()\n",
    "        self.register_parameter('log_noise', nn.Parameter(torch.Tensor([0])), bounds=(-5,5))\n",
    "        self.register_parameter('log_lengthscale', nn.Parameter(torch.Tensor([0])), bounds=(-5, 5))\n",
    "    \n",
    "    def forward(self,x):\n",
    "        mean_x = self.mean_module(x, constant=Variable(torch.Tensor([0])))\n",
    "        covar_x = self.covar_module(x, log_lengthscale=self.log_lengthscale)\n",
    "        latent_pred = GaussianRandomVariable(mean_x, covar_x)\n",
    "        return latent_pred, self.log_noise\n",
    "\n",
    "prior_model = ExactGPModel()"
   ]
  },
  {
   "cell_type": "code",
   "execution_count": 5,
   "metadata": {
    "collapsed": false
   },
   "outputs": [],
   "source": [
    "def plot_model_and_predictions(model, plot_train_data=True):\n",
    "    f, observed_ax = plt.subplots(1, 1, figsize=(4, 3))\n",
    "    test_x = Variable(torch.linspace(0, 1, 51))\n",
    "    observed_pred = model(test_x)\n",
    "\n",
    "    def ax_plot(ax, rand_var, title):\n",
    "        lower, upper = rand_var.confidence_region()\n",
    "        if plot_train_data:\n",
    "            ax.plot(train_x.data.numpy(), train_y.data.numpy(), 'k*')\n",
    "        ax.plot(test_x.data.numpy(), rand_var.mean().data.numpy(), 'b')\n",
    "        ax.fill_between(test_x.data.numpy(), lower.data.numpy(), upper.data.numpy(), alpha=0.5)\n",
    "        ax.set_ylim([-3, 3])\n",
    "        ax.legend(['Observed Data', 'Mean', 'Confidence'])\n",
    "        ax.set_title(title)\n",
    "    \n",
    "    ax_plot(observed_ax, observed_pred, 'Observed Values (Likelihood)')\n",
    "    \n",
    "    return f"
   ]
  },
  {
   "cell_type": "code",
   "execution_count": 6,
   "metadata": {
    "collapsed": false
   },
   "outputs": [
    {
     "data": {
      "image/png": "[encoded data removed]",
      "text/plain": [
       "<matplotlib.figure.Figure at 0x1134119d0>"
      ]
     },
     "metadata": {},
     "output_type": "display_data"
    }
   ],
   "source": [
    "fig = plot_model_and_predictions(prior_model, plot_train_data=False)"
   ]
  },
  {
   "cell_type": "code",
   "execution_count": 7,
   "metadata": {
    "collapsed": false,
    "scrolled": false
   },
   "outputs": [
    {
     "name": "stdout",
     "output_type": "stream",
     "text": [
      "Iter 1/20 - Loss: 13.130   log_lengthscale: 0.000   log_noise: 0.000\n",
      "Iter 2/20 - Loss: 12.211   log_lengthscale: -0.100   log_noise: -0.100\n",
      "Iter 3/20 - Loss: 13.338   log_lengthscale: -0.199   log_noise: -0.200\n",
      "Iter 4/20 - Loss: 11.382   log_lengthscale: -0.297   log_noise: -0.300\n",
      "Iter 5/20 - Loss: 11.289   log_lengthscale: -0.394   log_noise: -0.399\n",
      "Iter 6/20 - Loss: 11.529   log_lengthscale: -0.490   log_noise: -0.499\n",
      "Iter 7/20 - Loss: 11.265   log_lengthscale: -0.585   log_noise: -0.598\n",
      "Iter 8/20 - Loss: 10.831   log_lengthscale: -0.679   log_noise: -0.696\n",
      "Iter 9/20 - Loss: 10.719   log_lengthscale: -0.773   log_noise: -0.794\n",
      "Iter 10/20 - Loss: 9.795   log_lengthscale: -0.867   log_noise: -0.892\n",
      "Iter 11/20 - Loss: 11.459   log_lengthscale: -0.962   log_noise: -0.989\n",
      "Iter 12/20 - Loss: 8.361   log_lengthscale: -1.058   log_noise: -1.086\n",
      "Iter 13/20 - Loss: 9.211   log_lengthscale: -1.155   log_noise: -1.182\n",
      "Iter 14/20 - Loss: 9.913   log_lengthscale: -1.255   log_noise: -1.278\n",
      "Iter 15/20 - Loss: 10.104   log_lengthscale: -1.357   log_noise: -1.374\n",
      "Iter 16/20 - Loss: 8.245   log_lengthscale: -1.461   log_noise: -1.470\n",
      "Iter 17/20 - Loss: 6.569   log_lengthscale: -1.567   log_noise: -1.566\n",
      "Iter 18/20 - Loss: 7.924   log_lengthscale: -1.674   log_noise: -1.663\n",
      "Iter 19/20 - Loss: 7.140   log_lengthscale: -1.778   log_noise: -1.759\n",
      "Iter 20/20 - Loss: 7.031   log_lengthscale: -1.875   log_noise: -1.856\n",
      "Iter 21/20 - Loss: 6.048   log_lengthscale: -1.957   log_noise: -1.953\n",
      "Iter 22/20 - Loss: 6.883   log_lengthscale: -2.018   log_noise: -2.050\n",
      "Iter 23/20 - Loss: 6.339   log_lengthscale: -2.056   log_noise: -2.146\n",
      "Iter 24/20 - Loss: 6.290   log_lengthscale: -2.070   log_noise: -2.242\n",
      "Iter 25/20 - Loss: 5.945   log_lengthscale: -2.063   log_noise: -2.338\n",
      "Iter 26/20 - Loss: 5.856   log_lengthscale: -2.039   log_noise: -2.433\n",
      "Iter 27/20 - Loss: 6.266   log_lengthscale: -2.001   log_noise: -2.527\n",
      "Iter 28/20 - Loss: 6.508   log_lengthscale: -1.952   log_noise: -2.621\n",
      "Iter 29/20 - Loss: 8.255   log_lengthscale: -1.897   log_noise: -2.713\n",
      "Iter 30/20 - Loss: 5.967   log_lengthscale: -1.838   log_noise: -2.805\n",
      "Iter 31/20 - Loss: 4.241   log_lengthscale: -1.780   log_noise: -2.896\n",
      "Iter 32/20 - Loss: 3.243   log_lengthscale: -1.730   log_noise: -2.986\n",
      "Iter 33/20 - Loss: 3.211   log_lengthscale: -1.691   log_noise: -3.075\n",
      "Iter 34/20 - Loss: 1.429   log_lengthscale: -1.669   log_noise: -3.163\n",
      "Iter 35/20 - Loss: 5.567   log_lengthscale: -1.665   log_noise: -3.249\n",
      "Iter 36/20 - Loss: 3.855   log_lengthscale: -1.677   log_noise: -3.334\n",
      "Iter 37/20 - Loss: 0.903   log_lengthscale: -1.701   log_noise: -3.417\n",
      "Iter 38/20 - Loss: 1.038   log_lengthscale: -1.732   log_noise: -3.498\n",
      "Iter 39/20 - Loss: 0.756   log_lengthscale: -1.765   log_noise: -3.576\n",
      "Iter 40/20 - Loss: 5.439   log_lengthscale: -1.796   log_noise: -3.653\n",
      "Iter 41/20 - Loss: 4.086   log_lengthscale: -1.820   log_noise: -3.727\n",
      "Iter 42/20 - Loss: 1.887   log_lengthscale: -1.834   log_noise: -3.798\n",
      "Iter 43/20 - Loss: 2.097   log_lengthscale: -1.839   log_noise: -3.866\n",
      "Iter 44/20 - Loss: 2.828   log_lengthscale: -1.833   log_noise: -3.931\n",
      "Iter 45/20 - Loss: 1.970   log_lengthscale: -1.819   log_noise: -3.993\n",
      "Iter 46/20 - Loss: 0.970   log_lengthscale: -1.799   log_noise: -4.050\n",
      "Iter 47/20 - Loss: 3.732   log_lengthscale: -1.776   log_noise: -4.104\n",
      "Iter 48/20 - Loss: 2.723   log_lengthscale: -1.751   log_noise: -4.154\n",
      "Iter 49/20 - Loss: 4.181   log_lengthscale: -1.729   log_noise: -4.200\n",
      "Iter 50/20 - Loss: 4.610   log_lengthscale: -1.713   log_noise: -4.242\n"
     ]
    }
   ],
   "source": [
    "from gpytorch.inference import Inference\n",
    "infer = Inference(prior_model)\n",
    "posterior_model = infer.run(train_x, train_y)\n",
    "\n",
    "# Find optimal model hyperparameters\n",
    "posterior_model.train()\n",
    "optimizer = optim.Adam(posterior_model.parameters(), lr=0.1)\n",
    "optimizer.n_iter = 0\n",
    "for i in range(50):\n",
    "    optimizer.zero_grad()\n",
    "    output = posterior_model(train_x)\n",
    "    loss = -posterior_model.marginal_log_likelihood(output, train_y)\n",
    "    loss.backward()\n",
    "    optimizer.n_iter += 1\n",
    "    print('Iter %d/20 - Loss: %.3f   log_lengthscale: %.3f   log_noise: %.3f' % (\n",
    "        i + 1, loss.data[0],\n",
    "        posterior_model.prior_model.log_lengthscale.data[0],\n",
    "        posterior_model.prior_model.log_noise.data[0]\n",
    "    ))\n",
    "    optimizer.step()\n",
    "    \n",
    "# Set back to eval mode\n",
    "posterior_model.eval()\n",
    "None"
   ]
  },
  {
   "cell_type": "code",
   "execution_count": 8,
   "metadata": {
    "collapsed": false,
    "scrolled": false
   },
   "outputs": [
    {
     "data": {
      "image/png": "[encoded data removed]",
      "text/plain": [
       "<matplotlib.figure.Figure at 0x115761510>"
      ]
     },
     "metadata": {},
     "output_type": "display_data"
    }
   ],
   "source": [
    "fig = plot_model_and_predictions(posterior_model)"
   ]
  },
  {
   "cell_type": "code",
   "execution_count": null,
   "metadata": {
    "collapsed": true
   },
   "outputs": [],
   "source": []
  }
 ],
 "metadata": {
  "anaconda-cloud": {},
  "kernelspec": {
   "display_name": "Python [default]",
   "language": "python",
   "name": "python2"
  },
  "language_info": {
   "codemirror_mode": {
    "name": "ipython",
    "version": 2
   },
   "file_extension": ".py",
   "mimetype": "text/x-python",
   "name": "python",
   "nbconvert_exporter": "python",
   "pygments_lexer": "ipython2",
   "version": "2.7.12"
  }
 },
 "nbformat": 4,
 "nbformat_minor": 1
}
