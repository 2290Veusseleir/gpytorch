{
 "cells": [
  {
   "cell_type": "markdown",
   "metadata": {},
   "source": [
    "This example is the simplest form of using an RBF kernel in an `ExactGP` module for regression. This basic model is usable when there is not much training data and no advanced techniques are required.\n",
    "\n",
    "In this example, we’re modeling y = sin(2*pi*x)\n",
    "\n",
    "Chapter 2 of Gaussian Processes for Machine Learning provides a very thorough introduction to GP regression (this entire text is highly recommended): http://www.gaussianprocess.org/gpml/chapters/RW2.pdf"
   ]
  },
  {
   "cell_type": "code",
   "execution_count": 1,
   "metadata": {},
   "outputs": [],
   "source": [
    "import math\n",
    "import torch\n",
    "import gpytorch\n",
    "from matplotlib import pyplot as plt\n",
    "\n",
    "%matplotlib inline\n",
    "%load_ext autoreload\n",
    "%autoreload 2"
   ]
  },
  {
   "cell_type": "code",
   "execution_count": 2,
   "metadata": {},
   "outputs": [],
   "source": [
    "from torch.autograd import Variable\n",
    "# Training data is 11 points in [0,1] inclusive regularly spaced\n",
    "train_x = Variable(torch.linspace(0, 1, 11))\n",
    "# True function is sin(2*pi*x) with Gaussian noise N(0,0.04)\n",
    "train_y = Variable(torch.sin(train_x.data * (2 * math.pi)) + torch.randn(train_x.size()) * 0.2)"
   ]
  },
  {
   "cell_type": "code",
   "execution_count": 3,
   "metadata": {},
   "outputs": [],
   "source": [
    "from torch import optim\n",
    "from gpytorch.kernels import RBFKernel\n",
    "from gpytorch.means import ConstantMean\n",
    "from gpytorch.likelihoods import GaussianLikelihood\n",
    "from gpytorch.random_variables import GaussianRandomVariable"
   ]
  },
  {
   "cell_type": "code",
   "execution_count": 4,
   "metadata": {},
   "outputs": [],
   "source": [
    "# We will use the simplest form of GP model, exact inference\n",
    "class ExactGPModel(gpytorch.models.ExactGP):\n",
    "    def __init__(self, train_x, train_y, likelihood):\n",
    "        super(ExactGPModel, self).__init__(train_x, train_y, likelihood)\n",
    "        # Our mean function is constant in the interval [-1,1]\n",
    "        self.mean_module = ConstantMean(constant_bounds=(-1, 1))\n",
    "        # We use the RBF kernel as a universal approximator\n",
    "        self.covar_module = RBFKernel(log_lengthscale_bounds=(-5, 5))\n",
    "    \n",
    "    def forward(self, x):\n",
    "        mean_x = self.mean_module(x)\n",
    "        covar_x = self.covar_module(x)\n",
    "        # Return moddl output as GaussianRandomVariable\n",
    "        return GaussianRandomVariable(mean_x, covar_x)\n",
    "\n",
    "# initialize likelihood and model\n",
    "likelihood = GaussianLikelihood(log_noise_bounds=(-5, 5))\n",
    "model = ExactGPModel(train_x.data, train_y.data, likelihood)"
   ]
  },
  {
   "cell_type": "code",
   "execution_count": 5,
   "metadata": {
    "scrolled": false
   },
   "outputs": [
    {
     "name": "stdout",
     "output_type": "stream",
     "text": [
      "Iter 1/50 - Loss: 1.187   log_lengthscale: 0.000   log_noise: 0.000\n",
      "Iter 2/50 - Loss: 1.083   log_lengthscale: -0.100   log_noise: -0.100\n",
      "Iter 3/50 - Loss: 1.111   log_lengthscale: -0.199   log_noise: -0.200\n",
      "Iter 4/50 - Loss: 1.108   log_lengthscale: -0.179   log_noise: -0.300\n",
      "Iter 5/50 - Loss: 1.003   log_lengthscale: -0.189   log_noise: -0.399\n",
      "Iter 6/50 - Loss: 1.056   log_lengthscale: -0.224   log_noise: -0.498\n",
      "Iter 7/50 - Loss: 1.033   log_lengthscale: -0.262   log_noise: -0.597\n",
      "Iter 8/50 - Loss: 0.867   log_lengthscale: -0.296   log_noise: -0.695\n",
      "Iter 9/50 - Loss: 1.087   log_lengthscale: -0.340   log_noise: -0.793\n",
      "Iter 10/50 - Loss: 0.834   log_lengthscale: -0.403   log_noise: -0.889\n",
      "Iter 11/50 - Loss: 1.004   log_lengthscale: -0.470   log_noise: -0.985\n",
      "Iter 12/50 - Loss: 0.856   log_lengthscale: -0.544   log_noise: -1.079\n",
      "Iter 13/50 - Loss: 0.760   log_lengthscale: -0.615   log_noise: -1.172\n",
      "Iter 14/50 - Loss: 0.894   log_lengthscale: -0.694   log_noise: -1.265\n",
      "Iter 15/50 - Loss: 0.798   log_lengthscale: -0.780   log_noise: -1.357\n",
      "Iter 16/50 - Loss: 0.726   log_lengthscale: -0.855   log_noise: -1.447\n",
      "Iter 17/50 - Loss: 0.724   log_lengthscale: -0.937   log_noise: -1.537\n",
      "Iter 18/50 - Loss: 0.712   log_lengthscale: -1.025   log_noise: -1.626\n",
      "Iter 19/50 - Loss: 0.788   log_lengthscale: -1.118   log_noise: -1.715\n",
      "Iter 20/50 - Loss: 0.624   log_lengthscale: -1.216   log_noise: -1.803\n",
      "Iter 21/50 - Loss: 0.635   log_lengthscale: -1.318   log_noise: -1.892\n",
      "Iter 22/50 - Loss: 0.596   log_lengthscale: -1.424   log_noise: -1.980\n",
      "Iter 23/50 - Loss: 0.703   log_lengthscale: -1.529   log_noise: -2.069\n",
      "Iter 24/50 - Loss: 0.631   log_lengthscale: -1.625   log_noise: -2.158\n",
      "Iter 25/50 - Loss: 0.502   log_lengthscale: -1.725   log_noise: -2.246\n",
      "Iter 26/50 - Loss: 0.365   log_lengthscale: -1.825   log_noise: -2.335\n",
      "Iter 27/50 - Loss: 0.502   log_lengthscale: -1.907   log_noise: -2.426\n",
      "Iter 28/50 - Loss: 0.411   log_lengthscale: -1.972   log_noise: -2.516\n",
      "Iter 29/50 - Loss: 0.598   log_lengthscale: -2.026   log_noise: -2.607\n",
      "Iter 30/50 - Loss: 0.506   log_lengthscale: -2.050   log_noise: -2.696\n",
      "Iter 31/50 - Loss: 0.603   log_lengthscale: -2.048   log_noise: -2.783\n",
      "Iter 32/50 - Loss: 0.622   log_lengthscale: -2.031   log_noise: -2.867\n",
      "Iter 33/50 - Loss: 0.466   log_lengthscale: -2.014   log_noise: -2.950\n",
      "Iter 34/50 - Loss: 0.329   log_lengthscale: -1.982   log_noise: -3.030\n",
      "Iter 35/50 - Loss: 0.145   log_lengthscale: -1.945   log_noise: -3.110\n",
      "Iter 36/50 - Loss: 0.525   log_lengthscale: -1.904   log_noise: -3.191\n",
      "Iter 37/50 - Loss: 0.286   log_lengthscale: -1.855   log_noise: -3.268\n",
      "Iter 38/50 - Loss: 0.382   log_lengthscale: -1.809   log_noise: -3.345\n",
      "Iter 39/50 - Loss: 0.385   log_lengthscale: -1.761   log_noise: -3.418\n",
      "Iter 40/50 - Loss: 0.183   log_lengthscale: -1.738   log_noise: -3.489\n",
      "Iter 41/50 - Loss: 0.191   log_lengthscale: -1.720   log_noise: -3.558\n",
      "Iter 42/50 - Loss: 0.564   log_lengthscale: -1.707   log_noise: -3.625\n",
      "Iter 43/50 - Loss: 0.567   log_lengthscale: -1.689   log_noise: -3.685\n",
      "Iter 44/50 - Loss: 0.365   log_lengthscale: -1.669   log_noise: -3.738\n",
      "Iter 45/50 - Loss: 0.616   log_lengthscale: -1.668   log_noise: -3.788\n",
      "Iter 46/50 - Loss: 0.342   log_lengthscale: -1.664   log_noise: -3.831\n",
      "Iter 47/50 - Loss: 0.313   log_lengthscale: -1.681   log_noise: -3.870\n",
      "Iter 48/50 - Loss: 0.540   log_lengthscale: -1.714   log_noise: -3.905\n",
      "Iter 49/50 - Loss: 0.139   log_lengthscale: -1.752   log_noise: -3.934\n",
      "Iter 50/50 - Loss: 0.293   log_lengthscale: -1.800   log_noise: -3.961\n"
     ]
    }
   ],
   "source": [
    "# Find optimal model hyperparameters\n",
    "model.train()\n",
    "likelihood.train()\n",
    "\n",
    "# Use the adam optimizer\n",
    "optimizer = torch.optim.Adam([\n",
    "    {'params': model.parameters()},  # Includes GaussianLikelihood parameters\n",
    "], lr=0.1)\n",
    "\n",
    "# \"Loss\" for GPs - the marginal log likelihood\n",
    "mll = gpytorch.mlls.ExactMarginalLogLikelihood(likelihood, model)\n",
    "\n",
    "training_iter = 50\n",
    "for i in range(training_iter):\n",
    "    # Zero gradients from previous iteration\n",
    "    optimizer.zero_grad()\n",
    "    # Output from model\n",
    "    output = model(train_x)\n",
    "    # Calc loss and backprop gradients\n",
    "    loss = -mll(output, train_y)\n",
    "    loss.backward()\n",
    "    print('Iter %d/%d - Loss: %.3f   log_lengthscale: %.3f   log_noise: %.3f' % (\n",
    "        i + 1, training_iter, loss.data[0],\n",
    "        model.covar_module.log_lengthscale.data[0, 0],\n",
    "        model.likelihood.log_noise.data[0]\n",
    "    ))\n",
    "    optimizer.step()"
   ]
  },
  {
   "cell_type": "code",
   "execution_count": 6,
   "metadata": {
    "scrolled": false
   },
   "outputs": [
    {
     "data": {
      "image/png": "[encoded data removed]",
      "text/plain": [
       "<matplotlib.figure.Figure at 0x7f6e950b4fd0>"
      ]
     },
     "metadata": {},
     "output_type": "display_data"
    }
   ],
   "source": [
    "# Put model and likelihood into eval mode\n",
    "model.eval()\n",
    "likelihood.eval()\n",
    "\n",
    "# Initialize plot\n",
    "f, observed_ax = plt.subplots(1, 1, figsize=(4, 3))\n",
    "# Test points are regularly spaced along [0,1] every 0.02\n",
    "test_x = Variable(torch.linspace(0, 1, 51))\n",
    "# Make predictions by feeding model through likelihood\n",
    "with gpytorch.fast_pred_var():\n",
    "    observed_pred = likelihood(model(test_x))\n",
    "\n",
    "# Define plotting function\n",
    "def ax_plot(ax, rand_var, title):\n",
    "    # Get upper and lower confidence bounds\n",
    "    lower, upper = rand_var.confidence_region()\n",
    "    # Plot training data as black stars\n",
    "    ax.plot(train_x.data.numpy(), train_y.data.numpy(), 'k*')\n",
    "    # Plot predictive means as blue line\n",
    "    ax.plot(test_x.data.numpy(), rand_var.mean().data.numpy(), 'b')\n",
    "    # Shade between the lower and upper confidence bounds\n",
    "    ax.fill_between(test_x.data.numpy(), lower.data.numpy(), upper.data.numpy(), alpha=0.5)\n",
    "    ax.set_ylim([-3, 3])\n",
    "    ax.legend(['Observed Data', 'Mean', 'Confidence'])\n",
    "    ax.set_title(title)\n",
    "# Plot the predictions\n",
    "ax_plot(observed_ax, observed_pred, 'Observed Values (Likelihood)')"
   ]
  },
  {
   "cell_type": "code",
   "execution_count": null,
   "metadata": {},
   "outputs": [],
   "source": []
  }
 ],
 "metadata": {
  "anaconda-cloud": {},
  "kernelspec": {
   "display_name": "Python 3",
   "language": "python",
   "name": "python3"
  },
  "language_info": {
   "codemirror_mode": {
    "name": "ipython",
    "version": 3
   },
   "file_extension": ".py",
   "mimetype": "text/x-python",
   "name": "python",
   "nbconvert_exporter": "python",
   "pygments_lexer": "ipython3",
   "version": "3.6.4"
  }
 },
 "nbformat": 4,
 "nbformat_minor": 1
}
