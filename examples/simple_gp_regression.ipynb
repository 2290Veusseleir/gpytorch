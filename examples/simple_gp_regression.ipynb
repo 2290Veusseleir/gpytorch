{
 "cells": [
  {
   "cell_type": "markdown",
   "metadata": {},
   "source": [
    "# Simple GP Regression with an RBF Kernel\n",
    "\n",
    "## Introduction\n",
    "\n",
    "In this notebook, we demonstrate many of the design features of GPyTorch using the simplest example, training an RBF kernel Gaussian process on a simple function. We'll be modeling the function $$y = \\sin(2\\pi x) + \\epsilon$$ $$\\epsilon \\sim \\mathcal{N}(0, 0.2)$$ with 11 training examples, and testing on 51 test examples.\n",
    "\n",
    "**Note:** this notebook is not necessarily intended to teach the mathematical background of Gaussian processes, but rather how to train a simple one and make predictions in GPyTorch. For a mathematical treatment, Chapter 2 of Gaussian Processes for Machine Learning provides a very thorough introduction to GP regression (this entire text is highly recommended): http://www.gaussianprocess.org/gpml/chapters/RW2.pdf"
   ]
  },
  {
   "cell_type": "code",
   "execution_count": 1,
   "metadata": {
    "collapsed": true
   },
   "outputs": [],
   "source": [
    "import math\n",
    "import torch\n",
    "import gpytorch\n",
    "from matplotlib import pyplot as plt\n",
    "\n",
    "%matplotlib inline\n",
    "%load_ext autoreload\n",
    "%autoreload 2"
   ]
  },
  {
   "cell_type": "code",
   "execution_count": 2,
   "metadata": {
    "collapsed": true
   },
   "outputs": [],
   "source": [
    "from torch import optim\n",
    "from gpytorch.kernels import RBFKernel\n",
    "from gpytorch.means import ConstantMean\n",
    "from gpytorch.priors import SmoothedBoxPrior\n",
    "from gpytorch.likelihoods import GaussianLikelihood\n",
    "from gpytorch.random_variables import GaussianRandomVariable"
   ]
  },
  {
   "cell_type": "markdown",
   "metadata": {},
   "source": [
    "## Set up training data\n",
    "\n",
    "In the next cell, we set up the training data for this example. We'll be using 11 regularly spaced points on [0,1] which we evaluate the function on and add Gaussian noise to get the training labels."
   ]
  },
  {
   "cell_type": "code",
   "execution_count": 3,
   "metadata": {
    "collapsed": true
   },
   "outputs": [],
   "source": [
    "# Training data is 11 points in [0,1] inclusive regularly spaced\n",
    "train_x = torch.linspace(0, 1, 11)\n",
    "# True function is sin(2*pi*x) with Gaussian noise\n",
    "train_y = torch.sin(train_x.data * (2 * math.pi)) + torch.randn(train_x.size()) * 0.2"
   ]
  },
  {
   "cell_type": "markdown",
   "metadata": {},
   "source": [
    "## Setting up the model\n",
    "\n",
    "The next cell demonstrates the most critical features of a user-defined Gaussian process model in GPyTorch. Building a GP model in GPyTorch is different in a number of ways.\n",
    "\n",
    "First in contrast to many existing GP packages, we do not provide full GP models for the user. Rather, we provide *the tools necessary to quickly construct one*. This is because we believe, analogous to building a neural network in standard PyTorch, it is important to have the flexibility to include whatever components are necessary. As can be seen in more complicated examples, like the `dkl_mnist.ipynb` example which combines deep learning and Gaussian processes, this allows the user great flexibility in designing custom models.\n",
    "\n",
    "The components of a user built (Exact, i.e. non-variational) GP model in GPyTorch are, broadly speaking:\n",
    "\n",
    "1. An `__init__` method that takes the training data and a likelihood, and constructs whatever objects are necessary for the model's `forward` method. This will most commonly include things like a mean module and a kernel module, but may also include things like extra parameters, such as a log outputscale that we will see in later examples.\n",
    "\n",
    "2. A `forward` method that takes in some $n \\times d$ data `x` and returns a GaussianRandomVariable with the *prior* mean and covariance evaluated at `x`. In other words, we return the vector $\\mu(x)$ and the $n \\times n$ matrix $K_{xx}$ representing the prior mean and covariance matrix of the GP. \n",
    "\n",
    "This specification leaves a large amount of flexibility when defining a model. For example, to compose two kernels via addition, you can either add the kernel modules directly:\n",
    "\n",
    "```python\n",
    "self.covar_module = RBFKernel() + WhiteNoiseKernel()\n",
    "```\n",
    "\n",
    "Or you can add the outputs of the kernel in the forward method:\n",
    "\n",
    "```python\n",
    "covar_x = self.rbf_kernel_module(x) + self.white_noise_module(x)\n",
    "```"
   ]
  },
  {
   "cell_type": "code",
   "execution_count": 13,
   "metadata": {
    "collapsed": true
   },
   "outputs": [],
   "source": [
    "# We will use the simplest form of GP model, exact inference\n",
    "class ExactGPModel(gpytorch.models.ExactGP):\n",
    "    def __init__(self, train_x, train_y, likelihood):\n",
    "        super(ExactGPModel, self).__init__(train_x, train_y, likelihood)\n",
    "        self.mean_module = ConstantMean()\n",
    "        # Let's also place a prior over the log lengthscale to demonstrate that interface.\n",
    "        self.covar_module = RBFKernel(log_lengthscale_prior=SmoothedBoxPrior(-1, 1, sigma=0.1, log_transform=True))\n",
    "    \n",
    "    def forward(self, x):\n",
    "        mean_x = self.mean_module(x)\n",
    "        covar_x = self.covar_module(x)\n",
    "        return GaussianRandomVariable(mean_x, covar_x)\n",
    "\n",
    "# initialize likelihood and model\n",
    "likelihood = GaussianLikelihood()\n",
    "model = ExactGPModel(train_x.data, train_y.data, likelihood)"
   ]
  },
  {
   "cell_type": "markdown",
   "metadata": {},
   "source": [
    "## Training the model\n",
    "\n",
    "In the next cell, we handle using Type-II MLE to train the hyperparameters of the Gaussian process.\n",
    "\n",
    "The most obvious difference here compared to many other GP implementations is that, as in standard PyTorch, the core training loop is written by the user. In GPyTorch, we make use of the standard PyTorch optimizers as from `torch.optim`, and all trainable parameters of the model should be of type `torch.nn.Parameter`. Because GP models directly extend `torch.nn.Module`, calls to methods like `model.parameters()` or `model.named_parameters()` function as you might expect coming from PyTorch.\n",
    "\n",
    "In most cases, the boilerplate code below will work well. It has the same basic components as the standard PyTorch training loop:\n",
    "\n",
    "1. Zero all parameter gradients\n",
    "2. Call the model and compute the loss\n",
    "3. Call backward on the loss to fill in gradients\n",
    "4. Take a step on the optimizer\n",
    "\n",
    "However, defining custom training loops allows for greater flexibility. For example, it is easy to save the parameters at each step of training, or use different learning rates for different parameters (which may be useful in deep kernel learning for example)."
   ]
  },
  {
   "cell_type": "code",
   "execution_count": 14,
   "metadata": {
    "scrolled": false
   },
   "outputs": [
    {
     "name": "stdout",
     "output_type": "stream",
     "text": [
      "Iter 1/50 - Loss: 7.123   log_lengthscale: 0.000   log_noise: 0.000\n",
      "Iter 2/50 - Loss: 4.628   log_lengthscale: -0.100   log_noise: -0.100\n",
      "Iter 3/50 - Loss: 3.190   log_lengthscale: -0.196   log_noise: -0.200\n",
      "Iter 4/50 - Loss: 2.511   log_lengthscale: -0.286   log_noise: -0.300\n",
      "Iter 5/50 - Loss: 2.321   log_lengthscale: -0.365   log_noise: -0.397\n",
      "Iter 6/50 - Loss: 2.305   log_lengthscale: -0.432   log_noise: -0.495\n",
      "Iter 7/50 - Loss: 2.291   log_lengthscale: -0.490   log_noise: -0.592\n",
      "Iter 8/50 - Loss: 2.281   log_lengthscale: -0.541   log_noise: -0.689\n",
      "Iter 9/50 - Loss: 2.274   log_lengthscale: -0.585   log_noise: -0.783\n",
      "Iter 10/50 - Loss: 2.271   log_lengthscale: -0.625   log_noise: -0.876\n",
      "Iter 11/50 - Loss: 2.270   log_lengthscale: -0.661   log_noise: -0.967\n",
      "Iter 12/50 - Loss: 2.273   log_lengthscale: -0.692   log_noise: -1.052\n",
      "Iter 13/50 - Loss: 2.279   log_lengthscale: -0.721   log_noise: -1.137\n",
      "Iter 14/50 - Loss: 2.289   log_lengthscale: -0.747   log_noise: -1.216\n",
      "Iter 15/50 - Loss: 2.301   log_lengthscale: -0.770   log_noise: -1.291\n",
      "Iter 16/50 - Loss: 2.315   log_lengthscale: -0.792   log_noise: -1.362\n",
      "Iter 17/50 - Loss: 2.333   log_lengthscale: -0.812   log_noise: -1.426\n",
      "Iter 18/50 - Loss: 2.353   log_lengthscale: -0.830   log_noise: -1.487\n",
      "Iter 19/50 - Loss: 2.375   log_lengthscale: -0.846   log_noise: -1.546\n",
      "Iter 20/50 - Loss: 2.400   log_lengthscale: -0.862   log_noise: -1.602\n",
      "Iter 21/50 - Loss: 2.428   log_lengthscale: -0.876   log_noise: -1.656\n",
      "Iter 22/50 - Loss: 2.458   log_lengthscale: -0.890   log_noise: -1.706\n",
      "Iter 23/50 - Loss: 2.490   log_lengthscale: -0.903   log_noise: -1.752\n",
      "Iter 24/50 - Loss: 2.525   log_lengthscale: -0.915   log_noise: -1.798\n",
      "Iter 25/50 - Loss: 2.562   log_lengthscale: -0.927   log_noise: -1.842\n",
      "Iter 26/50 - Loss: 2.601   log_lengthscale: -0.938   log_noise: -1.883\n",
      "Iter 27/50 - Loss: 2.642   log_lengthscale: -0.949   log_noise: -1.922\n",
      "Iter 28/50 - Loss: 2.684   log_lengthscale: -0.960   log_noise: -1.962\n",
      "Iter 29/50 - Loss: 2.728   log_lengthscale: -0.970   log_noise: -2.003\n",
      "Iter 30/50 - Loss: 2.774   log_lengthscale: -0.979   log_noise: -2.045\n",
      "Iter 31/50 - Loss: 2.820   log_lengthscale: -0.988   log_noise: -2.088\n",
      "Iter 32/50 - Loss: 2.866   log_lengthscale: -0.997   log_noise: -2.130\n",
      "Iter 33/50 - Loss: 2.913   log_lengthscale: -1.006   log_noise: -2.171\n",
      "Iter 34/50 - Loss: 2.960   log_lengthscale: -1.014   log_noise: -2.211\n",
      "Iter 35/50 - Loss: 3.007   log_lengthscale: -1.022   log_noise: -2.248\n",
      "Iter 36/50 - Loss: 3.052   log_lengthscale: -1.029   log_noise: -2.282\n",
      "Iter 37/50 - Loss: 3.095   log_lengthscale: -1.036   log_noise: -2.317\n",
      "Iter 38/50 - Loss: 3.138   log_lengthscale: -1.043   log_noise: -2.347\n",
      "Iter 39/50 - Loss: 3.175   log_lengthscale: -1.049   log_noise: -2.375\n",
      "Iter 40/50 - Loss: 3.210   log_lengthscale: -1.054   log_noise: -2.406\n",
      "Iter 41/50 - Loss: 3.245   log_lengthscale: -1.060   log_noise: -2.432\n",
      "Iter 42/50 - Loss: 3.273   log_lengthscale: -1.064   log_noise: -2.460\n",
      "Iter 43/50 - Loss: 3.296   log_lengthscale: -1.069   log_noise: -2.487\n",
      "Iter 44/50 - Loss: 3.317   log_lengthscale: -1.073   log_noise: -2.514\n",
      "Iter 45/50 - Loss: 3.333   log_lengthscale: -1.077   log_noise: -2.541\n",
      "Iter 46/50 - Loss: 3.342   log_lengthscale: -1.080   log_noise: -2.567\n",
      "Iter 47/50 - Loss: 3.346   log_lengthscale: -1.083   log_noise: -2.594\n",
      "Iter 48/50 - Loss: 3.347   log_lengthscale: -1.085   log_noise: -2.619\n",
      "Iter 49/50 - Loss: 3.345   log_lengthscale: -1.087   log_noise: -2.642\n",
      "Iter 50/50 - Loss: 3.340   log_lengthscale: -1.089   log_noise: -2.653\n"
     ]
    }
   ],
   "source": [
    "# Find optimal model hyperparameters\n",
    "model.train()\n",
    "likelihood.train()\n",
    "\n",
    "# Use the adam optimizer\n",
    "optimizer = torch.optim.Adam([\n",
    "    {'params': model.parameters()},  # Includes GaussianLikelihood parameters\n",
    "], lr=0.1)\n",
    "\n",
    "# \"Loss\" for GPs - the marginal log likelihood\n",
    "mll = gpytorch.mlls.ExactMarginalLogLikelihood(likelihood, model)\n",
    "\n",
    "training_iter = 50\n",
    "for i in range(training_iter):\n",
    "    # Zero gradients from previous iteration\n",
    "    optimizer.zero_grad()\n",
    "    # Output from model\n",
    "    output = model(train_x)\n",
    "    # Calc loss and backprop gradients\n",
    "    loss = -mll(output, train_y)\n",
    "    loss.backward()\n",
    "    print('Iter %d/%d - Loss: %.3f   log_lengthscale: %.3f   log_noise: %.3f' % (\n",
    "        i + 1, training_iter, loss.data[0],\n",
    "        model.covar_module.log_lengthscale.data[0, 0],\n",
    "        model.likelihood.log_noise.data[0]\n",
    "    ))\n",
    "    optimizer.step()"
   ]
  },
  {
   "cell_type": "markdown",
   "metadata": {},
   "source": [
    "## Make predictions with the model\n",
    "\n",
    "In the next cell, we make predictions with the model. To do this, we simply put the model and likelihood in eval mode, and call both modules on the test data.\n",
    "\n",
    "Just as a user defined GP model returns a GaussianRandomVariable containing the prior mean and covariance from forward, a trained GP model in eval mode returns a GaussianRandomVariable containing the posterior mean and covariance. Thus, getting the predictive mean and variance, and then sampling functions from the GP at the given test points could be accomplished with calls like:\n",
    "\n",
    "```python\n",
    "f_preds = model(test_x)\n",
    "y_preds = likelihood(model(test_x))\n",
    "f_mean = f_preds.mean()\n",
    "f_var = f_preds.var()\n",
    "f_covar = f_preds.covar()\n",
    "f_samples = f_preds.sample(1000)\n",
    "```\n",
    "\n",
    "The `gpytorch.fast_pred_var` context is not needed, but here we are giving a preview of using one of our cool features, getting faster predictive distributions using LOVE (https://arxiv.org/abs/1803.06058)."
   ]
  },
  {
   "cell_type": "code",
   "execution_count": 15,
   "metadata": {
    "collapsed": true
   },
   "outputs": [],
   "source": [
    "# Put model and likelihood into eval mode\n",
    "model.eval()\n",
    "likelihood.eval()\n",
    "\n",
    "# Test points are regularly spaced along [0,1]\n",
    "test_x = torch.linspace(0, 1, 51)\n",
    "# Make predictions by feeding model through likelihood\n",
    "with gpytorch.fast_pred_var():\n",
    "    observed_pred = likelihood(model(test_x))"
   ]
  },
  {
   "cell_type": "markdown",
   "metadata": {},
   "source": [
    "## Plot the model fit\n",
    "\n",
    "In the next cell, we plot the mean and confidence region of the Gaussian process model. The `confidence_region` method is a helper method that returns 2 standard deviations above and below the mean."
   ]
  },
  {
   "cell_type": "code",
   "execution_count": 16,
   "metadata": {
    "scrolled": false
   },
   "outputs": [
    {
     "data": {
      "image/png": "[encoded data removed]",
      "text/plain": [
       "<matplotlib.figure.Figure at 0x7fe034b8e7b8>"
      ]
     },
     "metadata": {},
     "output_type": "display_data"
    }
   ],
   "source": [
    "# Initialize plot\n",
    "f, observed_ax = plt.subplots(1, 1, figsize=(4, 3))\n",
    "\n",
    "# Define plotting function\n",
    "def ax_plot(ax, rand_var, title):\n",
    "    # Get upper and lower confidence bounds\n",
    "    lower, upper = rand_var.confidence_region()\n",
    "    # Plot training data as black stars\n",
    "    ax.plot(train_x.data.numpy(), train_y.data.numpy(), 'k*')\n",
    "    # Plot predictive means as blue line\n",
    "    ax.plot(test_x.data.numpy(), rand_var.mean().data.numpy(), 'b')\n",
    "    # Shade between the lower and upper confidence bounds\n",
    "    ax.fill_between(test_x.data.numpy(), lower.data.numpy(), upper.data.numpy(), alpha=0.5)\n",
    "    ax.set_ylim([-3, 3])\n",
    "    ax.legend(['Observed Data', 'Mean', 'Confidence'])\n",
    "    ax.set_title(title)\n",
    "# Plot the predictions\n",
    "ax_plot(observed_ax, observed_pred, 'Observed Values (Likelihood)')"
   ]
  },
  {
   "cell_type": "code",
   "execution_count": null,
   "metadata": {
    "collapsed": true
   },
   "outputs": [],
   "source": []
  }
 ],
 "metadata": {
  "anaconda-cloud": {},
  "kernelspec": {
   "display_name": "Python 3",
   "language": "python",
   "name": "python3"
  },
  "language_info": {
   "codemirror_mode": {
    "name": "ipython",
    "version": 3
   },
   "file_extension": ".py",
   "mimetype": "text/x-python",
   "name": "python",
   "nbconvert_exporter": "python",
   "pygments_lexer": "ipython3",
   "version": "3.6.1"
  }
 },
 "nbformat": 4,
 "nbformat_minor": 1
}
