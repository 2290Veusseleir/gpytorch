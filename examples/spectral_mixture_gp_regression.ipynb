{
 "cells": [
  {
   "cell_type": "code",
   "execution_count": 1,
   "metadata": {},
   "outputs": [],
   "source": [
    "import math\n",
    "import torch\n",
    "import gpytorch\n",
    "from matplotlib import pyplot as plt\n",
    "\n",
    "%matplotlib inline\n",
    "%load_ext autoreload\n",
    "%autoreload 2"
   ]
  },
  {
   "cell_type": "code",
   "execution_count": 2,
   "metadata": {},
   "outputs": [],
   "source": [
    "from torch.autograd import Variable\n",
    "train_x = Variable(torch.linspace(0, 0.75, 11))\n",
    "train_y = Variable(torch.sin(train_x.data * (2 * math.pi)) + torch.randn(train_x.size()) * 0.2)"
   ]
  },
  {
   "cell_type": "code",
   "execution_count": 3,
   "metadata": {},
   "outputs": [],
   "source": [
    "from torch import optim\n",
    "from gpytorch.kernels import RBFKernel, SpectralMixtureKernel\n",
    "from gpytorch.means import ConstantMean\n",
    "from gpytorch.likelihoods import GaussianLikelihood\n",
    "from gpytorch.random_variables import GaussianRandomVariable"
   ]
  },
  {
   "cell_type": "code",
   "execution_count": 4,
   "metadata": {},
   "outputs": [
    {
     "data": {
      "text/plain": [
       "SpectralMixtureGPModel (\n",
       "  (likelihood): GaussianLikelihood (\n",
       "  )\n",
       "  (mean_module): ConstantMean (\n",
       "  )\n",
       "  (covar_module): SpectralMixtureKernel (\n",
       "  )\n",
       ")"
      ]
     },
     "execution_count": 4,
     "metadata": {},
     "output_type": "execute_result"
    }
   ],
   "source": [
    "class SpectralMixtureGPModel(gpytorch.GPModel):\n",
    "    def __init__(self):\n",
    "        super(SpectralMixtureGPModel,self).__init__(GaussianLikelihood(log_noise_bounds=(-5, 5)))\n",
    "        self.mean_module = ConstantMean(constant_bounds=(-1, 1))\n",
    "        self.covar_module = SpectralMixtureKernel(n_mixtures=3)\n",
    "\n",
    "    def forward(self,x):\n",
    "        mean_x = self.mean_module(x)\n",
    "        covar_x = self.covar_module(x)\n",
    "        return GaussianRandomVariable(mean_x, covar_x)\n",
    "\n",
    "model = SpectralMixtureGPModel()\n",
    "model.condition(train_x, train_y)"
   ]
  },
  {
   "cell_type": "code",
   "execution_count": 5,
   "metadata": {},
   "outputs": [],
   "source": [
    "def plot_model_and_predictions(model, plot_train_data=True):\n",
    "    f, observed_ax = plt.subplots(1, 1, figsize=(4, 3))\n",
    "    test_x = Variable(torch.linspace(0, 5, 51))\n",
    "    observed_pred = model(test_x)\n",
    "\n",
    "    def ax_plot(ax, rand_var, title):\n",
    "        lower, upper = rand_var.confidence_region()\n",
    "        if plot_train_data:\n",
    "            ax.plot(train_x.data.numpy(), train_y.data.numpy(), 'k*')\n",
    "        ax.plot(test_x.data.numpy(), rand_var.mean().data.numpy(), 'b')\n",
    "        ax.fill_between(test_x.data.numpy(), lower.data.numpy(), upper.data.numpy(), alpha=0.5)\n",
    "        ax.set_ylim([-3, 3])\n",
    "        ax.legend(['Observed Data', 'Mean', 'Confidence'])\n",
    "        ax.set_title(title)\n",
    "    \n",
    "    ax_plot(observed_ax, observed_pred, 'Observed Values (Likelihood)')\n",
    "    \n",
    "    return f"
   ]
  },
  {
   "cell_type": "code",
   "execution_count": 6,
   "metadata": {},
   "outputs": [
    {
     "data": {
      "image/png": "[encoded data removed]",
      "text/plain": [
       "<matplotlib.figure.Figure at 0x7f5345e86410>"
      ]
     },
     "metadata": {},
     "output_type": "display_data"
    }
   ],
   "source": [
    "fig = plot_model_and_predictions(model, plot_train_data=False)"
   ]
  },
  {
   "cell_type": "code",
   "execution_count": 7,
   "metadata": {
    "scrolled": false
   },
   "outputs": [
    {
     "name": "stdout",
     "output_type": "stream",
     "text": [
      "Iter 1/50 - Loss: 13.825\n",
      "Iter 2/50 - Loss: 12.863\n",
      "Iter 3/50 - Loss: 13.021\n",
      "Iter 4/50 - Loss: 12.583\n",
      "Iter 5/50 - Loss: 11.984\n",
      "Iter 6/50 - Loss: 11.089\n",
      "Iter 7/50 - Loss: 10.904\n",
      "Iter 8/50 - Loss: 10.385\n",
      "Iter 9/50 - Loss: 9.369\n",
      "Iter 10/50 - Loss: 9.663\n",
      "Iter 11/50 - Loss: 9.411\n",
      "Iter 12/50 - Loss: 9.245\n",
      "Iter 13/50 - Loss: 8.260\n",
      "Iter 14/50 - Loss: 7.284\n",
      "Iter 15/50 - Loss: 7.683\n",
      "Iter 16/50 - Loss: 6.583\n",
      "Iter 17/50 - Loss: 6.667\n",
      "Iter 18/50 - Loss: 7.328\n",
      "Iter 19/50 - Loss: 6.670\n",
      "Iter 20/50 - Loss: 5.846\n",
      "Iter 21/50 - Loss: 5.699\n",
      "Iter 22/50 - Loss: 4.899\n",
      "Iter 23/50 - Loss: 5.512\n",
      "Iter 24/50 - Loss: 4.289\n",
      "Iter 25/50 - Loss: 3.322\n",
      "Iter 26/50 - Loss: 4.117\n",
      "Iter 27/50 - Loss: 3.801\n",
      "Iter 28/50 - Loss: 2.694\n",
      "Iter 29/50 - Loss: 3.034\n",
      "Iter 30/50 - Loss: 3.189\n",
      "Iter 31/50 - Loss: 4.217\n",
      "Iter 32/50 - Loss: 3.336\n",
      "Iter 33/50 - Loss: 3.304\n",
      "Iter 34/50 - Loss: 2.920\n",
      "Iter 35/50 - Loss: 4.227\n",
      "Iter 36/50 - Loss: 3.493\n",
      "Iter 37/50 - Loss: 3.581\n",
      "Iter 38/50 - Loss: 4.986\n",
      "Iter 39/50 - Loss: 2.326\n",
      "Iter 40/50 - Loss: 3.706\n",
      "Iter 41/50 - Loss: 6.153\n",
      "Iter 42/50 - Loss: 2.432\n",
      "Iter 43/50 - Loss: 5.295\n",
      "Iter 44/50 - Loss: 5.599\n",
      "Iter 45/50 - Loss: 3.357\n",
      "Iter 46/50 - Loss: 2.727\n",
      "Iter 47/50 - Loss: 3.108\n",
      "Iter 48/50 - Loss: 3.890\n",
      "Iter 49/50 - Loss: 4.107\n",
      "Iter 50/50 - Loss: 5.716\n"
     ]
    }
   ],
   "source": [
    "# Find optimal model hyperparameters\n",
    "model.train()\n",
    "optimizer = optim.Adam(model.parameters(), lr=0.1)\n",
    "optimizer.n_iter = 0\n",
    "for i in range(50):\n",
    "    optimizer.zero_grad()\n",
    "    output = model(train_x)\n",
    "    loss = -model.marginal_log_likelihood(output, train_y)\n",
    "    loss.backward()\n",
    "    optimizer.n_iter += 1\n",
    "    print('Iter %d/50 - Loss: %.3f' % (i + 1, loss.data[0]))\n",
    "    optimizer.step()\n",
    "    \n",
    "# Set back to eval mode\n",
    "_ = model.eval()"
   ]
  },
  {
   "cell_type": "code",
   "execution_count": 8,
   "metadata": {
    "scrolled": false
   },
   "outputs": [
    {
     "data": {
      "image/png": "[encoded data removed]",
      "text/plain": [
       "<matplotlib.figure.Figure at 0x7f5342d3c4d0>"
      ]
     },
     "metadata": {},
     "output_type": "display_data"
    }
   ],
   "source": [
    "fig = plot_model_and_predictions(model)"
   ]
  },
  {
   "cell_type": "code",
   "execution_count": null,
   "metadata": {
    "collapsed": true
   },
   "outputs": [],
   "source": []
  }
 ],
 "metadata": {
  "anaconda-cloud": {},
  "kernelspec": {
   "display_name": "Python 2",
   "language": "python",
   "name": "python2"
  },
  "language_info": {
   "codemirror_mode": {
    "name": "ipython",
    "version": 2
   },
   "file_extension": ".py",
   "mimetype": "text/x-python",
   "name": "python",
   "nbconvert_exporter": "python",
   "pygments_lexer": "ipython2",
   "version": "2.7.13"
  }
 },
 "nbformat": 4,
 "nbformat_minor": 1
}
