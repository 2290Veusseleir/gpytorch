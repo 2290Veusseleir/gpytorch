{
 "cells": [
  {
   "cell_type": "markdown",
   "metadata": {},
   "source": [
    "This example shows how to use a `SpectralMixtureKernel` module on an `ExactGP` model. This module is designed for\n",
    "- When you want to use exact inference (e.g. for regression)\n",
    "- When you want to use a more sophisticated kernel than RBF\n",
    "\n",
    "Function to be modeled is  $sin(2\\pi x)$\n",
    "\n",
    "The Spectral Mixture (SM) kernel was invented and discussed in this paper:\n",
    "https://arxiv.org/pdf/1302.4245.pdf"
   ]
  },
  {
   "cell_type": "code",
   "execution_count": 1,
   "metadata": {},
   "outputs": [],
   "source": [
    "import math\n",
    "import torch\n",
    "import gpytorch\n",
    "from matplotlib import pyplot as plt\n",
    "\n",
    "%matplotlib inline\n",
    "%load_ext autoreload\n",
    "%autoreload 2"
   ]
  },
  {
   "cell_type": "code",
   "execution_count": 2,
   "metadata": {},
   "outputs": [],
   "source": [
    "from torch.autograd import Variable\n",
    "# Training data points are located every 0.075 along 0 to 0.75 inclusive\n",
    "train_x = Variable(torch.linspace(0, 0.75, 11))\n",
    "# True function is sin(2*pi*x)\n",
    "# Gaussian noise N(0,0.04) added\n",
    "train_y = Variable(torch.sin(train_x.data * (2 * math.pi)) + torch.randn(train_x.size()) * 0.2)"
   ]
  },
  {
   "cell_type": "code",
   "execution_count": 3,
   "metadata": {},
   "outputs": [],
   "source": [
    "from torch import optim\n",
    "from gpytorch.kernels import RBFKernel, SpectralMixtureKernel\n",
    "from gpytorch.means import ConstantMean\n",
    "from gpytorch.likelihoods import GaussianLikelihood\n",
    "from gpytorch.random_variables import GaussianRandomVariable"
   ]
  },
  {
   "cell_type": "code",
   "execution_count": 4,
   "metadata": {},
   "outputs": [],
   "source": [
    "# Here we see an example of using the spectral mixture kernel as described here:\n",
    "# https://arxiv.org/pdf/1302.4245.pdf\n",
    "class SpectralMixtureGPModel(gpytorch.models.ExactGP):\n",
    "    def __init__(self, train_x, train_y, likelihood):\n",
    "        super(SpectralMixtureGPModel, self).__init__(train_x, train_y, likelihood)\n",
    "        # We can learn a mean between -1 and 1\n",
    "        self.mean_module = ConstantMean(constant_bounds=(-1, 1))\n",
    "        # We use a spectral mixture kernel where the frequency is a mixture of 3 Gaussians\n",
    "        self.covar_module = SpectralMixtureKernel(n_mixtures=3)\n",
    "\n",
    "    def forward(self,x):\n",
    "        mean_x = self.mean_module(x)\n",
    "        covar_x = self.covar_module(x)\n",
    "        return GaussianRandomVariable(mean_x, covar_x)\n",
    "\n",
    "# Initialize the likelihood. We use a Gaussian for regression to get predictive mean\n",
    "# and variance and learn noise parameter\n",
    "likelihood = GaussianLikelihood(log_noise_bounds=(-5, 5))\n",
    "# Use the likelihood to initialize the model\n",
    "model = SpectralMixtureGPModel(train_x.data, train_y.data, likelihood)"
   ]
  },
  {
   "cell_type": "code",
   "execution_count": 5,
   "metadata": {
    "scrolled": false
   },
   "outputs": [
    {
     "name": "stdout",
     "output_type": "stream",
     "text": [
      "Iter 1/50 - Loss: 1.542\n",
      "Iter 2/50 - Loss: 1.388\n",
      "Iter 3/50 - Loss: 1.319\n",
      "Iter 4/50 - Loss: 1.263\n",
      "Iter 5/50 - Loss: 1.165\n",
      "Iter 6/50 - Loss: 1.085\n",
      "Iter 7/50 - Loss: 1.054\n",
      "Iter 8/50 - Loss: 0.925\n",
      "Iter 9/50 - Loss: 0.939\n",
      "Iter 10/50 - Loss: 0.926\n",
      "Iter 11/50 - Loss: 0.965\n",
      "Iter 12/50 - Loss: 1.047\n",
      "Iter 13/50 - Loss: 1.012\n",
      "Iter 14/50 - Loss: 0.948\n",
      "Iter 15/50 - Loss: 0.874\n",
      "Iter 16/50 - Loss: 0.873\n",
      "Iter 17/50 - Loss: 0.873\n",
      "Iter 18/50 - Loss: 0.787\n",
      "Iter 19/50 - Loss: 0.936\n",
      "Iter 20/50 - Loss: 0.610\n",
      "Iter 21/50 - Loss: 0.566\n",
      "Iter 22/50 - Loss: 0.601\n",
      "Iter 23/50 - Loss: 0.588\n",
      "Iter 24/50 - Loss: 0.617\n",
      "Iter 25/50 - Loss: 0.836\n",
      "Iter 26/50 - Loss: 0.536\n",
      "Iter 27/50 - Loss: 0.508\n",
      "Iter 28/50 - Loss: 0.718\n",
      "Iter 29/50 - Loss: 0.684\n",
      "Iter 30/50 - Loss: 0.632\n",
      "Iter 31/50 - Loss: 0.758\n",
      "Iter 32/50 - Loss: 0.738\n",
      "Iter 33/50 - Loss: 0.795\n",
      "Iter 34/50 - Loss: 0.524\n",
      "Iter 35/50 - Loss: 0.510\n",
      "Iter 36/50 - Loss: 0.450\n",
      "Iter 37/50 - Loss: 0.623\n",
      "Iter 38/50 - Loss: 0.451\n",
      "Iter 39/50 - Loss: 0.496\n",
      "Iter 40/50 - Loss: 0.506\n",
      "Iter 41/50 - Loss: 0.559\n",
      "Iter 42/50 - Loss: 0.555\n",
      "Iter 43/50 - Loss: 0.303\n",
      "Iter 44/50 - Loss: 0.480\n",
      "Iter 45/50 - Loss: 0.411\n",
      "Iter 46/50 - Loss: 0.378\n",
      "Iter 47/50 - Loss: 0.477\n",
      "Iter 48/50 - Loss: 0.407\n",
      "Iter 49/50 - Loss: 0.628\n",
      "Iter 50/50 - Loss: 0.454\n"
     ]
    }
   ],
   "source": [
    "# Find optimal model hyperparameters\n",
    "model.train()\n",
    "likelihood.train()\n",
    "\n",
    "# Use the adam optimizer\n",
    "optimizer = torch.optim.Adam([\n",
    "    {'params': model.parameters()},  # Includes GaussianLikelihood parameters\n",
    "], lr=0.1)\n",
    "\n",
    "# \"Loss\" for GPs - the marginal log likelihood\n",
    "mll = gpytorch.mlls.ExactMarginalLogLikelihood(likelihood, model)\n",
    "\n",
    "training_iter = 50\n",
    "for i in range(training_iter):\n",
    "    # Zero previously backpropped gradients\n",
    "    optimizer.zero_grad()\n",
    "    # Make prediction\n",
    "    output = model(train_x)\n",
    "    # Calc loss and backprop\n",
    "    loss = -mll(output, train_y)\n",
    "    loss.backward()\n",
    "    print('Iter %d/%d - Loss: %.3f' % (i + 1, training_iter, loss.data[0]))\n",
    "    optimizer.step()"
   ]
  },
  {
   "cell_type": "code",
   "execution_count": 6,
   "metadata": {
    "scrolled": false
   },
   "outputs": [
    {
     "data": {
      "image/png": "[encoded data removed]",
      "text/plain": [
       "<matplotlib.figure.Figure at 0x7fa2c8c69e80>"
      ]
     },
     "metadata": {},
     "output_type": "display_data"
    }
   ],
   "source": [
    "# Set into eval mode\n",
    "model.eval()\n",
    "likelihood.eval()\n",
    "\n",
    "# Initialize figure\n",
    "f, observed_ax = plt.subplots(1, 1, figsize=(4, 3))\n",
    "# Test points every 0.1 between 0 and 5\n",
    "# (note this is over 6 times the length of the region with training points)\n",
    "test_x = Variable(torch.linspace(0, 5, 51))\n",
    "# Make predictions\n",
    "observed_pred = likelihood(model(test_x))\n",
    "\n",
    "# Define plotting function\n",
    "def ax_plot(ax, rand_var, title):\n",
    "    # Get lower and upper confidence bounds\n",
    "    lower, upper = rand_var.confidence_region()\n",
    "    # Training data as black stars\n",
    "    ax.plot(train_x.data.numpy(), train_y.data.numpy(), 'k*')\n",
    "    # Plot predictive mean as blue line\n",
    "    ax.plot(test_x.data.numpy(), rand_var.mean().data.numpy(), 'b')\n",
    "    # Shade confidence region\n",
    "    ax.fill_between(test_x.data.numpy(), lower.data.numpy(), upper.data.numpy(), alpha=0.5)\n",
    "    ax.set_ylim([-3, 3])\n",
    "    # Labels + title\n",
    "    ax.legend(['Observed Data', 'Mean', 'Confidence'])\n",
    "    ax.set_title(title)\n",
    "# Plot figure\n",
    "ax_plot(observed_ax, observed_pred, 'Observed Values (Likelihood)')"
   ]
  }
 ],
 "metadata": {
  "anaconda-cloud": {},
  "kernelspec": {
   "display_name": "Python 3",
   "language": "python",
   "name": "python3"
  },
  "language_info": {
   "codemirror_mode": {
    "name": "ipython",
    "version": 3
   },
   "file_extension": ".py",
   "mimetype": "text/x-python",
   "name": "python",
   "nbconvert_exporter": "python",
   "pygments_lexer": "ipython3",
   "version": "3.6.4"
  }
 },
 "nbformat": 4,
 "nbformat_minor": 1
}
