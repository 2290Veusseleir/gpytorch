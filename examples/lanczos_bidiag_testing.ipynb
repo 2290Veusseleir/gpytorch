{
 "cells": [
  {
   "cell_type": "markdown",
   "metadata": {},
   "source": [
    "This example shows how to use deep kernel learning (DKL) for classification. This is useful when you have very complex high-dimensional inputs (such as an image)\n",
    "\n",
    "The example here is MNIST classification\n",
    "\n",
    "For an introduction to DKL see these papers:\n",
    "https://arxiv.org/abs/1511.02222\n",
    "https://arxiv.org/abs/1611.00336"
   ]
  },
  {
   "cell_type": "code",
   "execution_count": 28,
   "metadata": {
    "collapsed": true
   },
   "outputs": [],
   "source": [
    "# Import our GPyTorch library\n",
    "import gpytorch\n",
    "\n",
    "# Import some classes we will use from torch\n",
    "from torch.autograd import Variable\n",
    "from torch.optim import SGD, Adam\n",
    "from torch.utils.data import DataLoader\n",
    "\n",
    "import torch\n",
    "from torch import nn\n",
    "from gpytorch.utils.lanczos_bidiagonalize import LanczosBidiagonalize"
   ]
  },
  {
   "cell_type": "code",
   "execution_count": 2,
   "metadata": {
    "collapsed": true
   },
   "outputs": [],
   "source": [
    "from dataloader import getDataloaders\n",
    "config = {'augmentation': True}\n",
    "train_loader, val_loader, test_loader = getDataloaders('cifar10', config)"
   ]
  },
  {
   "cell_type": "code",
   "execution_count": 30,
   "metadata": {
    "collapsed": true
   },
   "outputs": [],
   "source": [
    "from densenet import DenseNet\n",
    "model = DenseNet()\n",
    "state_dict = torch.load('pretrained_model_cifar10.model')\n",
    "model.load_state_dict(state_dict)\n",
    "#from torchvision.models import vgg\n",
    "#model = vgg.vgg19(pretrained=True).cuda()"
   ]
  },
  {
   "cell_type": "code",
   "execution_count": 90,
   "metadata": {
    "collapsed": true
   },
   "outputs": [],
   "source": [
    "def get_activations_for_layer(input, model, layer):\n",
    "    def hook(module, input, output):\n",
    "        torch.save(output, 'tmp.pth')\n",
    "    handle = layer.register_forward_hook(hook)\n",
    "    model(input)\n",
    "    handle.remove()\n",
    "    activations = torch.load('tmp.pth')\n",
    "    return activations"
   ]
  },
  {
   "cell_type": "code",
   "execution_count": 138,
   "metadata": {},
   "outputs": [
    {
     "name": "stdout",
     "output_type": "stream",
     "text": [
      "here\n",
      "here\n",
      "<class 'torch.nn.modules.activation.ReLU'>\n",
      "torch.Size([1, 198, 8, 8]) <class 'torch.autograd.variable.Variable'>\n"
     ]
    }
   ],
   "source": [
    "activations = get_activations_for_layer(Variable(train_loader.dataset[0][0].unsqueeze(0)).cuda(), model, model.features.denseblock3.denselayer5[1])\n",
    "print(activations.shape, type(activations))"
   ]
  },
  {
   "cell_type": "code",
   "execution_count": 139,
   "metadata": {},
   "outputs": [],
   "source": [
    "probe = activations.data"
   ]
  },
  {
   "cell_type": "code",
   "execution_count": 145,
   "metadata": {
    "collapsed": true
   },
   "outputs": [],
   "source": [
    "def conv_to_dense(conv_layer, probe_img, rank):\n",
    "    # probe_img should be 1 x in_channels x imgw x imgh\n",
    "    imgw = probe_img.size(-2)\n",
    "    imgh = probe_img.size(-1)\n",
    "    in_channels = conv_layer.in_channels\n",
    "    out_channels = conv_layer.out_channels\n",
    "    kernel_size = conv_layer.kernel_size\n",
    "    stride = conv_layer.stride\n",
    "    padding = conv_layer.padding\n",
    "    \n",
    "    probe_vector = probe_img.view(in_channels * imgw * imgh)\n",
    "    if conv_layer.bias is not None:\n",
    "        new_conv_layer = nn.Conv2d(in_channels, out_channels, kernel_size=kernel_size, padding=padding, stride=stride, bias=False).cuda()\n",
    "        new_conv_layer.load_state_dict(conv_layer.state_dict(), strict=False)\n",
    "    else:\n",
    "        new_conv_layer = conv_layer\n",
    "    new_conv_layer_t = nn.ConvTranspose2d(out_channels, in_channels, kernel_size=kernel_size, padding=padding, stride=stride, bias=False).cuda()\n",
    "    new_conv_layer_t.load_state_dict(new_conv_layer.state_dict(), strict=False)\n",
    "    \n",
    "    matmul_closure = lambda v: new_conv_layer(Variable(v.contiguous().view(1, in_channels, imgw, imgh)).cuda()).data\n",
    "    matmul_t_closure = lambda v: new_conv_layer_t(Variable(v.contiguous().view(1, out_channels, imgw, imgh)).cuda()).data\n",
    "    \n",
    "    lb = LanczosBidiagonalize(max_iter=rank, cls=type(probe_vector))\n",
    "    n_rows = out_channels * imgw * imgh\n",
    "    n_cols = in_channels * imgw * imgh\n",
    "    P, B, Q = lb.lanczos_bidiagonalize(matmul_closure, matmul_t_closure, probe_vector, n_rows, n_cols)\n",
    "    return P, B, Q, new_conv_layer"
   ]
  },
  {
   "cell_type": "code",
   "execution_count": 159,
   "metadata": {},
   "outputs": [
    {
     "name": "stderr",
     "output_type": "stream",
     "text": [
      "/home/jrg365/anaconda3/lib/python3.6/site-packages/torch/tensor.py:300: UserWarning: self and other not broadcastable, but have the same number of elements.  Falling back to deprecated pointwise behavior.\n",
      "  return self.sub(other)\n"
     ]
    },
    {
     "name": "stdout",
     "output_type": "stream",
     "text": [
      "torch.Size([3072, 3072]) torch.Size([12672, 3072])\n"
     ]
    }
   ],
   "source": [
    "probe_img = probe.cuda()\n",
    "P, B, Q, new_conv_layer = conv_to_dense(model.features.denseblock3.denselayer5[2].cuda(), probe_img, 3072)\n",
    "print(P.shape, Q.shape)"
   ]
  },
  {
   "cell_type": "code",
   "execution_count": 148,
   "metadata": {},
   "outputs": [
    {
     "data": {
      "text/plain": [
       "torch.Size([1, 198, 8, 8])"
      ]
     },
     "execution_count": 148,
     "metadata": {},
     "output_type": "execute_result"
    }
   ],
   "source": [
    "probe_img.shape"
   ]
  },
  {
   "cell_type": "code",
   "execution_count": 156,
   "metadata": {},
   "outputs": [
    {
     "name": "stdout",
     "output_type": "stream",
     "text": [
      "here\n",
      "here\n",
      "<class 'torch.nn.modules.activation.ReLU'>\n"
     ]
    }
   ],
   "source": [
    "test_activations = get_activations_for_layer(Variable(train_loader.dataset[1][0].unsqueeze(0)).cuda(), model, model.features.denseblock3.denselayer5[1])\n",
    "test_img = test_activations.data\n",
    "my_out = P.matmul(B.matmul(Q.t().matmul(test_img.squeeze().view(198*8*8)))).view(1, 48, 8, 8)\n",
    "real_out = new_conv_layer(Variable(test_img).cuda()).data"
   ]
  },
  {
   "cell_type": "code",
   "execution_count": 157,
   "metadata": {},
   "outputs": [
    {
     "data": {
      "text/plain": [
       "\n",
       "-0.1250  0.0026 -0.0473 -0.0353 -0.0448 -0.0962 -0.0021  0.0123\n",
       " 0.0178 -0.0614 -0.0093 -0.0355 -0.0729 -0.0161 -0.0051 -0.0250\n",
       "-0.1447 -0.0723 -0.0676 -0.0549 -0.0005 -0.0581 -0.0375 -0.0482\n",
       "-0.0109 -0.0548 -0.0553 -0.0089 -0.0472 -0.0536 -0.0169 -0.0889\n",
       "-0.0564 -0.0594 -0.0045 -0.0164 -0.0094 -0.0766 -0.1041 -0.0090\n",
       "-0.0422 -0.0196 -0.0061  0.0264 -0.1042  0.0254 -0.0110 -0.0300\n",
       "-0.0690  0.0158 -0.0854 -0.0029  0.0328  0.0349 -0.0863 -0.0858\n",
       "-0.0154  0.0519  0.0366 -0.0388 -0.0065  0.0080  0.0472  0.0171\n",
       "[torch.cuda.FloatTensor of size 8x8 (GPU 0)]"
      ]
     },
     "execution_count": 157,
     "metadata": {},
     "output_type": "execute_result"
    }
   ],
   "source": [
    "my_out[0, 0]"
   ]
  },
  {
   "cell_type": "code",
   "execution_count": 158,
   "metadata": {},
   "outputs": [
    {
     "data": {
      "text/plain": [
       "\n",
       " 0.0149 -0.0315  0.0101  0.0733  0.0511  0.0004 -0.0502 -0.0707\n",
       " 0.0905 -0.0058 -0.1271 -0.1657 -0.1687  0.0193 -0.1864 -0.1879\n",
       "-0.0376 -0.1278 -0.1538 -0.0997 -0.0217 -0.0788 -0.0863 -0.0827\n",
       " 0.0570 -0.0993 -0.0816  0.0339 -0.1375 -0.1127 -0.1114 -0.1262\n",
       "-0.0777 -0.1016  0.0074  0.0817 -0.0383 -0.0702 -0.1327 -0.1485\n",
       "-0.1627 -0.1850 -0.0137  0.0106 -0.0458 -0.0159 -0.0599 -0.0070\n",
       "-0.0851 -0.0188 -0.0315 -0.0357  0.0071 -0.1055 -0.1372 -0.0579\n",
       " 0.0462  0.0232  0.0467  0.1788 -0.0784 -0.1566  0.0012 -0.0032\n",
       "[torch.cuda.FloatTensor of size 8x8 (GPU 0)]"
      ]
     },
     "execution_count": 158,
     "metadata": {},
     "output_type": "execute_result"
    }
   ],
   "source": [
    "real_out[0, 0]"
   ]
  },
  {
   "cell_type": "code",
   "execution_count": 132,
   "metadata": {},
   "outputs": [],
   "source": [
    "svs = Out[131][1]"
   ]
  },
  {
   "cell_type": "markdown",
   "metadata": {},
   "source": [
    "## Define the feature extractor for our deep kernel"
   ]
  },
  {
   "cell_type": "code",
   "execution_count": 160,
   "metadata": {},
   "outputs": [],
   "source": [
    "# probe_img should be 1 x in_channels x imgw x imgh\n",
    "conv_layer = model.features.denseblock3.denselayer5[2]\n",
    "rank = 100\n",
    "imgw = probe_img.size(-2)\n",
    "imgh = probe_img.size(-1)\n",
    "in_channels = conv_layer.in_channels\n",
    "out_channels = conv_layer.out_channels\n",
    "kernel_size = conv_layer.kernel_size\n",
    "stride = conv_layer.stride\n",
    "padding = conv_layer.padding\n",
    "\n",
    "probe_vector = torch.randn(in_channels * 8 * 8)\n",
    "\n",
    "new_conv_layer = nn.Conv2d(in_channels, out_channels, kernel_size=kernel_size, padding=padding, stride=stride, bias=False).cuda()\n",
    "new_conv_layer.load_state_dict(conv_layer.state_dict(), strict=False)\n",
    "new_conv_layer_t = nn.ConvTranspose2d(out_channels, in_channels, kernel_size=kernel_size, padding=padding, stride=stride, bias=False).cuda()\n",
    "new_conv_layer_t.load_state_dict(new_conv_layer.state_dict(), strict=False)\n",
    "\n",
    "matmul_closure = lambda v: new_conv_layer(Variable(v.contiguous().view(1, in_channels, imgw, imgh)).cuda()).data\n",
    "matmul_t_closure = lambda v: new_conv_layer_t(Variable(v.contiguous().view(1, out_channels, imgw, imgh)).cuda()).data\n",
    "\n",
    "lb = LanczosBidiagonalize(max_iter=rank, cls=type(probe_vector))\n",
    "n_rows = out_channels * imgw * imgh\n",
    "n_cols = in_channels * imgw * imgh"
   ]
  },
  {
   "cell_type": "code",
   "execution_count": 161,
   "metadata": {
    "collapsed": true
   },
   "outputs": [],
   "source": [
    "tmp_matmul_closure = lambda v: new_conv_layer(Variable(v.contiguous().view(16, in_channels, 8, 8))).data\n",
    "tmp_single_matmul_closure = lambda v: new_conv_layer(Variable(v.contiguous().view(1, in_channels, 8, 8)).cuda()).data\n",
    "full_matrix = torch.zeros(out_channels * 8 * 8, in_channels * 8 * 8)\n",
    "#tmp_matmul_closure(torch.eye(32768))"
   ]
  },
  {
   "cell_type": "code",
   "execution_count": 166,
   "metadata": {},
   "outputs": [
    {
     "data": {
      "text/plain": [
       "792.0"
      ]
     },
     "execution_count": 166,
     "metadata": {},
     "output_type": "execute_result"
    }
   ],
   "source": [
    "12672/16"
   ]
  },
  {
   "cell_type": "code",
   "execution_count": 167,
   "metadata": {},
   "outputs": [],
   "source": [
    "query = torch.eye(12672)\n",
    "for i in range(792):\n",
    "    iquery = query[i*16:(i+1)*16, :]\n",
    "    mv_result = tmp_matmul_closure(iquery.cuda()) # 16 x out_channels x 8 x 8\n",
    "    full_matrix[:, i*16:(i+1)*16] = mv_result.view(16, out_channels * 8 * 8).t()"
   ]
  },
  {
   "cell_type": "code",
   "execution_count": 169,
   "metadata": {},
   "outputs": [],
   "source": [
    "v = torch.randn(12672)\n",
    "foo = full_matrix.matmul(v).view(1, 48, 8, 8)\n",
    "bar = tmp_single_matmul_closure(v)"
   ]
  },
  {
   "cell_type": "code",
   "execution_count": 170,
   "metadata": {},
   "outputs": [
    {
     "data": {
      "text/plain": [
       "\n",
       "-0.4162  1.0801 -0.3112  0.5306 -0.6344  0.8932  0.5655 -0.4148\n",
       "-0.1490 -0.3986 -0.5153  0.3185  0.1137  0.5429  1.1271  0.8324\n",
       "-0.6271 -0.6273 -0.1703 -0.4854  0.1000  0.3816  0.9990  0.4768\n",
       " 0.7832 -0.4838  0.5524  0.6123  0.7270  0.9457 -0.4304 -0.3675\n",
       " 0.4251 -0.6419 -0.6681 -0.3972 -0.4339 -0.5961  1.1134  0.4202\n",
       " 0.4582 -0.2432 -1.1304 -0.6372 -0.8509 -0.3806  0.7256 -1.0742\n",
       "-0.5626 -0.7196  1.2833  0.7704 -0.7007  0.7098  0.5523 -0.8401\n",
       " 0.2674 -0.2597 -0.2632 -0.0344  0.0071 -0.0151 -0.8089 -0.5882\n",
       "[torch.FloatTensor of size 8x8]"
      ]
     },
     "execution_count": 170,
     "metadata": {},
     "output_type": "execute_result"
    }
   ],
   "source": [
    "foo[0, 0]"
   ]
  },
  {
   "cell_type": "code",
   "execution_count": 171,
   "metadata": {},
   "outputs": [
    {
     "data": {
      "text/plain": [
       "\n",
       "-0.4162  1.0801 -0.3112  0.5306 -0.6344  0.8932  0.5655 -0.4148\n",
       "-0.1490 -0.3986 -0.5153  0.3185  0.1137  0.5429  1.1271  0.8324\n",
       "-0.6271 -0.6273 -0.1703 -0.4854  0.1000  0.3816  0.9990  0.4768\n",
       " 0.7832 -0.4838  0.5524  0.6123  0.7270  0.9457 -0.4304 -0.3675\n",
       " 0.4251 -0.6419 -0.6681 -0.3972 -0.4339 -0.5961  1.1134  0.4202\n",
       " 0.4582 -0.2432 -1.1304 -0.6372 -0.8509 -0.3806  0.7256 -1.0742\n",
       "-0.5626 -0.7196  1.2833  0.7704 -0.7007  0.7098  0.5523 -0.8401\n",
       " 0.2674 -0.2597 -0.2632 -0.0344  0.0071 -0.0151 -0.8089 -0.5882\n",
       "[torch.cuda.FloatTensor of size 8x8 (GPU 0)]"
      ]
     },
     "execution_count": 171,
     "metadata": {},
     "output_type": "execute_result"
    }
   ],
   "source": [
    "bar[0, 0]"
   ]
  },
  {
   "cell_type": "code",
   "execution_count": 173,
   "metadata": {},
   "outputs": [],
   "source": [
    "full_matrix_gpu = full_matrix.cuda()"
   ]
  },
  {
   "cell_type": "code",
   "execution_count": 179,
   "metadata": {
    "collapsed": true
   },
   "outputs": [],
   "source": [
    "svs = full_matrix_gpu.svd()[1]"
   ]
  },
  {
   "cell_type": "code",
   "execution_count": 180,
   "metadata": {
    "collapsed": true
   },
   "outputs": [],
   "source": [
    "from matplotlib import pyplot as plt\n",
    "%matplotlib inline"
   ]
  },
  {
   "cell_type": "code",
   "execution_count": 181,
   "metadata": {},
   "outputs": [
    {
     "data": {
      "text/plain": [
       "Text(0,0.5,'singular value')"
      ]
     },
     "execution_count": 181,
     "metadata": {},
     "output_type": "execute_result"
    },
    {
     "name": "stderr",
     "output_type": "stream",
     "text": [
      "/home/jrg365/anaconda3/lib/python3.6/site-packages/matplotlib/font_manager.py:1316: UserWarning: findfont: Font family ['Times'] not found. Falling back to DejaVu Sans\n",
      "  (prop.get_family(), self.defaultFamily[fontext]))\n"
     ]
    },
    {
     "data": {
      "image/png": "[encoded data removed]",
      "text/plain": [
       "<matplotlib.figure.Figure at 0x7f2acb37d320>"
      ]
     },
     "metadata": {},
     "output_type": "display_data"
    }
   ],
   "source": [
    "plt.plot(list(range(3072)), svs.cpu().numpy())\n",
    "plt.xlabel('index')\n",
    "plt.ylabel('singular value')"
   ]
  },
  {
   "cell_type": "code",
   "execution_count": 136,
   "metadata": {},
   "outputs": [
    {
     "data": {
      "text/plain": [
       "Text(0,0.5,'singular value')"
      ]
     },
     "execution_count": 136,
     "metadata": {},
     "output_type": "execute_result"
    },
    {
     "name": "stderr",
     "output_type": "stream",
     "text": [
      "/home/jrg365/anaconda3/lib/python3.6/site-packages/matplotlib/font_manager.py:1316: UserWarning: findfont: Font family ['Times'] not found. Falling back to DejaVu Sans\n",
      "  (prop.get_family(), self.defaultFamily[fontext]))\n"
     ]
    },
    {
     "data": {
      "image/png": "[encoded data removed]",
      "text/plain": [
       "<matplotlib.figure.Figure at 0x7f2acb37deb8>"
      ]
     },
     "metadata": {},
     "output_type": "display_data"
    }
   ],
   "source": [
    "plt.plot(list(range(3072)), svs.cpu().numpy())\n",
    "plt.xlabel('index')\n",
    "plt.ylabel('singular value')"
   ]
  },
  {
   "cell_type": "code",
   "execution_count": null,
   "metadata": {
    "collapsed": true
   },
   "outputs": [],
   "source": []
  },
  {
   "cell_type": "code",
   "execution_count": null,
   "metadata": {
    "collapsed": true
   },
   "outputs": [],
   "source": []
  },
  {
   "cell_type": "code",
   "execution_count": null,
   "metadata": {
    "collapsed": true
   },
   "outputs": [],
   "source": []
  }
 ],
 "metadata": {
  "anaconda-cloud": {},
  "kernelspec": {
   "display_name": "Python 3",
   "language": "python",
   "name": "python3"
  },
  "language_info": {
   "codemirror_mode": {
    "name": "ipython",
    "version": 3
   },
   "file_extension": ".py",
   "mimetype": "text/x-python",
   "name": "python",
   "nbconvert_exporter": "python",
   "pygments_lexer": "ipython3",
   "version": "3.6.3"
  }
 },
 "nbformat": 4,
 "nbformat_minor": 1
}
