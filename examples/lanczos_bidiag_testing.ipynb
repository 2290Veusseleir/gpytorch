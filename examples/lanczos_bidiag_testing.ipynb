{
 "cells": [
  {
   "cell_type": "markdown",
   "metadata": {},
   "source": [
    "This example shows how to use deep kernel learning (DKL) for classification. This is useful when you have very complex high-dimensional inputs (such as an image)\n",
    "\n",
    "The example here is MNIST classification\n",
    "\n",
    "For an introduction to DKL see these papers:\n",
    "https://arxiv.org/abs/1511.02222\n",
    "https://arxiv.org/abs/1611.00336"
   ]
  },
  {
   "cell_type": "code",
   "execution_count": 1,
   "metadata": {
    "collapsed": true
   },
   "outputs": [],
   "source": [
    "# Import our GPyTorch library\n",
    "import gpytorch\n",
    "\n",
    "# Import some classes we will use from torch\n",
    "from torch.autograd import Variable\n",
    "from torch.optim import SGD, Adam\n",
    "from torch.utils.data import DataLoader\n",
    "\n",
    "import torch\n",
    "from torch import nn\n",
    "from gpytorch.utils.lanczos_bidiagonalize import LanczosBidiagonalize, LanczosBidiagonalizeVariable"
   ]
  },
  {
   "cell_type": "code",
   "execution_count": 2,
   "metadata": {},
   "outputs": [
    {
     "name": "stdout",
     "output_type": "stream",
     "text": [
      "loading cifar10\n",
      "{'augmentation': True}\n",
      "with data augmentation\n",
      "dataset is normalized\n",
      "Files already downloaded and verified\n"
     ]
    }
   ],
   "source": [
    "from dataloader import getDataloaders\n",
    "config = {'augmentation': True}\n",
    "train_loader, val_loader, test_loader = getDataloaders('cifar10', config)"
   ]
  },
  {
   "cell_type": "code",
   "execution_count": 3,
   "metadata": {
    "collapsed": true
   },
   "outputs": [],
   "source": [
    "#from densenet import DenseNet\n",
    "#model = DenseNet()\n",
    "#state_dict = torch.load('pretrained_model_cifar10.model')\n",
    "#model.load_state_dict(state_dict)\n",
    "#from torchvision.models import vgg\n",
    "#model = vgg.vgg19(pretrained=True).cuda()\n",
    "from vgg import VGG\n",
    "model = VGG()\n",
    "state_dict = torch.load('checkpoint-200.pt')['state_dict']\n",
    "model.load_state_dict(state_dict)"
   ]
  },
  {
   "cell_type": "code",
   "execution_count": 4,
   "metadata": {},
   "outputs": [],
   "source": [
    "model = model.cuda()"
   ]
  },
  {
   "cell_type": "code",
   "execution_count": 5,
   "metadata": {},
   "outputs": [
    {
     "data": {
      "text/plain": [
       "Sequential(\n",
       "  (0): Conv2d (3, 64, kernel_size=(3, 3), stride=(1, 1), padding=(1, 1))\n",
       "  (1): ReLU(inplace)\n",
       "  (2): Conv2d (64, 64, kernel_size=(3, 3), stride=(1, 1), padding=(1, 1))\n",
       "  (3): ReLU(inplace)\n",
       "  (4): MaxPool2d(kernel_size=(2, 2), stride=(2, 2), dilation=(1, 1))\n",
       "  (5): Conv2d (64, 128, kernel_size=(3, 3), stride=(1, 1), padding=(1, 1))\n",
       "  (6): ReLU(inplace)\n",
       "  (7): Conv2d (128, 128, kernel_size=(3, 3), stride=(1, 1), padding=(1, 1))\n",
       "  (8): ReLU(inplace)\n",
       "  (9): MaxPool2d(kernel_size=(2, 2), stride=(2, 2), dilation=(1, 1))\n",
       "  (10): Conv2d (128, 256, kernel_size=(3, 3), stride=(1, 1), padding=(1, 1))\n",
       "  (11): ReLU(inplace)\n",
       "  (12): Conv2d (256, 256, kernel_size=(3, 3), stride=(1, 1), padding=(1, 1))\n",
       "  (13): ReLU(inplace)\n",
       "  (14): Conv2d (256, 256, kernel_size=(3, 3), stride=(1, 1), padding=(1, 1))\n",
       "  (15): ReLU(inplace)\n",
       "  (16): MaxPool2d(kernel_size=(2, 2), stride=(2, 2), dilation=(1, 1))\n",
       "  (17): Conv2d (256, 512, kernel_size=(3, 3), stride=(1, 1), padding=(1, 1))\n",
       "  (18): ReLU(inplace)\n",
       "  (19): Conv2d (512, 512, kernel_size=(3, 3), stride=(1, 1), padding=(1, 1))\n",
       "  (20): ReLU(inplace)\n",
       "  (21): Conv2d (512, 512, kernel_size=(3, 3), stride=(1, 1), padding=(1, 1))\n",
       "  (22): ReLU(inplace)\n",
       "  (23): MaxPool2d(kernel_size=(2, 2), stride=(2, 2), dilation=(1, 1))\n",
       "  (24): Conv2d (512, 512, kernel_size=(3, 3), stride=(1, 1), padding=(1, 1))\n",
       "  (25): ReLU(inplace)\n",
       "  (26): Conv2d (512, 512, kernel_size=(3, 3), stride=(1, 1), padding=(1, 1))\n",
       "  (27): ReLU(inplace)\n",
       "  (28): Conv2d (512, 512, kernel_size=(3, 3), stride=(1, 1), padding=(1, 1))\n",
       "  (29): ReLU(inplace)\n",
       "  (30): MaxPool2d(kernel_size=(2, 2), stride=(2, 2), dilation=(1, 1))\n",
       ")"
      ]
     },
     "execution_count": 5,
     "metadata": {},
     "output_type": "execute_result"
    }
   ],
   "source": [
    "model.features"
   ]
  },
  {
   "cell_type": "code",
   "execution_count": 6,
   "metadata": {
    "collapsed": true
   },
   "outputs": [],
   "source": [
    "def get_activations_for_layer(input, model, layer):\n",
    "    def hook(module, input, output):\n",
    "        torch.save(output, 'tmp.pth')\n",
    "    handle = layer.register_forward_hook(hook)\n",
    "    model(input)\n",
    "    handle.remove()\n",
    "    activations = torch.load('tmp.pth')\n",
    "    return activations"
   ]
  },
  {
   "cell_type": "code",
   "execution_count": 7,
   "metadata": {},
   "outputs": [
    {
     "name": "stdout",
     "output_type": "stream",
     "text": [
      "torch.Size([1, 512, 4, 4]) <class 'torch.autograd.variable.Variable'>\n"
     ]
    }
   ],
   "source": [
    "activations = get_activations_for_layer(Variable(train_loader.dataset[0][0].unsqueeze(0)).cuda(), model, model.features[20])\n",
    "print(activations.shape, type(activations))"
   ]
  },
  {
   "cell_type": "code",
   "execution_count": 8,
   "metadata": {
    "collapsed": true
   },
   "outputs": [],
   "source": [
    "probe = activations.data"
   ]
  },
  {
   "cell_type": "code",
   "execution_count": 22,
   "metadata": {
    "collapsed": true
   },
   "outputs": [],
   "source": [
    "def conv_to_dense(conv_layer, probe_img, rank):\n",
    "    # probe_img should be 1 x in_channels x imgw x imgh\n",
    "    imgw = probe_img.size(-2)\n",
    "    imgh = probe_img.size(-1)\n",
    "    in_channels = conv_layer.in_channels\n",
    "    out_channels = conv_layer.out_channels\n",
    "    kernel_size = conv_layer.kernel_size\n",
    "    stride = conv_layer.stride\n",
    "    padding = conv_layer.padding\n",
    "    \n",
    "    probe_vector = probe_img.view(in_channels * imgw * imgh)\n",
    "    if conv_layer.bias is not None:\n",
    "        new_conv_layer = nn.Conv2d(in_channels, out_channels, kernel_size=kernel_size, padding=padding, stride=stride, bias=False).cuda()\n",
    "        new_conv_layer.load_state_dict(conv_layer.state_dict(), strict=False)\n",
    "    else:\n",
    "        new_conv_layer = conv_layer\n",
    "    new_conv_layer_t = nn.ConvTranspose2d(out_channels, in_channels, kernel_size=kernel_size, padding=padding, stride=stride, bias=False).cuda()\n",
    "    new_conv_layer_t.load_state_dict(new_conv_layer.state_dict(), strict=False)\n",
    "    \n",
    "    matmul_closure = lambda v: new_conv_layer(Variable(v.contiguous().view(1, in_channels, imgw, imgh)).cuda()).data.view(in_channels * imgw * imgh)\n",
    "    matmul_t_closure = lambda v: new_conv_layer_t(Variable(v.contiguous().view(1, out_channels, imgw, imgh)).cuda()).data.view(in_channels * imgw * imgh)\n",
    "    \n",
    "    lb = LanczosBidiagonalize(max_iter=rank, cls=type(probe_vector))\n",
    "    n_rows = out_channels * imgw * imgh\n",
    "    n_cols = in_channels * imgw * imgh\n",
    "    P, B, Q = lb.lanczos_bidiagonalize(matmul_closure, matmul_t_closure, probe_vector, n_rows, n_cols)\n",
    "    return P, B, Q, new_conv_layer"
   ]
  },
  {
   "cell_type": "code",
   "execution_count": 26,
   "metadata": {
    "collapsed": true
   },
   "outputs": [],
   "source": [
    "def conv_to_dense_variable(conv_layer, probe_img, rank):\n",
    "    # probe_img should be 1 x in_channels x imgw x imgh\n",
    "    imgw = probe_img.size(-2)\n",
    "    imgh = probe_img.size(-1)\n",
    "    in_channels = conv_layer.in_channels\n",
    "    out_channels = conv_layer.out_channels\n",
    "    kernel_size = conv_layer.kernel_size\n",
    "    stride = conv_layer.stride\n",
    "    padding = conv_layer.padding\n",
    "    \n",
    "    probe_vector = probe_img.view(in_channels * imgw * imgh).contiguous()\n",
    "    if conv_layer.bias is not None:\n",
    "        new_conv_layer = nn.Conv2d(in_channels, out_channels, kernel_size=kernel_size, padding=padding, stride=stride, bias=False).cuda()\n",
    "        new_conv_layer.load_state_dict(conv_layer.state_dict(), strict=False)\n",
    "    else:\n",
    "        new_conv_layer = conv_layer\n",
    "    new_conv_layer_t = nn.ConvTranspose2d(out_channels, in_channels, kernel_size=kernel_size, padding=padding, stride=stride, bias=False).cuda()\n",
    "    new_conv_layer_t.load_state_dict(new_conv_layer.state_dict(), strict=False)\n",
    "    \n",
    "    matmul_closure = lambda v: new_conv_layer(v.contiguous().view(1, in_channels, imgw, imgh)).view(in_channels * imgw * imgh).contiguous()\n",
    "    matmul_t_closure = lambda v: new_conv_layer_t(v.contiguous().view(1, out_channels, imgw, imgh)).view(in_channels * imgw * imgh).contiguous()\n",
    "    \n",
    "    lb = LanczosBidiagonalizeVariable(max_iter=rank, cls=type(probe_vector.data))\n",
    "    n_rows = out_channels * imgw * imgh\n",
    "    n_cols = in_channels * imgw * imgh\n",
    "    P, B, Q = lb.lanczos_bidiagonalize(matmul_closure, matmul_t_closure, probe_vector, n_rows, n_cols)\n",
    "    return P, B, Q, new_conv_layer"
   ]
  },
  {
   "cell_type": "code",
   "execution_count": 27,
   "metadata": {},
   "outputs": [
    {
     "name": "stdout",
     "output_type": "stream",
     "text": [
      "torch.Size([8192, 20]) torch.Size([8192, 20])\n"
     ]
    }
   ],
   "source": [
    "probe_img = Variable(probe.cuda())\n",
    "P, B, Q, new_conv_layer = conv_to_dense_variable(model.features[21], probe_img, 20)\n",
    "print(P.shape, Q.shape)"
   ]
  },
  {
   "cell_type": "code",
   "execution_count": 34,
   "metadata": {},
   "outputs": [],
   "source": [
    "test_activations = get_activations_for_layer(Variable(train_loader.dataset[1][0].unsqueeze(0)).cuda(), model, model.features[20])\n",
    "test_img = test_activations.data\n",
    "in_channels = new_conv_layer.in_channels\n",
    "out_channels = new_conv_layer.out_channels\n",
    "imgw = test_img.size(-2)\n",
    "imgh = test_img.size(-1)\n",
    "left_mat = P.matmul(B)\n",
    "my_out = left_mat.matmul(Q.t().matmul(Variable(test_img).squeeze().view(in_channels*imgw*imgh))).view(1, out_channels, imgw, imgh)\n",
    "real_out = new_conv_layer(Variable(test_img).cuda()).data"
   ]
  },
  {
   "cell_type": "code",
   "execution_count": 39,
   "metadata": {},
   "outputs": [
    {
     "ename": "RuntimeError",
     "evalue": "one of the variables needed for gradient computation has been modified by an inplace operation",
     "output_type": "error",
     "traceback": [
      "\u001b[0;31m---------------------------------------------------------------------------\u001b[0m",
      "\u001b[0;31mRuntimeError\u001b[0m                              Traceback (most recent call last)",
      "\u001b[0;32m<ipython-input-39-1c2fb4aad6e7>\u001b[0m in \u001b[0;36m<module>\u001b[0;34m()\u001b[0m\n\u001b[0;32m----> 1\u001b[0;31m \u001b[0mmy_out\u001b[0m\u001b[0;34m.\u001b[0m\u001b[0msum\u001b[0m\u001b[0;34m(\u001b[0m\u001b[0;36m1\u001b[0m\u001b[0;34m)\u001b[0m\u001b[0;34m.\u001b[0m\u001b[0mnorm\u001b[0m\u001b[0;34m(\u001b[0m\u001b[0;34m)\u001b[0m\u001b[0;34m.\u001b[0m\u001b[0mbackward\u001b[0m\u001b[0;34m(\u001b[0m\u001b[0;34m)\u001b[0m\u001b[0;34m\u001b[0m\u001b[0m\n\u001b[0m",
      "\u001b[0;32m~/anaconda3/lib/python3.6/site-packages/torch/autograd/variable.py\u001b[0m in \u001b[0;36mbackward\u001b[0;34m(self, gradient, retain_graph, create_graph, retain_variables)\u001b[0m\n\u001b[1;32m    165\u001b[0m                 \u001b[0mVariable\u001b[0m\u001b[0;34m.\u001b[0m\u001b[0;34m\u001b[0m\u001b[0m\n\u001b[1;32m    166\u001b[0m         \"\"\"\n\u001b[0;32m--> 167\u001b[0;31m         \u001b[0mtorch\u001b[0m\u001b[0;34m.\u001b[0m\u001b[0mautograd\u001b[0m\u001b[0;34m.\u001b[0m\u001b[0mbackward\u001b[0m\u001b[0;34m(\u001b[0m\u001b[0mself\u001b[0m\u001b[0;34m,\u001b[0m \u001b[0mgradient\u001b[0m\u001b[0;34m,\u001b[0m \u001b[0mretain_graph\u001b[0m\u001b[0;34m,\u001b[0m \u001b[0mcreate_graph\u001b[0m\u001b[0;34m,\u001b[0m \u001b[0mretain_variables\u001b[0m\u001b[0;34m)\u001b[0m\u001b[0;34m\u001b[0m\u001b[0m\n\u001b[0m\u001b[1;32m    168\u001b[0m \u001b[0;34m\u001b[0m\u001b[0m\n\u001b[1;32m    169\u001b[0m     \u001b[0;32mdef\u001b[0m \u001b[0mregister_hook\u001b[0m\u001b[0;34m(\u001b[0m\u001b[0mself\u001b[0m\u001b[0;34m,\u001b[0m \u001b[0mhook\u001b[0m\u001b[0;34m)\u001b[0m\u001b[0;34m:\u001b[0m\u001b[0;34m\u001b[0m\u001b[0m\n",
      "\u001b[0;32m~/anaconda3/lib/python3.6/site-packages/torch/autograd/__init__.py\u001b[0m in \u001b[0;36mbackward\u001b[0;34m(variables, grad_variables, retain_graph, create_graph, retain_variables)\u001b[0m\n\u001b[1;32m     97\u001b[0m \u001b[0;34m\u001b[0m\u001b[0m\n\u001b[1;32m     98\u001b[0m     Variable._execution_engine.run_backward(\n\u001b[0;32m---> 99\u001b[0;31m         variables, grad_variables, retain_graph)\n\u001b[0m\u001b[1;32m    100\u001b[0m \u001b[0;34m\u001b[0m\u001b[0m\n\u001b[1;32m    101\u001b[0m \u001b[0;34m\u001b[0m\u001b[0m\n",
      "\u001b[0;31mRuntimeError\u001b[0m: one of the variables needed for gradient computation has been modified by an inplace operation"
     ]
    }
   ],
   "source": [
    "my_out.sum(1).norm().backward()"
   ]
  },
  {
   "cell_type": "code",
   "execution_count": 35,
   "metadata": {
    "scrolled": true
   },
   "outputs": [
    {
     "data": {
      "text/plain": [
       "Variable containing:\n",
       "1.00000e-02 *\n",
       "  1.5437  2.7579 -1.7928  0.5235\n",
       "  0.9395  1.5213 -4.9919  1.9294\n",
       "  2.1203  5.4022 -0.6803  2.6550\n",
       " -3.7541 -2.0316 -4.1231 -1.7868\n",
       "[torch.cuda.FloatTensor of size 4x4 (GPU 0)]"
      ]
     },
     "execution_count": 35,
     "metadata": {},
     "output_type": "execute_result"
    }
   ],
   "source": [
    "my_out[0, 0]"
   ]
  },
  {
   "cell_type": "code",
   "execution_count": 63,
   "metadata": {},
   "outputs": [
    {
     "data": {
      "text/plain": [
       "28"
      ]
     },
     "execution_count": 63,
     "metadata": {},
     "output_type": "execute_result"
    }
   ],
   "source": [
    "torch.sum(B.svd()[1] < 1e-3)"
   ]
  },
  {
   "cell_type": "code",
   "execution_count": 36,
   "metadata": {},
   "outputs": [
    {
     "data": {
      "text/plain": [
       "\n",
       " 0.1249  0.2007  0.0472  0.0329\n",
       "-0.0805 -0.0843 -0.1621 -0.0317\n",
       "-0.0863 -0.0923 -0.1104 -0.0130\n",
       "-0.0646 -0.0629 -0.0717 -0.0261\n",
       "[torch.cuda.FloatTensor of size 4x4 (GPU 0)]"
      ]
     },
     "execution_count": 36,
     "metadata": {},
     "output_type": "execute_result"
    }
   ],
   "source": [
    "real_out[0, 0]"
   ]
  },
  {
   "cell_type": "markdown",
   "metadata": {},
   "source": [
    "## Define the feature extractor for our deep kernel"
   ]
  },
  {
   "cell_type": "code",
   "execution_count": 29,
   "metadata": {
    "collapsed": true
   },
   "outputs": [],
   "source": [
    "# probe_img should be 1 x in_channels x imgw x imgh\n",
    "conv_layer = model.features[21]\n",
    "rank = 100\n",
    "imgw = probe_img.size(-2)\n",
    "imgh = probe_img.size(-1)\n",
    "in_channels = conv_layer.in_channels\n",
    "out_channels = conv_layer.out_channels\n",
    "kernel_size = conv_layer.kernel_size\n",
    "stride = conv_layer.stride\n",
    "padding = conv_layer.padding\n",
    "\n",
    "probe_vector = torch.randn(in_channels * 8 * 8)\n",
    "\n",
    "new_conv_layer = nn.Conv2d(in_channels, out_channels, kernel_size=kernel_size, padding=padding, stride=stride, bias=False).cuda()\n",
    "new_conv_layer.load_state_dict(conv_layer.state_dict(), strict=False)\n",
    "new_conv_layer_t = nn.ConvTranspose2d(out_channels, in_channels, kernel_size=kernel_size, padding=padding, stride=stride, bias=False).cuda()\n",
    "new_conv_layer_t.load_state_dict(new_conv_layer.state_dict(), strict=False)\n",
    "\n",
    "matmul_closure = lambda v: new_conv_layer(Variable(v.contiguous().view(1, in_channels, imgw, imgh)).cuda()).data\n",
    "matmul_t_closure = lambda v: new_conv_layer_t(Variable(v.contiguous().view(1, out_channels, imgw, imgh)).cuda()).data\n",
    "\n",
    "lb = LanczosBidiagonalize(max_iter=rank, cls=type(probe_vector))\n",
    "n_rows = out_channels * imgw * imgh\n",
    "n_cols = in_channels * imgw * imgh"
   ]
  },
  {
   "cell_type": "code",
   "execution_count": 30,
   "metadata": {
    "collapsed": true
   },
   "outputs": [],
   "source": [
    "tmp_matmul_closure = lambda v: new_conv_layer(Variable(v.contiguous().view(16, in_channels, 4, 4))).data\n",
    "tmp_single_matmul_closure = lambda v: new_conv_layer(Variable(v.contiguous().view(1, in_channels, 4, 4)).cuda()).data\n",
    "full_matrix = torch.zeros(out_channels * 4 * 4, in_channels * 4 * 4)\n",
    "#tmp_matmul_closure(torch.eye(32768))"
   ]
  },
  {
   "cell_type": "code",
   "execution_count": 34,
   "metadata": {},
   "outputs": [
    {
     "data": {
      "text/plain": [
       "4"
      ]
     },
     "execution_count": 34,
     "metadata": {},
     "output_type": "execute_result"
    }
   ],
   "source": [
    "imgw"
   ]
  },
  {
   "cell_type": "code",
   "execution_count": 35,
   "metadata": {
    "collapsed": true
   },
   "outputs": [],
   "source": [
    "query = torch.eye(in_channels * imgw * imgh)\n",
    "for i in range(512):\n",
    "    iquery = query[i*16:(i+1)*16, :]\n",
    "    mv_result = tmp_matmul_closure(iquery.cuda()) # 16 x out_channels x 8 x 8\n",
    "    full_matrix[:, i*16:(i+1)*16] = mv_result.view(16, out_channels * imgw * imgh).t()"
   ]
  },
  {
   "cell_type": "code",
   "execution_count": 36,
   "metadata": {
    "collapsed": true
   },
   "outputs": [],
   "source": [
    "v = torch.randn(in_channels * imgw * imgh)\n",
    "foo = full_matrix.matmul(v).view(1, out_channels, imgw, imgh)\n",
    "bar = tmp_single_matmul_closure(v)"
   ]
  },
  {
   "cell_type": "code",
   "execution_count": 37,
   "metadata": {},
   "outputs": [
    {
     "data": {
      "text/plain": [
       "\n",
       " 0.0871  0.0523 -0.2962  0.1010\n",
       " 0.1186 -0.1099 -0.2236  0.2003\n",
       " 0.1621 -0.0005  0.1773 -0.0580\n",
       "-0.1064 -0.0841 -0.0208 -0.0271\n",
       "[torch.FloatTensor of size 4x4]"
      ]
     },
     "execution_count": 37,
     "metadata": {},
     "output_type": "execute_result"
    }
   ],
   "source": [
    "foo[0, 0]"
   ]
  },
  {
   "cell_type": "code",
   "execution_count": 38,
   "metadata": {},
   "outputs": [
    {
     "data": {
      "text/plain": [
       "\n",
       " 0.0871  0.0523 -0.2962  0.1010\n",
       " 0.1186 -0.1099 -0.2236  0.2003\n",
       " 0.1621 -0.0005  0.1773 -0.0580\n",
       "-0.1064 -0.0841 -0.0208 -0.0271\n",
       "[torch.cuda.FloatTensor of size 4x4 (GPU 0)]"
      ]
     },
     "execution_count": 38,
     "metadata": {},
     "output_type": "execute_result"
    }
   ],
   "source": [
    "bar[0, 0]"
   ]
  },
  {
   "cell_type": "code",
   "execution_count": 39,
   "metadata": {
    "collapsed": true
   },
   "outputs": [],
   "source": [
    "full_matrix_gpu = full_matrix.cuda()"
   ]
  },
  {
   "cell_type": "code",
   "execution_count": 40,
   "metadata": {
    "collapsed": true
   },
   "outputs": [],
   "source": [
    "svs = full_matrix_gpu.svd()[1]"
   ]
  },
  {
   "cell_type": "code",
   "execution_count": 41,
   "metadata": {},
   "outputs": [
    {
     "name": "stderr",
     "output_type": "stream",
     "text": [
      "/home/jrg365/anaconda3/lib/python3.6/site-packages/matplotlib/__init__.py:465: UserWarning: matplotlibrc text.usetex option can not be used unless TeX is installed on your system\n",
      "  warnings.warn('matplotlibrc text.usetex option can not be used unless '\n",
      "/home/jrg365/anaconda3/lib/python3.6/site-packages/matplotlib/__init__.py:473: UserWarning: matplotlibrc text.usetex can not be used with *Agg backend unless dvipng-1.6 or later is installed on your system\n",
      "  'your system' % dvipng_req)\n"
     ]
    }
   ],
   "source": [
    "from matplotlib import pyplot as plt\n",
    "%matplotlib inline"
   ]
  },
  {
   "cell_type": "code",
   "execution_count": 43,
   "metadata": {},
   "outputs": [
    {
     "data": {
      "text/plain": [
       "8192"
      ]
     },
     "execution_count": 43,
     "metadata": {},
     "output_type": "execute_result"
    }
   ],
   "source": [
    "len(svs)"
   ]
  },
  {
   "cell_type": "code",
   "execution_count": 44,
   "metadata": {},
   "outputs": [
    {
     "data": {
      "text/plain": [
       "Text(0,0.5,'singular value')"
      ]
     },
     "execution_count": 44,
     "metadata": {},
     "output_type": "execute_result"
    },
    {
     "name": "stderr",
     "output_type": "stream",
     "text": [
      "/home/jrg365/anaconda3/lib/python3.6/site-packages/matplotlib/font_manager.py:1316: UserWarning: findfont: Font family ['Times'] not found. Falling back to DejaVu Sans\n",
      "  (prop.get_family(), self.defaultFamily[fontext]))\n"
     ]
    },
    {
     "data": {
      "image/png": "[encoded data removed]",
      "text/plain": [
       "<matplotlib.figure.Figure at 0x7f4e2d809320>"
      ]
     },
     "metadata": {},
     "output_type": "display_data"
    }
   ],
   "source": [
    "plt.plot(list(range(8192)), svs.cpu().numpy())\n",
    "plt.xlabel('index')\n",
    "plt.ylabel('singular value')"
   ]
  },
  {
   "cell_type": "code",
   "execution_count": 136,
   "metadata": {},
   "outputs": [
    {
     "data": {
      "text/plain": [
       "Text(0,0.5,'singular value')"
      ]
     },
     "execution_count": 136,
     "metadata": {},
     "output_type": "execute_result"
    },
    {
     "name": "stderr",
     "output_type": "stream",
     "text": [
      "/home/jrg365/anaconda3/lib/python3.6/site-packages/matplotlib/font_manager.py:1316: UserWarning: findfont: Font family ['Times'] not found. Falling back to DejaVu Sans\n",
      "  (prop.get_family(), self.defaultFamily[fontext]))\n"
     ]
    },
    {
     "data": {
      "image/png": "[encoded data removed]",
      "text/plain": [
       "<matplotlib.figure.Figure at 0x7f2acb37deb8>"
      ]
     },
     "metadata": {},
     "output_type": "display_data"
    }
   ],
   "source": [
    "plt.plot(list(range(3072)), svs.cpu().numpy())\n",
    "plt.xlabel('index')\n",
    "plt.ylabel('singular value')"
   ]
  },
  {
   "cell_type": "code",
   "execution_count": null,
   "metadata": {
    "collapsed": true
   },
   "outputs": [],
   "source": []
  },
  {
   "cell_type": "code",
   "execution_count": null,
   "metadata": {
    "collapsed": true
   },
   "outputs": [],
   "source": []
  },
  {
   "cell_type": "code",
   "execution_count": null,
   "metadata": {
    "collapsed": true
   },
   "outputs": [],
   "source": []
  }
 ],
 "metadata": {
  "anaconda-cloud": {},
  "kernelspec": {
   "display_name": "Python 3",
   "language": "python",
   "name": "python3"
  },
  "language_info": {
   "codemirror_mode": {
    "name": "ipython",
    "version": 3
   },
   "file_extension": ".py",
   "mimetype": "text/x-python",
   "name": "python",
   "nbconvert_exporter": "python",
   "pygments_lexer": "ipython3",
   "version": "3.6.3"
  }
 },
 "nbformat": 4,
 "nbformat_minor": 1
}
