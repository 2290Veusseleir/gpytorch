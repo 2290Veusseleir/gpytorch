{
 "cells": [
  {
   "cell_type": "markdown",
   "metadata": {},
   "source": [
    "# Deep Gaussian Processes with Doubly Stochastic VI\n",
    "\n",
    "In this notebook, we provide a GPyTorch implementation of deep Gaussian processes, where training and inference is performed using the method of Salimbeni et al., 2017 (https://arxiv.org/abs/1705.08933) adapted to CG-based inference.\n",
    "\n",
    "We'll be training a simple two layer deep GP on the `elevators` UCI dataset."
   ]
  },
  {
   "cell_type": "code",
   "execution_count": 1,
   "metadata": {},
   "outputs": [
    {
     "name": "stdout",
     "output_type": "stream",
     "text": [
      "env: CUDA_VISIBLE_DEVICES=1\n"
     ]
    }
   ],
   "source": [
    "%set_env CUDA_VISIBLE_DEVICES=1\n",
    "\n",
    "import torch\n",
    "import gpytorch\n",
    "from torch.nn import Linear\n",
    "from gpytorch.means import ConstantMean, LinearMean\n",
    "from gpytorch.kernels import RBFKernel, ScaleKernel\n",
    "from gpytorch.variational import VariationalStrategy, CholeskyVariationalDistribution, MeanFieldVariationalDistribution\n",
    "from gpytorch.distributions import MultivariateNormal\n",
    "from gpytorch.models import ApproximateGP, GP\n",
    "from gpytorch.mlls import VariationalELBO, AddedLossTerm, PredictiveLogLikelihood\n",
    "from gpytorch.likelihoods import GaussianLikelihood\n",
    "from scipy.cluster.vq import kmeans2\n"
   ]
  },
  {
   "cell_type": "code",
   "execution_count": 2,
   "metadata": {},
   "outputs": [],
   "source": [
    "from gpytorch.models.deep_gps import AbstractDeepGPLayer, AbstractDeepGP, DeepLikelihood\n",
    "from gpytorch.models.deep_gps.predictive_deep_gp import AbstractPredictiveDeepGPLayer, AbstractDeepGP, DeepPredictiveGaussianLikelihood"
   ]
  },
  {
   "cell_type": "markdown",
   "metadata": {},
   "source": [
    "## Loading Data\n",
    "\n",
    "For this example notebook, we'll be using the `elevators` UCI dataset used in the paper. Running the next cell downloads a copy of the dataset that has already been scaled and normalized appropriately. For this notebook, we'll simply be splitting the data using the first 80% of the data as training and the last 20% as testing.\n",
    "\n",
    "**Note**: Running the next cell will attempt to download a ~400 KB dataset file to the current directory."
   ]
  },
  {
   "cell_type": "code",
   "execution_count": 3,
   "metadata": {},
   "outputs": [],
   "source": [
    "import urllib.request\n",
    "import os.path\n",
    "from scipy.io import loadmat\n",
    "from math import floor\n",
    "import numpy as np\n",
    "\n",
    "if not os.path.isfile('elevators.mat'):\n",
    "    print('Downloading \\'elevators\\' UCI dataset...')\n",
    "    urllib.request.urlretrieve('https://drive.google.com/uc?export=download&id=1jhWL3YUHvXIaftia4qeAyDwVxo6j1alk', 'elevators.mat')\n",
    "    \n",
    "data = torch.Tensor(loadmat('elevators.mat')['data'])\n",
    "X = data[:, :-1]\n",
    "y = data[:, -1]\n",
    "\n",
    "N = data.shape[0]\n",
    "np.random.seed(0)\n",
    "data = data[np.random.permutation(np.arange(N)),:]\n",
    "\n",
    "train_n = int(floor(0.8*len(X)))\n",
    "\n",
    "train_x = X[:train_n, :].contiguous().cuda()\n",
    "train_y = y[:train_n].contiguous().cuda()\n",
    "\n",
    "test_x = X[train_n:, :].contiguous().cuda()\n",
    "test_y = y[train_n:].contiguous().cuda()\n",
    "\n",
    "mean = train_x.mean(dim=-2, keepdim=True)\n",
    "std = train_x.std(dim=-2, keepdim=True) + 1e-6\n",
    "train_x = (train_x - mean) / std\n",
    "test_x = (test_x - mean) / std\n",
    "\n",
    "mean,std = train_y.mean(),train_y.std()\n",
    "train_y = (train_y - mean) / std\n",
    "test_y = (test_y - mean) / std"
   ]
  },
  {
   "cell_type": "code",
   "execution_count": 4,
   "metadata": {},
   "outputs": [],
   "source": [
    "from torch.utils.data import TensorDataset, DataLoader\n",
    "train_dataset = TensorDataset(train_x.cpu(), train_y.cpu())\n",
    "train_loader = DataLoader(train_dataset, batch_size=1024, shuffle=True, pin_memory=True)\n",
    "\n",
    "test_dataset = TensorDataset(test_x, test_y)\n",
    "test_loader = DataLoader(test_dataset, batch_size=512, shuffle=False)"
   ]
  },
  {
   "cell_type": "markdown",
   "metadata": {},
   "source": [
    "# Defining GP layers\n",
    "\n",
    "In GPyTorch, defining a GP involves extending one of our abstract GP models and defining a `forward` method that returns the prior. For deep GPs, things are similar, but there are two abstract GP models that must be overwritten: one for hidden layers and one for the deep GP model itself.\n",
    "\n",
    "In the next cell, we define an example deep GP hidden layer. This looks very similar to every other variational GP you might define. However, there are a few key differences:\n",
    "\n",
    "1. Instead of extending `ApproximateGP`, we extend `AbstractDeepGPLayer`.\n",
    "2. `AbstractDeepGPLayers` need a number of input dimensions, a number of output dimensions, and a number of samples. This is kind of like a linear layer in a standard neural network -- `input_dims` defines how many inputs this hidden layer will expect, and `output_dims` defines how many hidden GPs to create outputs for."
   ]
  },
  {
   "cell_type": "code",
   "execution_count": 5,
   "metadata": {},
   "outputs": [],
   "source": [
    "Q = 3\n",
    "\n",
    "class ToyDeepGPHiddenLayer(AbstractPredictiveDeepGPLayer):\n",
    "    def __init__(self, input_dims, output_dims, num_inducing=128, inducing_points=None, mean_type='constant'):\n",
    "        if inducing_points is None:\n",
    "            if output_dims is None:\n",
    "                inducing_points = torch.randn(num_inducing, input_dims)\n",
    "            else:\n",
    "                inducing_points = torch.randn(output_dims, num_inducing, input_dims)\n",
    "\n",
    "        variational_distribution = MeanFieldVariationalDistribution(\n",
    "            num_inducing_points=num_inducing,\n",
    "            batch_shape=torch.Size([output_dims]) if output_dims is not None else torch.Size([])\n",
    "        )\n",
    "\n",
    "        variational_strategy = VariationalStrategy(\n",
    "            self,\n",
    "            inducing_points,\n",
    "            variational_distribution,\n",
    "            learn_inducing_locations=True\n",
    "        )\n",
    "\n",
    "        super(ToyDeepGPHiddenLayer, self).__init__(variational_strategy, input_dims, output_dims, Q)\n",
    "        \n",
    "        if mean_type == 'constant':\n",
    "            self.mean_module = ConstantMean()\n",
    "        else:\n",
    "            self.mean_module = LinearMean(input_dims)\n",
    "        self.covar_module = ScaleKernel(\n",
    "            RBFKernel(batch_size=output_dims, ard_num_dims=input_dims),\n",
    "            batch_size=output_dims, ard_num_dims=None\n",
    "        )\n",
    "        \n",
    "        # self.linear_layer = Linear(input_dims, 1)\n",
    "\n",
    "    def forward(self, x):\n",
    "        mean_x = self.mean_module(x)\n",
    "        covar_x = self.covar_module(x)\n",
    "        return MultivariateNormal(mean_x, covar_x)\n",
    "    \n",
    "    def __call__(self, x, *other_inputs, **kwargs):\n",
    "        \"\"\"\n",
    "        Overriding __call__ isn't strictly necessary, but it lets us add concatenation based skip connections\n",
    "        easily. For example, hidden_layer2(hidden_layer1_outputs, inputs) will pass the concatenation of the first\n",
    "        hidden layer's outputs and the input data to hidden_layer2.\n",
    "        \"\"\"\n",
    "        if len(other_inputs):\n",
    "            if isinstance(x, gpytorch.distributions.MultitaskMultivariateNormal):\n",
    "                x = x.rsample()\n",
    "\n",
    "            processed_inputs = [\n",
    "                inp.unsqueeze(0).expand(self.num_samples, *inp.shape)\n",
    "                for inp in other_inputs\n",
    "            ]\n",
    "\n",
    "            x = torch.cat([x] + processed_inputs, dim=-1)\n",
    "\n",
    "        return super().__call__(x, are_samples=bool(len(other_inputs)))\n",
    "    "
   ]
  },
  {
   "cell_type": "markdown",
   "metadata": {},
   "source": [
    "# Building the model\n",
    "\n",
    "Now that we've defined a class for our hidden layers and a class for our output layer, we can build our deep GP. To do this, we create a `Module` whose forward is simply responsible for forwarding through the various layers.\n",
    "\n",
    "This also allows for various network connectivities easily. For example calling,\n",
    "```\n",
    "hidden_rep2 = self.second_hidden_layer(hidden_rep1, inputs)\n",
    "```\n",
    "in forward would cause the second hidden layer to use both the output of the first hidden layer and the input data as inputs, concatenating the two together."
   ]
  },
  {
   "cell_type": "code",
   "execution_count": 6,
   "metadata": {},
   "outputs": [],
   "source": [
    "class DeepGP(AbstractDeepGP):\n",
    "    def __init__(self, train_x_shape, inducing_points):\n",
    "        hidden_layer = ToyDeepGPHiddenLayer(\n",
    "            input_dims=train_x_shape[-1],\n",
    "            output_dims=3,\n",
    "            mean_type='linear',\n",
    "            inducing_points=inducing_points,\n",
    "        )\n",
    "        \n",
    "        # second_layer_inds = hidden_layer(inducing_points.cpu())\n",
    "        \n",
    "        last_layer = ToyDeepGPHiddenLayer(\n",
    "            input_dims=hidden_layer.output_dims,\n",
    "            output_dims=None,\n",
    "            mean_type='constant',\n",
    "            inducing_points=None,  # No real initialization here.\n",
    "        )\n",
    "        \n",
    "        super().__init__()\n",
    "        \n",
    "        self.hidden_layer = hidden_layer\n",
    "        self.last_layer = last_layer\n",
    "        self.likelihood = DeepPredictiveGaussianLikelihood(hidden_layer.output_dims, Q)\n",
    "    \n",
    "    def forward(self, inputs):\n",
    "        hidden_rep1 = self.hidden_layer(inputs)\n",
    "        output = self.last_layer(hidden_rep1)\n",
    "        return output\n",
    "    \n",
    "    def predict(self, test_loader):\n",
    "        with gpytorch.settings.fast_computations(log_prob=False, solves=False), torch.no_grad():\n",
    "            mus = []\n",
    "            variances = []\n",
    "            lls = []\n",
    "            for x_batch, y_batch in test_loader:\n",
    "                preds = model.likelihood(model(x_batch))\n",
    "                mus.append(preds.mean)\n",
    "                variances.append(preds.variance)\n",
    "                lls.append(model.likelihood.log_marginal(y_batch, model(x_batch)))\n",
    "        \n",
    "        return torch.cat(mus, dim=-1), torch.cat(variances, dim=-1), torch.cat(lls, dim=-1)"
   ]
  },
  {
   "cell_type": "code",
   "execution_count": 7,
   "metadata": {},
   "outputs": [],
   "source": [
    "N_train = train_x.size(-2)\n",
    "inducing_points = (train_x[torch.randperm(N_train)[0:128], :]).clone().data.cpu().numpy()\n",
    "inducing_points = torch.tensor(kmeans2(train_x.cpu().numpy(), inducing_points, minit='matrix')[0]).cuda()\n",
    "\n",
    "model = DeepGP(train_x.shape, inducing_points=inducing_points).cuda()"
   ]
  },
  {
   "cell_type": "code",
   "execution_count": 8,
   "metadata": {},
   "outputs": [],
   "source": [
    "%load_ext snakeviz"
   ]
  },
  {
   "cell_type": "markdown",
   "metadata": {},
   "source": [
    "# Likelihood\n",
    "\n",
    "Because deep GPs use some amounts of internal sampling (even in the stochastic variational setting), we need to handle the likelihood in a slightly different way. In the future, we anticipate `DeepLikelihood` being a general wrapper around an arbitrary likelihood once likelihoods become a little more general purpose, but for now we simply define a `DeepGaussianLikelihood` to use for regression."
   ]
  },
  {
   "cell_type": "markdown",
   "metadata": {},
   "source": [
    "# Training the model\n",
    "\n",
    "The training loop for a deep GP looks similar to a standard GP model with stochastic variational inference, but there are a few differences:\n",
    "\n",
    "1. Because the output of a deep GP is actually num_outputs x num_samples Gaussians rather than a single Gaussian, we need to expand the labels to be num_outputs x num_samples x minibatch_size before calling the ELBO.\n",
    "2. Because deep GPs involve a few added loss terms and normalize slightly differently, we created the `VariationalELBO` above with `combine_terms=False`. This just lets us do the extra normalization we need to make the math work out."
   ]
  },
  {
   "cell_type": "code",
   "execution_count": 10,
   "metadata": {
    "scrolled": true
   },
   "outputs": [
    {
     "name": "stdout",
     "output_type": "stream",
     "text": [
      "Epoch 1 [0/13] - Loss: 0.639 - - Time: 0.044\n",
      "Epoch 1 [1/13] - Loss: 0.650 - - Time: 0.043\n",
      "Epoch 1 [2/13] - Loss: 0.617 - - Time: 0.041\n",
      "Epoch 1 [3/13] - Loss: 0.646 - - Time: 0.039\n",
      "Epoch 1 [4/13] - Loss: 0.646 - - Time: 0.042\n",
      "Epoch 1 [5/13] - Loss: 0.638 - - Time: 0.040\n",
      "Epoch 1 [6/13] - Loss: 0.647 - - Time: 0.047\n",
      "Epoch 1 [7/13] - Loss: 0.627 - - Time: 0.049\n",
      "Epoch 1 [8/13] - Loss: 0.647 - - Time: 0.040\n",
      "Epoch 1 [9/13] - Loss: 0.613 - - Time: 0.042\n",
      "Epoch 1 [10/13] - Loss: 0.665 - - Time: 0.042\n",
      "Epoch 1 [11/13] - Loss: 0.610 - - Time: 0.039\n",
      "Epoch 1 [12/13] - Loss: 0.596 - - Time: 0.048\n",
      "Epoch 2 [0/13] - Loss: 0.611 - - Time: 0.039\n",
      "Epoch 2 [1/13] - Loss: 0.611 - - Time: 0.039\n",
      "Epoch 2 [2/13] - Loss: 0.627 - - Time: 0.040\n",
      "Epoch 2 [3/13] - Loss: 0.559 - - Time: 0.040\n",
      "Epoch 2 [4/13] - Loss: 0.601 - - Time: 0.041\n",
      "Epoch 2 [5/13] - Loss: 0.595 - - Time: 0.040\n",
      "Epoch 2 [6/13] - Loss: 0.604 - - Time: 0.043\n",
      "Epoch 2 [7/13] - Loss: 0.604 - - Time: 0.041\n",
      "Epoch 2 [8/13] - Loss: 0.587 - - Time: 0.039\n",
      "Epoch 2 [9/13] - Loss: 0.563 - - Time: 0.039\n",
      "Epoch 2 [10/13] - Loss: 0.576 - - Time: 0.041\n",
      "Epoch 2 [11/13] - Loss: 0.607 - - Time: 0.045\n",
      "Epoch 2 [12/13] - Loss: 0.549 - - Time: 0.041\n",
      " \n",
      "*** Profile stats marshalled to file 'C:\\\\Users\\\\Gardn\\\\AppData\\\\Local\\\\Temp\\\\tmp3upkh19v'. \n"
     ]
    }
   ],
   "source": [
    "%%snakeviz\n",
    "\n",
    "num_epochs = 2\n",
    "\n",
    "optimizer = torch.optim.Adam([\n",
    "    {'params': model.parameters()},\n",
    "], lr=0.01)\n",
    "mll = PredictiveLogLikelihood(model.likelihood, model, train_x.shape[-2], beta=0.3)\n",
    "\n",
    "import time\n",
    "\n",
    "with gpytorch.settings.fast_computations(log_prob=False, solves=False):\n",
    "    for i in range(num_epochs):\n",
    "        for minibatch_i, (x_batch, y_batch) in enumerate(train_loader):\n",
    "            x_batch = x_batch.cuda(async=True)\n",
    "            y_batch = y_batch.cuda(async=True)\n",
    "            start_time = time.time()\n",
    "            optimizer.zero_grad()\n",
    "            \n",
    "            output = model(x_batch)\n",
    "            loss = -mll(output, y_batch)\n",
    "            print('Epoch %d [%d/%d] - Loss: %.3f - - Time: %.3f' % (i + 1, minibatch_i, len(train_loader), loss.item(), time.time() - start_time))\n",
    "\n",
    "            loss.backward()\n",
    "            optimizer.step()"
   ]
  },
  {
   "cell_type": "code",
   "execution_count": 9,
   "metadata": {},
   "outputs": [
    {
     "name": "stdout",
     "output_type": "stream",
     "text": [
      "> c:\\users\\gardn\\gpytorch\\gpytorch\\variational\\variational_strategy.py(133)forward()\n",
      "    131         predictive_mean = (\n",
      "    132             torch.matmul(\n",
      "--> 133                 induc_data_covar.transpose(-1, -2), mean_cache\n",
      "    134             ).squeeze(-1)\n",
      "    135             + test_mean\n",
      "\n",
      "ipdb> q]\n"
     ]
    }
   ],
   "source": [
    "%debug"
   ]
  },
  {
   "cell_type": "markdown",
   "metadata": {},
   "source": [
    "# Make predictions and get an RMSE\n",
    "\n",
    "The output distribution of a deep GP in this framework is actually a mixture of `num_samples` Gaussians for each output. We get predictions the same way with all GPyTorch models, but we do currently need to do some reshaping to get the means and variances in a reasonable form.\n",
    "\n",
    "SVGP gets an RMSE of around 0.41 after 60 epochs of training, so overall getting an RMSE of 0.35 out of a 2 layer deep GP without much tuning involved is pretty good!"
   ]
  },
  {
   "cell_type": "code",
   "execution_count": 9,
   "metadata": {},
   "outputs": [],
   "source": [
    "import gpytorch\n",
    "import math\n",
    "\n",
    "model.eval()\n",
    "predictive_means, predictive_variances, lls = model.predict(test_loader)\n",
    "\n",
    "# rmse = torch.mean(torch.pow(predictive_means.mean(0) - test_y, 2)).sqrt()\n",
    "# print(rmse)\n",
    "# print(lls.mean())"
   ]
  },
  {
   "cell_type": "code",
   "execution_count": 10,
   "metadata": {},
   "outputs": [
    {
     "name": "stdout",
     "output_type": "stream",
     "text": [
      "tensor(-0.2605, device='cuda:0')\n",
      "tensor([], device='cuda:0')\n"
     ]
    }
   ],
   "source": [
    "print(lls.mean())\n",
    "print(lls[lls < -10])"
   ]
  },
  {
   "cell_type": "code",
   "execution_count": 48,
   "metadata": {},
   "outputs": [],
   "source": [
    "# print(model.likelihood.quad_weight_grid.exp().sum())\n",
    "# print(predictive_means * model.likelihood.quad_weight_grid.unsqueeze(-1))"
   ]
  },
  {
   "cell_type": "code",
   "execution_count": 11,
   "metadata": {},
   "outputs": [],
   "source": [
    "# def wa(vec):\n",
    "#     return (vec * model.likelihood.quad_weight_grid.unsqueeze(-1).exp()).sum(0)\n",
    "\n",
    "# denom = (wa(predictive_variances) + wa(predictive_means.pow(2)) - wa(predictive_means)**2)\n",
    "# num = wa(predictive_variances)\n",
    "\n",
    "# print((num / denom).median())"
   ]
  },
  {
   "cell_type": "code",
   "execution_count": 16,
   "metadata": {},
   "outputs": [
    {
     "name": "stdout",
     "output_type": "stream",
     "text": [
      "tensor([4.7913e-04, 3.4258e-03, 1.4641e-03, 1.9968e-03, 2.2324e-02, 6.9754e-03,\n",
      "        4.3713e-04, 3.7911e-03, 2.3742e-03, 1.1122e-02, 5.2905e-02, 3.2957e-03,\n",
      "        4.7070e-02, 6.0626e-01, 2.1441e-02, 6.3259e-03, 2.7230e-02, 7.5229e-03,\n",
      "        2.0902e-03, 1.2357e-02, 3.2707e-03, 7.9717e-03, 1.0222e-01, 1.6643e-02,\n",
      "        2.0352e-03, 1.9187e-02, 7.7753e-03], device='cuda:0',\n",
      "       grad_fn=<ExpBackward>)\n",
      "Parameter containing:\n",
      "tensor([[-0.2055,  0.0072, -0.2566],\n",
      "        [ 0.0000,  0.0000,  0.0000],\n",
      "        [ 0.2055, -0.0072,  0.2566]], device='cuda:0', requires_grad=True)\n",
      "tensor([1.3042, 0.7378, 1.0749], device='cuda:0', grad_fn=<SoftplusBackward>)\n",
      "tensor(1.1685, device='cuda:0', grad_fn=<SoftplusBackward>)\n"
     ]
    }
   ],
   "source": [
    "import math\n",
    "\n",
    "print(model.likelihood.quad_weight_grid.exp())\n",
    "print(model.last_layer.xi)\n",
    "print(model.hidden_layer.covar_module.outputscale)\n",
    "print(model.last_layer.covar_module.outputscale)"
   ]
  },
  {
   "cell_type": "code",
   "execution_count": 13,
   "metadata": {},
   "outputs": [
    {
     "name": "stdout",
     "output_type": "stream",
     "text": [
      "tensor(0.3487, device='cuda:0', grad_fn=<SqrtBackward>)\n"
     ]
    }
   ],
   "source": [
    "sq_errors = torch.pow((predictive_means * model.likelihood.quad_weight_grid.unsqueeze(-1).exp()).sum(0) - test_y, 2)\n",
    "# sq_errors = torch.pow(predictive_means.mean(0) - test_y, 2)\n",
    "print(sq_errors.mean().sqrt())"
   ]
  },
  {
   "cell_type": "code",
   "execution_count": 111,
   "metadata": {},
   "outputs": [
    {
     "data": {
      "text/plain": [
       "(-2, 1.0)"
      ]
     },
     "execution_count": 111,
     "metadata": {},
     "output_type": "execute_result"
    },
    {
     "data": {
      "image/png": "[encoded data removed]",
      "text/plain": [
       "<Figure size 432x288 with 1 Axes>"
      ]
     },
     "metadata": {
      "needs_background": "light"
     },
     "output_type": "display_data"
    }
   ],
   "source": [
    "plt.hist(lls[sq_errors <1.].cpu(), bins=40)\n",
    "plt.xlim([-2, 1.])"
   ]
  },
  {
   "cell_type": "code",
   "execution_count": 14,
   "metadata": {},
   "outputs": [],
   "source": [
    "mus = []\n",
    "sigmas = []\n",
    "for x_batch, y_batch in test_loader:\n",
    "    preds = model.likelihood(model(x_batch))\n",
    "    mus.append(preds.mean)\n",
    "    sigmas.append(preds.variance.sqrt())\n",
    "\n",
    "mus = torch.cat(mus, -1)\n",
    "sigmas = torch.cat(sigmas, -1)"
   ]
  },
  {
   "cell_type": "code",
   "execution_count": 15,
   "metadata": {},
   "outputs": [
    {
     "data": {
      "text/plain": [
       "torch.Size([27, 3320])"
      ]
     },
     "execution_count": 15,
     "metadata": {},
     "output_type": "execute_result"
    }
   ],
   "source": [
    "rmse = torch.mean(torch.pow(mus.mean(0) - test_y, 2)).sqrt()\n",
    "test_lls = torch.distributions.Normal(mus, sigmas).log_prob(test_y).logsumexp(0) - math.log(predictive_means.size(0))"
   ]
  },
  {
   "cell_type": "code",
   "execution_count": 14,
   "metadata": {},
   "outputs": [],
   "source": [
    "torch.cuda.empty_cache()"
   ]
  },
  {
   "cell_type": "code",
   "execution_count": null,
   "metadata": {},
   "outputs": [],
   "source": []
  }
 ],
 "metadata": {
  "kernelspec": {
   "display_name": "Python 3",
   "language": "python",
   "name": "python3"
  },
  "language_info": {
   "codemirror_mode": {
    "name": "ipython",
    "version": 3
   },
   "file_extension": ".py",
   "mimetype": "text/x-python",
   "name": "python",
   "nbconvert_exporter": "python",
   "pygments_lexer": "ipython3",
   "version": "3.6.7"
  }
 },
 "nbformat": 4,
 "nbformat_minor": 2
}
