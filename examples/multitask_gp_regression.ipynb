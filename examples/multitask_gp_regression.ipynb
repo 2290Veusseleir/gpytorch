{
 "cells": [
  {
   "cell_type": "markdown",
   "metadata": {},
   "source": [
    "This notebook demonstrates how to perform multitask regression with kernels.IndexKernel. Multitask regression, first introduced in [this paper](https://papers.nips.cc/paper/3189-multi-task-gaussian-process-prediction.pdf) learns similarities in the outputs simultaneously. It's useful when you are performing regression on multiple functions that share the same inputs, especially if they have similarities (such as being sinusodial). \n",
    "\n",
    "Multitask regression on `n` tasks essentially learns `n^2` tasks (here $2\\cdot2=4$). The extra tasks are learning the cross correlations between outputs. This allows for more accurate predictions on both tasks."
   ]
  },
  {
   "cell_type": "code",
   "execution_count": 1,
   "metadata": {},
   "outputs": [],
   "source": [
    "import math\n",
    "import torch\n",
    "import gpytorch\n",
    "from matplotlib import pyplot as plt\n",
    "\n",
    "%matplotlib inline\n",
    "%load_ext autoreload\n",
    "%autoreload 2"
   ]
  },
  {
   "cell_type": "code",
   "execution_count": 2,
   "metadata": {},
   "outputs": [],
   "source": [
    "from torch.autograd import Variable\n",
    "# Training points are every 0.1 in [0,1] (note that they're the same for both tasks)\n",
    "train_x = Variable(torch.linspace(0, 1, 11))\n",
    "# y1s are indexed 0, y2s are indexed 1\n",
    "y1_inds = Variable(torch.zeros(11).long())\n",
    "y2_inds = Variable(torch.ones(11).long())\n",
    "# y1 function is sin(2*pi*x) with noise N(0, 0.04)\n",
    "train_y1 = Variable(torch.sin(train_x.data * (2 * math.pi)) + torch.randn(train_x.size()) * 0.2)\n",
    "# y2 function is cos(2*pi*x) with noise N(0, 0.04)\n",
    "train_y2 = Variable(torch.cos(train_x.data * (2 * math.pi)) + torch.randn(train_x.size()) * 0.2)"
   ]
  },
  {
   "cell_type": "code",
   "execution_count": 3,
   "metadata": {},
   "outputs": [],
   "source": [
    "from torch import optim\n",
    "from gpytorch.kernels import RBFKernel, IndexKernel\n",
    "from gpytorch.means import ConstantMean\n",
    "from gpytorch.likelihoods import GaussianLikelihood\n",
    "from gpytorch.random_variables import GaussianRandomVariable"
   ]
  },
  {
   "cell_type": "code",
   "execution_count": 4,
   "metadata": {},
   "outputs": [],
   "source": [
    "class MultitaskGPModel(gpytorch.models.ExactGP):\n",
    "    def __init__(self, train_x, train_y, likelihood):\n",
    "        super(MultitaskGPModel, self).__init__(train_x, train_y, likelihood)\n",
    "        # Default bounds on mean are (-1e10, 1e10)\n",
    "        self.mean_module = ConstantMean()\n",
    "        # We use the very common RBF kernel\n",
    "        self.covar_module = RBFKernel(log_lengthscale_bounds=(-3, 3))\n",
    "        # We learn an IndexKernel for 2 tasks\n",
    "        # (so we'll actually learn 2x2=4 tasks with correlations)\n",
    "        self.task_covar_module = IndexKernel(n_tasks=2, rank=1)\n",
    "\n",
    "    def forward(self,x,i):\n",
    "        # Get predictive mean\n",
    "        mean_x = self.mean_module(x)\n",
    "        # Get all covariances, we'll look up the task-speicific ones\n",
    "        covar_x = self.covar_module(x)\n",
    "        # # Get the covariance for task i\n",
    "        covar_i = self.task_covar_module(i)\n",
    "        covar_xi = covar_x.mul(covar_i)\n",
    "        return GaussianRandomVariable(mean_x, covar_xi)\n",
    "\n",
    "# Gaussian likelihood is used for regression to give predictive mean+variance\n",
    "# and learn noise\n",
    "likelihood = GaussianLikelihood(log_noise_bounds=(-6, 6))\n",
    "# Since we are learning two tasks we feed in the x_data twice, along with the \n",
    "# y_data along with its indices\n",
    "model = MultitaskGPModel((torch.cat([train_x.data, train_x.data]),\n",
    "                          torch.cat([y1_inds.data, y2_inds.data])),\n",
    "                         torch.cat([train_y1.data, train_y2.data]), likelihood)"
   ]
  },
  {
   "cell_type": "code",
   "execution_count": 5,
   "metadata": {
    "scrolled": false
   },
   "outputs": [
    {
     "name": "stdout",
     "output_type": "stream",
     "text": [
      "Iter 1/50 - Loss: 1.285\n",
      "Iter 2/50 - Loss: 1.198\n",
      "Iter 3/50 - Loss: 1.280\n",
      "Iter 4/50 - Loss: 1.208\n",
      "Iter 5/50 - Loss: 1.185\n",
      "Iter 6/50 - Loss: 1.265\n",
      "Iter 7/50 - Loss: 1.206\n",
      "Iter 8/50 - Loss: 1.129\n",
      "Iter 9/50 - Loss: 1.223\n",
      "Iter 10/50 - Loss: 1.176\n",
      "Iter 11/50 - Loss: 1.146\n",
      "Iter 12/50 - Loss: 1.082\n",
      "Iter 13/50 - Loss: 1.079\n",
      "Iter 14/50 - Loss: 1.098\n",
      "Iter 15/50 - Loss: 1.022\n",
      "Iter 16/50 - Loss: 1.113\n",
      "Iter 17/50 - Loss: 1.056\n",
      "Iter 18/50 - Loss: 1.000\n",
      "Iter 19/50 - Loss: 0.951\n",
      "Iter 20/50 - Loss: 0.947\n",
      "Iter 21/50 - Loss: 0.873\n",
      "Iter 22/50 - Loss: 0.876\n",
      "Iter 23/50 - Loss: 0.813\n",
      "Iter 24/50 - Loss: 0.773\n",
      "Iter 25/50 - Loss: 0.725\n",
      "Iter 26/50 - Loss: 0.712\n",
      "Iter 27/50 - Loss: 0.714\n",
      "Iter 28/50 - Loss: 0.859\n",
      "Iter 29/50 - Loss: 0.708\n",
      "Iter 30/50 - Loss: 0.754\n",
      "Iter 31/50 - Loss: 0.697\n",
      "Iter 32/50 - Loss: 0.737\n",
      "Iter 33/50 - Loss: 0.682\n",
      "Iter 34/50 - Loss: 0.706\n",
      "Iter 35/50 - Loss: 0.705\n",
      "Iter 36/50 - Loss: 0.690\n",
      "Iter 37/50 - Loss: 0.719\n",
      "Iter 38/50 - Loss: 0.705\n",
      "Iter 39/50 - Loss: 0.676\n",
      "Iter 40/50 - Loss: 0.703\n",
      "Iter 41/50 - Loss: 0.655\n",
      "Iter 42/50 - Loss: 0.673\n",
      "Iter 43/50 - Loss: 0.800\n",
      "Iter 44/50 - Loss: 0.649\n",
      "Iter 45/50 - Loss: 0.751\n",
      "Iter 46/50 - Loss: 0.811\n",
      "Iter 47/50 - Loss: 0.893\n",
      "Iter 48/50 - Loss: 0.849\n",
      "Iter 49/50 - Loss: 0.694\n",
      "Iter 50/50 - Loss: 0.752\n"
     ]
    }
   ],
   "source": [
    "# Find optimal model hyperparameters\n",
    "model.train()\n",
    "likelihood.train()\n",
    "\n",
    "# Use the adam optimizer\n",
    "optimizer = torch.optim.Adam([\n",
    "    {'params': model.parameters()},  # Includes GaussianLikelihood parameters\n",
    "], lr=0.1)\n",
    "\n",
    "# \"Loss\" for GPs - the marginal log likelihood\n",
    "mll = gpytorch.mlls.ExactMarginalLogLikelihood(likelihood, model)\n",
    "\n",
    "for i in range(50):\n",
    "    # Zero prev backpropped gradients\n",
    "    optimizer.zero_grad()\n",
    "    # Make predictions from training data\n",
    "    # Again, note feeding duplicated x_data and indices indicating which task\n",
    "    output = model(torch.cat([train_x, train_x]), torch.cat([y1_inds, y2_inds]))\n",
    "    # Calc the loss and backprop gradients\n",
    "    loss = -mll(output, torch.cat([train_y1, train_y2]))\n",
    "    loss.backward()\n",
    "    print('Iter %d/50 - Loss: %.3f' % (i + 1, loss.data[0]))\n",
    "    optimizer.step()"
   ]
  },
  {
   "cell_type": "code",
   "execution_count": 6,
   "metadata": {},
   "outputs": [
    {
     "data": {
      "image/png": "[encoded data removed]",
      "text/plain": [
       "<matplotlib.figure.Figure at 0x7f314521dd68>"
      ]
     },
     "metadata": {},
     "output_type": "display_data"
    }
   ],
   "source": [
    "# Set into eval mode\n",
    "model.eval()\n",
    "likelihood.eval()\n",
    "\n",
    "# Initialize plots\n",
    "f, (y1_ax, y2_ax) = plt.subplots(1, 2, figsize=(8, 3))\n",
    "# Test points every 0.02 in [0,1]\n",
    "test_x = Variable(torch.linspace(0, 1, 51))\n",
    "# Make y index vectors of the same length as test data\n",
    "y1_inds_test = Variable(torch.zeros(51).long())\n",
    "y2_inds_test = Variable(torch.ones(51).long())\n",
    "\n",
    "# Make predictions\n",
    "observed_pred_y1 = likelihood(model(test_x, y1_inds_test))\n",
    "observed_pred_y2 = likelihood(model(test_x, y2_inds_test))\n",
    "\n",
    "# Define plotting function\n",
    "def ax_plot(ax, train_y, rand_var, title):\n",
    "    # Get lower and upper confidence bounds\n",
    "    lower, upper = rand_var.confidence_region()\n",
    "    # Plot training data as black stars\n",
    "    ax.plot(train_x.data.numpy(), train_y.data.numpy(), 'k*')\n",
    "    # Predictive mean as blue line\n",
    "    ax.plot(test_x.data.numpy(), rand_var.mean().data.numpy(), 'b')\n",
    "    # Shade in confidence \n",
    "    ax.fill_between(test_x.data.numpy(), lower.data.numpy(), upper.data.numpy(), alpha=0.5)\n",
    "    ax.set_ylim([-3, 3])\n",
    "    ax.legend(['Observed Data', 'Mean', 'Confidence'])\n",
    "    ax.set_title(title)\n",
    "# Plot both tasks\n",
    "ax_plot(y1_ax, train_y1, observed_pred_y1, 'Observed Values (Likelihood)')\n",
    "ax_plot(y2_ax, train_y2, observed_pred_y2, 'Observed Values (Likelihood)')"
   ]
  },
  {
   "cell_type": "code",
   "execution_count": null,
   "metadata": {},
   "outputs": [],
   "source": []
  }
 ],
 "metadata": {
  "anaconda-cloud": {},
  "kernelspec": {
   "display_name": "Python 3",
   "language": "python",
   "name": "python3"
  },
  "language_info": {
   "codemirror_mode": {
    "name": "ipython",
    "version": 3
   },
   "file_extension": ".py",
   "mimetype": "text/x-python",
   "name": "python",
   "nbconvert_exporter": "python",
   "pygments_lexer": "ipython3",
   "version": "3.6.4"
  }
 },
 "nbformat": 4,
 "nbformat_minor": 1
}
