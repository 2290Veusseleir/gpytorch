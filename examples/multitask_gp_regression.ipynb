{
 "cells": [
  {
   "cell_type": "code",
   "execution_count": 1,
   "metadata": {
    "collapsed": false
   },
   "outputs": [],
   "source": [
    "import math\n",
    "import torch\n",
    "import gpytorch\n",
    "from matplotlib import pyplot as plt\n",
    "\n",
    "%matplotlib inline\n",
    "%load_ext autoreload\n",
    "%autoreload 2"
   ]
  },
  {
   "cell_type": "code",
   "execution_count": 2,
   "metadata": {
    "collapsed": false
   },
   "outputs": [],
   "source": [
    "from torch.autograd import Variable\n",
    "train_x = Variable(torch.linspace(0, 1, 11))\n",
    "y1_inds = Variable(torch.zeros(11).long())\n",
    "y2_inds = Variable(torch.ones(11).long())\n",
    "train_y1 = Variable(torch.sin(train_x.data * (2 * math.pi)) + torch.randn(train_x.size()) * 0.2)\n",
    "train_y2 = Variable(torch.cos(train_x.data * (2 * math.pi)) + torch.randn(train_x.size()) * 0.2)"
   ]
  },
  {
   "cell_type": "code",
   "execution_count": 3,
   "metadata": {
    "collapsed": false
   },
   "outputs": [],
   "source": [
    "from torch import optim\n",
    "from gpytorch.kernels import RBFKernel, IndexKernel\n",
    "from gpytorch.means import ConstantMean\n",
    "from gpytorch.likelihoods import GaussianLikelihood\n",
    "from gpytorch.random_variables import GaussianRandomVariable"
   ]
  },
  {
   "cell_type": "code",
   "execution_count": 4,
   "metadata": {
    "collapsed": false
   },
   "outputs": [],
   "source": [
    "class MultitaskGPModel(gpytorch.GPModel):\n",
    "    def __init__(self):\n",
    "        super(MultitaskGPModel,self).__init__(GaussianLikelihood(log_noise_bounds=(-6, 6)))\n",
    "        self.mean_module = ConstantMean()\n",
    "        self.covar_module = RBFKernel(log_lengthscale_bounds=(-3, 3))\n",
    "        self.task_covar_module = IndexKernel(n_tasks=2, rank=1)\n",
    "\n",
    "    def forward(self,x,i):\n",
    "        mean_x = self.mean_module(x)\n",
    "        covar_x = self.covar_module(x)\n",
    "        covar_i = self.task_covar_module(i)\n",
    "        covar_xi = covar_x.mul(covar_i)\n",
    "        return GaussianRandomVariable(mean_x, covar_xi)\n",
    "\n",
    "prior_model = MultitaskGPModel()"
   ]
  },
  {
   "cell_type": "code",
   "execution_count": 5,
   "metadata": {
    "collapsed": false
   },
   "outputs": [],
   "source": [
    "def plot_model_and_predictions(model, plot_train_x=True):\n",
    "    f, (y1_ax,y2_ax) = plt.subplots(1, 2, figsize=(8, 3))\n",
    "    test_x = Variable(torch.linspace(0, 1, 51))\n",
    "    y1_inds_test = Variable(torch.zeros(51).long())\n",
    "    y2_inds_test = Variable(torch.ones(51).long())\n",
    "    \n",
    "    observed_pred_y1 = model(test_x,y1_inds_test)\n",
    "    observed_pred_y2 = model(test_x,y2_inds_test)\n",
    "\n",
    "    def ax_plot(ax, train_y, rand_var, title):\n",
    "        lower, upper = rand_var.confidence_region()\n",
    "        if plot_train_x:\n",
    "            ax.plot(train_x.data.numpy(), train_y.data.numpy(), 'k*')\n",
    "        ax.plot(test_x.data.numpy(), rand_var.mean().data.numpy(), 'b')\n",
    "        ax.fill_between(test_x.data.numpy(), lower.data.numpy(), upper.data.numpy(), alpha=0.5)\n",
    "        ax.set_ylim([-3, 3])\n",
    "        ax.legend(['Observed Data', 'Mean', 'Confidence'])\n",
    "        ax.set_title(title)\n",
    "    \n",
    "    ax_plot(y1_ax, train_y1, observed_pred_y1, 'Observed Values (Likelihood)')\n",
    "    ax_plot(y2_ax, train_y2, observed_pred_y2, 'Observed Values (Likelihood)')\n",
    "    \n",
    "    return f"
   ]
  },
  {
   "cell_type": "code",
   "execution_count": 6,
   "metadata": {
    "collapsed": false,
    "scrolled": false
   },
   "outputs": [
    {
     "data": {
      "image/png": "[encoded data removed]",
      "text/plain": [
       "<matplotlib.figure.Figure at 0x11340db90>"
      ]
     },
     "metadata": {},
     "output_type": "display_data"
    }
   ],
   "source": [
    "f = plot_model_and_predictions(prior_model, plot_train_x=False)"
   ]
  },
  {
   "cell_type": "code",
   "execution_count": 7,
   "metadata": {
    "collapsed": false,
    "scrolled": false
   },
   "outputs": [
    {
     "name": "stdout",
     "output_type": "stream",
     "text": [
      "Iter 1/50 - Loss: 28.204\n",
      "Iter 2/50 - Loss: 27.970\n",
      "Iter 3/50 - Loss: 27.212\n",
      "Iter 4/50 - Loss: 25.714\n",
      "Iter 5/50 - Loss: 26.119\n",
      "Iter 6/50 - Loss: 25.149\n",
      "Iter 7/50 - Loss: 25.854\n",
      "Iter 8/50 - Loss: 24.083\n",
      "Iter 9/50 - Loss: 24.068\n",
      "Iter 10/50 - Loss: 24.146\n",
      "Iter 11/50 - Loss: 23.698\n",
      "Iter 12/50 - Loss: 22.983\n",
      "Iter 13/50 - Loss: 22.341\n",
      "Iter 14/50 - Loss: 22.115\n",
      "Iter 15/50 - Loss: 23.764\n",
      "Iter 16/50 - Loss: 20.647\n",
      "Iter 17/50 - Loss: 21.891\n",
      "Iter 18/50 - Loss: 19.405\n",
      "Iter 19/50 - Loss: 20.785\n",
      "Iter 20/50 - Loss: 16.923\n",
      "Iter 21/50 - Loss: 18.786\n",
      "Iter 22/50 - Loss: 15.799\n",
      "Iter 23/50 - Loss: 14.548\n",
      "Iter 24/50 - Loss: 13.861\n",
      "Iter 25/50 - Loss: 15.528\n",
      "Iter 26/50 - Loss: 14.234\n",
      "Iter 27/50 - Loss: 15.422\n",
      "Iter 28/50 - Loss: 15.517\n",
      "Iter 29/50 - Loss: 12.270\n",
      "Iter 30/50 - Loss: 13.566\n",
      "Iter 31/50 - Loss: 13.221\n",
      "Iter 32/50 - Loss: 14.402\n",
      "Iter 33/50 - Loss: 11.791\n",
      "Iter 34/50 - Loss: 10.646\n",
      "Iter 35/50 - Loss: 10.439\n",
      "Iter 36/50 - Loss: 13.353\n",
      "Iter 37/50 - Loss: 14.560\n",
      "Iter 38/50 - Loss: 12.089\n",
      "Iter 39/50 - Loss: 14.452\n",
      "Iter 40/50 - Loss: 13.362\n",
      "Iter 41/50 - Loss: 12.231\n",
      "Iter 42/50 - Loss: 13.546\n",
      "Iter 43/50 - Loss: 12.732\n",
      "Iter 44/50 - Loss: 11.416\n",
      "Iter 45/50 - Loss: 13.093\n",
      "Iter 46/50 - Loss: 11.641\n",
      "Iter 47/50 - Loss: 12.006\n",
      "Iter 48/50 - Loss: 12.598\n",
      "Iter 49/50 - Loss: 8.418\n",
      "Iter 50/50 - Loss: 15.394\n"
     ]
    }
   ],
   "source": [
    "from gpytorch.inference import Inference\n",
    "infer = Inference(prior_model)\n",
    "posterior_model = infer.run((torch.cat([train_x, train_x]), torch.cat([y1_inds, y2_inds])),\n",
    "                            torch.cat([train_y1, train_y2]))\n",
    "\n",
    "\n",
    "# Find optimal model hyperparameters\n",
    "posterior_model.train()\n",
    "optimizer = optim.Adam(posterior_model.parameters(), lr=0.1)\n",
    "optimizer.n_iter = 0\n",
    "for i in range(50):\n",
    "    optimizer.zero_grad()\n",
    "    output = posterior_model(torch.cat([train_x, train_x]), torch.cat([y1_inds, y2_inds]))\n",
    "    loss = -posterior_model.marginal_log_likelihood(output, torch.cat([train_y1, train_y2]))\n",
    "    loss.backward()\n",
    "    optimizer.n_iter += 1\n",
    "    print('Iter %d/50 - Loss: %.3f' % (i + 1, loss.data[0]))\n",
    "    optimizer.step()\n",
    "    \n",
    "# Set back to eval mode\n",
    "posterior_model.eval()\n",
    "None"
   ]
  },
  {
   "cell_type": "code",
   "execution_count": 8,
   "metadata": {
    "collapsed": false,
    "scrolled": false
   },
   "outputs": [
    {
     "data": {
      "image/png": "[encoded data removed]",
      "text/plain": [
       "<matplotlib.figure.Figure at 0x11340dc50>"
      ]
     },
     "metadata": {},
     "output_type": "display_data"
    }
   ],
   "source": [
    "f = plot_model_and_predictions(posterior_model)"
   ]
  },
  {
   "cell_type": "code",
   "execution_count": null,
   "metadata": {
    "collapsed": true
   },
   "outputs": [],
   "source": []
  }
 ],
 "metadata": {
  "anaconda-cloud": {},
  "kernelspec": {
   "display_name": "Python [default]",
   "language": "python",
   "name": "python2"
  },
  "language_info": {
   "codemirror_mode": {
    "name": "ipython",
    "version": 2
   },
   "file_extension": ".py",
   "mimetype": "text/x-python",
   "name": "python",
   "nbconvert_exporter": "python",
   "pygments_lexer": "ipython2",
   "version": "2.7.12"
  }
 },
 "nbformat": 4,
 "nbformat_minor": 1
}
