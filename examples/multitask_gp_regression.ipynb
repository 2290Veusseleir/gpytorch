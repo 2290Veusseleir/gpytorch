{
 "cells": [
  {
   "cell_type": "code",
   "execution_count": 1,
   "metadata": {
    "collapsed": false
   },
   "outputs": [],
   "source": [
    "import math\n",
    "import torch\n",
    "import gpytorch\n",
    "from matplotlib import pyplot as plt\n",
    "\n",
    "%matplotlib inline\n",
    "%load_ext autoreload\n",
    "%autoreload 2"
   ]
  },
  {
   "cell_type": "code",
   "execution_count": 2,
   "metadata": {
    "collapsed": true
   },
   "outputs": [],
   "source": [
    "import logging\n",
    "logger = logging.getLogger()\n",
    "logger.setLevel(logging.INFO)"
   ]
  },
  {
   "cell_type": "code",
   "execution_count": 3,
   "metadata": {
    "collapsed": false
   },
   "outputs": [],
   "source": [
    "from torch.autograd import Variable\n",
    "train_x = Variable(torch.linspace(0, 1, 11))\n",
    "y1_inds = Variable(torch.zeros(11).long())\n",
    "y2_inds = Variable(torch.ones(11).long())\n",
    "train_y1 = Variable(torch.sin(train_x.data * (2 * math.pi)) + torch.randn(train_x.size()) * 0.2)\n",
    "train_y2 = Variable(torch.cos(train_x.data * (2 * math.pi)) + torch.randn(train_x.size()) * 0.2)"
   ]
  },
  {
   "cell_type": "code",
   "execution_count": 4,
   "metadata": {
    "collapsed": false
   },
   "outputs": [],
   "source": [
    "from torch import nn, optim\n",
    "from gpytorch.kernels import RBFKernel, IndexKernel\n",
    "from gpytorch.means import ConstantMean\n",
    "from gpytorch.likelihoods import GaussianLikelihood\n",
    "from gpytorch.random_variables import GaussianRandomVariable"
   ]
  },
  {
   "cell_type": "code",
   "execution_count": 5,
   "metadata": {
    "collapsed": false
   },
   "outputs": [],
   "source": [
    "class MultitaskGPModel(gpytorch.GPModel):\n",
    "    def __init__(self):\n",
    "        super(MultitaskGPModel,self).__init__(GaussianLikelihood())\n",
    "        self.mean_module = ConstantMean()\n",
    "        self.covar_module = RBFKernel()\n",
    "        self.task_covar_module = IndexKernel()\n",
    "        self.register_parameter('constant_mean', nn.Parameter(torch.randn(1)), bounds=(-1, 1))\n",
    "        self.register_parameter('log_noise', nn.Parameter(torch.randn(1)), bounds=(-6, 6))\n",
    "        self.register_parameter('log_lengthscale', nn.Parameter(torch.randn(1)), bounds=(-6, 6))\n",
    "        self.register_parameter('task_matrix', nn.Parameter(torch.randn(2,1)), bounds=(-6, 6))\n",
    "        self.register_parameter('task_log_vars', nn.Parameter(torch.randn(2)), bounds=(-6, 6))\n",
    "\n",
    "    def forward(self,x,i):\n",
    "        mean_x = self.mean_module(x, constant=self.constant_mean)\n",
    "        covar_x = self.covar_module(x, log_lengthscale=self.log_lengthscale)\n",
    "        covar_i = self.task_covar_module(i,\n",
    "                                         index_covar_factor=self.task_matrix,\n",
    "                                         index_log_var=self.task_log_vars)\n",
    "        covar_xi = covar_x.mul(covar_i)\n",
    "        latent_pred = GaussianRandomVariable(mean_x, covar_xi)\n",
    "        return latent_pred, self.log_noise\n",
    "\n",
    "prior_model = MultitaskGPModel()"
   ]
  },
  {
   "cell_type": "code",
   "execution_count": 6,
   "metadata": {
    "collapsed": false
   },
   "outputs": [],
   "source": [
    "def plot_model_and_predictions(model, plot_train_x=True):\n",
    "    f, (y1_ax,y2_ax) = plt.subplots(1, 2, figsize=(8, 3))\n",
    "    test_x = Variable(torch.linspace(0, 1, 51))\n",
    "    y1_inds_test = Variable(torch.zeros(51).long())\n",
    "    y2_inds_test = Variable(torch.ones(51).long())\n",
    "    \n",
    "    observed_pred_y1 = model(test_x,y1_inds_test)\n",
    "    observed_pred_y2 = model(test_x,y2_inds_test)\n",
    "\n",
    "    def ax_plot(ax, train_y, rand_var, title):\n",
    "        lower, upper = rand_var.confidence_region()\n",
    "        if plot_train_x:\n",
    "            ax.plot(train_x.data.numpy(), train_y.data.numpy(), 'k*')\n",
    "        ax.plot(test_x.data.numpy(), rand_var.mean().data.numpy(), 'b')\n",
    "        ax.fill_between(test_x.data.numpy(), lower.data.numpy(), upper.data.numpy(), alpha=0.5)\n",
    "        ax.set_ylim([-3, 3])\n",
    "        ax.legend(['Observed Data', 'Mean', 'Confidence'])\n",
    "        ax.set_title(title)\n",
    "    \n",
    "    ax_plot(y1_ax, train_y1, observed_pred_y1, 'Observed Values (Likelihood)')\n",
    "    ax_plot(y2_ax, train_y2, observed_pred_y2, 'Observed Values (Likelihood)')\n",
    "    \n",
    "    return f"
   ]
  },
  {
   "cell_type": "code",
   "execution_count": 7,
   "metadata": {
    "collapsed": false,
    "scrolled": false
   },
   "outputs": [
    {
     "data": {
      "image/png": "[encoded data removed]",
      "text/plain": [
       "<matplotlib.figure.Figure at 0x1133f9a90>"
      ]
     },
     "metadata": {},
     "output_type": "display_data"
    }
   ],
   "source": [
    "f = plot_model_and_predictions(prior_model, plot_train_x=False)"
   ]
  },
  {
   "cell_type": "code",
   "execution_count": 10,
   "metadata": {
    "collapsed": false,
    "scrolled": false
   },
   "outputs": [
    {
     "name": "stdout",
     "output_type": "stream",
     "text": [
      "Iter 1/50 - Loss: 32.950\n",
      "Iter 2/50 - Loss: 30.765\n",
      "Iter 3/50 - Loss: 29.220\n",
      "Iter 4/50 - Loss: 29.756\n",
      "Iter 5/50 - Loss: 28.129\n",
      "Iter 6/50 - Loss: 28.667\n",
      "Iter 7/50 - Loss: 26.815\n",
      "Iter 8/50 - Loss: 26.990\n",
      "Iter 9/50 - Loss: 25.270\n",
      "Iter 10/50 - Loss: 24.917\n",
      "Iter 11/50 - Loss: 24.459\n",
      "Iter 12/50 - Loss: 24.908\n",
      "Iter 13/50 - Loss: 23.807\n",
      "Iter 14/50 - Loss: 23.650\n",
      "Iter 15/50 - Loss: 22.576\n",
      "Iter 16/50 - Loss: 24.097\n",
      "Iter 17/50 - Loss: 22.594\n",
      "Iter 18/50 - Loss: 21.672\n",
      "Iter 19/50 - Loss: 21.659\n",
      "Iter 20/50 - Loss: 20.742\n",
      "Iter 21/50 - Loss: 20.754\n",
      "Iter 22/50 - Loss: 17.413\n",
      "Iter 23/50 - Loss: 18.309\n",
      "Iter 24/50 - Loss: 18.250\n",
      "Iter 25/50 - Loss: 16.216\n",
      "Iter 26/50 - Loss: 17.516\n",
      "Iter 27/50 - Loss: 17.646\n",
      "Iter 28/50 - Loss: 15.607\n",
      "Iter 29/50 - Loss: 15.218\n",
      "Iter 30/50 - Loss: 15.929\n",
      "Iter 31/50 - Loss: 16.070\n",
      "Iter 32/50 - Loss: 14.604\n",
      "Iter 33/50 - Loss: 15.715\n",
      "Iter 34/50 - Loss: 13.469\n",
      "Iter 35/50 - Loss: 10.156\n",
      "Iter 36/50 - Loss: 12.242\n",
      "Iter 37/50 - Loss: 11.376\n",
      "Iter 38/50 - Loss: 11.367\n",
      "Iter 39/50 - Loss: 9.264\n",
      "Iter 40/50 - Loss: 14.562\n",
      "Iter 41/50 - Loss: 7.995\n",
      "Iter 42/50 - Loss: 12.521\n",
      "Iter 43/50 - Loss: 14.414\n",
      "Iter 44/50 - Loss: 7.577\n",
      "Iter 45/50 - Loss: 10.908\n",
      "Iter 46/50 - Loss: 11.271\n",
      "Iter 47/50 - Loss: 5.908\n",
      "Iter 48/50 - Loss: 11.503\n",
      "Iter 49/50 - Loss: 9.008\n",
      "Iter 50/50 - Loss: 11.302\n"
     ]
    }
   ],
   "source": [
    "from gpytorch.inference import Inference\n",
    "infer = Inference(prior_model)\n",
    "posterior_model = infer.run((torch.cat([train_x, train_x]), torch.cat([y1_inds, y2_inds])),\n",
    "                            torch.cat([train_y1, train_y2]))\n",
    "\n",
    "\n",
    "# Find optimal model hyperparameters\n",
    "posterior_model.train()\n",
    "optimizer = optim.Adam(posterior_model.parameters(), lr=0.1)\n",
    "optimizer.n_iter = 0\n",
    "for i in range(50):\n",
    "    optimizer.zero_grad()\n",
    "    output = posterior_model(torch.cat([train_x, train_x]), torch.cat([y1_inds, y2_inds]))\n",
    "    loss = -posterior_model.marginal_log_likelihood(output, torch.cat([train_y1, train_y2]))\n",
    "    loss.backward()\n",
    "    optimizer.n_iter += 1\n",
    "    print('Iter %d/50 - Loss: %.3f' % (i + 1, loss.data[0]))\n",
    "    optimizer.step()\n",
    "    \n",
    "# Set back to eval mode\n",
    "posterior_model.eval()\n",
    "None"
   ]
  },
  {
   "cell_type": "code",
   "execution_count": 12,
   "metadata": {
    "collapsed": false,
    "scrolled": false
   },
   "outputs": [
    {
     "data": {
      "image/png": "[encoded data removed]",
      "text/plain": [
       "<matplotlib.figure.Figure at 0x1157de750>"
      ]
     },
     "metadata": {},
     "output_type": "display_data"
    }
   ],
   "source": [
    "f = plot_model_and_predictions(posterior_model)"
   ]
  },
  {
   "cell_type": "code",
   "execution_count": null,
   "metadata": {
    "collapsed": true
   },
   "outputs": [],
   "source": []
  }
 ],
 "metadata": {
  "anaconda-cloud": {},
  "kernelspec": {
   "display_name": "Python [default]",
   "language": "python",
   "name": "python2"
  },
  "language_info": {
   "codemirror_mode": {
    "name": "ipython",
    "version": 2
   },
   "file_extension": ".py",
   "mimetype": "text/x-python",
   "name": "python",
   "nbconvert_exporter": "python",
   "pygments_lexer": "ipython2",
   "version": "2.7.12"
  }
 },
 "nbformat": 4,
 "nbformat_minor": 1
}
