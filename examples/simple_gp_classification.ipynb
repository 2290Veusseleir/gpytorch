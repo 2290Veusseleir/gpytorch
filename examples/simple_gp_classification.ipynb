{
 "cells": [
  {
   "cell_type": "code",
   "execution_count": 1,
   "metadata": {
    "collapsed": true
   },
   "outputs": [],
   "source": [
    "import math\n",
    "import torch\n",
    "import gpytorch\n",
    "from matplotlib import pyplot as plt\n",
    "\n",
    "%matplotlib inline\n",
    "%load_ext autoreload\n",
    "%autoreload 2"
   ]
  },
  {
   "cell_type": "code",
   "execution_count": 2,
   "metadata": {
    "collapsed": true
   },
   "outputs": [],
   "source": [
    "from torch.autograd import Variable\n",
    "train_x = Variable(torch.linspace(0, 1, 10))\n",
    "train_y = Variable(torch.sign(torch.cos(train_x.data * (4 * math.pi))))"
   ]
  },
  {
   "cell_type": "code",
   "execution_count": 3,
   "metadata": {
    "collapsed": true
   },
   "outputs": [],
   "source": [
    "from torch import nn, optim\n",
    "from gpytorch.kernels import RBFKernel\n",
    "from gpytorch.means import ConstantMean\n",
    "from gpytorch.likelihoods import GaussianLikelihood, BernoulliLikelihood\n",
    "from gpytorch.random_variables import GaussianRandomVariable"
   ]
  },
  {
   "cell_type": "code",
   "execution_count": 4,
   "metadata": {},
   "outputs": [
    {
     "data": {
      "text/plain": [
       "GPClassificationModel (\n",
       "  (likelihood): BernoulliLikelihood (\n",
       "  )\n",
       "  (mean_module): ConstantMean (\n",
       "  )\n",
       "  (covar_module): RBFKernel (\n",
       "  )\n",
       ")"
      ]
     },
     "execution_count": 4,
     "metadata": {},
     "output_type": "execute_result"
    }
   ],
   "source": [
    "class GPClassificationModel(gpytorch.GPModel):\n",
    "    def __init__(self):\n",
    "        super(GPClassificationModel,self).__init__(BernoulliLikelihood())\n",
    "        self.mean_module = ConstantMean(constant_bounds=[-1e-5,1e-5])\n",
    "        self.covar_module = RBFKernel(log_lengthscale_bounds=(-5, 6))\n",
    "        self.register_parameter('log_outputscale', nn.Parameter(torch.Tensor([0])), bounds=(-5,6))\n",
    "    \n",
    "    \n",
    "    def forward(self,x):\n",
    "        mean_x = self.mean_module(x)\n",
    "        covar_x = self.covar_module(x)\n",
    "        covar_x = covar_x.mul(self.log_outputscale.exp().expand_as(covar_x))\n",
    "        latent_pred = GaussianRandomVariable(mean_x, covar_x)\n",
    "        return latent_pred\n",
    "\n",
    "model = GPClassificationModel()\n",
    "model.condition(train_x, train_y)"
   ]
  },
  {
   "cell_type": "code",
   "execution_count": 5,
   "metadata": {
    "collapsed": true
   },
   "outputs": [],
   "source": [
    "def plot_model_and_predictions(model, plot_train_data=True):\n",
    "    f, observed_ax = plt.subplots(1, 1, figsize=(4, 3))\n",
    "    test_x = Variable(torch.linspace(0, 1, 26))\n",
    "    observed_pred = model(test_x)\n",
    "\n",
    "    def ax_plot(ax, rand_var, title):\n",
    "        if plot_train_data:\n",
    "            ax.plot(train_x.data.numpy(), train_y.data.numpy(), 'k*')\n",
    "        pred_labels = rand_var.mean().ge(0.5).float().mul(2).sub(1)\n",
    "        ax.plot(test_x.data.numpy(), pred_labels.data.numpy(), 'b')\n",
    "        ax.set_ylim([-3, 3])\n",
    "        ax.legend(['Observed Data', 'Mean', 'Confidence'])\n",
    "        ax.set_title(title)\n",
    "    \n",
    "    ax_plot(observed_ax, observed_pred, 'Observed Values (Likelihood)')\n",
    "    \n",
    "    return f"
   ]
  },
  {
   "cell_type": "code",
   "execution_count": 6,
   "metadata": {
    "scrolled": true
   },
   "outputs": [
    {
     "data": {
      "image/png": "[encoded data removed]",
      "text/plain": [
       "<matplotlib.figure.Figure at 0x7f7d2bba7550>"
      ]
     },
     "metadata": {},
     "output_type": "display_data"
    }
   ],
   "source": [
    "f = plot_model_and_predictions(model, plot_train_data=False)"
   ]
  },
  {
   "cell_type": "code",
   "execution_count": 7,
   "metadata": {
    "scrolled": true
   },
   "outputs": [
    {
     "name": "stdout",
     "output_type": "stream",
     "text": [
      "Iter 1/100 - Loss: 3188.344   log_lengthscale: 0.000\n",
      "Iter 2/100 - Loss: 2020.357   log_lengthscale: -0.100\n",
      "Iter 3/100 - Loss: 1412.909   log_lengthscale: -0.200\n",
      "Iter 4/100 - Loss: 1038.069   log_lengthscale: -0.298\n",
      "Iter 5/100 - Loss: 719.331   log_lengthscale: -0.397\n",
      "Iter 6/100 - Loss: 607.916   log_lengthscale: -0.497\n",
      "Iter 7/100 - Loss: 401.839   log_lengthscale: -0.597\n",
      "Iter 8/100 - Loss: 374.297   log_lengthscale: -0.699\n",
      "Iter 9/100 - Loss: 301.813   log_lengthscale: -0.799\n",
      "Iter 10/100 - Loss: 380.623   log_lengthscale: -0.900\n",
      "Iter 11/100 - Loss: 389.286   log_lengthscale: -1.002\n",
      "Iter 12/100 - Loss: 289.502   log_lengthscale: -1.104\n",
      "Iter 13/100 - Loss: 345.163   log_lengthscale: -1.203\n",
      "Iter 14/100 - Loss: 303.670   log_lengthscale: -1.303\n",
      "Iter 15/100 - Loss: 278.398   log_lengthscale: -1.398\n",
      "Iter 16/100 - Loss: 223.141   log_lengthscale: -1.490\n",
      "Iter 17/100 - Loss: 142.095   log_lengthscale: -1.578\n",
      "Iter 18/100 - Loss: 71.252   log_lengthscale: -1.664\n",
      "Iter 19/100 - Loss: 98.503   log_lengthscale: -1.745\n",
      "Iter 20/100 - Loss: 90.510   log_lengthscale: -1.820\n",
      "Iter 21/100 - Loss: 11.341   log_lengthscale: -1.891\n",
      "Iter 22/100 - Loss: 116.937   log_lengthscale: -1.956\n",
      "Iter 23/100 - Loss: 87.109   log_lengthscale: -2.018\n",
      "Iter 24/100 - Loss: 62.277   log_lengthscale: -2.076\n",
      "Iter 25/100 - Loss: 95.139   log_lengthscale: -2.130\n",
      "Iter 26/100 - Loss: 79.465   log_lengthscale: -2.181\n",
      "Iter 27/100 - Loss: 98.538   log_lengthscale: -2.229\n",
      "Iter 28/100 - Loss: 58.398   log_lengthscale: -2.274\n",
      "Iter 29/100 - Loss: 94.428   log_lengthscale: -2.315\n",
      "Iter 30/100 - Loss: 60.207   log_lengthscale: -2.353\n",
      "Iter 31/100 - Loss: 56.567   log_lengthscale: -2.389\n",
      "Iter 32/100 - Loss: 22.152   log_lengthscale: -2.424\n",
      "Iter 33/100 - Loss: 24.633   log_lengthscale: -2.457\n",
      "Iter 34/100 - Loss: 51.264   log_lengthscale: -2.489\n",
      "Iter 35/100 - Loss: 28.902   log_lengthscale: -2.519\n",
      "Iter 36/100 - Loss: 15.498   log_lengthscale: -2.546\n",
      "Iter 37/100 - Loss: 53.300   log_lengthscale: -2.574\n",
      "Iter 38/100 - Loss: 29.031   log_lengthscale: -2.600\n",
      "Iter 39/100 - Loss: 33.983   log_lengthscale: -2.626\n",
      "Iter 40/100 - Loss: 19.316   log_lengthscale: -2.652\n",
      "Iter 41/100 - Loss: 37.913   log_lengthscale: -2.679\n",
      "Iter 42/100 - Loss: 23.027   log_lengthscale: -2.705\n",
      "Iter 43/100 - Loss: 29.485   log_lengthscale: -2.731\n",
      "Iter 44/100 - Loss: 32.081   log_lengthscale: -2.755\n",
      "Iter 45/100 - Loss: 22.603   log_lengthscale: -2.779\n",
      "Iter 46/100 - Loss: 36.637   log_lengthscale: -2.801\n",
      "Iter 47/100 - Loss: 28.309   log_lengthscale: -2.822\n",
      "Iter 48/100 - Loss: 31.104   log_lengthscale: -2.841\n",
      "Iter 49/100 - Loss: 28.298   log_lengthscale: -2.858\n",
      "Iter 50/100 - Loss: 30.212   log_lengthscale: -2.875\n"
     ]
    }
   ],
   "source": [
    "# Find optimal model hyperparameters\n",
    "model.train()\n",
    "optimizer = optim.Adam(model.parameters(), lr=0.1)\n",
    "optimizer.n_iter = 0\n",
    "for i in range(50):\n",
    "    optimizer.zero_grad()\n",
    "    output = model.forward(train_x)\n",
    "    loss = -model.marginal_log_likelihood(output, train_y)\n",
    "    loss.backward()\n",
    "    optimizer.n_iter += 1\n",
    "    print('Iter %d/100 - Loss: %.3f   log_lengthscale: %.3f' % (\n",
    "        i + 1, loss.data[0],\n",
    "        model.covar_module.log_lengthscale.data.squeeze()[0],\n",
    "    ))\n",
    "    optimizer.step()\n",
    "    \n",
    "# Set back to eval mode\n",
    "model.eval()\n",
    "None"
   ]
  },
  {
   "cell_type": "code",
   "execution_count": 8,
   "metadata": {},
   "outputs": [
    {
     "data": {
      "image/png": "[encoded data removed]",
      "text/plain": [
       "<matplotlib.figure.Figure at 0x7f7d2899cf90>"
      ]
     },
     "metadata": {},
     "output_type": "display_data"
    }
   ],
   "source": [
    "f = plot_model_and_predictions(model)"
   ]
  },
  {
   "cell_type": "code",
   "execution_count": null,
   "metadata": {
    "collapsed": true
   },
   "outputs": [],
   "source": []
  }
 ],
 "metadata": {
  "anaconda-cloud": {},
  "kernelspec": {
   "display_name": "Python 2",
   "language": "python",
   "name": "python2"
  },
  "language_info": {
   "codemirror_mode": {
    "name": "ipython",
    "version": 2
   },
   "file_extension": ".py",
   "mimetype": "text/x-python",
   "name": "python",
   "nbconvert_exporter": "python",
   "pygments_lexer": "ipython2",
   "version": "2.7.13"
  }
 },
 "nbformat": 4,
 "nbformat_minor": 1
}
