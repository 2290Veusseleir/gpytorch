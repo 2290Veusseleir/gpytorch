{
 "cells": [
  {
   "cell_type": "markdown",
   "metadata": {},
   "source": [
    "This example is the simplest form of using an RBF kernel in an `VariationalGP` module for classification. This basic model is usable when there is not much training data and no advanced techniques are required.\n",
    "\n",
    "In this example, we’re modeling a unit wave with period 1/2 centered with positive values @ x=0\n",
    "\n",
    "Variational inference uses the assumption that the posterior distribution factors multiplicatively over the input variables. This makes approximating the distribution via the KL divergence possible to obtain a fast approximation to the posterior. For a good explanation of variational techniques, sections 4-6 of the following may be useful: https://www.cs.princeton.edu/courses/archive/fall11/cos597C/lectures/variational-inference-i.pdf"
   ]
  },
  {
   "cell_type": "code",
   "execution_count": 1,
   "metadata": {},
   "outputs": [],
   "source": [
    "import math\n",
    "import torch\n",
    "import gpytorch\n",
    "from matplotlib import pyplot as plt\n",
    "\n",
    "%matplotlib inline"
   ]
  },
  {
   "cell_type": "code",
   "execution_count": 2,
   "metadata": {},
   "outputs": [],
   "source": [
    "from torch.autograd import Variable\n",
    "# Grid points are [0,1] every 1/9\n",
    "train_x = Variable(torch.linspace(0, 1, 10))\n",
    "# Labels are unit wave with period 1/2 centered with positive values @ x=0\n",
    "train_y = Variable(torch.sign(torch.cos(train_x.data * (4 * math.pi))))"
   ]
  },
  {
   "cell_type": "code",
   "execution_count": 3,
   "metadata": {},
   "outputs": [],
   "source": [
    "from torch import nn, optim\n",
    "from gpytorch.kernels import RBFKernel\n",
    "from gpytorch.means import ConstantMean\n",
    "from gpytorch.likelihoods import GaussianLikelihood, BernoulliLikelihood\n",
    "from gpytorch.random_variables import GaussianRandomVariable"
   ]
  },
  {
   "cell_type": "code",
   "execution_count": 4,
   "metadata": {},
   "outputs": [],
   "source": [
    "# Basic classification model with variational inference\n",
    "class GPClassificationModel(gpytorch.models.VariationalGP):\n",
    "    def __init__(self, train_inputs):\n",
    "        super(GPClassificationModel, self).__init__(train_inputs)\n",
    "        # Only non-zero mean function can be learned\n",
    "        self.mean_module = ConstantMean(constant_bounds=[-1e-5,1e-5])\n",
    "        # Use universal approximator RBF kernel\n",
    "        self.covar_module = RBFKernel(log_lengthscale_bounds=(-5, 6))\n",
    "        self.register_parameter('log_outputscale', nn.Parameter(torch.Tensor([0])), bounds=(-5,6))\n",
    "        \n",
    "    def forward(self,x):\n",
    "        # Get predictive mean and covariance\n",
    "        mean_x = self.mean_module(x)\n",
    "        covar_x = self.covar_module(x)\n",
    "        # Scale covariance\n",
    "        covar_x = covar_x.mul(self.log_outputscale.exp())\n",
    "        # Package prediction as GaussianRandomVariable\n",
    "        latent_pred = GaussianRandomVariable(mean_x, covar_x)\n",
    "        # Return predictions\n",
    "        return latent_pred\n",
    "\n",
    "# Initialize model and likelihood\n",
    "model = GPClassificationModel(train_x.data)\n",
    "likelihood = BernoulliLikelihood()"
   ]
  },
  {
   "cell_type": "code",
   "execution_count": 6,
   "metadata": {
    "scrolled": true
   },
   "outputs": [
    {
     "name": "stdout",
     "output_type": "stream",
     "text": [
      "Iter 1/50 - Loss: 297.203   log_lengthscale: 0.000\n",
      "Iter 2/50 - Loss: 207.702   log_lengthscale: -0.100\n",
      "Iter 3/50 - Loss: 135.155   log_lengthscale: -0.199\n",
      "Iter 4/50 - Loss: 86.705   log_lengthscale: -0.298\n",
      "Iter 5/50 - Loss: 55.485   log_lengthscale: -0.396\n",
      "Iter 6/50 - Loss: 34.695   log_lengthscale: -0.493\n",
      "Iter 7/50 - Loss: 22.533   log_lengthscale: -0.589\n",
      "Iter 8/50 - Loss: 17.101   log_lengthscale: -0.684\n",
      "Iter 9/50 - Loss: 14.844   log_lengthscale: -0.777\n",
      "Iter 10/50 - Loss: 15.271   log_lengthscale: -0.869\n",
      "Iter 11/50 - Loss: 15.613   log_lengthscale: -0.959\n",
      "Iter 12/50 - Loss: 15.810   log_lengthscale: -1.048\n",
      "Iter 13/50 - Loss: 14.828   log_lengthscale: -1.135\n",
      "Iter 14/50 - Loss: 13.286   log_lengthscale: -1.219\n",
      "Iter 15/50 - Loss: 11.431   log_lengthscale: -1.302\n",
      "Iter 16/50 - Loss: 9.555   log_lengthscale: -1.382\n",
      "Iter 17/50 - Loss: 8.067   log_lengthscale: -1.460\n",
      "Iter 18/50 - Loss: 6.258   log_lengthscale: -1.536\n",
      "Iter 19/50 - Loss: 5.629   log_lengthscale: -1.610\n",
      "Iter 20/50 - Loss: 5.069   log_lengthscale: -1.680\n",
      "Iter 21/50 - Loss: 4.388   log_lengthscale: -1.747\n",
      "Iter 22/50 - Loss: 4.621   log_lengthscale: -1.811\n",
      "Iter 23/50 - Loss: 3.837   log_lengthscale: -1.872\n",
      "Iter 24/50 - Loss: 3.546   log_lengthscale: -1.930\n",
      "Iter 25/50 - Loss: 3.812   log_lengthscale: -1.985\n",
      "Iter 26/50 - Loss: 3.884   log_lengthscale: -2.036\n",
      "Iter 27/50 - Loss: 3.173   log_lengthscale: -2.084\n",
      "Iter 28/50 - Loss: 2.809   log_lengthscale: -2.130\n",
      "Iter 29/50 - Loss: 3.007   log_lengthscale: -2.172\n",
      "Iter 30/50 - Loss: 2.730   log_lengthscale: -2.211\n",
      "Iter 31/50 - Loss: 2.656   log_lengthscale: -2.247\n",
      "Iter 32/50 - Loss: 2.939   log_lengthscale: -2.281\n",
      "Iter 33/50 - Loss: 2.564   log_lengthscale: -2.312\n",
      "Iter 34/50 - Loss: 2.683   log_lengthscale: -2.340\n",
      "Iter 35/50 - Loss: 2.431   log_lengthscale: -2.366\n",
      "Iter 36/50 - Loss: 2.570   log_lengthscale: -2.390\n",
      "Iter 37/50 - Loss: 2.548   log_lengthscale: -2.412\n",
      "Iter 38/50 - Loss: 2.896   log_lengthscale: -2.432\n",
      "Iter 39/50 - Loss: 2.689   log_lengthscale: -2.451\n",
      "Iter 40/50 - Loss: 2.279   log_lengthscale: -2.467\n",
      "Iter 41/50 - Loss: 2.606   log_lengthscale: -2.482\n",
      "Iter 42/50 - Loss: 2.027   log_lengthscale: -2.496\n",
      "Iter 43/50 - Loss: 2.566   log_lengthscale: -2.507\n",
      "Iter 44/50 - Loss: 2.654   log_lengthscale: -2.517\n",
      "Iter 45/50 - Loss: 2.305   log_lengthscale: -2.527\n",
      "Iter 46/50 - Loss: 2.038   log_lengthscale: -2.535\n",
      "Iter 47/50 - Loss: 2.395   log_lengthscale: -2.542\n",
      "Iter 48/50 - Loss: 1.934   log_lengthscale: -2.549\n",
      "Iter 49/50 - Loss: 2.770   log_lengthscale: -2.554\n",
      "Iter 50/50 - Loss: 2.290   log_lengthscale: -2.559\n"
     ]
    }
   ],
   "source": [
    "# Find optimal model hyperparameters\n",
    "model.train()\n",
    "likelihood.train()\n",
    "\n",
    "# Use the adam optimizer\n",
    "optimizer = torch.optim.Adam([\n",
    "    {'params': model.parameters()},\n",
    "    # BernoulliLikelihood has no parameters\n",
    "], lr=0.1)\n",
    "\n",
    "# \"Loss\" for GPs - the marginal log likelihood\n",
    "# n_data refers to the amount of training data\n",
    "mll = gpytorch.mlls.VariationalMarginalLogLikelihood(likelihood, model, n_data=len(train_y))\n",
    "\n",
    "training_iter = 50\n",
    "for i in range(training_iter):\n",
    "    # Zero backpropped gradients from previous iteration\n",
    "    optimizer.zero_grad()\n",
    "    # Get predictive output\n",
    "    output = model(train_x)\n",
    "    # Calc loss and backprop gradients\n",
    "    loss = -mll(output, train_y)\n",
    "    loss.backward()\n",
    "    print('Iter %d/%d - Loss: %.3f   log_lengthscale: %.3f' % (\n",
    "        i + 1, training_iter, loss.data[0],\n",
    "        model.covar_module.log_lengthscale.data.squeeze()[0],\n",
    "    ))\n",
    "    optimizer.step()"
   ]
  },
  {
   "cell_type": "code",
   "execution_count": 7,
   "metadata": {},
   "outputs": [
    {
     "data": {
      "image/png": "[encoded data removed]",
      "text/plain": [
       "<matplotlib.figure.Figure at 0x7f1eab0ac3c8>"
      ]
     },
     "metadata": {},
     "output_type": "display_data"
    }
   ],
   "source": [
    "# Go into eval mode\n",
    "model.eval()\n",
    "likelihood.eval()\n",
    "\n",
    "# Initialize fig and axes for plot\n",
    "f, observed_ax = plt.subplots(1, 1, figsize=(4, 3))\n",
    "# Test x are regularly spaced by 0.01 0,1 inclusive\n",
    "test_x = Variable(torch.linspace(0, 1, 101))\n",
    "## Not sure why this is with... Get Bernoulli prediction\n",
    "with gpytorch.fast_pred_var():\n",
    "    observed_pred = likelihood(model(test_x))\n",
    "\n",
    "# Plotting function\n",
    "# A lot of this should be consolidated as helper between different notebooks\n",
    "def ax_plot(ax, rand_var, title):\n",
    "    ax.plot(train_x.data.numpy(), train_y.data.numpy(), 'k*')\n",
    "    pred_labels = rand_var.mean().ge(0.5).float().mul(2).sub(1)\n",
    "    ax.plot(test_x.data.numpy(), pred_labels.data.numpy(), 'b')\n",
    "    ax.set_ylim([-3, 3])\n",
    "    ax.legend(['Observed Data', 'Mean', 'Confidence'])\n",
    "    ax.set_title(title)\n",
    "# Plot square wave predictions\n",
    "ax_plot(observed_ax, observed_pred, 'Observed Values (Likelihood)')"
   ]
  },
  {
   "cell_type": "code",
   "execution_count": null,
   "metadata": {},
   "outputs": [],
   "source": []
  }
 ],
 "metadata": {
  "anaconda-cloud": {},
  "kernelspec": {
   "display_name": "Python 3",
   "language": "python",
   "name": "python3"
  },
  "language_info": {
   "codemirror_mode": {
    "name": "ipython",
    "version": 3
   },
   "file_extension": ".py",
   "mimetype": "text/x-python",
   "name": "python",
   "nbconvert_exporter": "python",
   "pygments_lexer": "ipython3",
   "version": "3.6.4"
  }
 },
 "nbformat": 4,
 "nbformat_minor": 1
}
