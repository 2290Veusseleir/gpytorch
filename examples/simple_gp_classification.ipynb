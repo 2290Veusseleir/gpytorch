{
 "cells": [
  {
   "cell_type": "markdown",
   "metadata": {},
   "source": [
    "This example is the simplest form of using an RBF kernel in an `VariationalGP` module\n",
    "- When you want to use variation inference (e.g. for classification)\n",
    "- When no fancy techniques are required\n",
    "\n",
    "In this example, we’re modeling a unit wave with period 1/2 centered with positive values @ x=0"
   ]
  },
  {
   "cell_type": "code",
   "execution_count": 1,
   "metadata": {
    "collapsed": true
   },
   "outputs": [],
   "source": [
    "import math\n",
    "import torch\n",
    "import gpytorch\n",
    "from matplotlib import pyplot as plt\n",
    "\n",
    "%matplotlib inline"
   ]
  },
  {
   "cell_type": "code",
   "execution_count": 2,
   "metadata": {
    "collapsed": true
   },
   "outputs": [],
   "source": [
    "from torch.autograd import Variable\n",
    "# Grid points are [0,1] every 1/9\n",
    "train_x = Variable(torch.linspace(0, 1, 10))\n",
    "# Labels are unit wave with period 1/2 centered with positive values @ x=0\n",
    "train_y = Variable(torch.sign(torch.cos(train_x.data * (4 * math.pi))))"
   ]
  },
  {
   "cell_type": "code",
   "execution_count": 3,
   "metadata": {
    "collapsed": true
   },
   "outputs": [],
   "source": [
    "from torch import nn, optim\n",
    "from gpytorch.kernels import RBFKernel\n",
    "from gpytorch.means import ConstantMean\n",
    "from gpytorch.likelihoods import GaussianLikelihood, BernoulliLikelihood\n",
    "from gpytorch.random_variables import GaussianRandomVariable"
   ]
  },
  {
   "cell_type": "code",
   "execution_count": 4,
   "metadata": {
    "collapsed": true
   },
   "outputs": [],
   "source": [
    "# Basic classification model with variational inference\n",
    "class GPClassificationModel(gpytorch.models.VariationalGP):\n",
    "    def __init__(self, train_inputs):\n",
    "        super(GPClassificationModel, self).__init__(train_inputs)\n",
    "        # Only non-zero mean function can be learned\n",
    "        self.mean_module = ConstantMean(constant_bounds=[-1e-5,1e-5])\n",
    "        # Use universal approximator RBF kernel\n",
    "        self.covar_module = RBFKernel(log_lengthscale_bounds=(-5, 6))\n",
    "        self.register_parameter('log_outputscale', nn.Parameter(torch.Tensor([0])), bounds=(-5,6))\n",
    "        \n",
    "    def forward(self,x):\n",
    "        # Get predictive mean and covariance\n",
    "        mean_x = self.mean_module(x)\n",
    "        covar_x = self.covar_module(x)\n",
    "        # Scale covariance\n",
    "        covar_x = covar_x.mul(self.log_outputscale.exp().expand_as(covar_x))\n",
    "        # Package prediction as GaussianRandomVariable\n",
    "        latent_pred = GaussianRandomVariable(mean_x, covar_x)\n",
    "        # Return predictions\n",
    "        return latent_pred\n",
    "\n",
    "# Initialize model and likelihood\n",
    "model = GPClassificationModel(train_x.data)\n",
    "likelihood = BernoulliLikelihood()"
   ]
  },
  {
   "cell_type": "code",
   "execution_count": 5,
   "metadata": {
    "scrolled": true
   },
   "outputs": [
    {
     "name": "stdout",
     "output_type": "stream",
     "text": [
      "Iter 1/50 - Loss: 266.578   log_lengthscale: 0.000\n",
      "Iter 2/50 - Loss: 241.063   log_lengthscale: -0.100\n",
      "Iter 3/50 - Loss: 139.192   log_lengthscale: -0.195\n",
      "Iter 4/50 - Loss: 86.837   log_lengthscale: -0.287\n",
      "Iter 5/50 - Loss: 60.454   log_lengthscale: -0.378\n",
      "Iter 6/50 - Loss: 31.666   log_lengthscale: -0.471\n",
      "Iter 7/50 - Loss: 25.879   log_lengthscale: -0.563\n",
      "Iter 8/50 - Loss: 18.036   log_lengthscale: -0.653\n",
      "Iter 9/50 - Loss: 11.823   log_lengthscale: -0.742\n",
      "Iter 10/50 - Loss: 16.754   log_lengthscale: -0.828\n",
      "Iter 11/50 - Loss: 14.458   log_lengthscale: -0.914\n",
      "Iter 12/50 - Loss: 12.708   log_lengthscale: -0.998\n",
      "Iter 13/50 - Loss: 10.416   log_lengthscale: -1.078\n",
      "Iter 14/50 - Loss: 8.523   log_lengthscale: -1.154\n",
      "Iter 15/50 - Loss: 13.392   log_lengthscale: -1.229\n",
      "Iter 16/50 - Loss: 9.890   log_lengthscale: -1.300\n",
      "Iter 17/50 - Loss: 6.080   log_lengthscale: -1.370\n",
      "Iter 18/50 - Loss: 6.433   log_lengthscale: -1.438\n",
      "Iter 19/50 - Loss: 6.510   log_lengthscale: -1.504\n",
      "Iter 20/50 - Loss: 4.195   log_lengthscale: -1.568\n",
      "Iter 21/50 - Loss: 7.743   log_lengthscale: -1.629\n",
      "Iter 22/50 - Loss: 5.635   log_lengthscale: -1.691\n",
      "Iter 23/50 - Loss: 1.282   log_lengthscale: -1.749\n",
      "Iter 24/50 - Loss: 4.845   log_lengthscale: -1.805\n",
      "Iter 25/50 - Loss: 4.083   log_lengthscale: -1.856\n",
      "Iter 26/50 - Loss: 4.220   log_lengthscale: -1.905\n",
      "Iter 27/50 - Loss: 2.100   log_lengthscale: -1.950\n",
      "Iter 28/50 - Loss: 2.934   log_lengthscale: -1.993\n",
      "Iter 29/50 - Loss: 1.524   log_lengthscale: -2.034\n",
      "Iter 30/50 - Loss: 2.859   log_lengthscale: -2.072\n",
      "Iter 31/50 - Loss: 2.762   log_lengthscale: -2.107\n",
      "Iter 32/50 - Loss: 2.809   log_lengthscale: -2.141\n",
      "Iter 33/50 - Loss: 2.573   log_lengthscale: -2.172\n",
      "Iter 34/50 - Loss: 3.062   log_lengthscale: -2.200\n",
      "Iter 35/50 - Loss: 2.874   log_lengthscale: -2.225\n",
      "Iter 36/50 - Loss: 2.741   log_lengthscale: -2.248\n",
      "Iter 37/50 - Loss: 2.608   log_lengthscale: -2.268\n",
      "Iter 38/50 - Loss: 2.156   log_lengthscale: -2.285\n",
      "Iter 39/50 - Loss: 2.043   log_lengthscale: -2.303\n",
      "Iter 40/50 - Loss: 2.262   log_lengthscale: -2.318\n",
      "Iter 41/50 - Loss: 2.408   log_lengthscale: -2.332\n",
      "Iter 42/50 - Loss: 2.605   log_lengthscale: -2.346\n",
      "Iter 43/50 - Loss: 2.328   log_lengthscale: -2.358\n",
      "Iter 44/50 - Loss: 2.146   log_lengthscale: -2.370\n",
      "Iter 45/50 - Loss: 2.566   log_lengthscale: -2.380\n",
      "Iter 46/50 - Loss: 2.010   log_lengthscale: -2.389\n",
      "Iter 47/50 - Loss: 2.209   log_lengthscale: -2.397\n",
      "Iter 48/50 - Loss: 1.593   log_lengthscale: -2.404\n",
      "Iter 49/50 - Loss: 1.333   log_lengthscale: -2.410\n",
      "Iter 50/50 - Loss: 2.236   log_lengthscale: -2.417\n"
     ]
    }
   ],
   "source": [
    "# Find optimal model hyperparameters\n",
    "model.train()\n",
    "likelihood.train()\n",
    "\n",
    "# Use Adam optimizer on model parameters (Bernoulli likelihood doesn't have parameters)\n",
    "optimizer = optim.Adam(model.parameters(), lr=0.1)\n",
    "optimizer.n_iter = 0\n",
    "training_iter = 50\n",
    "for i in range(training_iter):\n",
    "    # Zero backpropped gradients from previous iteration\n",
    "    optimizer.zero_grad()\n",
    "    # Get predictive output\n",
    "    output = model(train_x)\n",
    "    # Calc loss and backprop gradients\n",
    "    loss = -model.marginal_log_likelihood(likelihood, output, train_y)\n",
    "    loss.backward()\n",
    "    optimizer.n_iter += 1\n",
    "    print('Iter %d/%d - Loss: %.3f   log_lengthscale: %.3f' % (\n",
    "        i + 1, training_iter, loss.data[0],\n",
    "        model.covar_module.log_lengthscale.data.squeeze()[0],\n",
    "    ))\n",
    "    optimizer.step()"
   ]
  },
  {
   "cell_type": "code",
   "execution_count": 6,
   "metadata": {},
   "outputs": [
    {
     "data": {
      "image/png": "[encoded data removed]",
      "text/plain": [
       "<matplotlib.figure.Figure at 0x7f06f65d3f60>"
      ]
     },
     "metadata": {},
     "output_type": "display_data"
    }
   ],
   "source": [
    "# Go into eval mode\n",
    "model.eval()\n",
    "likelihood.eval()\n",
    "\n",
    "# Initialize fig and axes for plot\n",
    "f, observed_ax = plt.subplots(1, 1, figsize=(4, 3))\n",
    "# Test x are regularly spaced by 0.01 0,1 inclusive\n",
    "test_x = Variable(torch.linspace(0, 1, 101))\n",
    "## Not sure why this is with... Get Bernoulli prediction\n",
    "with gpytorch.fast_pred_var():\n",
    "    observed_pred = likelihood(model(test_x))\n",
    "\n",
    "# Plotting function\n",
    "# A lot of this should be consolidated as helper between different notebooks\n",
    "def ax_plot(ax, rand_var, title):\n",
    "    ax.plot(train_x.data.numpy(), train_y.data.numpy(), 'k*')\n",
    "    pred_labels = rand_var.mean().ge(0.5).float().mul(2).sub(1)\n",
    "    ax.plot(test_x.data.numpy(), pred_labels.data.numpy(), 'b')\n",
    "    ax.set_ylim([-3, 3])\n",
    "    ax.legend(['Observed Data', 'Mean', 'Confidence'])\n",
    "    ax.set_title(title)\n",
    "# Plot square wave predictions\n",
    "ax_plot(observed_ax, observed_pred, 'Observed Values (Likelihood)')"
   ]
  }
 ],
 "metadata": {
  "anaconda-cloud": {},
  "kernelspec": {
   "display_name": "Python 2",
   "language": "python",
   "name": "python2"
  },
  "language_info": {
   "codemirror_mode": {
    "name": "ipython",
    "version": 2
   },
   "file_extension": ".py",
   "mimetype": "text/x-python",
   "name": "python",
   "nbconvert_exporter": "python",
   "pygments_lexer": "ipython2",
   "version": "2.7.14"
  }
 },
 "nbformat": 4,
 "nbformat_minor": 1
}
