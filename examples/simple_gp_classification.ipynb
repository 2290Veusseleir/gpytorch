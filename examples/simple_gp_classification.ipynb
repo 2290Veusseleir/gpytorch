{
 "cells": [
  {
   "cell_type": "markdown",
   "metadata": {},
   "source": [
    "This example is the simplest form of using an RBF kernel in an `VariationalGP` module for classification. This basic model is usable when there is not much training data and no advanced techniques are required.\n",
    "\n",
    "In this example, we’re modeling a unit wave with period 1/2 centered with positive values @ x=0\n",
    "\n",
    "Variational inference uses the assumption that the posterior distribution factors multiplicatively over the input variables. This makes approximating the distribution via the KL divergence possible to obtain a fast approximation to the posterior. For a good explanation of variational techniques, sections 4-6 of the following may be useful: https://www.cs.princeton.edu/courses/archive/fall11/cos597C/lectures/variational-inference-i.pdf"
   ]
  },
  {
   "cell_type": "code",
   "execution_count": 6,
   "metadata": {
    "collapsed": true
   },
   "outputs": [],
   "source": [
    "import math\n",
    "import torch\n",
    "import gpytorch\n",
    "from matplotlib import pyplot as plt\n",
    "\n",
    "%matplotlib inline"
   ]
  },
  {
   "cell_type": "code",
   "execution_count": 7,
   "metadata": {
    "collapsed": true
   },
   "outputs": [],
   "source": [
    "from torch.autograd import Variable\n",
    "# Grid points are [0,1] every 1/9\n",
    "train_x = Variable(torch.linspace(0, 1, 10))\n",
    "# Labels are unit wave with period 1/2 centered with positive values @ x=0\n",
    "train_y = Variable(torch.sign(torch.cos(train_x.data * (4 * math.pi))))"
   ]
  },
  {
   "cell_type": "code",
   "execution_count": 11,
   "metadata": {
    "collapsed": true
   },
   "outputs": [],
   "source": [
    "from torch import nn, optim\n",
    "from gpytorch.kernels import RBFKernel\n",
    "from gpytorch.priors import SmoothedBoxPrior\n",
    "from gpytorch.means import ConstantMean\n",
    "from gpytorch.likelihoods import GaussianLikelihood, BernoulliLikelihood\n",
    "from gpytorch.random_variables import GaussianRandomVariable"
   ]
  },
  {
   "cell_type": "code",
   "execution_count": 15,
   "metadata": {},
   "outputs": [],
   "source": [
    "# Basic classification model with variational inference\n",
    "class GPClassificationModel(gpytorch.models.VariationalGP):\n",
    "    def __init__(self, train_x):\n",
    "        super(GPClassificationModel, self).__init__(train_x)\n",
    "        self.mean_module = ConstantMean(prior=SmoothedBoxPrior(-1e-5, 1e-5))\n",
    "        self.covar_module = RBFKernel(\n",
    "            log_lengthscale_prior=SmoothedBoxPrior(math.exp(-5), math.exp(6), sigma=0.1, log_transform=True)\n",
    "        )\n",
    "        self.register_parameter(\n",
    "            name=\"log_outputscale\",\n",
    "            parameter=torch.nn.Parameter(torch.Tensor([0])),\n",
    "            prior=SmoothedBoxPrior(math.exp(-5), math.exp(6), sigma=0.1, log_transform=True),\n",
    "        )\n",
    "\n",
    "    def forward(self, x):\n",
    "        mean_x = self.mean_module(x)\n",
    "        covar_x = self.covar_module(x) * self.log_outputscale.exp()\n",
    "        latent_pred = GaussianRandomVariable(mean_x, covar_x)\n",
    "        return latent_pred\n",
    "# Initialize model and likelihood\n",
    "model = GPClassificationModel(train_x.data)\n",
    "likelihood = BernoulliLikelihood()"
   ]
  },
  {
   "cell_type": "code",
   "execution_count": 16,
   "metadata": {
    "scrolled": true
   },
   "outputs": [
    {
     "name": "stderr",
     "output_type": "stream",
     "text": [
      "/usr/local/anaconda3/lib/python3.6/site-packages/ipykernel_launcher.py:25: UserWarning: invalid index of a 0-dim tensor. This will be an error in PyTorch 0.5. Use tensor.item() to convert a 0-dim tensor to a Python number\n",
      "/usr/local/anaconda3/lib/python3.6/site-packages/ipykernel_launcher.py:26: UserWarning: invalid index of a 0-dim tensor. This will be an error in PyTorch 0.5. Use tensor.item() to convert a 0-dim tensor to a Python number\n"
     ]
    },
    {
     "name": "stdout",
     "output_type": "stream",
     "text": [
      "Iter 1/50 - Loss: 326.092   log_lengthscale: 0.000\n",
      "Iter 2/50 - Loss: 229.205   log_lengthscale: -0.100\n",
      "Iter 3/50 - Loss: 147.732   log_lengthscale: -0.200\n",
      "Iter 4/50 - Loss: 94.309   log_lengthscale: -0.297\n",
      "Iter 5/50 - Loss: 58.450   log_lengthscale: -0.393\n",
      "Iter 6/50 - Loss: 34.128   log_lengthscale: -0.487\n",
      "Iter 7/50 - Loss: 20.241   log_lengthscale: -0.579\n",
      "Iter 8/50 - Loss: 14.262   log_lengthscale: -0.669\n",
      "Iter 9/50 - Loss: 12.604   log_lengthscale: -0.757\n",
      "Iter 10/50 - Loss: 12.035   log_lengthscale: -0.842\n",
      "Iter 11/50 - Loss: 11.015   log_lengthscale: -0.924\n",
      "Iter 12/50 - Loss: 10.255   log_lengthscale: -1.004\n",
      "Iter 13/50 - Loss: 9.753   log_lengthscale: -1.081\n",
      "Iter 14/50 - Loss: 9.735   log_lengthscale: -1.155\n",
      "Iter 15/50 - Loss: 7.783   log_lengthscale: -1.227\n",
      "Iter 16/50 - Loss: 6.957   log_lengthscale: -1.297\n",
      "Iter 17/50 - Loss: 5.993   log_lengthscale: -1.363\n",
      "Iter 18/50 - Loss: 5.237   log_lengthscale: -1.427\n",
      "Iter 19/50 - Loss: 4.902   log_lengthscale: -1.487\n",
      "Iter 20/50 - Loss: 4.965   log_lengthscale: -1.544\n",
      "Iter 21/50 - Loss: 4.777   log_lengthscale: -1.597\n",
      "Iter 22/50 - Loss: 4.574   log_lengthscale: -1.647\n",
      "Iter 23/50 - Loss: 4.703   log_lengthscale: -1.693\n",
      "Iter 24/50 - Loss: 5.116   log_lengthscale: -1.736\n",
      "Iter 25/50 - Loss: 4.525   log_lengthscale: -1.775\n",
      "Iter 26/50 - Loss: 4.528   log_lengthscale: -1.812\n",
      "Iter 27/50 - Loss: 4.624   log_lengthscale: -1.846\n",
      "Iter 28/50 - Loss: 4.620   log_lengthscale: -1.877\n",
      "Iter 29/50 - Loss: 4.564   log_lengthscale: -1.905\n",
      "Iter 30/50 - Loss: 4.861   log_lengthscale: -1.931\n",
      "Iter 31/50 - Loss: 4.773   log_lengthscale: -1.954\n",
      "Iter 32/50 - Loss: 4.270   log_lengthscale: -1.976\n",
      "Iter 33/50 - Loss: 4.927   log_lengthscale: -1.995\n",
      "Iter 34/50 - Loss: 4.501   log_lengthscale: -2.012\n",
      "Iter 35/50 - Loss: 4.371   log_lengthscale: -2.028\n",
      "Iter 36/50 - Loss: 4.359   log_lengthscale: -2.042\n",
      "Iter 37/50 - Loss: 4.372   log_lengthscale: -2.054\n",
      "Iter 38/50 - Loss: 4.390   log_lengthscale: -2.065\n",
      "Iter 39/50 - Loss: 4.958   log_lengthscale: -2.075\n",
      "Iter 40/50 - Loss: 4.401   log_lengthscale: -2.084\n",
      "Iter 41/50 - Loss: 4.529   log_lengthscale: -2.092\n",
      "Iter 42/50 - Loss: 4.274   log_lengthscale: -2.099\n",
      "Iter 43/50 - Loss: 4.380   log_lengthscale: -2.105\n",
      "Iter 44/50 - Loss: 4.652   log_lengthscale: -2.110\n",
      "Iter 45/50 - Loss: 4.246   log_lengthscale: -2.115\n",
      "Iter 46/50 - Loss: 4.502   log_lengthscale: -2.118\n",
      "Iter 47/50 - Loss: 4.252   log_lengthscale: -2.121\n",
      "Iter 48/50 - Loss: 4.289   log_lengthscale: -2.124\n",
      "Iter 49/50 - Loss: 4.384   log_lengthscale: -2.125\n",
      "Iter 50/50 - Loss: 4.035   log_lengthscale: -2.127\n"
     ]
    }
   ],
   "source": [
    "# Find optimal model hyperparameters\n",
    "model.train()\n",
    "likelihood.train()\n",
    "\n",
    "# Use the adam optimizer\n",
    "optimizer = torch.optim.Adam([\n",
    "    {'params': model.parameters()},\n",
    "    # BernoulliLikelihood has no parameters\n",
    "], lr=0.1)\n",
    "\n",
    "# \"Loss\" for GPs - the marginal log likelihood\n",
    "# n_data refers to the amount of training data\n",
    "mll = gpytorch.mlls.VariationalMarginalLogLikelihood(likelihood, model, n_data=len(train_y))\n",
    "\n",
    "training_iter = 50\n",
    "for i in range(training_iter):\n",
    "    # Zero backpropped gradients from previous iteration\n",
    "    optimizer.zero_grad()\n",
    "    # Get predictive output\n",
    "    output = model(train_x)\n",
    "    # Calc loss and backprop gradients\n",
    "    loss = -mll(output, train_y)\n",
    "    loss.backward()\n",
    "    print('Iter %d/%d - Loss: %.3f   log_lengthscale: %.3f' % (\n",
    "        i + 1, training_iter, loss.data[0],\n",
    "        model.covar_module.log_lengthscale.data.squeeze()[0],\n",
    "    ))\n",
    "    optimizer.step()"
   ]
  },
  {
   "cell_type": "code",
   "execution_count": 17,
   "metadata": {},
   "outputs": [
    {
     "data": {
      "image/png": "[encoded data removed]",
      "text/plain": [
       "<matplotlib.figure.Figure at 0x7fe5d88570f0>"
      ]
     },
     "metadata": {},
     "output_type": "display_data"
    }
   ],
   "source": [
    "# Go into eval mode\n",
    "model.eval()\n",
    "likelihood.eval()\n",
    "\n",
    "# Initialize fig and axes for plot\n",
    "f, observed_ax = plt.subplots(1, 1, figsize=(4, 3))\n",
    "# Test x are regularly spaced by 0.01 0,1 inclusive\n",
    "test_x = Variable(torch.linspace(0, 1, 101))\n",
    "## Not sure why this is with... Get Bernoulli prediction\n",
    "with gpytorch.fast_pred_var():\n",
    "    observed_pred = likelihood(model(test_x))\n",
    "\n",
    "# Plotting function\n",
    "# A lot of this should be consolidated as helper between different notebooks\n",
    "def ax_plot(ax, rand_var, title):\n",
    "    ax.plot(train_x.data.numpy(), train_y.data.numpy(), 'k*')\n",
    "    pred_labels = rand_var.mean().ge(0.5).float().mul(2).sub(1)\n",
    "    ax.plot(test_x.data.numpy(), pred_labels.data.numpy(), 'b')\n",
    "    ax.set_ylim([-3, 3])\n",
    "    ax.legend(['Observed Data', 'Mean', 'Confidence'])\n",
    "    ax.set_title(title)\n",
    "# Plot square wave predictions\n",
    "ax_plot(observed_ax, observed_pred, 'Observed Values (Likelihood)')"
   ]
  },
  {
   "cell_type": "code",
   "execution_count": null,
   "metadata": {
    "collapsed": true
   },
   "outputs": [],
   "source": []
  }
 ],
 "metadata": {
  "anaconda-cloud": {},
  "kernelspec": {
   "display_name": "Python 3",
   "language": "python",
   "name": "python3"
  },
  "language_info": {
   "codemirror_mode": {
    "name": "ipython",
    "version": 3
   },
   "file_extension": ".py",
   "mimetype": "text/x-python",
   "name": "python",
   "nbconvert_exporter": "python",
   "pygments_lexer": "ipython3",
   "version": "3.6.3"
  }
 },
 "nbformat": 4,
 "nbformat_minor": 1
}
