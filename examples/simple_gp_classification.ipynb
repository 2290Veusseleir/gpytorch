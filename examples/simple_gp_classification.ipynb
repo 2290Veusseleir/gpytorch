{
 "cells": [
  {
   "cell_type": "code",
   "execution_count": 1,
   "metadata": {
    "collapsed": true
   },
   "outputs": [],
   "source": [
    "import math\n",
    "import torch\n",
    "import gpytorch\n",
    "from matplotlib import pyplot as plt\n",
    "\n",
    "%matplotlib inline\n",
    "%load_ext autoreload\n",
    "%autoreload 2"
   ]
  },
  {
   "cell_type": "code",
   "execution_count": 2,
   "metadata": {
    "collapsed": true
   },
   "outputs": [],
   "source": [
    "import logging\n",
    "logger = logging.getLogger()\n",
    "logger.setLevel(logging.INFO)"
   ]
  },
  {
   "cell_type": "code",
   "execution_count": 3,
   "metadata": {
    "collapsed": true
   },
   "outputs": [],
   "source": [
    "from torch.autograd import Variable\n",
    "train_x = Variable(torch.linspace(0, 1, 15))\n",
    "train_y = Variable(torch.sign(torch.cos(train_x.data * (2 * math.pi))))"
   ]
  },
  {
   "cell_type": "code",
   "execution_count": 5,
   "metadata": {
    "collapsed": true
   },
   "outputs": [],
   "source": [
    "from gpytorch.kernels import RBFKernel\n",
    "from gpytorch.means import ConstantMean\n",
    "from gpytorch.likelihoods import GaussianLikelihood, BernoulliLikelihood\n",
    "from gpytorch import ObservationModel\n",
    "from gpytorch.random_variables import GaussianRandomVariable\n",
    "from gpytorch.parameters import MLEParameterGroup\n",
    "from torch.nn import Parameter"
   ]
  },
  {
   "cell_type": "code",
   "execution_count": 6,
   "metadata": {
    "collapsed": true
   },
   "outputs": [],
   "source": [
    "class GPClassificationModel(gpytorch.ObservationModel):\n",
    "    def __init__(self):\n",
    "        super(GPClassificationModel,self).__init__(BernoulliLikelihood())\n",
    "        self.mean_module = ConstantMean()\n",
    "        self.covar_module = RBFKernel()\n",
    "        self.params = MLEParameterGroup(\n",
    "            log_lengthscale=Parameter(torch.Tensor([math.log(0.1)])),\n",
    "            log_outputscale=Parameter(torch.Tensor([-1])),\n",
    "        )\n",
    "    \n",
    "    def forward(self,x):\n",
    "        mean_x = self.mean_module(x, constant=Variable(torch.Tensor([0])))\n",
    "        covar_x = self.covar_module(x, log_lengthscale=self.params.log_lengthscale)\n",
    "        covar_x = covar_x.mul(self.params.log_outputscale.exp().expand_as(covar_x))\n",
    "        latent_pred = GaussianRandomVariable(mean_x, covar_x)\n",
    "        return latent_pred\n",
    "\n",
    "prior_observation_model = GPClassificationModel()"
   ]
  },
  {
   "cell_type": "code",
   "execution_count": 7,
   "metadata": {
    "collapsed": true
   },
   "outputs": [],
   "source": [
    "def plot_model_and_predictions(observation_model):\n",
    "    f, observed_ax = plt.subplots(1, 1, figsize=(4, 3))\n",
    "    test_x = Variable(torch.linspace(0, 1, 51))\n",
    "    observed_pred = observation_model(test_x)\n",
    "\n",
    "    def ax_plot(ax, rand_var, title):\n",
    "        pred_probs = rand_var.mean()\n",
    "        pred_labels = rand_var.mean().ge(0.5).float().mul(2).sub(1)\n",
    "        ax.plot(train_x.data.numpy(), train_y.data.numpy(), 'k*')\n",
    "        ax.plot(test_x.data.numpy(), pred_labels.data.numpy(), 'b')\n",
    "        ax.set_ylim([-3, 3])\n",
    "        ax.legend(['Observed Data', 'Mean'])\n",
    "        ax.set_title(title)\n",
    "    \n",
    "    ax_plot(observed_ax, observed_pred, 'Observed Values (Likelihood)')\n",
    "    \n",
    "    return f"
   ]
  },
  {
   "cell_type": "code",
   "execution_count": 8,
   "metadata": {
    "collapsed": false,
    "scrolled": true
   },
   "outputs": [
    {
     "data": {
      "image/png": "[encoded data removed]",
      "text/plain": [
       "<matplotlib.figure.Figure at 0x7f539d929e90>"
      ]
     },
     "metadata": {},
     "output_type": "display_data"
    }
   ],
   "source": [
    "f = plot_model_and_predictions(prior_observation_model)"
   ]
  },
  {
   "cell_type": "code",
   "execution_count": 9,
   "metadata": {
    "collapsed": false,
    "scrolled": true
   },
   "outputs": [
    {
     "name": "stdout",
     "output_type": "stream",
     "text": [
      "0 -271536.65625\n",
      "1 -23.861825943\n",
      "2 -19.8542804718\n",
      "3 -13.150727272\n",
      "4 -15.6247816086\n",
      "5 -13.7857170105\n",
      "6 -16.216632843\n",
      "7 -14.0848150253\n",
      "8 -13.4510192871\n",
      "9 -15.5753822327\n",
      "10 -15.2123718262\n",
      "11 -14.4286270142\n",
      "12 -11.5976924896\n",
      "13 -11.7185020447\n",
      "14 -13.8002147675\n",
      "15 -10.1829071045\n",
      "16 -12.5679283142\n",
      "17 -11.0259590149\n",
      "18 -10.6002845764\n",
      "19 -10.1158227921\n",
      "20 -10.6840200424\n",
      "21 -9.71649646759\n",
      "22 -7.74183559418\n",
      "23 -10.0202903748\n",
      "24 -9.44572544098\n",
      "25 -9.00411987305\n",
      "26 -8.6178817749\n",
      "27 -9.87413692474\n",
      "28 -7.95426416397\n",
      "29 -10.8339338303\n",
      "30 -10.0554914474\n",
      "31 -9.95463371277\n",
      "32 -11.9867763519\n",
      "33 -9.74333381653\n",
      "34 -8.44249248505\n",
      "35 -8.00511264801\n",
      "36 -9.98693656921\n",
      "37 -12.5944690704\n",
      "38 -7.7828950882\n",
      "39 -11.280424118\n",
      "40 -8.8498210907\n",
      "41 -8.86623954773\n",
      "42 -7.9329328537\n",
      "43 -7.94100809097\n",
      "44 -8.57110595703\n",
      "45 -8.69177246094\n",
      "46 -9.5731086731\n",
      "47 -9.32789039612\n",
      "48 -8.87726593018\n",
      "49 -7.43687963486\n",
      "50 -10.2612638474\n",
      "51 -8.82627105713\n",
      "52 -7.76473236084\n",
      "53 -7.68791246414\n",
      "54 -9.0815114975\n",
      "55 -11.1520576477\n",
      "56 -8.27314186096\n",
      "57 -8.28526496887\n",
      "58 -8.59178352356\n",
      "59 -7.41071462631\n",
      "60 -8.13921165466\n",
      "61 -8.10166454315\n",
      "62 -9.5390996933\n",
      "63 -6.37908649445\n",
      "64 -8.33239936829\n",
      "65 -7.65262985229\n",
      "66 -9.6320438385\n",
      "67 -8.36199951172\n",
      "68 -8.29074478149\n",
      "69 -11.1548690796\n",
      "70 -8.83874702454\n",
      "71 -7.46907949448\n",
      "72 -8.21612262726\n",
      "73 -11.0923490524\n",
      "74 -8.7349281311\n",
      "75 -8.91896247864\n",
      "76 -8.62247943878\n",
      "77 -6.68067836761\n",
      "78 -10.3213977814\n",
      "79 -8.5842218399\n",
      "80 -7.16584348679\n",
      "81 -8.34678840637\n",
      "82 -8.29510498047\n",
      "83 -8.6175661087\n",
      "84 -6.87847661972\n",
      "85 -9.59899425507\n",
      "86 -7.70960140228\n",
      "87 -6.60209274292\n",
      "88 -7.82705450058\n",
      "89 -7.96316242218\n",
      "90 -8.635679245\n",
      "91 -6.84405517578\n",
      "92 -6.72579097748\n",
      "93 -8.40571784973\n",
      "94 -6.98850822449\n",
      "95 -10.2332324982\n",
      "96 -10.2876663208\n",
      "97 -7.65204191208\n",
      "98 -8.98169898987\n",
      "99 -8.48456001282\n"
     ]
    }
   ],
   "source": [
    "from gpytorch.inference import Inference\n",
    "import cProfile\n",
    "\n",
    "def log_function(loss, optimizer, observation_model):\n",
    "    return 'Iter: %02d, Loss: %.3f' % (optimizer.n_iter, loss.data[0])\n",
    "\n",
    "infer = Inference(prior_observation_model)\n",
    "posterior_observation_model = infer.run(train_x, train_y,max_inference_steps=100)"
   ]
  },
  {
   "cell_type": "code",
   "execution_count": 12,
   "metadata": {
    "collapsed": false,
    "scrolled": false
   },
   "outputs": [
    {
     "data": {
      "image/png": "[encoded data removed]",
      "text/plain": [
       "<matplotlib.figure.Figure at 0x7f539dbc73d0>"
      ]
     },
     "metadata": {},
     "output_type": "display_data"
    }
   ],
   "source": [
    "f = plot_model_and_predictions(posterior_observation_model)"
   ]
  }
 ],
 "metadata": {
  "anaconda-cloud": {},
  "kernelspec": {
   "display_name": "Python 2",
   "language": "python",
   "name": "python2"
  },
  "language_info": {
   "codemirror_mode": {
    "name": "ipython",
    "version": 2
   },
   "file_extension": ".py",
   "mimetype": "text/x-python",
   "name": "python",
   "nbconvert_exporter": "python",
   "pygments_lexer": "ipython2",
   "version": "2.7.13"
  }
 },
 "nbformat": 4,
 "nbformat_minor": 1
}
