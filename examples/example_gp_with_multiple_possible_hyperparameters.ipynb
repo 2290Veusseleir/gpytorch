{
 "cells": [
  {
   "cell_type": "code",
   "execution_count": 1,
   "metadata": {},
   "outputs": [],
   "source": [
    "import math\n",
    "import torch\n",
    "import gpytorch\n",
    "from matplotlib import pyplot as plt\n",
    "\n",
    "%matplotlib inline\n",
    "%load_ext autoreload\n",
    "%autoreload 2"
   ]
  },
  {
   "cell_type": "markdown",
   "metadata": {},
   "source": [
    "# Data that benefits from sampled hyperparameters\n",
    "\n",
    "Here's an example where using NUTS for hyperparameter sampling could be useful.\n",
    "\n",
    "We have a periodic function, but have observed sparse amounts of data. There are many possible period lengths that could explain this data: it could be a slow periodic function, or a fast one.\n",
    "\n",
    "(Here we're generating some sample data.)"
   ]
  },
  {
   "cell_type": "code",
   "execution_count": 2,
   "metadata": {},
   "outputs": [],
   "source": [
    "# Training data is 11 points in [0,1] inclusive regularly spaced\n",
    "train_x = torch.linspace(0, 2, 7)\n",
    "# True function is sin(2*pi*x) with Gaussian noise\n",
    "train_y = torch.sin(train_x * (2 * math.pi)) + torch.randn(train_x.size()) * 0.1"
   ]
  },
  {
   "cell_type": "code",
   "execution_count": 3,
   "metadata": {},
   "outputs": [
    {
     "data": {
      "text/plain": [
       "<matplotlib.legend.Legend at 0x118c341d0>"
      ]
     },
     "execution_count": 3,
     "metadata": {},
     "output_type": "execute_result"
    },
    {
     "name": "stderr",
     "output_type": "stream",
     "text": [
      "/Users/gpleiss/miniconda3/lib/python3.7/site-packages/matplotlib/font_manager.py:1241: UserWarning: findfont: Font family ['Times'] not found. Falling back to DejaVu Sans.\n",
      "  (prop.get_family(), self.defaultFamily[fontext]))\n",
      "/Users/gpleiss/miniconda3/lib/python3.7/site-packages/matplotlib/font_manager.py:1241: UserWarning: findfont: Font family ['Times'] not found. Falling back to DejaVu Sans.\n",
      "  (prop.get_family(), self.defaultFamily[fontext]))\n"
     ]
    },
    {
     "data": {
      "image/png": "[encoded data removed]",
      "text/plain": [
       "<Figure size 288x216 with 1 Axes>"
      ]
     },
     "metadata": {
      "needs_background": "light"
     },
     "output_type": "display_data"
    }
   ],
   "source": [
    "f, ax = plt.subplots(1, 1, figsize=(4, 3))\n",
    "ax.plot(train_x.numpy(), train_y.numpy(), 'k*')\n",
    "ax.set_ylim([-3, 3])\n",
    "ax.legend(['Observed Data'])"
   ]
  },
  {
   "cell_type": "markdown",
   "metadata": {},
   "source": [
    "## Create the model - w/ batch hyperparameters\n",
    "\n",
    "We will learn a GP with a **periodic kernel**.\n",
    "There are several possible period lengths that explain the data.\n",
    "\n",
    "Here we're going to set the `batch_shape` parameter to have size 2.\n",
    "This way, our model will learn two sets of hyperparameters for the data.\n",
    "\n",
    "- The input will be a tensor of the data `n x d` (or in this case, of size `n`).\n",
    "- The output will be a MultivariateNormal distribution with event shape `n` and batch size `2`.\n",
    "    - The two batch dimensions correspond to predictions from the model with the different hyperparameter settings."
   ]
  },
  {
   "cell_type": "code",
   "execution_count": 4,
   "metadata": {},
   "outputs": [],
   "source": [
    "# This model class takes in a `batch_shape` parameter - which allows us to define batches of hyperparameters\n",
    "\n",
    "class ExactGPModel(gpytorch.models.ExactGP):\n",
    "    def __init__(self, train_x, train_y, likelihood, batch_shape=torch.Size()):\n",
    "        super(ExactGPModel, self).__init__(train_x, train_y, likelihood)\n",
    "        self.mean_module = gpytorch.means.ConstantMean(\n",
    "            batch_shape=batch_shape,\n",
    "        )\n",
    "        self.covar_module = gpytorch.kernels.ScaleKernel(\n",
    "            gpytorch.kernels.PeriodicKernel(batch_shape=batch_shape),\n",
    "            batch_shape=batch_shape\n",
    "        )\n",
    "    \n",
    "    def forward(self, x):\n",
    "        mean_x = self.mean_module(x)\n",
    "        covar_x = self.covar_module(x)\n",
    "        return gpytorch.distributions.MultivariateNormal(mean_x, covar_x)"
   ]
  },
  {
   "cell_type": "code",
   "execution_count": 5,
   "metadata": {},
   "outputs": [
    {
     "data": {
      "text/plain": [
       "PeriodicKernel(\n",
       "  (raw_lengthscale_constraint): Positive()\n",
       "  (raw_period_length_constraint): Positive()\n",
       ")"
      ]
     },
     "execution_count": 5,
     "metadata": {},
     "output_type": "execute_result"
    }
   ],
   "source": [
    "likelihood = gpytorch.likelihoods.GaussianLikelihood()\n",
    "model = ExactGPModel(train_x, train_y, likelihood, batch_shape=torch.Size([2]))\n",
    "\n",
    "# Here - we'll do some initializtion of the two period lengths\n",
    "# so that our optimization finds two different modes\n",
    "model.covar_module.base_kernel.initialize(period_length=torch.tensor([0.5, 1]))"
   ]
  },
  {
   "cell_type": "markdown",
   "metadata": {},
   "source": [
    "## Optimize the hyperparameters"
   ]
  },
  {
   "cell_type": "code",
   "execution_count": 6,
   "metadata": {},
   "outputs": [
    {
     "name": "stdout",
     "output_type": "stream",
     "text": [
      "Iter 20/200 - Loss: 1.7074110507965088\n",
      "Iter 40/200 - Loss: 1.2099368572235107\n",
      "Iter 60/200 - Loss: 0.6876959800720215\n",
      "Iter 80/200 - Loss: 0.2602965533733368\n",
      "Iter 100/200 - Loss: 0.0099252974614501\n",
      "Iter 120/200 - Loss: -0.027971608564257622\n",
      "Iter 140/200 - Loss: -0.04652724787592888\n",
      "Iter 160/200 - Loss: 0.042036399245262146\n",
      "Iter 180/200 - Loss: 0.38634079694747925\n",
      "Iter 200/200 - Loss: 0.06193072348833084\n",
      "CPU times: user 404 ms, sys: 9.55 ms, total: 413 ms\n",
      "Wall time: 423 ms\n"
     ]
    }
   ],
   "source": [
    "model.train()\n",
    "likelihood.train()\n",
    "\n",
    "optimizer = torch.optim.Adam([\n",
    "    {'params': model.parameters()},  # Includes GaussianLikelihood parameters\n",
    "], lr=0.05)\n",
    "mll = gpytorch.mlls.ExactMarginalLogLikelihood(likelihood, model)\n",
    "\n",
    "def train(num_iter=200):\n",
    "    for i in range(num_iter):\n",
    "        optimizer.zero_grad()\n",
    "        output = model(train_x)\n",
    "        loss = -mll(output, train_y).sum()\n",
    "        loss.backward()\n",
    "        if (i + 1) % 20 == 0:\n",
    "            print(f'Iter {i + 1}/{num_iter} - Loss: {loss.item()}')\n",
    "        optimizer.step()\n",
    "        \n",
    "%time train()"
   ]
  },
  {
   "cell_type": "markdown",
   "metadata": {},
   "source": [
    "## Make predictions\n",
    "\n",
    "We'll make predictions using both sets of learned hyperparameters, and compare the different predictions. "
   ]
  },
  {
   "cell_type": "code",
   "execution_count": 7,
   "metadata": {},
   "outputs": [],
   "source": [
    "model.eval()\n",
    "likelihood.eval()\n",
    "\n",
    "with torch.no_grad(), gpytorch.settings.fast_pred_var():\n",
    "    test_x = torch.linspace(0, 2, 32)\n",
    "    observed_preds = likelihood(model(test_x))\n",
    "    \n",
    "    # Get the means and the confidence region\n",
    "    # Batch dimension corresponds to the different hyperparameter settings\n",
    "    means = observed_preds.mean  # Tensor of size [2 x 32]\n",
    "    lowers, uppers = observed_preds.confidence_region() # Tensors of size [2 x 32]"
   ]
  },
  {
   "cell_type": "code",
   "execution_count": 8,
   "metadata": {},
   "outputs": [
    {
     "data": {
      "image/png": "[encoded data removed]",
      "text/plain": [
       "<Figure size 576x216 with 2 Axes>"
      ]
     },
     "metadata": {
      "needs_background": "light"
     },
     "output_type": "display_data"
    }
   ],
   "source": [
    "f, axs = plt.subplots(1, 2, figsize=(8, 3))\n",
    "    \n",
    "for i, ax in enumerate(axs):\n",
    "    ax.plot(train_x.numpy(), train_y.numpy(), 'k*')\n",
    "    ax.plot(test_x.numpy(), means[i].numpy(), 'b')\n",
    "    ax.fill_between(test_x.numpy(), lowers[i], uppers[i], alpha=0.5)\n",
    "    ax.set_ylim([-3, 3])\n",
    "    ax.legend(['Observed Data', 'Mean', 'Confidence'])\n",
    "    ax.set_title(\n",
    "        f'Hyperparameter Settings {i + 1}\\n'\n",
    "        f'Period Length: {model.covar_module.base_kernel.period_length[i].squeeze().item()}'\n",
    "    )"
   ]
  },
  {
   "cell_type": "code",
   "execution_count": null,
   "metadata": {},
   "outputs": [],
   "source": []
  },
  {
   "cell_type": "code",
   "execution_count": null,
   "metadata": {},
   "outputs": [],
   "source": []
  }
 ],
 "metadata": {
  "kernelspec": {
   "display_name": "Python 3",
   "language": "python",
   "name": "python3"
  },
  "language_info": {
   "codemirror_mode": {
    "name": "ipython",
    "version": 3
   },
   "file_extension": ".py",
   "mimetype": "text/x-python",
   "name": "python",
   "nbconvert_exporter": "python",
   "pygments_lexer": "ipython3",
   "version": "3.7.1"
  }
 },
 "nbformat": 4,
 "nbformat_minor": 2
}
