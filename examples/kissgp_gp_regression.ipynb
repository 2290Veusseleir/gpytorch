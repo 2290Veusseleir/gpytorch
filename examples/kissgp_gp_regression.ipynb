{
 "cells": [
  {
   "cell_type": "code",
   "execution_count": 1,
   "metadata": {
    "collapsed": true
   },
   "outputs": [],
   "source": [
    "import math\n",
    "import torch\n",
    "import gpytorch\n",
    "from matplotlib import pyplot as plt\n",
    "from torch import nn, optim\n",
    "from torch.autograd import Variable\n",
    "from gpytorch.kernels import RBFKernel, GridInterpolationKernel\n",
    "from gpytorch.means import ConstantMean\n",
    "from gpytorch.likelihoods import GaussianLikelihood\n",
    "from gpytorch.random_variables import GaussianRandomVariable\n",
    "\n",
    "# Make plots inline\n",
    "%matplotlib inline"
   ]
  },
  {
   "cell_type": "code",
   "execution_count": 2,
   "metadata": {
    "collapsed": true
   },
   "outputs": [],
   "source": [
    "# Training points are in [0,1] every 1/999\n",
    "train_x = Variable(torch.linspace(0, 1, 1000))\n",
    "# Function to model is sin(4*pi*x)\n",
    "# Gaussian noise from N(0,0.04)\n",
    "train_y = Variable(torch.sin(train_x.data * (4 * math.pi)) + torch.randn(train_x.size()) * 0.2)"
   ]
  },
  {
   "cell_type": "code",
   "execution_count": 3,
   "metadata": {
    "collapsed": true
   },
   "outputs": [],
   "source": [
    "# We use exact GP inference for regression\n",
    "class GPRegressionModel(gpytorch.models.ExactGP):\n",
    "    def __init__(self, train_x, train_y, likelihood):\n",
    "        super(GPRegressionModel, self).__init__(train_x, train_y, likelihood)\n",
    "        self.mean_module = ConstantMean(constant_bounds=[-1e-5,1e-5])\n",
    "        # Put a grid interpolation kernel over the RBF kernel\n",
    "        self.base_covar_module = RBFKernel(log_lengthscale_bounds=(-5, 6))\n",
    "        self.covar_module = GridInterpolationKernel(self.base_covar_module, grid_size=400,\n",
    "                                                            grid_bounds=[(0, 1)])\n",
    "        # Register kernel lengthscale as parameter\n",
    "        self.register_parameter('log_outputscale', nn.Parameter(torch.Tensor([0])), bounds=(-5,6))\n",
    "        \n",
    "    def forward(self,x):\n",
    "        mean_x = self.mean_module(x)\n",
    "        covar_x = self.covar_module(x)\n",
    "        covar_x = covar_x.mul(self.log_outputscale.exp())\n",
    "        return GaussianRandomVariable(mean_x, covar_x)\n",
    "\n",
    "# The likelihood output is a Gaussian with predictive mean and variance\n",
    "likelihood = GaussianLikelihood()\n",
    "# Initialize our model\n",
    "model = GPRegressionModel(train_x.data, train_y.data, likelihood)"
   ]
  },
  {
   "cell_type": "code",
   "execution_count": 4,
   "metadata": {},
   "outputs": [
    {
     "name": "stdout",
     "output_type": "stream",
     "text": [
      "Iter 1/30 - Loss: 1.155\n",
      "Iter 2/30 - Loss: 1.092\n",
      "Iter 3/30 - Loss: 1.043\n",
      "Iter 4/30 - Loss: 1.004\n",
      "Iter 5/30 - Loss: 0.972\n",
      "Iter 6/30 - Loss: 0.951\n",
      "Iter 7/30 - Loss: 0.938\n",
      "Iter 8/30 - Loss: 0.932\n",
      "Iter 9/30 - Loss: 0.906\n",
      "Iter 10/30 - Loss: 0.875\n",
      "Iter 11/30 - Loss: 0.825\n",
      "Iter 12/30 - Loss: 0.760\n",
      "Iter 13/30 - Loss: 0.679\n",
      "Iter 14/30 - Loss: 0.574\n",
      "Iter 15/30 - Loss: 0.454\n",
      "Iter 16/30 - Loss: 0.331\n",
      "Iter 17/30 - Loss: 0.213\n",
      "Iter 18/30 - Loss: 0.103\n",
      "Iter 19/30 - Loss: 0.012\n",
      "Iter 20/30 - Loss: -0.056\n",
      "Iter 21/30 - Loss: -0.108\n",
      "Iter 22/30 - Loss: -0.134\n",
      "Iter 23/30 - Loss: -0.148\n",
      "Iter 24/30 - Loss: -0.132\n",
      "Iter 25/30 - Loss: -0.122\n",
      "Iter 26/30 - Loss: -0.113\n",
      "Iter 27/30 - Loss: -0.105\n",
      "Iter 28/30 - Loss: -0.128\n",
      "Iter 29/30 - Loss: -0.133\n",
      "Iter 30/30 - Loss: -0.151\n"
     ]
    }
   ],
   "source": [
    "# Optimize the model\n",
    "model.train()\n",
    "likelihood.train()\n",
    "\n",
    "# Adam optimizer on both the model and likelihood parametres\n",
    "optimizer = optim.Adam(list(model.parameters()) + list(likelihood.parameters()), lr=0.1)\n",
    "optimizer.n_iter = 0\n",
    "training_iterations = 30\n",
    "for i in range(training_iterations):\n",
    "    # Zero backprop gradients\n",
    "    optimizer.zero_grad()\n",
    "    # Get output from model\n",
    "    output = model(train_x)\n",
    "    # Calc loss and backprop derivatives\n",
    "    loss = -model.marginal_log_likelihood(likelihood, output, train_y)\n",
    "    loss.backward()\n",
    "    optimizer.n_iter += 1\n",
    "    print('Iter %d/%d - Loss: %.3f' % (i + 1, training_iterations, loss.data[0]))\n",
    "    optimizer.step()"
   ]
  },
  {
   "cell_type": "code",
   "execution_count": 5,
   "metadata": {},
   "outputs": [
    {
     "data": {
      "image/png": "[encoded data removed]",
      "text/plain": [
       "<matplotlib.figure.Figure at 0x7fab423a9f50>"
      ]
     },
     "metadata": {},
     "output_type": "display_data"
    }
   ],
   "source": [
    "# Put model & likelihood into eval mode\n",
    "model.eval()\n",
    "likelihood.eval()\n",
    "\n",
    "# Initalize plot\n",
    "f, observed_ax = plt.subplots(1, 1, figsize=(4, 3))\n",
    "# Test points every 0.02 in [0,1] inclusive\n",
    "test_x = Variable(torch.linspace(0, 1, 51))\n",
    "# Make predictions\n",
    "observed_pred = likelihood(model(test_x))\n",
    "\n",
    "# Define plotting function\n",
    "def ax_plot(ax, rand_var, title):\n",
    "    # Get lower and upper predictive bounds\n",
    "    lower, upper = rand_var.confidence_region()\n",
    "    # Plot the training data as black stars\n",
    "    ax.plot(train_x.data.numpy(), train_y.data.numpy(), 'k*')\n",
    "    # Plot predictive means as blue line\n",
    "    ax.plot(test_x.data.numpy(), rand_var.mean().data.numpy(), 'b')\n",
    "    # Plot confidence bounds as lightly shaded region\n",
    "    ax.fill_between(test_x.data.numpy(), lower.data.numpy(), upper.data.numpy(), alpha=0.5)\n",
    "    ax.set_ylim([-3, 3])\n",
    "    ax.legend(['Observed Data', 'Mean', 'Confidence'])\n",
    "    ax.set_title(title)\n",
    "\n",
    "ax_plot(observed_ax, observed_pred, 'Observed Values (Likelihood)')"
   ]
  }
 ],
 "metadata": {
  "anaconda-cloud": {},
  "kernelspec": {
   "display_name": "Python 2",
   "language": "python",
   "name": "python2"
  },
  "language_info": {
   "codemirror_mode": {
    "name": "ipython",
    "version": 2
   },
   "file_extension": ".py",
   "mimetype": "text/x-python",
   "name": "python",
   "nbconvert_exporter": "python",
   "pygments_lexer": "ipython2",
   "version": "2.7.14"
  }
 },
 "nbformat": 4,
 "nbformat_minor": 2
}
