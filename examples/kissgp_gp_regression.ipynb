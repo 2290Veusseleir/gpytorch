{
 "cells": [
  {
   "cell_type": "markdown",
   "metadata": {},
   "source": [
    "This example shows how to use a `GridInterpolationKernel` module on an `ExactGP` model. This regression module is designed for when the inputs of the function you're modeling are one-dimensional.\n",
    "\n",
    "The use of inducing points allows for scaling up the training data by making computational complexity linear instead of cubic.\n",
    "\n",
    "Function to be modeled is  y=sin(4*pi*x)\n",
    "\n",
    "GridInterpolationKernel exploits the regular grid structure of linspace for Toeplitz covariances.\n",
    "\n",
    "This notebook doesn't use cuda, in general we recommend GPU use if possible and most of our notebooks utilize cuda as well.\n",
    "\n",
    "Kernel interpolation for scalable structured Gaussian processes (KISS-GP) was introduced in this paper:\n",
    "http://proceedings.mlr.press/v37/wilson15.pdf"
   ]
  },
  {
   "cell_type": "code",
   "execution_count": 1,
   "metadata": {},
   "outputs": [],
   "source": [
    "import math\n",
    "import torch\n",
    "import gpytorch\n",
    "from matplotlib import pyplot as plt\n",
    "from torch import nn, optim\n",
    "from torch.autograd import Variable\n",
    "from gpytorch.kernels import RBFKernel, GridInterpolationKernel\n",
    "from gpytorch.means import ConstantMean\n",
    "from gpytorch.likelihoods import GaussianLikelihood\n",
    "from gpytorch.random_variables import GaussianRandomVariable\n",
    "\n",
    "# Make plots inline\n",
    "%matplotlib inline"
   ]
  },
  {
   "cell_type": "code",
   "execution_count": 2,
   "metadata": {},
   "outputs": [],
   "source": [
    "# Training points are in [0,1] every 1/999\n",
    "train_x = Variable(torch.linspace(0, 1, 1000))\n",
    "# Function to model is sin(4*pi*x)\n",
    "# Gaussian noise from N(0,0.04)\n",
    "train_y = Variable(torch.sin(train_x.data * (4 * math.pi)) + torch.randn(train_x.size()) * 0.2)"
   ]
  },
  {
   "cell_type": "code",
   "execution_count": 3,
   "metadata": {},
   "outputs": [],
   "source": [
    "# We use exact GP inference for regression\n",
    "class GPRegressionModel(gpytorch.models.ExactGP):\n",
    "    def __init__(self, train_x, train_y, likelihood):\n",
    "        super(GPRegressionModel, self).__init__(train_x, train_y, likelihood)\n",
    "        self.mean_module = ConstantMean(constant_bounds=[-1e-5,1e-5])\n",
    "        # Put a grid interpolation kernel over the RBF kernel\n",
    "        self.base_covar_module = RBFKernel(log_lengthscale_bounds=(-5, 6))\n",
    "        self.covar_module = GridInterpolationKernel(self.base_covar_module, grid_size=400,\n",
    "                                                            grid_bounds=[(0, 1)])\n",
    "        # Register kernel lengthscale as parameter\n",
    "        self.register_parameter('log_outputscale', nn.Parameter(torch.Tensor([0])), bounds=(-5,6))\n",
    "        \n",
    "    def forward(self,x):\n",
    "        mean_x = self.mean_module(x)\n",
    "        covar_x = self.covar_module(x)\n",
    "        covar_x = covar_x.mul(self.log_outputscale.exp())\n",
    "        return GaussianRandomVariable(mean_x, covar_x)\n",
    "\n",
    "# The likelihood output is a Gaussian with predictive mean and variance\n",
    "likelihood = GaussianLikelihood()\n",
    "# Initialize our model\n",
    "model = GPRegressionModel(train_x.data, train_y.data, likelihood)"
   ]
  },
  {
   "cell_type": "code",
   "execution_count": 4,
   "metadata": {},
   "outputs": [
    {
     "name": "stdout",
     "output_type": "stream",
     "text": [
      "Iter 1/30 - Loss: 1.138\n",
      "Iter 2/30 - Loss: 1.156\n",
      "Iter 3/30 - Loss: 1.173\n",
      "Iter 4/30 - Loss: 1.192\n",
      "Iter 5/30 - Loss: 1.211\n",
      "Iter 6/30 - Loss: 1.231\n",
      "Iter 7/30 - Loss: 1.252\n",
      "Iter 8/30 - Loss: 1.274\n",
      "Iter 9/30 - Loss: 1.293\n",
      "Iter 10/30 - Loss: 1.305\n",
      "Iter 11/30 - Loss: 1.308\n",
      "Iter 12/30 - Loss: 1.295\n",
      "Iter 13/30 - Loss: 1.265\n",
      "Iter 14/30 - Loss: 1.220\n",
      "Iter 15/30 - Loss: 1.170\n",
      "Iter 16/30 - Loss: 1.128\n",
      "Iter 17/30 - Loss: 1.097\n",
      "Iter 18/30 - Loss: 1.078\n",
      "Iter 19/30 - Loss: 1.068\n",
      "Iter 20/30 - Loss: 1.065\n",
      "Iter 21/30 - Loss: 1.069\n",
      "Iter 22/30 - Loss: 1.077\n",
      "Iter 23/30 - Loss: 1.090\n",
      "Iter 24/30 - Loss: 1.106\n",
      "Iter 25/30 - Loss: 1.125\n",
      "Iter 26/30 - Loss: 1.147\n",
      "Iter 27/30 - Loss: 1.172\n",
      "Iter 28/30 - Loss: 1.199\n",
      "Iter 29/30 - Loss: 1.229\n",
      "Iter 30/30 - Loss: 1.261\n"
     ]
    }
   ],
   "source": [
    "# Find optimal model hyperparameters\n",
    "model.train()\n",
    "likelihood.train()\n",
    "\n",
    "# Use the adam optimizer\n",
    "optimizer = torch.optim.Adam([\n",
    "    {'params': model.parameters()},  # Includes GaussianLikelihood parameters\n",
    "], lr=0.1)\n",
    "\n",
    "# \"Loss\" for GPs - the marginal log likelihood\n",
    "mll = gpytorch.mlls.ExactMarginalLogLikelihood(likelihood, model)\n",
    "\n",
    "training_iterations = 30\n",
    "for i in range(training_iterations):\n",
    "    # Zero backprop gradients\n",
    "    optimizer.zero_grad()\n",
    "    # Get output from model\n",
    "    output = model(train_x)\n",
    "    # Calc loss and backprop derivatives\n",
    "    loss = -mll(output, train_y)\n",
    "    loss.backward()\n",
    "    print('Iter %d/%d - Loss: %.3f' % (i + 1, training_iterations, loss.data[0]))\n",
    "    optimizer.step()"
   ]
  },
  {
   "cell_type": "code",
   "execution_count": 5,
   "metadata": {},
   "outputs": [
    {
     "data": {
      "image/png": "[encoded data removed]",
      "text/plain": [
       "<matplotlib.figure.Figure at 0x7f7684416898>"
      ]
     },
     "metadata": {},
     "output_type": "display_data"
    }
   ],
   "source": [
    "# Put model & likelihood into eval mode\n",
    "model.eval()\n",
    "likelihood.eval()\n",
    "\n",
    "# Initalize plot\n",
    "f, observed_ax = plt.subplots(1, 1, figsize=(4, 3))\n",
    "# Test points every 0.02 in [0,1] inclusive\n",
    "test_x = Variable(torch.linspace(0, 1, 51))\n",
    "\n",
    "# To make the predictions as accurate as possible, we're going to use lots of iterations of Conjugate Gradients\n",
    "# This ensures that the matrix solves are as accurate as possible\n",
    "with gpytorch.settings.max_cg_iterations(100):\n",
    "    observed_pred = likelihood(model(test_x))\n",
    "\n",
    "# Define plotting function\n",
    "def ax_plot(ax, rand_var, title):\n",
    "    # Get lower and upper predictive bounds\n",
    "    lower, upper = rand_var.confidence_region()\n",
    "    # Plot the training data as black stars\n",
    "    ax.plot(train_x.data.numpy(), train_y.data.numpy(), 'k*')\n",
    "    # Plot predictive means as blue line\n",
    "    ax.plot(test_x.data.numpy(), rand_var.mean().data.numpy(), 'b')\n",
    "    # Plot confidence bounds as lightly shaded region\n",
    "    ax.fill_between(test_x.data.numpy(), lower.data.numpy(), upper.data.numpy(), alpha=0.5)\n",
    "    ax.set_ylim([-3, 3])\n",
    "    ax.legend(['Observed Data', 'Mean', 'Confidence'])\n",
    "    ax.set_title(title)\n",
    "\n",
    "ax_plot(observed_ax, observed_pred, 'Observed Values (Likelihood)')"
   ]
  }
 ],
 "metadata": {
  "anaconda-cloud": {},
  "kernelspec": {
   "display_name": "Python 3",
   "language": "python",
   "name": "python3"
  },
  "language_info": {
   "codemirror_mode": {
    "name": "ipython",
    "version": 3
   },
   "file_extension": ".py",
   "mimetype": "text/x-python",
   "name": "python",
   "nbconvert_exporter": "python",
   "pygments_lexer": "ipython3",
   "version": "3.6.4"
  }
 },
 "nbformat": 4,
 "nbformat_minor": 2
}
