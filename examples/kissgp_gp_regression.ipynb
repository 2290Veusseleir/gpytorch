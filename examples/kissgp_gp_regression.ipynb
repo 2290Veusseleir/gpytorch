{
 "cells": [
  {
   "cell_type": "code",
   "execution_count": 1,
   "metadata": {
    "collapsed": false
   },
   "outputs": [],
   "source": [
    "import math\n",
    "import torch\n",
    "import gpytorch\n",
    "from matplotlib import pyplot as plt\n",
    "\n",
    "%matplotlib inline\n",
    "%load_ext autoreload\n",
    "%autoreload 2"
   ]
  },
  {
   "cell_type": "code",
   "execution_count": 2,
   "metadata": {
    "collapsed": true
   },
   "outputs": [],
   "source": [
    "from torch.autograd import Variable\n",
    "train_x = Variable(torch.linspace(0, 1, 11))\n",
    "train_y = Variable(torch.sin(train_x.data * (2 * math.pi)) + torch.randn(train_x.size()) * 0.2)"
   ]
  },
  {
   "cell_type": "code",
   "execution_count": 3,
   "metadata": {
    "collapsed": true
   },
   "outputs": [],
   "source": [
    "from torch import nn, optim\n",
    "from gpytorch.kernels import RBFKernel, GridInterpolationKernel\n",
    "from gpytorch.means import ConstantMean\n",
    "from gpytorch.likelihoods import GaussianLikelihood\n",
    "from gpytorch.random_variables import GaussianRandomVariable"
   ]
  },
  {
   "cell_type": "code",
   "execution_count": 6,
   "metadata": {
    "collapsed": false
   },
   "outputs": [],
   "source": [
    "class KissGPModel(gpytorch.GPModel):\n",
    "    def __init__(self):\n",
    "        super(KissGPModel, self).__init__(GaussianLikelihood())\n",
    "        self.mean_module = ConstantMean()\n",
    "        covar_module = RBFKernel()\n",
    "        self.grid_covar_module = GridInterpolationKernel(covar_module, 50)\n",
    "        self.register_parameter('log_noise', nn.Parameter(torch.Tensor([0])), bounds=(-5,5))\n",
    "        self.register_parameter('log_lengthscale', nn.Parameter(torch.Tensor([0])), bounds=(-5, 5))\n",
    "\n",
    "    def forward(self, x):\n",
    "        mean_x = self.mean_module(x, constant=Variable(torch.Tensor([0])))\n",
    "        covar_x = self.grid_covar_module(x, log_lengthscale=self.log_lengthscale)\n",
    "        latent_pred = GaussianRandomVariable(mean_x, covar_x)\n",
    "        return latent_pred, self.log_noise\n",
    "\n",
    "prior_model = KissGPModel()"
   ]
  },
  {
   "cell_type": "code",
   "execution_count": 9,
   "metadata": {
    "collapsed": true
   },
   "outputs": [],
   "source": [
    "def plot_model_and_predictions(model, plot_train_data=True):\n",
    "    f, observed_ax = plt.subplots(1, 1, figsize=(4, 3))\n",
    "    test_x = Variable(torch.linspace(0, 1, 51))\n",
    "    observed_pred = model(test_x)\n",
    "\n",
    "    def ax_plot(ax, rand_var, title):\n",
    "        lower, upper = rand_var.confidence_region()\n",
    "        if plot_train_data:\n",
    "            ax.plot(train_x.data.numpy(), train_y.data.numpy(), 'k*')\n",
    "        ax.plot(test_x.data.numpy(), rand_var.mean().data.numpy(), 'b')\n",
    "        ax.fill_between(test_x.data.numpy(), lower.data.numpy(), upper.data.numpy(), alpha=0.5)\n",
    "        ax.set_ylim([-3, 3])\n",
    "        ax.legend(['Observed Data', 'Mean', 'Confidence'])\n",
    "        ax.set_title(title)\n",
    "    \n",
    "    ax_plot(observed_ax, observed_pred, 'Observed Values (Likelihood)')\n",
    "    \n",
    "    return f"
   ]
  },
  {
   "cell_type": "code",
   "execution_count": 10,
   "metadata": {
    "collapsed": false,
    "scrolled": true
   },
   "outputs": [
    {
     "data": {
      "image/png": "[encoded data removed]",
      "text/plain": [
       "<matplotlib.figure.Figure at 0x11351b110>"
      ]
     },
     "metadata": {},
     "output_type": "display_data"
    }
   ],
   "source": [
    "fig = plot_model_and_predictions(prior_model, plot_train_data=False)"
   ]
  },
  {
   "cell_type": "code",
   "execution_count": 11,
   "metadata": {
    "collapsed": false,
    "scrolled": false
   },
   "outputs": [
    {
     "name": "stderr",
     "output_type": "stream",
     "text": [
      "/Users/gpleiss/Dropbox/workspace/gpytorch/gpytorch/kernels/rbf_kernel.py:41: UserWarning: other is not broadcastable to self, but they have the same number of elements.  Falling back to deprecated pointwise behavior.\n",
      "  grad.mul_(grad_output.transpose(0, 1))\n"
     ]
    },
    {
     "name": "stdout",
     "output_type": "stream",
     "text": [
      "Iter 1/20 - Loss: 12.720   log_lengthscale: 0.000   log_noise: 0.000\n",
      "Iter 2/20 - Loss: 13.112   log_lengthscale: 0.100   log_noise: -0.100\n",
      "Iter 3/20 - Loss: 12.647   log_lengthscale: 0.199   log_noise: -0.199\n",
      "Iter 4/20 - Loss: 12.625   log_lengthscale: 0.273   log_noise: -0.298\n",
      "Iter 5/20 - Loss: 12.093   log_lengthscale: 0.293   log_noise: -0.396\n",
      "Iter 6/20 - Loss: 12.597   log_lengthscale: 0.342   log_noise: -0.494\n",
      "Iter 7/20 - Loss: 11.230   log_lengthscale: 0.378   log_noise: -0.589\n",
      "Iter 8/20 - Loss: 12.233   log_lengthscale: 0.418   log_noise: -0.684\n",
      "Iter 9/20 - Loss: 12.913   log_lengthscale: 0.472   log_noise: -0.776\n",
      "Iter 10/20 - Loss: 11.062   log_lengthscale: 0.497   log_noise: -0.863\n",
      "Iter 11/20 - Loss: 11.893   log_lengthscale: 0.503   log_noise: -0.948\n",
      "Iter 12/20 - Loss: 12.343   log_lengthscale: 0.498   log_noise: -1.027\n",
      "Iter 13/20 - Loss: 11.815   log_lengthscale: 0.479   log_noise: -1.100\n",
      "Iter 14/20 - Loss: 11.916   log_lengthscale: 0.459   log_noise: -1.166\n",
      "Iter 15/20 - Loss: 11.055   log_lengthscale: 0.417   log_noise: -1.224\n",
      "Iter 16/20 - Loss: 12.604   log_lengthscale: 0.370   log_noise: -1.274\n",
      "Iter 17/20 - Loss: 10.932   log_lengthscale: 0.322   log_noise: -1.314\n",
      "Iter 18/20 - Loss: 13.399   log_lengthscale: 0.257   log_noise: -1.346\n",
      "Iter 19/20 - Loss: 11.832   log_lengthscale: 0.188   log_noise: -1.365\n",
      "Iter 20/20 - Loss: 10.856   log_lengthscale: 0.112   log_noise: -1.375\n",
      "Iter 21/20 - Loss: 13.397   log_lengthscale: 0.027   log_noise: -1.379\n",
      "Iter 22/20 - Loss: 10.319   log_lengthscale: -0.065   log_noise: -1.373\n",
      "Iter 23/20 - Loss: 10.419   log_lengthscale: -0.158   log_noise: -1.364\n",
      "Iter 24/20 - Loss: 10.782   log_lengthscale: -0.257   log_noise: -1.355\n",
      "Iter 25/20 - Loss: 11.142   log_lengthscale: -0.361   log_noise: -1.343\n",
      "Iter 26/20 - Loss: 11.157   log_lengthscale: -0.469   log_noise: -1.332\n",
      "Iter 27/20 - Loss: 11.035   log_lengthscale: -0.579   log_noise: -1.321\n",
      "Iter 28/20 - Loss: 10.491   log_lengthscale: -0.692   log_noise: -1.313\n",
      "Iter 29/20 - Loss: 11.086   log_lengthscale: -0.809   log_noise: -1.311\n",
      "Iter 30/20 - Loss: 10.427   log_lengthscale: -0.927   log_noise: -1.314\n",
      "Iter 31/20 - Loss: 10.601   log_lengthscale: -1.048   log_noise: -1.323\n",
      "Iter 32/20 - Loss: 9.118   log_lengthscale: -1.170   log_noise: -1.341\n",
      "Iter 33/20 - Loss: 10.475   log_lengthscale: -1.296   log_noise: -1.371\n",
      "Iter 34/20 - Loss: 8.583   log_lengthscale: -1.423   log_noise: -1.409\n",
      "Iter 35/20 - Loss: 9.493   log_lengthscale: -1.550   log_noise: -1.459\n",
      "Iter 36/20 - Loss: 10.118   log_lengthscale: -1.677   log_noise: -1.517\n",
      "Iter 37/20 - Loss: 9.649   log_lengthscale: -1.803   log_noise: -1.582\n",
      "Iter 38/20 - Loss: 8.478   log_lengthscale: -1.924   log_noise: -1.652\n",
      "Iter 39/20 - Loss: 10.648   log_lengthscale: -2.041   log_noise: -1.730\n",
      "Iter 40/20 - Loss: 6.507   log_lengthscale: -2.153   log_noise: -1.810\n",
      "Iter 41/20 - Loss: 7.154   log_lengthscale: -2.250   log_noise: -1.898\n",
      "Iter 42/20 - Loss: 7.915   log_lengthscale: -2.320   log_noise: -1.989\n",
      "Iter 43/20 - Loss: 6.133   log_lengthscale: -2.368   log_noise: -2.084\n",
      "Iter 44/20 - Loss: 7.387   log_lengthscale: -2.405   log_noise: -2.182\n",
      "Iter 45/20 - Loss: 6.171   log_lengthscale: -2.440   log_noise: -2.280\n",
      "Iter 46/20 - Loss: 7.924   log_lengthscale: -2.458   log_noise: -2.380\n",
      "Iter 47/20 - Loss: 7.424   log_lengthscale: -2.462   log_noise: -2.478\n",
      "Iter 48/20 - Loss: 6.888   log_lengthscale: -2.445   log_noise: -2.575\n",
      "Iter 49/20 - Loss: 7.839   log_lengthscale: -2.422   log_noise: -2.671\n",
      "Iter 50/20 - Loss: 8.465   log_lengthscale: -2.396   log_noise: -2.765\n"
     ]
    }
   ],
   "source": [
    "from gpytorch.inference import Inference\n",
    "infer = Inference(prior_model)\n",
    "posterior_model = infer.run(train_x, train_y)\n",
    "\n",
    "# Find optimal model hyperparameters\n",
    "posterior_model.train()\n",
    "optimizer = optim.Adam(posterior_model.parameters(), lr=0.1)\n",
    "optimizer.n_iter = 0\n",
    "for i in range(50):\n",
    "    optimizer.zero_grad()\n",
    "    output = posterior_model(train_x)\n",
    "    loss = -posterior_model.marginal_log_likelihood(output, train_y)\n",
    "    loss.backward()\n",
    "    optimizer.n_iter += 1\n",
    "    print('Iter %d/20 - Loss: %.3f   log_lengthscale: %.3f   log_noise: %.3f' % (\n",
    "        i + 1, loss.data[0],\n",
    "        posterior_model.prior_model.log_lengthscale.data[0],\n",
    "        posterior_model.prior_model.log_noise.data[0]\n",
    "    ))\n",
    "    optimizer.step()\n",
    "    \n",
    "# Set back to eval mode\n",
    "posterior_model.eval()\n",
    "None"
   ]
  },
  {
   "cell_type": "code",
   "execution_count": 13,
   "metadata": {
    "collapsed": false,
    "scrolled": false
   },
   "outputs": [
    {
     "data": {
      "image/png": "[encoded data removed]",
      "text/plain": [
       "<matplotlib.figure.Figure at 0x113506fd0>"
      ]
     },
     "metadata": {},
     "output_type": "display_data"
    }
   ],
   "source": [
    "fig = plot_model_and_predictions(posterior_model)"
   ]
  },
  {
   "cell_type": "code",
   "execution_count": null,
   "metadata": {
    "collapsed": true
   },
   "outputs": [],
   "source": []
  }
 ],
 "metadata": {
  "anaconda-cloud": {},
  "kernelspec": {
   "display_name": "Python [default]",
   "language": "python",
   "name": "python2"
  },
  "language_info": {
   "codemirror_mode": {
    "name": "ipython",
    "version": 2
   },
   "file_extension": ".py",
   "mimetype": "text/x-python",
   "name": "python",
   "nbconvert_exporter": "python",
   "pygments_lexer": "ipython2",
   "version": "2.7.12"
  }
 },
 "nbformat": 4,
 "nbformat_minor": 1
}
