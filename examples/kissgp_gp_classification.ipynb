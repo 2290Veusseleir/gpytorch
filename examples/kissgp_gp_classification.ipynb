{
 "cells": [
  {
   "cell_type": "code",
   "execution_count": 1,
   "metadata": {
    "collapsed": true
   },
   "outputs": [],
   "source": [
    "import math\n",
    "import torch\n",
    "import gpytorch\n",
    "from matplotlib import pyplot as plt\n",
    "\n",
    "%matplotlib inline\n",
    "%load_ext autoreload\n",
    "%autoreload 2"
   ]
  },
  {
   "cell_type": "code",
   "execution_count": 2,
   "metadata": {
    "collapsed": true
   },
   "outputs": [],
   "source": [
    "from torch.autograd import Variable\n",
    "train_x = Variable(torch.linspace(0, 1, 26))\n",
    "train_y = Variable(torch.sign(torch.cos(train_x.data * (8 * math.pi))))"
   ]
  },
  {
   "cell_type": "code",
   "execution_count": 3,
   "metadata": {
    "collapsed": true
   },
   "outputs": [],
   "source": [
    "from torch import nn, optim\n",
    "from gpytorch.kernels import RBFKernel, GridInterpolationKernel\n",
    "from gpytorch.means import ConstantMean\n",
    "from gpytorch.likelihoods import GaussianLikelihood, BernoulliLikelihood\n",
    "from gpytorch.random_variables import GaussianRandomVariable"
   ]
  },
  {
   "cell_type": "code",
   "execution_count": 4,
   "metadata": {
    "collapsed": true
   },
   "outputs": [],
   "source": [
    "class GPClassificationModel(gpytorch.GPModel):\n",
    "    def __init__(self):\n",
    "        super(GPClassificationModel,self).__init__(BernoulliLikelihood())\n",
    "        self.mean_module = ConstantMean()\n",
    "        self.covar_module = RBFKernel(log_lengthscale_bounds=(-6, 6))\n",
    "        self.grid_covar_module = GridInterpolationKernel(self.covar_module)\n",
    "        self.register_parameter('log_outputscale', nn.Parameter(torch.Tensor([0])), bounds=(-6,6))\n",
    "        self.initialize_interpolation_grid(30, grid_bounds=[(0, 1)])\n",
    "    \n",
    "    def forward(self,x):\n",
    "        mean_x = self.mean_module(x)\n",
    "        covar_x = self.grid_covar_module(x)\n",
    "        covar_x = covar_x.mul(self.log_outputscale.exp())\n",
    "        latent_pred = GaussianRandomVariable(mean_x, covar_x)\n",
    "        return latent_pred\n",
    "\n",
    "model = GPClassificationModel()"
   ]
  },
  {
   "cell_type": "code",
   "execution_count": 5,
   "metadata": {
    "collapsed": true
   },
   "outputs": [],
   "source": [
    "def plot_model_and_predictions(model, plot_train_data=True):\n",
    "    f, observed_ax = plt.subplots(1, 1, figsize=(4, 3))\n",
    "    test_x = Variable(torch.linspace(0, 1, 100))\n",
    "    observed_pred = model(test_x)\n",
    "\n",
    "    def ax_plot(ax, rand_var, title):\n",
    "        if plot_train_data:\n",
    "            ax.plot(train_x.data.numpy(), train_y.data.numpy(), 'k*')\n",
    "        pred_labels = rand_var.mean().ge(0.5).float().mul(2).sub(1)\n",
    "        ax.plot(test_x.data.numpy(), pred_labels.data.numpy(), 'b')\n",
    "        ax.set_ylim([-3, 3])\n",
    "        ax.legend(['Observed Data', 'Mean', 'Confidence'])\n",
    "        ax.set_title(title)\n",
    "    \n",
    "    ax_plot(observed_ax, observed_pred, 'Observed Values (Likelihood)')\n",
    "    \n",
    "    return f"
   ]
  },
  {
   "cell_type": "code",
   "execution_count": 6,
   "metadata": {
    "collapsed": false,
    "scrolled": true
   },
   "outputs": [
    {
     "data": {
      "image/png": "[encoded data removed]",
      "text/plain": [
       "<matplotlib.figure.Figure at 0x113423a50>"
      ]
     },
     "metadata": {},
     "output_type": "display_data"
    }
   ],
   "source": [
    "f = plot_model_and_predictions(model, plot_train_data=False)"
   ]
  },
  {
   "cell_type": "code",
   "execution_count": 9,
   "metadata": {
    "collapsed": false,
    "scrolled": true
   },
   "outputs": [
    {
     "name": "stdout",
     "output_type": "stream",
     "text": [
      "Iter 1/20 - Loss: 120639.906   log_lengthscale: 0.000\n",
      "Iter 2/20 - Loss: 95397.531   log_lengthscale: -0.100\n",
      "Iter 3/20 - Loss: 71735.898   log_lengthscale: -0.193\n",
      "Iter 4/20 - Loss: 56759.375   log_lengthscale: -0.284\n",
      "Iter 5/20 - Loss: 51305.648   log_lengthscale: -0.370\n",
      "Iter 6/20 - Loss: 31013.191   log_lengthscale: -0.460\n",
      "Iter 7/20 - Loss: 28787.914   log_lengthscale: -0.554\n",
      "Iter 8/20 - Loss: 23169.787   log_lengthscale: -0.650\n",
      "Iter 9/20 - Loss: 10569.839   log_lengthscale: -0.747\n",
      "Iter 10/20 - Loss: 19414.557   log_lengthscale: -0.845\n",
      "Iter 11/20 - Loss: 8855.777   log_lengthscale: -0.945\n",
      "Iter 12/20 - Loss: 9402.697   log_lengthscale: -1.047\n",
      "Iter 13/20 - Loss: 7035.566   log_lengthscale: -1.147\n",
      "Iter 14/20 - Loss: 11255.208   log_lengthscale: -1.245\n",
      "Iter 15/20 - Loss: 8647.382   log_lengthscale: -1.345\n",
      "Iter 16/20 - Loss: 9112.208   log_lengthscale: -1.447\n",
      "Iter 17/20 - Loss: -3432.441   log_lengthscale: -1.548\n",
      "Iter 18/20 - Loss: 1667.410   log_lengthscale: -1.650\n",
      "Iter 19/20 - Loss: 3720.695   log_lengthscale: -1.751\n",
      "Iter 20/20 - Loss: 7817.183   log_lengthscale: -1.849\n",
      "Iter 21/20 - Loss: 3709.538   log_lengthscale: -1.948\n",
      "Iter 22/20 - Loss: 2402.777   log_lengthscale: -2.042\n",
      "Iter 23/20 - Loss: 7655.100   log_lengthscale: -2.132\n",
      "Iter 24/20 - Loss: 2488.764   log_lengthscale: -2.217\n",
      "Iter 25/20 - Loss: 342.855   log_lengthscale: -2.298\n",
      "Iter 26/20 - Loss: 1889.262   log_lengthscale: -2.373\n",
      "Iter 27/20 - Loss: 1174.734   log_lengthscale: -2.448\n",
      "Iter 28/20 - Loss: 454.046   log_lengthscale: -2.517\n",
      "Iter 29/20 - Loss: 340.171   log_lengthscale: -2.584\n",
      "Iter 30/20 - Loss: 488.091   log_lengthscale: -2.647\n",
      "Iter 31/20 - Loss: 528.819   log_lengthscale: -2.705\n",
      "Iter 32/20 - Loss: 266.752   log_lengthscale: -2.759\n",
      "Iter 33/20 - Loss: 313.450   log_lengthscale: -2.810\n",
      "Iter 34/20 - Loss: 351.238   log_lengthscale: -2.858\n",
      "Iter 35/20 - Loss: 503.146   log_lengthscale: -2.905\n",
      "Iter 36/20 - Loss: 170.256   log_lengthscale: -2.948\n",
      "Iter 37/20 - Loss: 72.275   log_lengthscale: -2.990\n",
      "Iter 38/20 - Loss: 153.318   log_lengthscale: -3.029\n",
      "Iter 39/20 - Loss: 135.180   log_lengthscale: -3.064\n",
      "Iter 40/20 - Loss: 128.768   log_lengthscale: -3.097\n",
      "Iter 41/20 - Loss: 155.524   log_lengthscale: -3.127\n",
      "Iter 42/20 - Loss: 120.897   log_lengthscale: -3.156\n",
      "Iter 43/20 - Loss: 50.329   log_lengthscale: -3.182\n",
      "Iter 44/20 - Loss: 98.648   log_lengthscale: -3.207\n",
      "Iter 45/20 - Loss: 88.469   log_lengthscale: -3.231\n",
      "Iter 46/20 - Loss: 92.590   log_lengthscale: -3.253\n",
      "Iter 47/20 - Loss: 97.186   log_lengthscale: -3.275\n",
      "Iter 48/20 - Loss: 130.261   log_lengthscale: -3.293\n",
      "Iter 49/20 - Loss: 86.522   log_lengthscale: -3.313\n",
      "Iter 50/20 - Loss: 50.725   log_lengthscale: -3.331\n",
      "Iter 51/20 - Loss: 24.880   log_lengthscale: -3.348\n",
      "Iter 52/20 - Loss: 63.107   log_lengthscale: -3.363\n",
      "Iter 53/20 - Loss: 70.792   log_lengthscale: -3.378\n",
      "Iter 54/20 - Loss: 51.542   log_lengthscale: -3.392\n",
      "Iter 55/20 - Loss: 79.902   log_lengthscale: -3.405\n",
      "Iter 56/20 - Loss: 76.906   log_lengthscale: -3.417\n",
      "Iter 57/20 - Loss: 96.474   log_lengthscale: -3.428\n",
      "Iter 58/20 - Loss: 28.272   log_lengthscale: -3.439\n",
      "Iter 59/20 - Loss: 62.027   log_lengthscale: -3.449\n",
      "Iter 60/20 - Loss: 61.062   log_lengthscale: -3.458\n",
      "Iter 61/20 - Loss: 49.424   log_lengthscale: -3.467\n",
      "Iter 62/20 - Loss: 79.612   log_lengthscale: -3.476\n",
      "Iter 63/20 - Loss: 105.670   log_lengthscale: -3.483\n",
      "Iter 64/20 - Loss: 36.046   log_lengthscale: -3.490\n",
      "Iter 65/20 - Loss: 106.806   log_lengthscale: -3.497\n",
      "Iter 66/20 - Loss: 52.079   log_lengthscale: -3.504\n",
      "Iter 67/20 - Loss: 65.439   log_lengthscale: -3.510\n",
      "Iter 68/20 - Loss: 28.441   log_lengthscale: -3.517\n",
      "Iter 69/20 - Loss: 65.401   log_lengthscale: -3.523\n",
      "Iter 70/20 - Loss: 60.578   log_lengthscale: -3.529\n",
      "Iter 71/20 - Loss: 87.037   log_lengthscale: -3.534\n",
      "Iter 72/20 - Loss: 67.037   log_lengthscale: -3.540\n",
      "Iter 73/20 - Loss: 73.490   log_lengthscale: -3.545\n",
      "Iter 74/20 - Loss: 53.110   log_lengthscale: -3.549\n",
      "Iter 75/20 - Loss: 44.415   log_lengthscale: -3.553\n",
      "Iter 76/20 - Loss: 45.950   log_lengthscale: -3.557\n",
      "Iter 77/20 - Loss: 42.057   log_lengthscale: -3.561\n",
      "Iter 78/20 - Loss: 46.630   log_lengthscale: -3.565\n",
      "Iter 79/20 - Loss: 46.520   log_lengthscale: -3.568\n",
      "Iter 80/20 - Loss: 65.699   log_lengthscale: -3.572\n",
      "Iter 81/20 - Loss: 68.364   log_lengthscale: -3.576\n",
      "Iter 82/20 - Loss: 48.423   log_lengthscale: -3.579\n",
      "Iter 83/20 - Loss: 47.193   log_lengthscale: -3.583\n",
      "Iter 84/20 - Loss: 75.324   log_lengthscale: -3.586\n",
      "Iter 85/20 - Loss: 47.465   log_lengthscale: -3.590\n",
      "Iter 86/20 - Loss: 58.100   log_lengthscale: -3.593\n",
      "Iter 87/20 - Loss: 55.776   log_lengthscale: -3.597\n",
      "Iter 88/20 - Loss: 54.582   log_lengthscale: -3.600\n",
      "Iter 89/20 - Loss: 45.174   log_lengthscale: -3.603\n",
      "Iter 90/20 - Loss: 75.027   log_lengthscale: -3.606\n",
      "Iter 91/20 - Loss: 70.329   log_lengthscale: -3.609\n",
      "Iter 92/20 - Loss: 96.521   log_lengthscale: -3.611\n",
      "Iter 93/20 - Loss: 44.606   log_lengthscale: -3.614\n",
      "Iter 94/20 - Loss: 64.565   log_lengthscale: -3.616\n",
      "Iter 95/20 - Loss: 23.162   log_lengthscale: -3.618\n",
      "Iter 96/20 - Loss: 44.999   log_lengthscale: -3.621\n",
      "Iter 97/20 - Loss: 53.228   log_lengthscale: -3.623\n",
      "Iter 98/20 - Loss: 51.675   log_lengthscale: -3.625\n",
      "Iter 99/20 - Loss: 32.742   log_lengthscale: -3.627\n",
      "Iter 100/20 - Loss: 23.213   log_lengthscale: -3.630\n",
      "Iter 101/20 - Loss: 66.025   log_lengthscale: -3.632\n",
      "Iter 102/20 - Loss: 53.284   log_lengthscale: -3.634\n",
      "Iter 103/20 - Loss: 40.283   log_lengthscale: -3.638\n",
      "Iter 104/20 - Loss: 45.222   log_lengthscale: -3.642\n",
      "Iter 105/20 - Loss: 55.846   log_lengthscale: -3.646\n",
      "Iter 106/20 - Loss: 67.255   log_lengthscale: -3.650\n",
      "Iter 107/20 - Loss: 43.726   log_lengthscale: -3.653\n",
      "Iter 108/20 - Loss: 68.561   log_lengthscale: -3.656\n",
      "Iter 109/20 - Loss: 57.924   log_lengthscale: -3.659\n",
      "Iter 110/20 - Loss: 46.172   log_lengthscale: -3.662\n",
      "Iter 111/20 - Loss: 58.869   log_lengthscale: -3.664\n",
      "Iter 112/20 - Loss: 62.276   log_lengthscale: -3.667\n",
      "Iter 113/20 - Loss: 40.140   log_lengthscale: -3.670\n",
      "Iter 114/20 - Loss: 55.244   log_lengthscale: -3.672\n",
      "Iter 115/20 - Loss: 50.228   log_lengthscale: -3.675\n",
      "Iter 116/20 - Loss: 59.671   log_lengthscale: -3.678\n",
      "Iter 117/20 - Loss: 40.918   log_lengthscale: -3.680\n",
      "Iter 118/20 - Loss: 53.431   log_lengthscale: -3.683\n",
      "Iter 119/20 - Loss: 56.502   log_lengthscale: -3.685\n",
      "Iter 120/20 - Loss: 39.097   log_lengthscale: -3.687\n",
      "Iter 121/20 - Loss: 41.546   log_lengthscale: -3.690\n",
      "Iter 122/20 - Loss: 58.085   log_lengthscale: -3.692\n",
      "Iter 123/20 - Loss: 46.273   log_lengthscale: -3.694\n",
      "Iter 124/20 - Loss: 54.548   log_lengthscale: -3.696\n",
      "Iter 125/20 - Loss: 85.473   log_lengthscale: -3.698\n",
      "Iter 126/20 - Loss: 35.746   log_lengthscale: -3.700\n",
      "Iter 127/20 - Loss: 61.460   log_lengthscale: -3.701\n",
      "Iter 128/20 - Loss: 88.450   log_lengthscale: -3.703\n",
      "Iter 129/20 - Loss: 44.239   log_lengthscale: -3.704\n",
      "Iter 130/20 - Loss: 51.993   log_lengthscale: -3.706\n",
      "Iter 131/20 - Loss: 46.405   log_lengthscale: -3.707\n",
      "Iter 132/20 - Loss: 32.277   log_lengthscale: -3.709\n",
      "Iter 133/20 - Loss: 61.707   log_lengthscale: -3.711\n",
      "Iter 134/20 - Loss: 50.827   log_lengthscale: -3.713\n",
      "Iter 135/20 - Loss: 58.553   log_lengthscale: -3.715\n",
      "Iter 136/20 - Loss: 62.856   log_lengthscale: -3.717\n",
      "Iter 137/20 - Loss: 28.973   log_lengthscale: -3.719\n",
      "Iter 138/20 - Loss: 58.917   log_lengthscale: -3.721\n",
      "Iter 139/20 - Loss: 49.727   log_lengthscale: -3.723\n",
      "Iter 140/20 - Loss: 42.127   log_lengthscale: -3.724\n",
      "Iter 141/20 - Loss: 57.184   log_lengthscale: -3.726\n",
      "Iter 142/20 - Loss: 74.264   log_lengthscale: -3.727\n",
      "Iter 143/20 - Loss: 45.962   log_lengthscale: -3.729\n",
      "Iter 144/20 - Loss: 72.731   log_lengthscale: -3.730\n",
      "Iter 145/20 - Loss: 71.769   log_lengthscale: -3.732\n",
      "Iter 146/20 - Loss: 55.200   log_lengthscale: -3.734\n",
      "Iter 147/20 - Loss: 41.450   log_lengthscale: -3.736\n",
      "Iter 148/20 - Loss: 66.000   log_lengthscale: -3.738\n",
      "Iter 149/20 - Loss: 51.784   log_lengthscale: -3.740\n",
      "Iter 150/20 - Loss: 39.496   log_lengthscale: -3.742\n",
      "Iter 151/20 - Loss: 51.313   log_lengthscale: -3.744\n",
      "Iter 152/20 - Loss: 59.138   log_lengthscale: -3.746\n",
      "Iter 153/20 - Loss: 36.029   log_lengthscale: -3.748\n",
      "Iter 154/20 - Loss: 34.978   log_lengthscale: -3.749\n",
      "Iter 155/20 - Loss: 54.276   log_lengthscale: -3.751\n",
      "Iter 156/20 - Loss: 34.204   log_lengthscale: -3.753\n",
      "Iter 157/20 - Loss: 42.725   log_lengthscale: -3.755\n",
      "Iter 158/20 - Loss: 68.816   log_lengthscale: -3.757\n",
      "Iter 159/20 - Loss: 54.288   log_lengthscale: -3.758\n",
      "Iter 160/20 - Loss: 58.361   log_lengthscale: -3.761\n",
      "Iter 161/20 - Loss: 45.023   log_lengthscale: -3.763\n",
      "Iter 162/20 - Loss: 43.788   log_lengthscale: -3.766\n",
      "Iter 163/20 - Loss: 50.483   log_lengthscale: -3.768\n",
      "Iter 164/20 - Loss: 45.705   log_lengthscale: -3.770\n",
      "Iter 165/20 - Loss: 43.974   log_lengthscale: -3.773\n",
      "Iter 166/20 - Loss: 51.000   log_lengthscale: -3.775\n",
      "Iter 167/20 - Loss: 54.732   log_lengthscale: -3.778\n",
      "Iter 168/20 - Loss: 70.281   log_lengthscale: -3.780\n",
      "Iter 169/20 - Loss: 48.757   log_lengthscale: -3.783\n",
      "Iter 170/20 - Loss: 47.949   log_lengthscale: -3.785\n",
      "Iter 171/20 - Loss: 52.340   log_lengthscale: -3.787\n",
      "Iter 172/20 - Loss: 45.190   log_lengthscale: -3.790\n",
      "Iter 173/20 - Loss: 46.427   log_lengthscale: -3.792\n",
      "Iter 174/20 - Loss: 66.786   log_lengthscale: -3.795\n",
      "Iter 175/20 - Loss: 55.437   log_lengthscale: -3.797\n",
      "Iter 176/20 - Loss: 66.688   log_lengthscale: -3.799\n",
      "Iter 177/20 - Loss: 57.854   log_lengthscale: -3.801\n",
      "Iter 178/20 - Loss: 50.768   log_lengthscale: -3.803\n",
      "Iter 179/20 - Loss: 42.883   log_lengthscale: -3.804\n",
      "Iter 180/20 - Loss: 47.690   log_lengthscale: -3.806\n",
      "Iter 181/20 - Loss: 51.157   log_lengthscale: -3.807\n",
      "Iter 182/20 - Loss: 49.017   log_lengthscale: -3.808\n",
      "Iter 183/20 - Loss: 32.221   log_lengthscale: -3.810\n",
      "Iter 184/20 - Loss: 63.574   log_lengthscale: -3.811\n",
      "Iter 185/20 - Loss: 58.008   log_lengthscale: -3.812\n",
      "Iter 186/20 - Loss: 59.932   log_lengthscale: -3.813\n",
      "Iter 187/20 - Loss: 49.559   log_lengthscale: -3.814\n",
      "Iter 188/20 - Loss: 38.562   log_lengthscale: -3.815\n",
      "Iter 189/20 - Loss: 45.912   log_lengthscale: -3.816\n",
      "Iter 190/20 - Loss: 57.711   log_lengthscale: -3.818\n",
      "Iter 191/20 - Loss: 36.728   log_lengthscale: -3.819\n",
      "Iter 192/20 - Loss: 79.774   log_lengthscale: -3.821\n",
      "Iter 193/20 - Loss: 57.993   log_lengthscale: -3.822\n",
      "Iter 194/20 - Loss: 34.513   log_lengthscale: -3.824\n",
      "Iter 195/20 - Loss: 40.752   log_lengthscale: -3.825\n",
      "Iter 196/20 - Loss: 59.815   log_lengthscale: -3.826\n",
      "Iter 197/20 - Loss: 52.739   log_lengthscale: -3.828\n",
      "Iter 198/20 - Loss: 62.134   log_lengthscale: -3.830\n",
      "Iter 199/20 - Loss: 42.990   log_lengthscale: -3.832\n",
      "Iter 200/20 - Loss: 49.921   log_lengthscale: -3.833\n"
     ]
    }
   ],
   "source": [
    "model.condition(train_x, train_y)\n",
    "\n",
    "# Find optimal model hyperparameters\n",
    "model.train()\n",
    "optimizer = optim.Adam(model.parameters(), lr=0.1)\n",
    "optimizer.n_iter = 0\n",
    "for i in range(200):\n",
    "    optimizer.zero_grad()\n",
    "    output = model.forward(train_x)\n",
    "    loss = -model.marginal_log_likelihood(output, train_y)\n",
    "    loss.backward()\n",
    "    optimizer.n_iter += 1\n",
    "    print('Iter %d/20 - Loss: %.3f   log_lengthscale: %.3f' % (\n",
    "        i + 1, loss.data[0],\n",
    "        model.covar_module.log_lengthscale.data.squeeze()[0],\n",
    "    ))\n",
    "    optimizer.step()\n",
    "    \n",
    "# Set back to eval mode\n",
    "model.eval()\n",
    "None"
   ]
  },
  {
   "cell_type": "code",
   "execution_count": 10,
   "metadata": {
    "collapsed": false,
    "scrolled": false
   },
   "outputs": [
    {
     "data": {
      "image/png": "[encoded data removed]",
      "text/plain": [
       "<matplotlib.figure.Figure at 0x1179d4410>"
      ]
     },
     "metadata": {},
     "output_type": "display_data"
    }
   ],
   "source": [
    "f = plot_model_and_predictions(model)"
   ]
  },
  {
   "cell_type": "code",
   "execution_count": null,
   "metadata": {
    "collapsed": true
   },
   "outputs": [],
   "source": []
  }
 ],
 "metadata": {
  "anaconda-cloud": {},
  "kernelspec": {
   "display_name": "Python [default]",
   "language": "python",
   "name": "python2"
  },
  "language_info": {
   "codemirror_mode": {
    "name": "ipython",
    "version": 2
   },
   "file_extension": ".py",
   "mimetype": "text/x-python",
   "name": "python",
   "nbconvert_exporter": "python",
   "pygments_lexer": "ipython2",
   "version": "2.7.12"
  }
 },
 "nbformat": 4,
 "nbformat_minor": 1
}
