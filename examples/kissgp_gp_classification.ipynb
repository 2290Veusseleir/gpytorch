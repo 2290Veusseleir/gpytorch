{
 "cells": [
  {
   "cell_type": "code",
   "execution_count": 1,
   "metadata": {
    "collapsed": true
   },
   "outputs": [],
   "source": [
    "import math\n",
    "import torch\n",
    "import gpytorch\n",
    "from matplotlib import pyplot as plt\n",
    "\n",
    "%matplotlib inline\n",
    "%load_ext autoreload\n",
    "%autoreload 2"
   ]
  },
  {
   "cell_type": "code",
   "execution_count": 2,
   "metadata": {
    "collapsed": true
   },
   "outputs": [],
   "source": [
    "from torch.autograd import Variable\n",
    "train_x = Variable(torch.linspace(0, 1, 26))\n",
    "train_y = Variable(torch.sign(torch.cos(train_x.data * (8 * math.pi))))"
   ]
  },
  {
   "cell_type": "code",
   "execution_count": 3,
   "metadata": {
    "collapsed": true
   },
   "outputs": [],
   "source": [
    "from torch import nn, optim\n",
    "from gpytorch.kernels import RBFKernel, GridInterpolationKernel\n",
    "from gpytorch.means import ConstantMean\n",
    "from gpytorch.likelihoods import GaussianLikelihood, BernoulliLikelihood\n",
    "from gpytorch.random_variables import GaussianRandomVariable"
   ]
  },
  {
   "cell_type": "code",
   "execution_count": 4,
   "metadata": {},
   "outputs": [
    {
     "data": {
      "text/plain": [
       "GPClassificationModel (\n",
       "  (likelihood): BernoulliLikelihood (\n",
       "  )\n",
       "  (mean_module): ConstantMean (\n",
       "  )\n",
       "  (covar_module): RBFKernel (\n",
       "  )\n",
       "  (grid_covar_module): GridInterpolationKernel (\n",
       "    (base_kernel_module): RBFKernel (\n",
       "    )\n",
       "  )\n",
       ")"
      ]
     },
     "execution_count": 4,
     "metadata": {},
     "output_type": "execute_result"
    }
   ],
   "source": [
    "class GPClassificationModel(gpytorch.GPModel):\n",
    "    def __init__(self):\n",
    "        super(GPClassificationModel,self).__init__(BernoulliLikelihood())\n",
    "        self.mean_module = ConstantMean()\n",
    "        self.covar_module = RBFKernel(log_lengthscale_bounds=(-6, 6))\n",
    "        self.grid_covar_module = GridInterpolationKernel(self.covar_module)\n",
    "        self.register_parameter('log_outputscale', nn.Parameter(torch.Tensor([0])), bounds=(-6,6))\n",
    "        self.initialize_interpolation_grid(30, grid_bounds=[(0, 1)])\n",
    "    \n",
    "    def forward(self,x):\n",
    "        mean_x = self.mean_module(x)\n",
    "        covar_x = self.grid_covar_module(x)\n",
    "        covar_x = covar_x.mul(self.log_outputscale.exp())\n",
    "        latent_pred = GaussianRandomVariable(mean_x, covar_x)\n",
    "        return latent_pred\n",
    "\n",
    "model = GPClassificationModel()\n",
    "model.condition(train_x, train_y)"
   ]
  },
  {
   "cell_type": "code",
   "execution_count": 5,
   "metadata": {
    "collapsed": true
   },
   "outputs": [],
   "source": [
    "def plot_model_and_predictions(model, plot_train_data=True):\n",
    "    f, observed_ax = plt.subplots(1, 1, figsize=(4, 3))\n",
    "    test_x = Variable(torch.linspace(0, 1, 100))\n",
    "    observed_pred = model(test_x)\n",
    "\n",
    "    def ax_plot(ax, rand_var, title):\n",
    "        if plot_train_data:\n",
    "            ax.plot(train_x.data.numpy(), train_y.data.numpy(), 'k*')\n",
    "        pred_labels = rand_var.mean().ge(0.5).float().mul(2).sub(1)\n",
    "        ax.plot(test_x.data.numpy(), pred_labels.data.numpy(), 'b')\n",
    "        ax.set_ylim([-3, 3])\n",
    "        ax.legend(['Observed Data', 'Mean', 'Confidence'])\n",
    "        ax.set_title(title)\n",
    "    \n",
    "    ax_plot(observed_ax, observed_pred, 'Observed Values (Likelihood)')\n",
    "    \n",
    "    return f"
   ]
  },
  {
   "cell_type": "code",
   "execution_count": 6,
   "metadata": {
    "scrolled": true
   },
   "outputs": [
    {
     "data": {
      "image/png": "[encoded data removed]",
      "text/plain": [
       "<matplotlib.figure.Figure at 0x7f66937e6710>"
      ]
     },
     "metadata": {},
     "output_type": "display_data"
    }
   ],
   "source": [
    "f = plot_model_and_predictions(model, plot_train_data=False)"
   ]
  },
  {
   "cell_type": "code",
   "execution_count": 7,
   "metadata": {
    "scrolled": true
   },
   "outputs": [
    {
     "name": "stderr",
     "output_type": "stream",
     "text": [
      "/mnt/c/Users/Gardn/gpytorch/gpytorch/kernels/rbf_kernel.py:42: UserWarning: other is not broadcastable to self, but they have the same number of elements.  Falling back to deprecated pointwise behavior.\n",
      "  grad.mul_(grad_output.transpose(0, 1))\n"
     ]
    },
    {
     "name": "stdout",
     "output_type": "stream",
     "text": [
      "Iter 1/20 - Loss: 124387.266   log_lengthscale: 0.000\n",
      "Iter 2/20 - Loss: 95226.211   log_lengthscale: -0.100\n",
      "Iter 3/20 - Loss: 62905.898   log_lengthscale: -0.197\n",
      "Iter 4/20 - Loss: 46264.176   log_lengthscale: -0.291\n",
      "Iter 5/20 - Loss: 47089.543   log_lengthscale: -0.387\n",
      "Iter 6/20 - Loss: 33840.344   log_lengthscale: -0.484\n",
      "Iter 7/20 - Loss: 27962.873   log_lengthscale: -0.583\n",
      "Iter 8/20 - Loss: 17726.693   log_lengthscale: -0.682\n",
      "Iter 9/20 - Loss: 13262.880   log_lengthscale: -0.780\n",
      "Iter 10/20 - Loss: 9455.298   log_lengthscale: -0.879\n",
      "Iter 11/20 - Loss: 7450.604   log_lengthscale: -0.980\n",
      "Iter 12/20 - Loss: 9800.687   log_lengthscale: -1.082\n",
      "Iter 13/20 - Loss: 12090.223   log_lengthscale: -1.183\n",
      "Iter 14/20 - Loss: 8691.625   log_lengthscale: -1.284\n",
      "Iter 15/20 - Loss: 9430.754   log_lengthscale: -1.382\n",
      "Iter 16/20 - Loss: 4785.322   log_lengthscale: -1.477\n",
      "Iter 17/20 - Loss: 7581.789   log_lengthscale: -1.571\n",
      "Iter 18/20 - Loss: 2816.344   log_lengthscale: -1.664\n",
      "Iter 19/20 - Loss: 2702.914   log_lengthscale: -1.756\n",
      "Iter 20/20 - Loss: 2801.651   log_lengthscale: -1.841\n",
      "Iter 21/20 - Loss: 2802.905   log_lengthscale: -1.922\n",
      "Iter 22/20 - Loss: 3607.748   log_lengthscale: -2.003\n",
      "Iter 23/20 - Loss: 2368.804   log_lengthscale: -2.079\n",
      "Iter 24/20 - Loss: 1579.812   log_lengthscale: -2.152\n",
      "Iter 25/20 - Loss: 1061.899   log_lengthscale: -2.223\n",
      "Iter 26/20 - Loss: 632.040   log_lengthscale: -2.293\n",
      "Iter 27/20 - Loss: 845.419   log_lengthscale: -2.358\n",
      "Iter 28/20 - Loss: 483.748   log_lengthscale: -2.420\n",
      "Iter 29/20 - Loss: 689.347   log_lengthscale: -2.477\n",
      "Iter 30/20 - Loss: 809.243   log_lengthscale: -2.534\n",
      "Iter 31/20 - Loss: 540.952   log_lengthscale: -2.589\n",
      "Iter 32/20 - Loss: 401.264   log_lengthscale: -2.641\n",
      "Iter 33/20 - Loss: 219.427   log_lengthscale: -2.693\n",
      "Iter 34/20 - Loss: 438.321   log_lengthscale: -2.742\n",
      "Iter 35/20 - Loss: 332.267   log_lengthscale: -2.787\n",
      "Iter 36/20 - Loss: 230.594   log_lengthscale: -2.832\n",
      "Iter 37/20 - Loss: 269.592   log_lengthscale: -2.873\n",
      "Iter 38/20 - Loss: 74.961   log_lengthscale: -2.911\n",
      "Iter 39/20 - Loss: 87.494   log_lengthscale: -2.947\n",
      "Iter 40/20 - Loss: 127.382   log_lengthscale: -2.983\n",
      "Iter 41/20 - Loss: 158.069   log_lengthscale: -3.015\n",
      "Iter 42/20 - Loss: 158.386   log_lengthscale: -3.045\n",
      "Iter 43/20 - Loss: 206.425   log_lengthscale: -3.074\n",
      "Iter 44/20 - Loss: 109.408   log_lengthscale: -3.102\n",
      "Iter 45/20 - Loss: 92.236   log_lengthscale: -3.127\n",
      "Iter 46/20 - Loss: 69.948   log_lengthscale: -3.151\n",
      "Iter 47/20 - Loss: 86.766   log_lengthscale: -3.173\n",
      "Iter 48/20 - Loss: 82.425   log_lengthscale: -3.195\n",
      "Iter 49/20 - Loss: 97.350   log_lengthscale: -3.215\n",
      "Iter 50/20 - Loss: 92.480   log_lengthscale: -3.233\n",
      "Iter 51/20 - Loss: 129.229   log_lengthscale: -3.251\n",
      "Iter 52/20 - Loss: 336.988   log_lengthscale: -3.268\n",
      "Iter 53/20 - Loss: 149.398   log_lengthscale: -3.285\n",
      "Iter 54/20 - Loss: 87.800   log_lengthscale: -3.300\n",
      "Iter 55/20 - Loss: 71.135   log_lengthscale: -3.315\n",
      "Iter 56/20 - Loss: 82.952   log_lengthscale: -3.329\n",
      "Iter 57/20 - Loss: 76.548   log_lengthscale: -3.342\n",
      "Iter 58/20 - Loss: 66.888   log_lengthscale: -3.355\n",
      "Iter 59/20 - Loss: 94.256   log_lengthscale: -3.367\n",
      "Iter 60/20 - Loss: 73.101   log_lengthscale: -3.378\n",
      "Iter 61/20 - Loss: 83.557   log_lengthscale: -3.389\n",
      "Iter 62/20 - Loss: 57.643   log_lengthscale: -3.399\n",
      "Iter 63/20 - Loss: 69.289   log_lengthscale: -3.408\n",
      "Iter 64/20 - Loss: 73.471   log_lengthscale: -3.416\n",
      "Iter 65/20 - Loss: 54.115   log_lengthscale: -3.424\n",
      "Iter 66/20 - Loss: 61.777   log_lengthscale: -3.432\n",
      "Iter 67/20 - Loss: 46.417   log_lengthscale: -3.440\n",
      "Iter 68/20 - Loss: 52.134   log_lengthscale: -3.447\n",
      "Iter 69/20 - Loss: 74.173   log_lengthscale: -3.454\n",
      "Iter 70/20 - Loss: 113.539   log_lengthscale: -3.460\n",
      "Iter 71/20 - Loss: 85.787   log_lengthscale: -3.467\n",
      "Iter 72/20 - Loss: 40.308   log_lengthscale: -3.473\n",
      "Iter 73/20 - Loss: 77.626   log_lengthscale: -3.480\n",
      "Iter 74/20 - Loss: 40.434   log_lengthscale: -3.485\n",
      "Iter 75/20 - Loss: 62.877   log_lengthscale: -3.491\n",
      "Iter 76/20 - Loss: 74.964   log_lengthscale: -3.496\n",
      "Iter 77/20 - Loss: 60.011   log_lengthscale: -3.502\n",
      "Iter 78/20 - Loss: 57.070   log_lengthscale: -3.507\n",
      "Iter 79/20 - Loss: 62.604   log_lengthscale: -3.511\n",
      "Iter 80/20 - Loss: 49.154   log_lengthscale: -3.516\n",
      "Iter 81/20 - Loss: 50.107   log_lengthscale: -3.520\n",
      "Iter 82/20 - Loss: 44.605   log_lengthscale: -3.525\n",
      "Iter 83/20 - Loss: 41.923   log_lengthscale: -3.529\n",
      "Iter 84/20 - Loss: 67.421   log_lengthscale: -3.534\n",
      "Iter 85/20 - Loss: 63.273   log_lengthscale: -3.538\n",
      "Iter 86/20 - Loss: 58.597   log_lengthscale: -3.543\n",
      "Iter 87/20 - Loss: 59.841   log_lengthscale: -3.547\n",
      "Iter 88/20 - Loss: 72.992   log_lengthscale: -3.552\n",
      "Iter 89/20 - Loss: 86.544   log_lengthscale: -3.557\n",
      "Iter 90/20 - Loss: 55.923   log_lengthscale: -3.561\n",
      "Iter 91/20 - Loss: 64.680   log_lengthscale: -3.565\n",
      "Iter 92/20 - Loss: 55.929   log_lengthscale: -3.569\n",
      "Iter 93/20 - Loss: 36.933   log_lengthscale: -3.573\n",
      "Iter 94/20 - Loss: 38.107   log_lengthscale: -3.576\n",
      "Iter 95/20 - Loss: 73.910   log_lengthscale: -3.580\n",
      "Iter 96/20 - Loss: 52.614   log_lengthscale: -3.583\n",
      "Iter 97/20 - Loss: 42.226   log_lengthscale: -3.586\n",
      "Iter 98/20 - Loss: 47.013   log_lengthscale: -3.589\n",
      "Iter 99/20 - Loss: 56.120   log_lengthscale: -3.592\n",
      "Iter 100/20 - Loss: 67.775   log_lengthscale: -3.594\n",
      "Iter 101/20 - Loss: 73.516   log_lengthscale: -3.597\n",
      "Iter 102/20 - Loss: 55.498   log_lengthscale: -3.600\n",
      "Iter 103/20 - Loss: 63.694   log_lengthscale: -3.603\n",
      "Iter 104/20 - Loss: 54.991   log_lengthscale: -3.607\n",
      "Iter 105/20 - Loss: 63.576   log_lengthscale: -3.610\n",
      "Iter 106/20 - Loss: 75.234   log_lengthscale: -3.612\n",
      "Iter 107/20 - Loss: 58.022   log_lengthscale: -3.615\n",
      "Iter 108/20 - Loss: 45.899   log_lengthscale: -3.619\n",
      "Iter 109/20 - Loss: 49.988   log_lengthscale: -3.622\n",
      "Iter 110/20 - Loss: 52.782   log_lengthscale: -3.626\n",
      "Iter 111/20 - Loss: 60.573   log_lengthscale: -3.630\n",
      "Iter 112/20 - Loss: 50.325   log_lengthscale: -3.634\n",
      "Iter 113/20 - Loss: 59.282   log_lengthscale: -3.638\n",
      "Iter 114/20 - Loss: 35.925   log_lengthscale: -3.642\n",
      "Iter 115/20 - Loss: 48.952   log_lengthscale: -3.646\n",
      "Iter 116/20 - Loss: 52.566   log_lengthscale: -3.650\n",
      "Iter 117/20 - Loss: 59.807   log_lengthscale: -3.655\n",
      "Iter 118/20 - Loss: 61.250   log_lengthscale: -3.659\n",
      "Iter 119/20 - Loss: 74.482   log_lengthscale: -3.663\n",
      "Iter 120/20 - Loss: 46.797   log_lengthscale: -3.667\n",
      "Iter 121/20 - Loss: 59.025   log_lengthscale: -3.671\n",
      "Iter 122/20 - Loss: 61.115   log_lengthscale: -3.675\n",
      "Iter 123/20 - Loss: 45.661   log_lengthscale: -3.679\n",
      "Iter 124/20 - Loss: 45.418   log_lengthscale: -3.683\n",
      "Iter 125/20 - Loss: 60.273   log_lengthscale: -3.687\n",
      "Iter 126/20 - Loss: 50.762   log_lengthscale: -3.690\n",
      "Iter 127/20 - Loss: 50.587   log_lengthscale: -3.694\n",
      "Iter 128/20 - Loss: 48.606   log_lengthscale: -3.697\n",
      "Iter 129/20 - Loss: 56.565   log_lengthscale: -3.700\n",
      "Iter 130/20 - Loss: 67.382   log_lengthscale: -3.704\n",
      "Iter 131/20 - Loss: 46.361   log_lengthscale: -3.708\n",
      "Iter 132/20 - Loss: 66.934   log_lengthscale: -3.711\n",
      "Iter 133/20 - Loss: 80.400   log_lengthscale: -3.715\n",
      "Iter 134/20 - Loss: 41.210   log_lengthscale: -3.718\n",
      "Iter 135/20 - Loss: 56.456   log_lengthscale: -3.721\n",
      "Iter 136/20 - Loss: 77.135   log_lengthscale: -3.724\n",
      "Iter 137/20 - Loss: 48.595   log_lengthscale: -3.728\n",
      "Iter 138/20 - Loss: 54.521   log_lengthscale: -3.731\n",
      "Iter 139/20 - Loss: 50.518   log_lengthscale: -3.734\n",
      "Iter 140/20 - Loss: 38.286   log_lengthscale: -3.737\n",
      "Iter 141/20 - Loss: 51.117   log_lengthscale: -3.740\n",
      "Iter 142/20 - Loss: 51.506   log_lengthscale: -3.743\n",
      "Iter 143/20 - Loss: 55.341   log_lengthscale: -3.746\n",
      "Iter 144/20 - Loss: 39.733   log_lengthscale: -3.748\n",
      "Iter 145/20 - Loss: 61.433   log_lengthscale: -3.751\n",
      "Iter 146/20 - Loss: 58.256   log_lengthscale: -3.754\n",
      "Iter 147/20 - Loss: 48.482   log_lengthscale: -3.756\n",
      "Iter 148/20 - Loss: 49.364   log_lengthscale: -3.759\n",
      "Iter 149/20 - Loss: 47.929   log_lengthscale: -3.761\n",
      "Iter 150/20 - Loss: 51.514   log_lengthscale: -3.764\n",
      "Iter 151/20 - Loss: 45.319   log_lengthscale: -3.766\n",
      "Iter 152/20 - Loss: 55.240   log_lengthscale: -3.768\n",
      "Iter 153/20 - Loss: 44.137   log_lengthscale: -3.771\n",
      "Iter 154/20 - Loss: 59.852   log_lengthscale: -3.772\n",
      "Iter 155/20 - Loss: 53.021   log_lengthscale: -3.775\n",
      "Iter 156/20 - Loss: 37.885   log_lengthscale: -3.777\n"
     ]
    },
    {
     "name": "stdout",
     "output_type": "stream",
     "text": [
      "Iter 157/20 - Loss: 40.443   log_lengthscale: -3.779\n",
      "Iter 158/20 - Loss: 47.092   log_lengthscale: -3.781\n",
      "Iter 159/20 - Loss: 38.757   log_lengthscale: -3.783\n",
      "Iter 160/20 - Loss: 49.226   log_lengthscale: -3.785\n",
      "Iter 161/20 - Loss: 59.204   log_lengthscale: -3.788\n",
      "Iter 162/20 - Loss: 49.664   log_lengthscale: -3.790\n",
      "Iter 163/20 - Loss: 30.976   log_lengthscale: -3.792\n",
      "Iter 164/20 - Loss: 56.154   log_lengthscale: -3.794\n",
      "Iter 165/20 - Loss: 51.598   log_lengthscale: -3.796\n",
      "Iter 166/20 - Loss: 38.605   log_lengthscale: -3.798\n",
      "Iter 167/20 - Loss: 32.936   log_lengthscale: -3.800\n",
      "Iter 168/20 - Loss: 51.743   log_lengthscale: -3.801\n",
      "Iter 169/20 - Loss: 49.159   log_lengthscale: -3.803\n",
      "Iter 170/20 - Loss: 52.447   log_lengthscale: -3.805\n",
      "Iter 171/20 - Loss: 56.344   log_lengthscale: -3.807\n",
      "Iter 172/20 - Loss: 54.020   log_lengthscale: -3.809\n",
      "Iter 173/20 - Loss: 42.789   log_lengthscale: -3.812\n",
      "Iter 174/20 - Loss: 62.547   log_lengthscale: -3.814\n",
      "Iter 175/20 - Loss: 49.386   log_lengthscale: -3.816\n",
      "Iter 176/20 - Loss: 49.269   log_lengthscale: -3.818\n",
      "Iter 177/20 - Loss: 66.559   log_lengthscale: -3.821\n",
      "Iter 178/20 - Loss: 39.413   log_lengthscale: -3.823\n",
      "Iter 179/20 - Loss: 36.237   log_lengthscale: -3.825\n",
      "Iter 180/20 - Loss: 44.859   log_lengthscale: -3.828\n",
      "Iter 181/20 - Loss: 44.879   log_lengthscale: -3.830\n",
      "Iter 182/20 - Loss: 37.506   log_lengthscale: -3.833\n",
      "Iter 183/20 - Loss: 42.929   log_lengthscale: -3.835\n",
      "Iter 184/20 - Loss: 42.069   log_lengthscale: -3.837\n",
      "Iter 185/20 - Loss: 40.052   log_lengthscale: -3.839\n",
      "Iter 186/20 - Loss: 41.685   log_lengthscale: -3.841\n",
      "Iter 187/20 - Loss: 49.822   log_lengthscale: -3.843\n",
      "Iter 188/20 - Loss: 49.455   log_lengthscale: -3.844\n",
      "Iter 189/20 - Loss: 48.840   log_lengthscale: -3.846\n",
      "Iter 190/20 - Loss: 41.064   log_lengthscale: -3.847\n",
      "Iter 191/20 - Loss: 41.632   log_lengthscale: -3.849\n",
      "Iter 192/20 - Loss: 48.298   log_lengthscale: -3.850\n",
      "Iter 193/20 - Loss: 47.670   log_lengthscale: -3.852\n",
      "Iter 194/20 - Loss: 41.801   log_lengthscale: -3.853\n",
      "Iter 195/20 - Loss: 44.812   log_lengthscale: -3.855\n",
      "Iter 196/20 - Loss: 47.619   log_lengthscale: -3.857\n",
      "Iter 197/20 - Loss: 59.620   log_lengthscale: -3.859\n",
      "Iter 198/20 - Loss: 33.728   log_lengthscale: -3.861\n",
      "Iter 199/20 - Loss: 49.169   log_lengthscale: -3.863\n",
      "Iter 200/20 - Loss: 59.741   log_lengthscale: -3.865\n"
     ]
    }
   ],
   "source": [
    "# Find optimal model hyperparameters\n",
    "model.train()\n",
    "optimizer = optim.Adam(model.parameters(), lr=0.1)\n",
    "optimizer.n_iter = 0\n",
    "for i in range(200):\n",
    "    optimizer.zero_grad()\n",
    "    output = model.forward(train_x)\n",
    "    loss = -model.marginal_log_likelihood(output, train_y)\n",
    "    loss.backward()\n",
    "    optimizer.n_iter += 1\n",
    "    print('Iter %d/200 - Loss: %.3f   log_lengthscale: %.3f' % (\n",
    "        i + 1, loss.data[0],\n",
    "        model.covar_module.log_lengthscale.data.squeeze()[0],\n",
    "    ))\n",
    "    optimizer.step()\n",
    "    \n",
    "# Set back to eval mode\n",
    "model.eval()\n",
    "None"
   ]
  },
  {
   "cell_type": "code",
   "execution_count": 8,
   "metadata": {
    "scrolled": false
   },
   "outputs": [
    {
     "data": {
      "image/png": "[encoded data removed]",
      "text/plain": [
       "<matplotlib.figure.Figure at 0x7f66905f8a10>"
      ]
     },
     "metadata": {},
     "output_type": "display_data"
    }
   ],
   "source": [
    "f = plot_model_and_predictions(model)"
   ]
  },
  {
   "cell_type": "code",
   "execution_count": null,
   "metadata": {
    "collapsed": true
   },
   "outputs": [],
   "source": []
  }
 ],
 "metadata": {
  "anaconda-cloud": {},
  "kernelspec": {
   "display_name": "Python 2",
   "language": "python",
   "name": "python2"
  },
  "language_info": {
   "codemirror_mode": {
    "name": "ipython",
    "version": 2
   },
   "file_extension": ".py",
   "mimetype": "text/x-python",
   "name": "python",
   "nbconvert_exporter": "python",
   "pygments_lexer": "ipython2",
   "version": "2.7.13"
  }
 },
 "nbformat": 4,
 "nbformat_minor": 1
}
