{
 "cells": [
  {
   "cell_type": "code",
   "execution_count": 1,
   "metadata": {
    "collapsed": false
   },
   "outputs": [],
   "source": [
    "import math\n",
    "import torch\n",
    "import gpytorch\n",
    "from matplotlib import pyplot as plt\n",
    "\n",
    "%matplotlib inline\n",
    "%load_ext autoreload\n",
    "%autoreload 2"
   ]
  },
  {
   "cell_type": "code",
   "execution_count": 2,
   "metadata": {
    "collapsed": true
   },
   "outputs": [],
   "source": [
    "from torch.autograd import Variable\n",
    "train_x = Variable(torch.linspace(0, 1, 26))\n",
    "train_y = Variable(torch.sign(torch.cos(train_x.data * (8 * math.pi))))"
   ]
  },
  {
   "cell_type": "code",
   "execution_count": 3,
   "metadata": {
    "collapsed": true
   },
   "outputs": [],
   "source": [
    "from torch import nn, optim\n",
    "from gpytorch.kernels import RBFKernel, GridInterpolationKernel\n",
    "from gpytorch.means import ConstantMean\n",
    "from gpytorch.likelihoods import GaussianLikelihood, BernoulliLikelihood\n",
    "from gpytorch.random_variables import GaussianRandomVariable"
   ]
  },
  {
   "cell_type": "code",
   "execution_count": 4,
   "metadata": {
    "collapsed": false
   },
   "outputs": [],
   "source": [
    "class GPClassificationModel(gpytorch.GPModel):\n",
    "    def __init__(self):\n",
    "        super(GPClassificationModel,self).__init__(BernoulliLikelihood())\n",
    "        self.mean_module = ConstantMean()\n",
    "        self.covar_module = RBFKernel(log_lengthscale_bounds=(-6, 6))\n",
    "        self.grid_covar_module = GridInterpolationKernel(self.covar_module, 30)\n",
    "        self.register_parameter('log_outputscale', nn.Parameter(torch.Tensor([0])), bounds=(-6,6))\n",
    "    \n",
    "    \n",
    "    def forward(self,x):\n",
    "        mean_x = self.mean_module(x)\n",
    "        covar_x = self.grid_covar_module(x)\n",
    "        covar_x = covar_x.mul(self.log_outputscale.exp())\n",
    "        latent_pred = GaussianRandomVariable(mean_x, covar_x)\n",
    "        return latent_pred\n",
    "\n",
    "prior_model = GPClassificationModel()"
   ]
  },
  {
   "cell_type": "code",
   "execution_count": 5,
   "metadata": {
    "collapsed": true
   },
   "outputs": [],
   "source": [
    "def plot_model_and_predictions(model, plot_train_data=True):\n",
    "    f, observed_ax = plt.subplots(1, 1, figsize=(4, 3))\n",
    "    test_x = Variable(torch.linspace(0, 1, 100))\n",
    "    observed_pred = model(test_x)\n",
    "\n",
    "    def ax_plot(ax, rand_var, title):\n",
    "        if plot_train_data:\n",
    "            ax.plot(train_x.data.numpy(), train_y.data.numpy(), 'k*')\n",
    "        pred_labels = rand_var.mean().ge(0.5).float().mul(2).sub(1)\n",
    "        ax.plot(test_x.data.numpy(), pred_labels.data.numpy(), 'b')\n",
    "        ax.set_ylim([-3, 3])\n",
    "        ax.legend(['Observed Data', 'Mean', 'Confidence'])\n",
    "        ax.set_title(title)\n",
    "    \n",
    "    ax_plot(observed_ax, observed_pred, 'Observed Values (Likelihood)')\n",
    "    \n",
    "    return f"
   ]
  },
  {
   "cell_type": "code",
   "execution_count": 6,
   "metadata": {
    "collapsed": false,
    "scrolled": true
   },
   "outputs": [
    {
     "data": {
      "image/png": "[encoded data removed]",
      "text/plain": [
       "<matplotlib.figure.Figure at 0x7fa40d10dc90>"
      ]
     },
     "metadata": {},
     "output_type": "display_data"
    }
   ],
   "source": [
    "f = plot_model_and_predictions(prior_model, plot_train_data=True)"
   ]
  },
  {
   "cell_type": "code",
   "execution_count": 7,
   "metadata": {
    "collapsed": false,
    "scrolled": true
   },
   "outputs": [
    {
     "name": "stderr",
     "output_type": "stream",
     "text": [
      "/home/jgardner/gpytorch/gpytorch/kernels/rbf_kernel.py:42: UserWarning: other is not broadcastable to self, but they have the same number of elements.  Falling back to deprecated pointwise behavior.\n",
      "  grad.mul_(grad_output.transpose(0, 1))\n"
     ]
    },
    {
     "name": "stdout",
     "output_type": "stream",
     "text": [
      "Iter 1/20 - Loss: 65765.367   log_lengthscale: 0.000\n",
      "Iter 2/20 - Loss: 51428.336   log_lengthscale: -0.100\n",
      "Iter 3/20 - Loss: 35745.758   log_lengthscale: -0.195\n",
      "Iter 4/20 - Loss: 29422.035   log_lengthscale: -0.290\n",
      "Iter 5/20 - Loss: 24474.320   log_lengthscale: -0.386\n",
      "Iter 6/20 - Loss: 18898.992   log_lengthscale: -0.483\n",
      "Iter 7/20 - Loss: 13707.181   log_lengthscale: -0.581\n",
      "Iter 8/20 - Loss: 10095.128   log_lengthscale: -0.677\n",
      "Iter 9/20 - Loss: 9670.911   log_lengthscale: -0.772\n",
      "Iter 10/20 - Loss: 3911.323   log_lengthscale: -0.868\n",
      "Iter 11/20 - Loss: 10937.397   log_lengthscale: -0.961\n",
      "Iter 12/20 - Loss: 4738.172   log_lengthscale: -1.058\n",
      "Iter 13/20 - Loss: 8507.209   log_lengthscale: -1.155\n",
      "Iter 14/20 - Loss: 3881.159   log_lengthscale: -1.250\n",
      "Iter 15/20 - Loss: 4835.253   log_lengthscale: -1.344\n",
      "Iter 16/20 - Loss: 3738.905   log_lengthscale: -1.441\n",
      "Iter 17/20 - Loss: 3371.080   log_lengthscale: -1.541\n",
      "Iter 18/20 - Loss: 2427.838   log_lengthscale: -1.645\n",
      "Iter 19/20 - Loss: 1535.705   log_lengthscale: -1.745\n",
      "Iter 20/20 - Loss: 1072.929   log_lengthscale: -1.848\n",
      "Iter 21/20 - Loss: 1486.525   log_lengthscale: -1.951\n",
      "Iter 22/20 - Loss: 1277.094   log_lengthscale: -2.043\n",
      "Iter 23/20 - Loss: 720.181   log_lengthscale: -2.138\n",
      "Iter 24/20 - Loss: 645.434   log_lengthscale: -2.225\n",
      "Iter 25/20 - Loss: 480.565   log_lengthscale: -2.306\n",
      "Iter 26/20 - Loss: 275.234   log_lengthscale: -2.378\n",
      "Iter 27/20 - Loss: 309.119   log_lengthscale: -2.449\n",
      "Iter 28/20 - Loss: 167.458   log_lengthscale: -2.519\n",
      "Iter 29/20 - Loss: 925.821   log_lengthscale: -2.585\n",
      "Iter 30/20 - Loss: 256.644   log_lengthscale: -2.649\n",
      "Iter 31/20 - Loss: 241.018   log_lengthscale: -2.712\n",
      "Iter 32/20 - Loss: 77.671   log_lengthscale: -2.770\n",
      "Iter 33/20 - Loss: 87.525   log_lengthscale: -2.825\n",
      "Iter 34/20 - Loss: 106.267   log_lengthscale: -2.878\n",
      "Iter 35/20 - Loss: 58.958   log_lengthscale: -2.929\n",
      "Iter 36/20 - Loss: 40.498   log_lengthscale: -2.974\n",
      "Iter 37/20 - Loss: 132.204   log_lengthscale: -3.016\n",
      "Iter 38/20 - Loss: 82.291   log_lengthscale: -3.056\n",
      "Iter 39/20 - Loss: 62.038   log_lengthscale: -3.093\n",
      "Iter 40/20 - Loss: 36.416   log_lengthscale: -3.127\n",
      "Iter 41/20 - Loss: 106.008   log_lengthscale: -3.159\n",
      "Iter 42/20 - Loss: 66.776   log_lengthscale: -3.190\n",
      "Iter 43/20 - Loss: 64.112   log_lengthscale: -3.219\n",
      "Iter 44/20 - Loss: 58.261   log_lengthscale: -3.246\n",
      "Iter 45/20 - Loss: 64.187   log_lengthscale: -3.271\n",
      "Iter 46/20 - Loss: 33.975   log_lengthscale: -3.294\n",
      "Iter 47/20 - Loss: 55.490   log_lengthscale: -3.316\n",
      "Iter 48/20 - Loss: 28.880   log_lengthscale: -3.336\n",
      "Iter 49/20 - Loss: 32.831   log_lengthscale: -3.355\n",
      "Iter 50/20 - Loss: 43.889   log_lengthscale: -3.373\n",
      "Iter 51/20 - Loss: 40.140   log_lengthscale: -3.389\n",
      "Iter 52/20 - Loss: 34.552   log_lengthscale: -3.405\n",
      "Iter 53/20 - Loss: 56.029   log_lengthscale: -3.420\n",
      "Iter 54/20 - Loss: 56.289   log_lengthscale: -3.433\n",
      "Iter 55/20 - Loss: 62.690   log_lengthscale: -3.445\n",
      "Iter 56/20 - Loss: 19.636   log_lengthscale: -3.457\n",
      "Iter 57/20 - Loss: 41.864   log_lengthscale: -3.468\n",
      "Iter 58/20 - Loss: 48.872   log_lengthscale: -3.478\n",
      "Iter 59/20 - Loss: 33.276   log_lengthscale: -3.488\n",
      "Iter 60/20 - Loss: 33.802   log_lengthscale: -3.497\n",
      "Iter 61/20 - Loss: 30.961   log_lengthscale: -3.505\n",
      "Iter 62/20 - Loss: 33.270   log_lengthscale: -3.513\n",
      "Iter 63/20 - Loss: 39.120   log_lengthscale: -3.520\n",
      "Iter 64/20 - Loss: 41.170   log_lengthscale: -3.527\n",
      "Iter 65/20 - Loss: 35.911   log_lengthscale: -3.534\n",
      "Iter 66/20 - Loss: 42.619   log_lengthscale: -3.539\n",
      "Iter 67/20 - Loss: 34.386   log_lengthscale: -3.545\n",
      "Iter 68/20 - Loss: 32.864   log_lengthscale: -3.550\n",
      "Iter 69/20 - Loss: 24.752   log_lengthscale: -3.555\n",
      "Iter 70/20 - Loss: 57.077   log_lengthscale: -3.560\n",
      "Iter 71/20 - Loss: 36.588   log_lengthscale: -3.564\n",
      "Iter 72/20 - Loss: 48.725   log_lengthscale: -3.568\n",
      "Iter 73/20 - Loss: 43.545   log_lengthscale: -3.572\n",
      "Iter 74/20 - Loss: 39.584   log_lengthscale: -3.576\n",
      "Iter 75/20 - Loss: 39.780   log_lengthscale: -3.580\n",
      "Iter 76/20 - Loss: 54.045   log_lengthscale: -3.584\n",
      "Iter 77/20 - Loss: 41.812   log_lengthscale: -3.587\n",
      "Iter 78/20 - Loss: 44.529   log_lengthscale: -3.591\n",
      "Iter 79/20 - Loss: 34.937   log_lengthscale: -3.595\n",
      "Iter 80/20 - Loss: 41.110   log_lengthscale: -3.598\n",
      "Iter 81/20 - Loss: 48.649   log_lengthscale: -3.601\n",
      "Iter 82/20 - Loss: 49.361   log_lengthscale: -3.604\n",
      "Iter 83/20 - Loss: 55.037   log_lengthscale: -3.607\n",
      "Iter 84/20 - Loss: 56.562   log_lengthscale: -3.611\n",
      "Iter 85/20 - Loss: 41.913   log_lengthscale: -3.614\n",
      "Iter 86/20 - Loss: 52.341   log_lengthscale: -3.618\n",
      "Iter 87/20 - Loss: 55.014   log_lengthscale: -3.621\n",
      "Iter 88/20 - Loss: 47.608   log_lengthscale: -3.625\n",
      "Iter 89/20 - Loss: 32.873   log_lengthscale: -3.628\n",
      "Iter 90/20 - Loss: 67.749   log_lengthscale: -3.632\n",
      "Iter 91/20 - Loss: 59.910   log_lengthscale: -3.635\n",
      "Iter 92/20 - Loss: 52.489   log_lengthscale: -3.639\n",
      "Iter 93/20 - Loss: 44.023   log_lengthscale: -3.642\n",
      "Iter 94/20 - Loss: 33.217   log_lengthscale: -3.645\n",
      "Iter 95/20 - Loss: 51.362   log_lengthscale: -3.649\n",
      "Iter 96/20 - Loss: 37.951   log_lengthscale: -3.652\n",
      "Iter 97/20 - Loss: 44.706   log_lengthscale: -3.655\n",
      "Iter 98/20 - Loss: 69.612   log_lengthscale: -3.658\n",
      "Iter 99/20 - Loss: 95.619   log_lengthscale: -3.661\n",
      "Iter 100/20 - Loss: 46.862   log_lengthscale: -3.665\n",
      "Iter 101/20 - Loss: 32.899   log_lengthscale: -3.667\n",
      "Iter 102/20 - Loss: 62.363   log_lengthscale: -3.670\n",
      "Iter 103/20 - Loss: 41.355   log_lengthscale: -3.674\n",
      "Iter 104/20 - Loss: 58.685   log_lengthscale: -3.677\n",
      "Iter 105/20 - Loss: 55.857   log_lengthscale: -3.681\n",
      "Iter 106/20 - Loss: 61.431   log_lengthscale: -3.684\n",
      "Iter 107/20 - Loss: 42.084   log_lengthscale: -3.688\n",
      "Iter 108/20 - Loss: 49.217   log_lengthscale: -3.692\n",
      "Iter 109/20 - Loss: 29.113   log_lengthscale: -3.696\n",
      "Iter 110/20 - Loss: 49.891   log_lengthscale: -3.699\n",
      "Iter 111/20 - Loss: 50.080   log_lengthscale: -3.702\n",
      "Iter 112/20 - Loss: 36.419   log_lengthscale: -3.705\n",
      "Iter 113/20 - Loss: 58.225   log_lengthscale: -3.708\n",
      "Iter 114/20 - Loss: 56.958   log_lengthscale: -3.711\n",
      "Iter 115/20 - Loss: 49.213   log_lengthscale: -3.713\n",
      "Iter 116/20 - Loss: 50.295   log_lengthscale: -3.716\n",
      "Iter 117/20 - Loss: 36.952   log_lengthscale: -3.719\n",
      "Iter 118/20 - Loss: 37.922   log_lengthscale: -3.721\n",
      "Iter 119/20 - Loss: 30.673   log_lengthscale: -3.723\n",
      "Iter 120/20 - Loss: 50.667   log_lengthscale: -3.725\n",
      "Iter 121/20 - Loss: 43.111   log_lengthscale: -3.727\n",
      "Iter 122/20 - Loss: 32.035   log_lengthscale: -3.728\n",
      "Iter 123/20 - Loss: 39.218   log_lengthscale: -3.730\n",
      "Iter 124/20 - Loss: 49.346   log_lengthscale: -3.731\n",
      "Iter 125/20 - Loss: 51.805   log_lengthscale: -3.733\n",
      "Iter 126/20 - Loss: 53.740   log_lengthscale: -3.734\n",
      "Iter 127/20 - Loss: 46.198   log_lengthscale: -3.736\n",
      "Iter 128/20 - Loss: 37.660   log_lengthscale: -3.737\n",
      "Iter 129/20 - Loss: 36.816   log_lengthscale: -3.738\n",
      "Iter 130/20 - Loss: 51.268   log_lengthscale: -3.739\n",
      "Iter 131/20 - Loss: 42.948   log_lengthscale: -3.740\n",
      "Iter 132/20 - Loss: 33.326   log_lengthscale: -3.741\n",
      "Iter 133/20 - Loss: 41.384   log_lengthscale: -3.742\n",
      "Iter 134/20 - Loss: 44.624   log_lengthscale: -3.743\n",
      "Iter 135/20 - Loss: 48.481   log_lengthscale: -3.744\n",
      "Iter 136/20 - Loss: 53.622   log_lengthscale: -3.745\n",
      "Iter 137/20 - Loss: 26.871   log_lengthscale: -3.745\n",
      "Iter 138/20 - Loss: 48.098   log_lengthscale: -3.746\n",
      "Iter 139/20 - Loss: 34.373   log_lengthscale: -3.746\n",
      "Iter 140/20 - Loss: 22.556   log_lengthscale: -3.746\n",
      "Iter 141/20 - Loss: 41.485   log_lengthscale: -3.747\n",
      "Iter 142/20 - Loss: 39.057   log_lengthscale: -3.747\n",
      "Iter 143/20 - Loss: 39.466   log_lengthscale: -3.747\n",
      "Iter 144/20 - Loss: 35.774   log_lengthscale: -3.747\n",
      "Iter 145/20 - Loss: 39.776   log_lengthscale: -3.748\n",
      "Iter 146/20 - Loss: 42.278   log_lengthscale: -3.748\n",
      "Iter 147/20 - Loss: 50.260   log_lengthscale: -3.748\n",
      "Iter 148/20 - Loss: 32.001   log_lengthscale: -3.748\n",
      "Iter 149/20 - Loss: 29.648   log_lengthscale: -3.749\n",
      "Iter 150/20 - Loss: 40.363   log_lengthscale: -3.749\n",
      "Iter 151/20 - Loss: 38.469   log_lengthscale: -3.750\n",
      "Iter 152/20 - Loss: 37.611   log_lengthscale: -3.751\n",
      "Iter 153/20 - Loss: 31.022   log_lengthscale: -3.751\n",
      "Iter 154/20 - Loss: 29.126   log_lengthscale: -3.752\n",
      "Iter 155/20 - Loss: 40.590   log_lengthscale: -3.753\n",
      "Iter 156/20 - Loss: 35.708   log_lengthscale: -3.753\n",
      "Iter 157/20 - Loss: 19.925   log_lengthscale: -3.754\n",
      "Iter 158/20 - Loss: 33.166   log_lengthscale: -3.755\n",
      "Iter 159/20 - Loss: 47.632   log_lengthscale: -3.756\n",
      "Iter 160/20 - Loss: 30.705   log_lengthscale: -3.757\n",
      "Iter 161/20 - Loss: 30.929   log_lengthscale: -3.758\n",
      "Iter 162/20 - Loss: 32.194   log_lengthscale: -3.759\n",
      "Iter 163/20 - Loss: 49.971   log_lengthscale: -3.760\n",
      "Iter 164/20 - Loss: 31.501   log_lengthscale: -3.760\n",
      "Iter 165/20 - Loss: 31.660   log_lengthscale: -3.761\n",
      "Iter 166/20 - Loss: 37.796   log_lengthscale: -3.761\n",
      "Iter 167/20 - Loss: 41.168   log_lengthscale: -3.762\n",
      "Iter 168/20 - Loss: 42.342   log_lengthscale: -3.762\n",
      "Iter 169/20 - Loss: 36.085   log_lengthscale: -3.762\n",
      "Iter 170/20 - Loss: 25.929   log_lengthscale: -3.762\n",
      "Iter 171/20 - Loss: 41.444   log_lengthscale: -3.763\n",
      "Iter 172/20 - Loss: 27.762   log_lengthscale: -3.763\n",
      "Iter 173/20 - Loss: 36.191   log_lengthscale: -3.763\n",
      "Iter 174/20 - Loss: 41.645   log_lengthscale: -3.764\n",
      "Iter 175/20 - Loss: 37.934   log_lengthscale: -3.764\n",
      "Iter 176/20 - Loss: 30.799   log_lengthscale: -3.764\n",
      "Iter 177/20 - Loss: 22.973   log_lengthscale: -3.765\n",
      "Iter 178/20 - Loss: 45.632   log_lengthscale: -3.765\n",
      "Iter 179/20 - Loss: 37.856   log_lengthscale: -3.765\n",
      "Iter 180/20 - Loss: 44.978   log_lengthscale: -3.765\n",
      "Iter 181/20 - Loss: 37.605   log_lengthscale: -3.765\n",
      "Iter 182/20 - Loss: 42.171   log_lengthscale: -3.765\n",
      "Iter 183/20 - Loss: 26.967   log_lengthscale: -3.766\n",
      "Iter 184/20 - Loss: 40.744   log_lengthscale: -3.766\n",
      "Iter 185/20 - Loss: 33.486   log_lengthscale: -3.766\n",
      "Iter 186/20 - Loss: 38.163   log_lengthscale: -3.767\n",
      "Iter 187/20 - Loss: 29.565   log_lengthscale: -3.767\n",
      "Iter 188/20 - Loss: 29.733   log_lengthscale: -3.767\n",
      "Iter 189/20 - Loss: 35.126   log_lengthscale: -3.767\n",
      "Iter 190/20 - Loss: 38.208   log_lengthscale: -3.767\n",
      "Iter 191/20 - Loss: 52.282   log_lengthscale: -3.767\n",
      "Iter 192/20 - Loss: 41.910   log_lengthscale: -3.767\n",
      "Iter 193/20 - Loss: 26.019   log_lengthscale: -3.767\n",
      "Iter 194/20 - Loss: 38.233   log_lengthscale: -3.767\n",
      "Iter 195/20 - Loss: 29.878   log_lengthscale: -3.767\n",
      "Iter 196/20 - Loss: 28.695   log_lengthscale: -3.767\n",
      "Iter 197/20 - Loss: 27.855   log_lengthscale: -3.767\n",
      "Iter 198/20 - Loss: 22.826   log_lengthscale: -3.767\n",
      "Iter 199/20 - Loss: 40.771   log_lengthscale: -3.767\n",
      "Iter 200/20 - Loss: 38.048   log_lengthscale: -3.767\n"
     ]
    }
   ],
   "source": [
    "from gpytorch.inference import Inference\n",
    "infer = Inference(prior_model)\n",
    "posterior_model = infer.run(train_x, train_y)\n",
    "\n",
    "# Find optimal model hyperparameters\n",
    "posterior_model.train()\n",
    "optimizer = optim.Adam(posterior_model.parameters(), lr=0.1)\n",
    "optimizer.n_iter = 0\n",
    "for i in range(200):\n",
    "    optimizer.zero_grad()\n",
    "    output = posterior_model.forward(train_x)\n",
    "    loss = -posterior_model.marginal_log_likelihood(output, train_y)\n",
    "    loss.backward()\n",
    "    optimizer.n_iter += 1\n",
    "    print('Iter %d/20 - Loss: %.3f   log_lengthscale: %.3f' % (\n",
    "        i + 1, loss.data[0],\n",
    "        posterior_model.prior_model.covar_module.log_lengthscale.data.squeeze()[0],\n",
    "    ))\n",
    "    optimizer.step()\n",
    "    \n",
    "# Set back to eval mode\n",
    "posterior_model.eval()\n",
    "None"
   ]
  },
  {
   "cell_type": "code",
   "execution_count": 8,
   "metadata": {
    "collapsed": false,
    "scrolled": false
   },
   "outputs": [
    {
     "data": {
      "image/png": "[encoded data removed]",
      "text/plain": [
       "<matplotlib.figure.Figure at 0x7fa409fbd790>"
      ]
     },
     "metadata": {},
     "output_type": "display_data"
    }
   ],
   "source": [
    "f = plot_model_and_predictions(posterior_model)"
   ]
  },
  {
   "cell_type": "code",
   "execution_count": 9,
   "metadata": {
    "collapsed": false
   },
   "outputs": [
    {
     "name": "stderr",
     "output_type": "stream",
     "text": [
      "ERROR:root:No traceback has been produced, nothing to debug.\n"
     ]
    }
   ],
   "source": [
    "%debug"
   ]
  },
  {
   "cell_type": "code",
   "execution_count": null,
   "metadata": {
    "collapsed": true
   },
   "outputs": [],
   "source": []
  }
 ],
 "metadata": {
  "anaconda-cloud": {},
  "kernelspec": {
   "display_name": "Python 2",
   "language": "python",
   "name": "python2"
  },
  "language_info": {
   "codemirror_mode": {
    "name": "ipython",
    "version": 2
   },
   "file_extension": ".py",
   "mimetype": "text/x-python",
   "name": "python",
   "nbconvert_exporter": "python",
   "pygments_lexer": "ipython2",
   "version": "2.7.13"
  }
 },
 "nbformat": 4,
 "nbformat_minor": 1
}
