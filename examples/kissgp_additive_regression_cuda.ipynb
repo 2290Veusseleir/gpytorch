{
 "cells": [
  {
   "cell_type": "code",
   "execution_count": 1,
   "metadata": {
    "collapsed": true
   },
   "outputs": [],
   "source": [
    "# Imports\n",
    "import math\n",
    "import torch\n",
    "import gpytorch\n",
    "import numpy\n",
    "from matplotlib import pyplot as plt\n",
    "from torch import nn, optim\n",
    "from torch.autograd import Variable\n",
    "from gpytorch.kernels import RBFKernel, AdditiveGridInterpolationKernel\n",
    "from gpytorch.means import ConstantMean\n",
    "from gpytorch.likelihoods import GaussianLikelihood\n",
    "from gpytorch.random_variables import GaussianRandomVariable\n",
    "\n",
    "# See dkl_mnist for toeplitz explanation\n",
    "gpytorch.functions.use_toeplitz = False\n",
    "# Inline plotting\n",
    "%matplotlib inline"
   ]
  },
  {
   "cell_type": "code",
   "execution_count": 2,
   "metadata": {
    "collapsed": true
   },
   "outputs": [],
   "source": [
    "# We store the data as a 10k 1D vector\n",
    "# It actually represents [0,1]x[0,1] in cartesian coordinates\n",
    "n = 100\n",
    "train_x = torch.zeros(pow(n, 2), 2)\n",
    "for i in range(n):\n",
    "    for j in range(n):\n",
    "        # Each coordinate varies from 0 to 1 in n=100 steps\n",
    "        train_x[i * n + j][0] = float(i) / (n-1)\n",
    "        train_x[i * n + j][1] = float(j) / (n-1)\n",
    "# Cuda variable the x_data\n",
    "train_x = Variable(train_x).cuda()\n",
    "# function is y=sin(x) + 2*pi*cos(x)\n",
    "train_y = Variable((torch.sin(train_x.data[:, 0]) + torch.cos(train_x.data[:, 1])) * (2 * math.pi)).cuda()"
   ]
  },
  {
   "cell_type": "code",
   "execution_count": 3,
   "metadata": {
    "collapsed": true
   },
   "outputs": [],
   "source": [
    "# Use the exact GP model for regression #### NEED MORE INFO ON THIS\n",
    "class GPRegressionModel(gpytorch.models.ExactGP):\n",
    "    def __init__(self, train_x, train_y, likelihood):\n",
    "        super(GPRegressionModel, self).__init__(train_x, train_y, likelihood)\n",
    "        # Constant mean and RBF kernel\n",
    "        self.mean_module = ConstantMean(constant_bounds=[-1e-5,1e-5])\n",
    "        self.base_covar_module = RBFKernel(log_lengthscale_bounds=(-5, 6))\n",
    "        # Put the AdditiveGridInterpolationKernel over the RBF kernel\n",
    "        # There are two dimensions (n_components=2)\n",
    "        self.covar_module = AdditiveGridInterpolationKernel(self.base_covar_module,\n",
    "                                                            grid_size=400,\n",
    "                                                            grid_bounds=[(0, 1)],\n",
    "                                                            n_components=2)\n",
    "        # Register the lengthscale of the RBF kernel as a parameter to be optimized\n",
    "        self.register_parameter('log_outputscale', nn.Parameter(torch.Tensor([0])),\n",
    "                                bounds=(-5,6))\n",
    "        \n",
    "    def forward(self,x):\n",
    "        mean_x = self.mean_module(x)\n",
    "        # Put the input through the AdditiveGridInterpolationKernel and scale\n",
    "        # the covariance matrix\n",
    "        covar_x = self.covar_module(x)\n",
    "        covar_x = covar_x.mul(self.log_outputscale.exp())\n",
    "        return GaussianRandomVariable(mean_x, covar_x)\n",
    "\n",
    "# initialize the likelihood and model\n",
    "likelihood = GaussianLikelihood().cuda()\n",
    "model = GPRegressionModel(train_x.data, train_y.data, likelihood).cuda()"
   ]
  },
  {
   "cell_type": "code",
   "execution_count": 4,
   "metadata": {},
   "outputs": [
    {
     "name": "stdout",
     "output_type": "stream",
     "text": [
      "Iter 1/20 - Loss: 0.926\n",
      "Iter 2/20 - Loss: 0.825\n",
      "Iter 3/20 - Loss: 0.726\n",
      "Iter 4/20 - Loss: 0.627\n",
      "Iter 5/20 - Loss: 0.527\n",
      "Iter 6/20 - Loss: 0.428\n",
      "Iter 7/20 - Loss: 0.330\n",
      "Iter 8/20 - Loss: 0.230\n",
      "Iter 9/20 - Loss: 0.131\n",
      "Iter 10/20 - Loss: 0.032\n",
      "Iter 11/20 - Loss: -0.067\n",
      "Iter 12/20 - Loss: -0.168\n",
      "Iter 13/20 - Loss: -0.264\n",
      "Iter 14/20 - Loss: -0.362\n",
      "Iter 15/20 - Loss: -0.461\n",
      "Iter 16/20 - Loss: -0.559\n",
      "Iter 17/20 - Loss: -0.656\n",
      "Iter 18/20 - Loss: -0.756\n",
      "Iter 19/20 - Loss: -0.848\n",
      "Iter 20/20 - Loss: -0.945\n"
     ]
    }
   ],
   "source": [
    "# Optimize the model\n",
    "model.train()\n",
    "likelihood.train()\n",
    "# optimize using adam\n",
    "optimizer = optim.Adam(list(model.parameters()) + list(likelihood.parameters()), lr=0.1)\n",
    "optimizer.n_iter = 0\n",
    "num_iter = 20\n",
    "for i in range(num_iter):\n",
    "    optimizer.zero_grad()\n",
    "    output = model(train_x)\n",
    "    loss = -model.marginal_log_likelihood(likelihood, output, train_y)\n",
    "    loss.backward()\n",
    "    optimizer.n_iter += 1\n",
    "    print('Iter %d/%d - Loss: %.3f' % (i + 1, num_iter, loss.data[0]))\n",
    "    optimizer.step()"
   ]
  },
  {
   "cell_type": "code",
   "execution_count": 5,
   "metadata": {},
   "outputs": [
    {
     "data": {
      "image/png": "[encoded data removed]",
      "text/plain": [
       "<matplotlib.figure.Figure at 0x7f5eb9702290>"
      ]
     },
     "metadata": {},
     "output_type": "display_data"
    },
    {
     "data": {
      "image/png": "[encoded data removed]",
      "text/plain": [
       "<matplotlib.figure.Figure at 0x7f5e5c2dbc10>"
      ]
     },
     "metadata": {},
     "output_type": "display_data"
    },
    {
     "data": {
      "image/png": "[encoded data removed]",
      "text/plain": [
       "<matplotlib.figure.Figure at 0x7f5e5c3aa250>"
      ]
     },
     "metadata": {},
     "output_type": "display_data"
    }
   ],
   "source": [
    "# Set into eval mode\n",
    "model.eval()\n",
    "likelihood.eval()\n",
    "\n",
    "# Create 100 test data points\n",
    "# Over the square [0,1]x[0,1]\n",
    "n = 10\n",
    "test_x = Variable(torch.zeros(int(pow(n, 2)), 2)).cuda()\n",
    "for i in range(n):\n",
    "    for j in range(n):\n",
    "        test_x.data[i * n + j][0] = float(i) / (n-1)\n",
    "        test_x.data[i * n + j][1] = float(j) / (n-1)\n",
    "\n",
    "# Put the test data through the model then likelihood\n",
    "observed_pred = likelihood(model(test_x))\n",
    "# the mean of the Gaussians are our predicted labels\n",
    "pred_labels = observed_pred.mean().view(n, n).data.cpu().numpy()\n",
    "\n",
    "# Calculate the true test values\n",
    "test_y_actual = ((torch.sin(test_x.data[:, 0]) + torch.cos(test_x.data[:, 1])) * (2 * math.pi))\n",
    "test_y_actual = test_y_actual.cpu().numpy().reshape(n, n)\n",
    "# Compute absolute error\n",
    "delta_y = numpy.absolute(pred_labels - test_y_actual)\n",
    "\n",
    "# Define a plotting function\n",
    "def ax_plot(f, ax, y_labels, title):\n",
    "    im = ax.imshow(y_labels)\n",
    "    ax.set_title(title)\n",
    "    f.colorbar(im)\n",
    "\n",
    "# Make a plot of the predicted values\n",
    "f, observed_ax = plt.subplots(1, 1, figsize=(4, 3))\n",
    "ax_plot(f, observed_ax, pred_labels, 'Predicted Values (Likelihood)')\n",
    "# Make a plot of the actual values\n",
    "f, observed_ax2 = plt.subplots(1, 1, figsize=(4, 3))\n",
    "ax_plot(f, observed_ax2, test_y_actual, 'Actual Values (Likelihood)')\n",
    "# Make a plot of the errors\n",
    "f, observed_ax3 = plt.subplots(1, 1, figsize=(4, 3))\n",
    "ax_plot(f, observed_ax3, delta_y, 'Absolute Error Surface')"
   ]
  }
 ],
 "metadata": {
  "anaconda-cloud": {},
  "kernelspec": {
   "display_name": "Python 2",
   "language": "python",
   "name": "python2"
  },
  "language_info": {
   "codemirror_mode": {
    "name": "ipython",
    "version": 2
   },
   "file_extension": ".py",
   "mimetype": "text/x-python",
   "name": "python",
   "nbconvert_exporter": "python",
   "pygments_lexer": "ipython2",
   "version": "2.7.14"
  }
 },
 "nbformat": 4,
 "nbformat_minor": 2
}
