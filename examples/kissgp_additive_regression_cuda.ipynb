{
 "cells": [
  {
   "cell_type": "code",
   "execution_count": 1,
   "metadata": {
    "collapsed": false
   },
   "outputs": [],
   "source": [
    "import math\n",
    "import torch\n",
    "import gpytorch\n",
    "import numpy\n",
    "from matplotlib import pyplot as plt\n",
    "from torch import nn, optim\n",
    "from torch.autograd import Variable\n",
    "from gpytorch.kernels import RBFKernel\n",
    "from gpytorch.means import ConstantMean\n",
    "from gpytorch.likelihoods import GaussianLikelihood\n",
    "from gpytorch.random_variables import GaussianRandomVariable\n",
    "\n",
    "gpytorch.functions.use_toeplitz = False\n",
    "%matplotlib inline"
   ]
  },
  {
   "cell_type": "code",
   "execution_count": 2,
   "metadata": {
    "collapsed": true
   },
   "outputs": [],
   "source": [
    "n = 100\n",
    "train_x = torch.zeros(pow(n, 2), 2)\n",
    "for i in range(n):\n",
    "    for j in range(n):\n",
    "        train_x[i * n + j][0] = float(i) / (n-1)\n",
    "        train_x[i * n + j][1] = float(j) / (n-1)\n",
    "train_x = Variable(train_x).cuda()\n",
    "train_y = Variable((torch.sin(train_x.data[:, 0]) + torch.cos(train_x.data[:, 1])) * (2 * math.pi)).cuda()"
   ]
  },
  {
   "cell_type": "code",
   "execution_count": 3,
   "metadata": {
    "collapsed": false
   },
   "outputs": [],
   "source": [
    "class LatentFunction(gpytorch.AdditiveGridInducingPointModule):\n",
    "    def __init__(self):\n",
    "        super(LatentFunction, self).__init__(grid_size=400, grid_bounds=[(0, 1)])\n",
    "        self.mean_module = ConstantMean(constant_bounds=[-1e-5,1e-5])\n",
    "        self.covar_module = RBFKernel(log_lengthscale_bounds=(-5, 6))\n",
    "        self.register_parameter('log_outputscale', nn.Parameter(torch.Tensor([0])), bounds=(-5,6))\n",
    "        \n",
    "    def forward(self,x):\n",
    "        mean_x = self.mean_module(x)\n",
    "        covar_x = self.covar_module(x)\n",
    "        covar_x = covar_x.mul(self.log_outputscale.exp())\n",
    "        latent_pred = GaussianRandomVariable(mean_x, covar_x)\n",
    "        return latent_pred\n",
    "\n",
    "class GPRegressionModel(gpytorch.GPModel):\n",
    "    def __init__(self):\n",
    "        super(GPRegressionModel,self).__init__(GaussianLikelihood())\n",
    "        self.latent_function = LatentFunction()\n",
    "        \n",
    "    def forward(self, x):\n",
    "        return self.latent_function(x)\n",
    "    \n",
    "model = GPRegressionModel().cuda()"
   ]
  },
  {
   "cell_type": "code",
   "execution_count": 4,
   "metadata": {
    "collapsed": false
   },
   "outputs": [
    {
     "name": "stdout",
     "output_type": "stream",
     "text": [
      "Iter 1/60 - Loss: 9242.335\n",
      "Iter 2/60 - Loss: 8742.963\n",
      "Iter 3/60 - Loss: 8250.293\n",
      "Iter 4/60 - Loss: 7745.558\n",
      "Iter 5/60 - Loss: 7241.800\n",
      "Iter 6/60 - Loss: 6725.207\n",
      "Iter 7/60 - Loss: 6236.641\n",
      "Iter 8/60 - Loss: 5747.781\n",
      "Iter 9/60 - Loss: 5241.601\n",
      "Iter 10/60 - Loss: 4756.095\n",
      "Iter 11/60 - Loss: 4249.809\n",
      "Iter 12/60 - Loss: 3753.634\n",
      "Iter 13/60 - Loss: 3203.864\n",
      "Iter 14/60 - Loss: 2746.400\n",
      "Iter 15/60 - Loss: 2224.609\n",
      "Iter 16/60 - Loss: 1715.783\n",
      "Iter 17/60 - Loss: 1275.898\n",
      "Iter 18/60 - Loss: 803.479\n",
      "Iter 19/60 - Loss: 305.711\n",
      "Iter 20/60 - Loss: -261.979\n"
     ]
    }
   ],
   "source": [
    "# Optimize the model\n",
    "model.train()\n",
    "optimizer = optim.Adam(model.parameters(), lr=0.1)\n",
    "optimizer.n_iter = 0\n",
    "for i in range(20):\n",
    "    optimizer.zero_grad()\n",
    "    output = model(train_x)\n",
    "    loss = -model.marginal_log_likelihood(output, train_y)\n",
    "    loss.backward()\n",
    "    optimizer.n_iter += 1\n",
    "    print('Iter %d/60 - Loss: %.3f' % (i + 1, loss.data[0]))\n",
    "    optimizer.step()\n",
    "\n",
    "_ = model.eval()"
   ]
  },
  {
   "cell_type": "code",
   "execution_count": 5,
   "metadata": {
    "collapsed": true
   },
   "outputs": [],
   "source": [
    "def plot_model_and_predictions(model):\n",
    "    n = 10\n",
    "    test_x = Variable(torch.zeros(int(pow(n, 2)), 2)).cuda()\n",
    "    for i in range(n):\n",
    "        for j in range(n):\n",
    "            test_x.data[i * n + j][0] = float(i) / (n-1)\n",
    "            test_x.data[i * n + j][1] = float(j) / (n-1)\n",
    "\n",
    "    observed_pred = model(test_x)\n",
    "    pred_labels = observed_pred.mean().view(n, n).data.cpu().numpy()\n",
    "    \n",
    "    test_y_actual = ((torch.sin(test_x.data[:, 0]) + torch.cos(test_x.data[:, 1])) * (2 * math.pi))\n",
    "    test_y_actual = test_y_actual.cpu().numpy().reshape(n, n)\n",
    "    delta_y = numpy.absolute(pred_labels - test_y_actual)\n",
    "    \n",
    "    def ax_plot(f, ax, y_labels, title):\n",
    "        im = ax.imshow(y_labels)\n",
    "        ax.set_title(title)\n",
    "        f.colorbar(im)\n",
    "    \n",
    "    f, observed_ax = plt.subplots(1, 1, figsize=(4, 3))\n",
    "    ax_plot(f, observed_ax, pred_labels, 'Predicted Values (Likelihood)')\n",
    "    \n",
    "    f, observed_ax2 = plt.subplots(1, 1, figsize=(4, 3))\n",
    "    ax_plot(f, observed_ax2, test_y_actual, 'Actual Values (Likelihood)')\n",
    "\n",
    "    f, observed_ax3 = plt.subplots(1, 1, figsize=(4, 3))\n",
    "    ax_plot(f, observed_ax3, delta_y, 'Absolute Error Surface')\n",
    "    \n",
    "    return f"
   ]
  },
  {
   "cell_type": "code",
   "execution_count": 6,
   "metadata": {
    "collapsed": false
   },
   "outputs": [
    {
     "data": {
      "image/png": "[encoded data removed]",
      "text/plain": [
       "<matplotlib.figure.Figure at 0x7f60ac011a50>"
      ]
     },
     "metadata": {},
     "output_type": "display_data"
    },
    {
     "data": {
      "image/png": "[encoded data removed]",
      "text/plain": [
       "<matplotlib.figure.Figure at 0x7f601f5c4310>"
      ]
     },
     "metadata": {},
     "output_type": "display_data"
    },
    {
     "data": {
      "image/png": "[encoded data removed]",
      "text/plain": [
       "<matplotlib.figure.Figure at 0x7f5fdf012f50>"
      ]
     },
     "metadata": {},
     "output_type": "display_data"
    }
   ],
   "source": [
    "model.condition(train_x, train_y)\n",
    "f = plot_model_and_predictions(model)"
   ]
  },
  {
   "cell_type": "code",
   "execution_count": null,
   "metadata": {
    "collapsed": true
   },
   "outputs": [],
   "source": []
  }
 ],
 "metadata": {
  "anaconda-cloud": {},
  "kernelspec": {
   "display_name": "Python [default]",
   "language": "python",
   "name": "python2"
  },
  "language_info": {
   "codemirror_mode": {
    "name": "ipython",
    "version": 2
   },
   "file_extension": ".py",
   "mimetype": "text/x-python",
   "name": "python",
   "nbconvert_exporter": "python",
   "pygments_lexer": "ipython2",
   "version": "2.7.12"
  }
 },
 "nbformat": 4,
 "nbformat_minor": 2
}
